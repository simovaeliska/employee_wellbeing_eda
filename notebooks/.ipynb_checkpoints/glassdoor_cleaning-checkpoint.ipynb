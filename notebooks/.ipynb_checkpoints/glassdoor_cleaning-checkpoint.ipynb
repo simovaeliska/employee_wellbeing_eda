{
 "cells": [
  {
   "cell_type": "code",
   "execution_count": 171,
   "id": "a4d1d276-aab2-4c32-b586-5edb21bac0b3",
   "metadata": {},
   "outputs": [],
   "source": [
    "import pandas as pd\n",
    "import numpy as np\n",
    "import seaborn as sns\n",
    "import matplotlib.pyplot as plt\n",
    "import plotly.express as px\n",
    "import re"
   ]
  },
  {
   "cell_type": "code",
   "execution_count": 2,
   "id": "f479cca5-592b-4b68-b380-6633fee8a078",
   "metadata": {},
   "outputs": [],
   "source": [
    "reviews = pd.read_csv(\"../data/raw/all_reviews.csv\", low_memory=False)"
   ]
  },
  {
   "cell_type": "code",
   "execution_count": 4,
   "id": "9c5d685d-58c1-49c7-96c3-fbbba62983d8",
   "metadata": {},
   "outputs": [
    {
     "data": {
      "text/plain": [
       "(9901889, 19)"
      ]
     },
     "execution_count": 4,
     "metadata": {},
     "output_type": "execute_result"
    }
   ],
   "source": [
    "reviews.shape"
   ]
  },
  {
   "cell_type": "code",
   "execution_count": 7,
   "id": "847a8442-5881-4ce6-a0df-486a7fd09ec4",
   "metadata": {},
   "outputs": [
    {
     "data": {
      "text/html": [
       "<div>\n",
       "<style scoped>\n",
       "    .dataframe tbody tr th:only-of-type {\n",
       "        vertical-align: middle;\n",
       "    }\n",
       "\n",
       "    .dataframe tbody tr th {\n",
       "        vertical-align: top;\n",
       "    }\n",
       "\n",
       "    .dataframe thead th {\n",
       "        text-align: right;\n",
       "    }\n",
       "</style>\n",
       "<table border=\"1\" class=\"dataframe\">\n",
       "  <thead>\n",
       "    <tr style=\"text-align: right;\">\n",
       "      <th></th>\n",
       "      <th>rating</th>\n",
       "      <th>title</th>\n",
       "      <th>status</th>\n",
       "      <th>pros</th>\n",
       "      <th>cons</th>\n",
       "      <th>advice</th>\n",
       "      <th>Recommend</th>\n",
       "      <th>CEO Approval</th>\n",
       "      <th>Business Outlook</th>\n",
       "      <th>Career Opportunities</th>\n",
       "      <th>Compensation and Benefits</th>\n",
       "      <th>Senior Management</th>\n",
       "      <th>Work/Life Balance</th>\n",
       "      <th>Culture &amp; Values</th>\n",
       "      <th>Diversity &amp; Inclusion</th>\n",
       "      <th>firm_link</th>\n",
       "      <th>date</th>\n",
       "      <th>job</th>\n",
       "      <th>index</th>\n",
       "    </tr>\n",
       "  </thead>\n",
       "  <tbody>\n",
       "    <tr>\n",
       "      <th>0</th>\n",
       "      <td>5.0</td>\n",
       "      <td>Good</td>\n",
       "      <td>Current Employee, more than 10 years</td>\n",
       "      <td>Knowledge gain of complete  project</td>\n",
       "      <td>Financial growth  and personal growth</td>\n",
       "      <td>NaN</td>\n",
       "      <td>v</td>\n",
       "      <td>o</td>\n",
       "      <td>v</td>\n",
       "      <td>3</td>\n",
       "      <td>3</td>\n",
       "      <td>3</td>\n",
       "      <td>3</td>\n",
       "      <td>3.0</td>\n",
       "      <td>3.0</td>\n",
       "      <td>Reviews/Baja-Steel-and-Fence-Reviews-E5462645.htm</td>\n",
       "      <td>Nov 19, 2022</td>\n",
       "      <td>Manager Design</td>\n",
       "      <td>NaN</td>\n",
       "    </tr>\n",
       "    <tr>\n",
       "      <th>1</th>\n",
       "      <td>4.0</td>\n",
       "      <td>Good</td>\n",
       "      <td>Former Employee, less than 1 year</td>\n",
       "      <td>Good work,good work , flexible, support</td>\n",
       "      <td>Good,work, flexible,good support, good team work</td>\n",
       "      <td>NaN</td>\n",
       "      <td>v</td>\n",
       "      <td>o</td>\n",
       "      <td>o</td>\n",
       "      <td>4</td>\n",
       "      <td>4</td>\n",
       "      <td>4</td>\n",
       "      <td>4</td>\n",
       "      <td>4.0</td>\n",
       "      <td>4.0</td>\n",
       "      <td>Reviews/Baja-Steel-and-Fence-Reviews-E5462645.htm</td>\n",
       "      <td>Jan 29, 2022</td>\n",
       "      <td>Anonymous Employee</td>\n",
       "      <td>NaN</td>\n",
       "    </tr>\n",
       "    <tr>\n",
       "      <th>2</th>\n",
       "      <td>4.0</td>\n",
       "      <td>Supervising the manufacturing the processes, e...</td>\n",
       "      <td>Current Employee, more than 1 year</td>\n",
       "      <td>This company is a best opportunity for me to l...</td>\n",
       "      <td>Monthly Target work,Maintain production schedu...</td>\n",
       "      <td>NaN</td>\n",
       "      <td>v</td>\n",
       "      <td>o</td>\n",
       "      <td>v</td>\n",
       "      <td>2</td>\n",
       "      <td>3</td>\n",
       "      <td>2</td>\n",
       "      <td>2</td>\n",
       "      <td>2.0</td>\n",
       "      <td>2.0</td>\n",
       "      <td>Reviews/Baja-Steel-and-Fence-Reviews-E5462645.htm</td>\n",
       "      <td>Aug 12, 2021</td>\n",
       "      <td>Production Engineer</td>\n",
       "      <td>NaN</td>\n",
       "    </tr>\n",
       "    <tr>\n",
       "      <th>3</th>\n",
       "      <td>1.0</td>\n",
       "      <td>terrible</td>\n",
       "      <td>Current Employee, more than 1 year</td>\n",
       "      <td>I wish there were some to list</td>\n",
       "      <td>too many to list here</td>\n",
       "      <td>NaN</td>\n",
       "      <td>x</td>\n",
       "      <td>x</td>\n",
       "      <td>x</td>\n",
       "      <td>1.0</td>\n",
       "      <td>3.0</td>\n",
       "      <td>1.0</td>\n",
       "      <td>3.0</td>\n",
       "      <td>1.0</td>\n",
       "      <td>NaN</td>\n",
       "      <td>https://www.glassdoor.com/Reviews/Calgary-Flam...</td>\n",
       "      <td>Sep 24, 2020</td>\n",
       "      <td>Senior Account Executive</td>\n",
       "      <td>NaN</td>\n",
       "    </tr>\n",
       "    <tr>\n",
       "      <th>4</th>\n",
       "      <td>4.0</td>\n",
       "      <td>It could be so good, but it isn’t</td>\n",
       "      <td>Current Employee, more than 3 years</td>\n",
       "      <td>Fast Paced. Endless challenges. Inclusive envi...</td>\n",
       "      <td>The biggest perk of the job provides no value ...</td>\n",
       "      <td>NaN</td>\n",
       "      <td>o</td>\n",
       "      <td>o</td>\n",
       "      <td>o</td>\n",
       "      <td>3.0</td>\n",
       "      <td>3.0</td>\n",
       "      <td>3.0</td>\n",
       "      <td>1.0</td>\n",
       "      <td>4.0</td>\n",
       "      <td>5.0</td>\n",
       "      <td>https://www.glassdoor.com/Reviews/Calgary-Flam...</td>\n",
       "      <td>Mar 25, 2023</td>\n",
       "      <td>Assistant Manager</td>\n",
       "      <td>NaN</td>\n",
       "    </tr>\n",
       "  </tbody>\n",
       "</table>\n",
       "</div>"
      ],
      "text/plain": [
       "   rating                                              title  \\\n",
       "0     5.0                                               Good   \n",
       "1     4.0                                               Good   \n",
       "2     4.0  Supervising the manufacturing the processes, e...   \n",
       "3     1.0                                           terrible   \n",
       "4     4.0                  It could be so good, but it isn’t   \n",
       "\n",
       "                                 status  \\\n",
       "0  Current Employee, more than 10 years   \n",
       "1     Former Employee, less than 1 year   \n",
       "2    Current Employee, more than 1 year   \n",
       "3    Current Employee, more than 1 year   \n",
       "4   Current Employee, more than 3 years   \n",
       "\n",
       "                                                pros  \\\n",
       "0                Knowledge gain of complete  project   \n",
       "1            Good work,good work , flexible, support   \n",
       "2  This company is a best opportunity for me to l...   \n",
       "3                     I wish there were some to list   \n",
       "4  Fast Paced. Endless challenges. Inclusive envi...   \n",
       "\n",
       "                                                cons advice Recommend  \\\n",
       "0              Financial growth  and personal growth    NaN         v   \n",
       "1   Good,work, flexible,good support, good team work    NaN         v   \n",
       "2  Monthly Target work,Maintain production schedu...    NaN         v   \n",
       "3                              too many to list here    NaN         x   \n",
       "4  The biggest perk of the job provides no value ...    NaN         o   \n",
       "\n",
       "  CEO Approval Business Outlook Career Opportunities  \\\n",
       "0            o                v                    3   \n",
       "1            o                o                    4   \n",
       "2            o                v                    2   \n",
       "3            x                x                  1.0   \n",
       "4            o                o                  3.0   \n",
       "\n",
       "  Compensation and Benefits Senior Management Work/Life Balance  \\\n",
       "0                         3                 3                 3   \n",
       "1                         4                 4                 4   \n",
       "2                         3                 2                 2   \n",
       "3                       3.0               1.0               3.0   \n",
       "4                       3.0               3.0               1.0   \n",
       "\n",
       "   Culture & Values  Diversity & Inclusion  \\\n",
       "0               3.0                    3.0   \n",
       "1               4.0                    4.0   \n",
       "2               2.0                    2.0   \n",
       "3               1.0                    NaN   \n",
       "4               4.0                    5.0   \n",
       "\n",
       "                                           firm_link           date  \\\n",
       "0  Reviews/Baja-Steel-and-Fence-Reviews-E5462645.htm  Nov 19, 2022    \n",
       "1  Reviews/Baja-Steel-and-Fence-Reviews-E5462645.htm  Jan 29, 2022    \n",
       "2  Reviews/Baja-Steel-and-Fence-Reviews-E5462645.htm  Aug 12, 2021    \n",
       "3  https://www.glassdoor.com/Reviews/Calgary-Flam...  Sep 24, 2020    \n",
       "4  https://www.glassdoor.com/Reviews/Calgary-Flam...  Mar 25, 2023    \n",
       "\n",
       "                         job  index  \n",
       "0             Manager Design    NaN  \n",
       "1         Anonymous Employee    NaN  \n",
       "2        Production Engineer    NaN  \n",
       "3   Senior Account Executive    NaN  \n",
       "4          Assistant Manager    NaN  "
      ]
     },
     "execution_count": 7,
     "metadata": {},
     "output_type": "execute_result"
    }
   ],
   "source": [
    "reviews.head()"
   ]
  },
  {
   "cell_type": "code",
   "execution_count": 19,
   "id": "6eaaf17f-63a9-4576-9932-af648ed8694f",
   "metadata": {},
   "outputs": [],
   "source": [
    "def reviews_df_cleaning(reviews):\n",
    "    reviews = pd.read_csv(\"../data/raw/all_reviews.csv\", low_memory=False)\n",
    "    df = reviews.copy()\n",
    "    \n",
    "    # Convert all columns expected to be numeric\n",
    "    for col in ['rating', 'Work/Life Balance', 'Compensation and Benefits', 'Career Opportunities', 'Culture & Values', 'Senior Management','Diversity & Inclusion']:\n",
    "        df[col] = pd.to_numeric(df[col], errors='coerce')\n",
    "\n",
    "    # Drop rows with any NaN values\n",
    "    df = df.dropna(subset=['rating', 'Work/Life Balance', 'Compensation and Benefits', 'Career Opportunities', 'Culture & Values', 'Senior Management','Diversity & Inclusion'])\n",
    "    \n",
    "    # Drop column we dont need for our analysis\n",
    "    df['Career Opportunities'] = df['Career Opportunities'].astype(float)\n",
    "    return df"
   ]
  },
  {
   "cell_type": "code",
   "execution_count": 21,
   "id": "68fad8af-522e-49e7-bc3c-1ac891700de7",
   "metadata": {},
   "outputs": [],
   "source": [
    "clean_reviews = reviews_df_cleaning(reviews)"
   ]
  },
  {
   "cell_type": "code",
   "execution_count": 25,
   "id": "53d3d624-a659-4a2d-b393-dcb2c3e94b1c",
   "metadata": {},
   "outputs": [
    {
     "name": "stdout",
     "output_type": "stream",
     "text": [
      "rating                       0\n",
      "status                       0\n",
      "pros                         0\n",
      "cons                         0\n",
      "CEO Approval                 0\n",
      "Career Opportunities         0\n",
      "Compensation and Benefits    0\n",
      "Senior Management            0\n",
      "Work/Life Balance            0\n",
      "Culture & Values             0\n",
      "Diversity & Inclusion        0\n",
      "date                         0\n",
      "job                          0\n",
      "dtype: int64\n",
      "(3294679, 13)\n"
     ]
    },
    {
     "data": {
      "text/html": [
       "<div>\n",
       "<style scoped>\n",
       "    .dataframe tbody tr th:only-of-type {\n",
       "        vertical-align: middle;\n",
       "    }\n",
       "\n",
       "    .dataframe tbody tr th {\n",
       "        vertical-align: top;\n",
       "    }\n",
       "\n",
       "    .dataframe thead th {\n",
       "        text-align: right;\n",
       "    }\n",
       "</style>\n",
       "<table border=\"1\" class=\"dataframe\">\n",
       "  <thead>\n",
       "    <tr style=\"text-align: right;\">\n",
       "      <th></th>\n",
       "      <th>rating</th>\n",
       "      <th>status</th>\n",
       "      <th>pros</th>\n",
       "      <th>cons</th>\n",
       "      <th>CEO Approval</th>\n",
       "      <th>Career Opportunities</th>\n",
       "      <th>Compensation and Benefits</th>\n",
       "      <th>Senior Management</th>\n",
       "      <th>Work/Life Balance</th>\n",
       "      <th>Culture &amp; Values</th>\n",
       "      <th>Diversity &amp; Inclusion</th>\n",
       "      <th>date</th>\n",
       "      <th>job</th>\n",
       "    </tr>\n",
       "  </thead>\n",
       "  <tbody>\n",
       "    <tr>\n",
       "      <th>0</th>\n",
       "      <td>5.0</td>\n",
       "      <td>Current Employee, more than 10 years</td>\n",
       "      <td>Knowledge gain of complete  project</td>\n",
       "      <td>Financial growth  and personal growth</td>\n",
       "      <td>o</td>\n",
       "      <td>3.0</td>\n",
       "      <td>3.0</td>\n",
       "      <td>3.0</td>\n",
       "      <td>3.0</td>\n",
       "      <td>3.0</td>\n",
       "      <td>3.0</td>\n",
       "      <td>Nov 19, 2022</td>\n",
       "      <td>Manager Design</td>\n",
       "    </tr>\n",
       "    <tr>\n",
       "      <th>1</th>\n",
       "      <td>4.0</td>\n",
       "      <td>Former Employee, less than 1 year</td>\n",
       "      <td>Good work,good work , flexible, support</td>\n",
       "      <td>Good,work, flexible,good support, good team work</td>\n",
       "      <td>o</td>\n",
       "      <td>4.0</td>\n",
       "      <td>4.0</td>\n",
       "      <td>4.0</td>\n",
       "      <td>4.0</td>\n",
       "      <td>4.0</td>\n",
       "      <td>4.0</td>\n",
       "      <td>Jan 29, 2022</td>\n",
       "      <td>Anonymous Employee</td>\n",
       "    </tr>\n",
       "    <tr>\n",
       "      <th>2</th>\n",
       "      <td>4.0</td>\n",
       "      <td>Current Employee, more than 1 year</td>\n",
       "      <td>This company is a best opportunity for me to l...</td>\n",
       "      <td>Monthly Target work,Maintain production schedu...</td>\n",
       "      <td>o</td>\n",
       "      <td>2.0</td>\n",
       "      <td>3.0</td>\n",
       "      <td>2.0</td>\n",
       "      <td>2.0</td>\n",
       "      <td>2.0</td>\n",
       "      <td>2.0</td>\n",
       "      <td>Aug 12, 2021</td>\n",
       "      <td>Production Engineer</td>\n",
       "    </tr>\n",
       "    <tr>\n",
       "      <th>4</th>\n",
       "      <td>4.0</td>\n",
       "      <td>Current Employee, more than 3 years</td>\n",
       "      <td>Fast Paced. Endless challenges. Inclusive envi...</td>\n",
       "      <td>The biggest perk of the job provides no value ...</td>\n",
       "      <td>o</td>\n",
       "      <td>3.0</td>\n",
       "      <td>3.0</td>\n",
       "      <td>3.0</td>\n",
       "      <td>1.0</td>\n",
       "      <td>4.0</td>\n",
       "      <td>5.0</td>\n",
       "      <td>Mar 25, 2023</td>\n",
       "      <td>Assistant Manager</td>\n",
       "    </tr>\n",
       "    <tr>\n",
       "      <th>5</th>\n",
       "      <td>3.0</td>\n",
       "      <td>Former Employee, more than 5 years</td>\n",
       "      <td>Discounts, benefits, life long friends.</td>\n",
       "      <td>Drama, playing favorites, low pay</td>\n",
       "      <td>r</td>\n",
       "      <td>2.0</td>\n",
       "      <td>2.0</td>\n",
       "      <td>2.0</td>\n",
       "      <td>2.0</td>\n",
       "      <td>2.0</td>\n",
       "      <td>2.0</td>\n",
       "      <td>Apr 6, 2023</td>\n",
       "      <td>Floor Supervisor</td>\n",
       "    </tr>\n",
       "  </tbody>\n",
       "</table>\n",
       "</div>"
      ],
      "text/plain": [
       "   rating                                status  \\\n",
       "0     5.0  Current Employee, more than 10 years   \n",
       "1     4.0     Former Employee, less than 1 year   \n",
       "2     4.0    Current Employee, more than 1 year   \n",
       "4     4.0   Current Employee, more than 3 years   \n",
       "5     3.0    Former Employee, more than 5 years   \n",
       "\n",
       "                                                pros  \\\n",
       "0                Knowledge gain of complete  project   \n",
       "1            Good work,good work , flexible, support   \n",
       "2  This company is a best opportunity for me to l...   \n",
       "4  Fast Paced. Endless challenges. Inclusive envi...   \n",
       "5            Discounts, benefits, life long friends.   \n",
       "\n",
       "                                                cons CEO Approval  \\\n",
       "0              Financial growth  and personal growth            o   \n",
       "1   Good,work, flexible,good support, good team work            o   \n",
       "2  Monthly Target work,Maintain production schedu...            o   \n",
       "4  The biggest perk of the job provides no value ...            o   \n",
       "5                  Drama, playing favorites, low pay            r   \n",
       "\n",
       "   Career Opportunities  Compensation and Benefits  Senior Management  \\\n",
       "0                   3.0                        3.0                3.0   \n",
       "1                   4.0                        4.0                4.0   \n",
       "2                   2.0                        3.0                2.0   \n",
       "4                   3.0                        3.0                3.0   \n",
       "5                   2.0                        2.0                2.0   \n",
       "\n",
       "   Work/Life Balance  Culture & Values  Diversity & Inclusion           date  \\\n",
       "0                3.0               3.0                    3.0  Nov 19, 2022    \n",
       "1                4.0               4.0                    4.0  Jan 29, 2022    \n",
       "2                2.0               2.0                    2.0  Aug 12, 2021    \n",
       "4                1.0               4.0                    5.0  Mar 25, 2023    \n",
       "5                2.0               2.0                    2.0   Apr 6, 2023    \n",
       "\n",
       "                    job  \n",
       "0        Manager Design  \n",
       "1    Anonymous Employee  \n",
       "2   Production Engineer  \n",
       "4     Assistant Manager  \n",
       "5      Floor Supervisor  "
      ]
     },
     "metadata": {},
     "output_type": "display_data"
    }
   ],
   "source": [
    "print(clean_reviews.isna().sum())\n",
    "print(clean_reviews.shape)\n",
    "display(clean_reviews.head())"
   ]
  },
  {
   "cell_type": "code",
   "execution_count": 27,
   "id": "3931e90d-7495-4d84-86dd-90a0ff029a95",
   "metadata": {},
   "outputs": [
    {
     "data": {
      "image/png": "[encoded data removed]",
      "text/plain": [
       "<Figure size 1000x800 with 2 Axes>"
      ]
     },
     "metadata": {},
     "output_type": "display_data"
    }
   ],
   "source": [
    "# Select relevant numerical columns\n",
    "numerical_cols = ['rating', 'Work/Life Balance', 'Compensation and Benefits', 'Career Opportunities', 'Culture & Values', 'Senior Management','Diversity & Inclusion']\n",
    "corr_matrix = clean_reviews[numerical_cols].corr()\n",
    "# Visualize the correlation matrix\n",
    "plt.figure(figsize=(10, 8))\n",
    "sns.heatmap(corr_matrix, annot=True, cmap='coolwarm')\n",
    "plt.show()"
   ]
  },
  {
   "cell_type": "markdown",
   "id": "e360fd57-6016-4652-b3d8-e4ea1d482335",
   "metadata": {},
   "source": [
    "- Work/Life Balance (0.66): Directly related to employee satisfaction and frequently highlighted as a key workplace factor.\n",
    "- Culture & Values (0.79): Strongest correlation with rating, making it essential for analysis.\n",
    "- Senior Management (0.77): Indicates a significant impact on employee perception.\n",
    "- Career Opportunities (0.74): Highly correlated with rating, crucial for assessing growth potential and satisfaction.\n",
    "- Diversity & Inclusion (0.66): While correlated, it’s slightly less impactful compared to the others. However, we might address how inclusivity initiatives affect workplace well-being and satisfaction"
   ]
  },
  {
   "cell_type": "code",
   "execution_count": 41,
   "id": "7e734570-c987-4ef6-8a6c-e6b1ef325e91",
   "metadata": {},
   "outputs": [
    {
     "name": "stdout",
     "output_type": "stream",
     "text": [
      "Value counts for column rating:\n",
      "rating\n",
      "5.0    1074956\n",
      "4.0     960909\n",
      "3.0     688419\n",
      "2.0     291067\n",
      "1.0     279328\n",
      "Name: count, dtype: int64\n",
      "\n",
      "\n",
      "Value counts for column status:\n",
      "status\n",
      "Current Employee                                               635516\n",
      "Current Employee, more than 1 year                             402304\n",
      "Former Employee                                                325517\n",
      "Former Employee, more than 1 year                              319383\n",
      "Current Employee, more than 3 years                            301719\n",
      "                                                                ...  \n",
      "Former Intern, more than 10 years                                   1\n",
      "Former Intern, more than 5 years                                    1\n",
      "KEY NOT FOUND: jobLine.reserve-former, more than 8 years            1\n",
      "KEY NOT FOUND: jobLine.seasonal-current, more than 10 years         1\n",
      "KEY NOT FOUND: jobLine.seasonal-current, more than 5 years          1\n",
      "Name: count, Length: 85, dtype: int64\n",
      "\n",
      "\n",
      "Value counts for column pros:\n",
      "pros\n",
      "Great company to work for                                                                                                                                                                     2907\n",
      "Work life balance is good                                                                                                                                                                     2843\n",
      "I joined in 2020 during COVID and and was happy with the way I was treated, On time Salary, flexible working hours and work from home opportunity are the best pros.                          2426\n",
      "Good work in ASP.NET technology, good team                                                                                                                                                    2426\n",
      "Good company to work for                                                                                                                                                                      2311\n",
      "                                                                                                                                                                                              ... \n",
      "It is stable job with good benefits. It offers salary transparency as everyone is on a grade system. If you are a certain grade, you have a certain salary regardless of age, gender, etc.       1\n",
      "Great pay and scalling and gained experience                                                                                                                                                     1\n",
      "Solid community and the military offers great benefits.                                                                                                                                          1\n",
      "travel, health care, benefits, time off, comradery.                                                                                                                                              1\n",
      "Good tips and pay is good                                                                                                                                                                        1\n",
      "Name: count, Length: 2801334, dtype: int64\n",
      "\n",
      "\n",
      "Value counts for column cons:\n",
      "cons\n",
      "None that I can think of                                                                                                                                                                5343\n",
      "Only few staff in office as other staff working from home because of COVID                                                                                                              2426\n",
      "Though can't think of cons, would be nice to get more time off.                                                                                                                         2426\n",
      "None that I can think of.                                                                                                                                                               2238\n",
      "No cons as of now                                                                                                                                                                       2066\n",
      "                                                                                                                                                                                        ... \n",
      "No one wants to work and no overtime                                                                                                                                                       1\n",
      "- Time spent away from family\\r\\n- Policy changes almost 4-6 years for annual evaluations and reports                                                                                      1\n",
      "IT is a needs of the business type organization. sometimes nights, weekends, and holidays.                                                                                                 1\n",
      "IT systems are slow\\r\\n\\r\\nA lot of bureaucracy often prevents them from being agile\\r\\n\\r\\nThe officer versus enlisted diversion is outdated and not efficient for office type jobs       1\n",
      "Varying shift hours lack of understanding between employers                                                                                                                                1\n",
      "Name: count, Length: 2795474, dtype: int64\n",
      "\n",
      "\n",
      "Value counts for column CEO Approval:\n",
      "CEO Approval\n",
      "v    1381644\n",
      "o     937827\n",
      "r     605297\n",
      "x     369911\n",
      "Name: count, dtype: int64\n",
      "\n",
      "\n",
      "Value counts for column Career Opportunities:\n",
      "Career Opportunities\n",
      "5.0    994205\n",
      "4.0    849360\n",
      "3.0    735586\n",
      "2.0    361556\n",
      "1.0    353972\n",
      "Name: count, dtype: int64\n",
      "\n",
      "\n",
      "Value counts for column Compensation and Benefits:\n",
      "Compensation and Benefits\n",
      "4.0    890791\n",
      "5.0    862630\n",
      "3.0    821277\n",
      "2.0    393422\n",
      "1.0    326559\n",
      "Name: count, dtype: int64\n",
      "\n",
      "\n",
      "Value counts for column Senior Management:\n",
      "Senior Management\n",
      "5.0    843208\n",
      "4.0    788233\n",
      "3.0    716667\n",
      "1.0    548419\n",
      "2.0    398152\n",
      "Name: count, dtype: int64\n",
      "\n",
      "\n",
      "Value counts for column Work/Life Balance:\n",
      "Work/Life Balance\n",
      "5.0    1009451\n",
      "4.0     777447\n",
      "3.0     703786\n",
      "1.0     443270\n",
      "2.0     360725\n",
      "Name: count, dtype: int64\n",
      "\n",
      "\n",
      "Value counts for column Culture & Values:\n",
      "Culture & Values\n",
      "5.0    1166867\n",
      "4.0     810437\n",
      "3.0     613920\n",
      "1.0     385521\n",
      "2.0     317934\n",
      "Name: count, dtype: int64\n",
      "\n",
      "\n",
      "Value counts for column Diversity & Inclusion:\n",
      "Diversity & Inclusion\n",
      "5.0    1367223\n",
      "4.0     845476\n",
      "3.0     565632\n",
      "1.0     280854\n",
      "2.0     235494\n",
      "Name: count, dtype: int64\n",
      "\n",
      "\n",
      "Value counts for column date:\n",
      "date\n",
      "Jan 11, 2021     7244\n",
      "Jan 12, 2021     7198\n",
      "Jun 8, 2022      7187\n",
      "Jan 13, 2021     7084\n",
      "Jan 19, 2021     7032\n",
      "                 ... \n",
      "Jul 18, 2023        2\n",
      "Jul 14, 2023        1\n",
      "Jul 20, 2023        1\n",
      "Jul 26, 2023        1\n",
      "Jul 15, 2023        1\n",
      "Name: count, Length: 1039, dtype: int64\n",
      "\n",
      "\n",
      "Value counts for column job:\n",
      "job\n",
      "Anonymous Employee                 263899\n",
      "Software Engineer                   60984\n",
      "Sales Associate                     51635\n",
      "Manager                             51622\n",
      "Customer Service Representative     38152\n",
      "                                    ...  \n",
      "Fabrication Projects Specialist         1\n",
      "Digital Technical Designer              1\n",
      "Stock and Cashier                       1\n",
      "Shipping Management Assistant           1\n",
      "Banking Center Manager II               1\n",
      "Name: count, Length: 212566, dtype: int64\n",
      "\n",
      "\n"
     ]
    }
   ],
   "source": [
    "for col in clean_reviews:\n",
    "    print(f\"Value counts for column {col}:\")\n",
    "    print(clean_reviews[col].value_counts())\n",
    "    print(\"\\n\")"
   ]
  },
  {
   "cell_type": "code",
   "execution_count": 49,
   "id": "e8e1e54b-3c22-4e9b-a3ea-1f006b13a9dc",
   "metadata": {},
   "outputs": [
    {
     "name": "stdout",
     "output_type": "stream",
     "text": [
      "Value counts for column rating:\n",
      "rating\n",
      "4.0    2959180\n",
      "5.0    2715598\n",
      "3.0    2283052\n",
      "2.0    1020365\n",
      "1.0     923523\n",
      "Name: count, dtype: int64\n",
      "\n",
      "\n",
      "Value counts for column title:\n",
      "title\n",
      "Good                       193318\n",
      "Great place to work        115283\n",
      "Good company                83343\n",
      "Great company               75489\n",
      "Great                       74228\n",
      "                            ...  \n",
      "Cool to work,Less Pay           1\n",
      "snr director                    1\n",
      "Janakaraj                       1\n",
      "associate consulatnt            1\n",
      "Working at Victoria inn         1\n",
      "Name: count, Length: 3589503, dtype: int64\n",
      "\n",
      "\n",
      "Value counts for column status:\n",
      "status\n",
      "Current Employee                                               2328379\n",
      "Former Employee                                                1617824\n",
      "Current Employee, more than 1 year                              974663\n",
      "Former Employee, more than 1 year                               830200\n",
      "Current Employee, more than 3 years                             730789\n",
      "                                                                ...   \n",
      "Former Intern, more than 10 years                                    1\n",
      "KEY NOT FOUND: jobLine.seasonal-current, more than 10 years          1\n",
      "KEY NOT FOUND: jobLine.reserve-former, less than 1 year              1\n",
      "Currently Self-employed, more than 1 year                            1\n",
      "Formerly Self-employed, more than 1 year                             1\n",
      "Name: count, Length: 95, dtype: int64\n",
      "\n",
      "\n",
      "Value counts for column pros:\n",
      "pros\n",
      "Great company to work for                                                                                                                 8301\n",
      "Good company to work for                                                                                                                  6587\n",
      "Great people to work with                                                                                                                 6285\n",
      "Work life balance is good                                                                                                                 5951\n",
      "Good company to work with                                                                                                                 3900\n",
      "                                                                                                                                          ... \n",
      "There's actually quite a bit to learn about meat and seafood.                                                                                1\n",
      "Working with customers, keeping displays looking nice, health ins. after 9 months for only $5 per paycheck, 2 week in advance schedule       1\n",
      "Work with different types of people,  build communication skills, Okay benefits for single person.                                           1\n",
      "good benefits, work and life balance, pay is not that bad.                                                                                   1\n",
      "flexible hours  and know the setting of banquet function                                                                                     1\n",
      "Name: count, Length: 8399148, dtype: int64\n",
      "\n",
      "\n",
      "Value counts for column cons:\n",
      "cons\n",
      "None that I can think of                                                                                                                                                                                                                                                                                                                                                                                                           13496\n",
      "None that I can think of.                                                                                                                                                                                                                                                                                                                                                                                                           6329\n",
      "No cons as of now                                                                                                                                                                                                                                                                                                                                                                                                                   3806\n",
      "None I can think of                                                                                                                                                                                                                                                                                                                                                                                                                 3324\n",
      "Nothing I can think of                                                                                                                                                                                                                                                                                                                                                                                                              2466\n",
      "                                                                                                                                                                                                                                                                                                                                                                                                                                   ...  \n",
      "Scheduling, lack of communication, playing to the \"favorites\",                                                                                                                                                                                                                                                                                                                                                                         1\n",
      "A lot of work load for Customer First Clerk. From one person throwing out all of the parking lot's trash in the early morning, to  30 min, sweeps, to clearing the lot of carts, to constantly  being called by front end cashiers to retrieve items, to go backs and being a cashier combo. Management would only give us one break in a span of an * hour work shift and \"forget\" about the second break.                            1\n",
      "Understaffed new people dont wantnto stay after they find out they will they max out at 12 dollars an hour and thats after six years. Department managers have unrealistic goals and the hours are not fairly allocated between stores. My department sells are over 70,000 a week and we get 230 hours a week. Thee other stores i know of sells between 50,000 and 70,000 however they receive 60 to 120 more hours a week...        1\n",
      "Pay was very low. Managers don't have a clue what is really going on. They don't get there till at least 9 or 10 am. It was said I had a problem taking orders. Not true. If you talk to me like a 2yr old  that would make anyone mad. Unless you are a 2 yr old.Now if you talk to me like an equal with respect not a problem. I had a Dr excuse for 2 days off but still got wrote up????                                          1\n",
      "not enough hour, lack of  training                                                                                                                                                                                                                                                                                                                                                                                                     1\n",
      "Name: count, Length: 8428752, dtype: int64\n",
      "\n",
      "\n",
      "Value counts for column advice:\n",
      "advice\n",
      "Increment zhoukd be on performance basis                                                                                                                                                                                                                                  1\n",
      "Remember when staff don't  feel appreciated,  the mission  of Mercy suffers.                                                                                                                                                                                              1\n",
      "I think the manager should retire.  He thinks he is above the law, and abuses coworker whenever he pleases.  Also, you should not keep hiring people with a violent temper.\\r\\n\\r\\n Also, HR people need to learn to communicate with employees instead of being lazy.    1\n",
      "Continue focus on employee growth and support.                                                                                                                                                                                                                            1\n",
      "Get your head out of the sand and pay attention to what your employees are telling you.\\r\\nPut more effort into employee satisfaction                                                                                                                                     1\n",
      "Management and international recruitment please do some audits if they really use the referral options wisely.                                                                                                                                                            1\n",
      "Fire The Gm here .                                                                                                                                                                                                                                                        1\n",
      "More empowerment to make decisions                                                                                                                                                                                                                                        1\n",
      "salary improvement                                                                                                                                                                                                                                                        1\n",
      "Get an easier, clearer, more transparent way to transfer between divisions.                                                                                                                                                                                               1\n",
      "Nothing                                                                                                                                                                                                                                                                   1\n",
      "good to go  HCL Lucknow                                                                                                                                                                                                                                                   1\n",
      "not much                                                                                                                                                                                                                                                                  1\n",
      "Name: count, dtype: int64\n",
      "\n",
      "\n",
      "Value counts for column Recommend:\n",
      "Recommend\n",
      "v    4613452\n",
      "o    2863476\n",
      "x    2424790\n",
      "Name: count, dtype: int64\n",
      "\n",
      "\n",
      "Value counts for column CEO Approval:\n",
      "CEO Approval\n",
      "o    3806071\n",
      "v    3207186\n",
      "r    1887222\n",
      "x    1001239\n",
      "Name: count, dtype: int64\n",
      "\n",
      "\n",
      "Value counts for column Business Outlook:\n",
      "Business Outlook\n",
      "o    3526619\n",
      "v    3412095\n",
      "r    1653339\n",
      "x    1309665\n",
      "Name: count, dtype: int64\n",
      "\n",
      "\n",
      "Value counts for column Career Opportunities:\n",
      "Career Opportunities\n",
      "4          1773632\n",
      "3          1731971\n",
      "5          1704707\n",
      "2           946290\n",
      "1           886021\n",
      "5.0         249515\n",
      "4.0         205253\n",
      "3.0         198519\n",
      "1.0         152390\n",
      "2.0         123347\n",
      "10u0eun      31704\n",
      "e0wqkp       27493\n",
      "s4o194       11965\n",
      "156pzk5      10820\n",
      "Name: count, dtype: int64\n",
      "\n",
      "\n",
      "Value counts for column Compensation and Benefits:\n",
      "Compensation and Benefits\n",
      "4          1930462\n",
      "3          1882413\n",
      "5          1566964\n",
      "2           958872\n",
      "1           747500\n",
      "4.0         207115\n",
      "3.0         195101\n",
      "5.0         194285\n",
      "1.0         110312\n",
      "2.0         109844\n",
      "10u0eun      48222\n",
      "e0wqkp       36741\n",
      "s4o194       25212\n",
      "156pzk5      10755\n",
      "Name: count, dtype: int64\n",
      "\n",
      "\n",
      "Value counts for column Senior Management:\n",
      "Senior Management\n",
      "3          1605600\n",
      "4          1574465\n",
      "5          1373286\n",
      "1          1330591\n",
      "2           999933\n",
      "5.0         243804\n",
      "1.0         221250\n",
      "4.0         204878\n",
      "3.0         185821\n",
      "2.0         123427\n",
      "10u0eun      20558\n",
      "e0wqkp       19697\n",
      "156pzk5      12352\n",
      "s4o194       10761\n",
      "Name: count, dtype: int64\n",
      "\n",
      "\n",
      "Value counts for column Work/Life Balance:\n",
      "Work/Life Balance\n",
      "5          1824377\n",
      "4          1741376\n",
      "3          1641725\n",
      "1           971209\n",
      "2           877342\n",
      "5.0         252250\n",
      "4.0         195621\n",
      "3.0         174456\n",
      "1.0         131053\n",
      "2.0          94837\n",
      "10u0eun      38046\n",
      "s4o194       29882\n",
      "e0wqkp       24414\n",
      "156pzk5      10811\n",
      "Name: count, dtype: int64\n",
      "\n",
      "\n",
      "Value counts for column Culture & Values:\n",
      "Culture & Values\n",
      "5.0    2402909\n",
      "4.0    1849298\n",
      "3.0    1498375\n",
      "1.0    1065994\n",
      "2.0     838540\n",
      "Name: count, dtype: int64\n",
      "\n",
      "\n",
      "Value counts for column Diversity & Inclusion:\n",
      "Diversity & Inclusion\n",
      "5.0    1392506\n",
      "4.0     860080\n",
      "3.0     575796\n",
      "1.0     289070\n",
      "2.0     240155\n",
      "Name: count, dtype: int64\n",
      "\n",
      "\n",
      "Value counts for column firm_link:\n",
      "firm_link\n",
      "Reviews/Walmart-Reviews-E395425.htm                                                           64064\n",
      "Reviews/US-Navy-Reviews-E193797.htm                                                           47472\n",
      "https://www.glassdoor.com/Reviews/Starbucks-Reviews-E2202_P304.htm?filter.iso3Language=eng    47431\n",
      "https://www.glassdoor.com/Reviews/HP-Inc-Reviews-E1093161.htm                                 45994\n",
      "Reviews/Oracle-Reviews-E614881.htm                                                            43205\n",
      "                                                                                              ...  \n",
      "Reviews/South-Dayton-Acute-Care-Consultants-Reviews-E267557.htm                                   1\n",
      "Reviews/HBX-Investment-Reviews-E529004.htm                                                        1\n",
      "Reviews/Auto-Advocates-Reviews-E398071.htm                                                        1\n",
      "Reviews/Gestion-Vision-Globale-Reviews-E465694.htm                                                1\n",
      "Reviews/Career-Sushi-Reviews-E930164.htm                                                          1\n",
      "Name: count, Length: 35541, dtype: int64\n",
      "\n",
      "\n",
      "Value counts for column date:\n",
      "date\n",
      "Jan 11, 2021     11138\n",
      "Jan 12, 2021     10963\n",
      "Jan 13, 2021     10666\n",
      "Jan 19, 2021     10273\n",
      "Jan 14, 2021      9872\n",
      "                 ...  \n",
      "Jan 31, 2008         1\n",
      "Mar 4, 2008          1\n",
      "Mar 11, 2008         1\n",
      "Mar 12, 2008         1\n",
      "Feb 22, 2008         1\n",
      "Name: count, Length: 5612, dtype: int64\n",
      "\n",
      "\n",
      "Value counts for column job:\n",
      "job\n",
      "Anonymous Employee                            1704869\n",
      "                                               682948\n",
      "Sales Associate                                155604\n",
      "Software Engineer                              147930\n",
      "Manager                                        127789\n",
      "                                               ...   \n",
      "Manufacturing Engineer Supervisor                   1\n",
      "Purchasing Agent/Buyer/Mechanical Engineer          1\n",
      "Haas Service Technician                             1\n",
      "SAP BI/BW ANALYST                                   1\n",
      "Lender's Assistant                                  1\n",
      "Name: count, Length: 440593, dtype: int64\n",
      "\n",
      "\n",
      "Value counts for column index:\n",
      "index\n",
      "0.0       15287\n",
      "6.0       15287\n",
      "1.0       15287\n",
      "8.0       15287\n",
      "7.0       15287\n",
      "          ...  \n",
      "2822.0        2\n",
      "2821.0        2\n",
      "2820.0        2\n",
      "2819.0        2\n",
      "3029.0        2\n",
      "Name: count, Length: 3030, dtype: int64\n",
      "\n",
      "\n"
     ]
    }
   ],
   "source": [
    "for col in reviews:\n",
    "    print(f\"Value counts for column {col}:\")\n",
    "    print(reviews[col].value_counts())\n",
    "    print(\"\\n\")"
   ]
  },
  {
   "cell_type": "code",
   "execution_count": 63,
   "id": "12b8be76-63f1-47c0-8a68-292da966e0b2",
   "metadata": {},
   "outputs": [
    {
     "name": "stderr",
     "output_type": "stream",
     "text": [
      "/var/folders/7h/j883bpy50yx9ffn06wrdxzy00000gn/T/ipykernel_7302/2393837496.py:11: SettingWithCopyWarning: \n",
      "A value is trying to be set on a copy of a slice from a DataFrame.\n",
      "Try using .loc[row_indexer,col_indexer] = value instead\n",
      "\n",
      "See the caveats in the documentation: https://pandas.pydata.org/pandas-docs/stable/user_guide/indexing.html#returning-a-view-versus-a-copy\n",
      "  df[col] = df[col].astype(float)\n",
      "/var/folders/7h/j883bpy50yx9ffn06wrdxzy00000gn/T/ipykernel_7302/2393837496.py:5: SettingWithCopyWarning: \n",
      "A value is trying to be set on a copy of a slice from a DataFrame.\n",
      "Try using .loc[row_indexer,col_indexer] = value instead\n",
      "\n",
      "See the caveats in the documentation: https://pandas.pydata.org/pandas-docs/stable/user_guide/indexing.html#returning-a-view-versus-a-copy\n",
      "  df[col] = pd.to_numeric(df[col], errors='coerce')\n"
     ]
    },
    {
     "data": {
      "text/html": [
       "<div>\n",
       "<style scoped>\n",
       "    .dataframe tbody tr th:only-of-type {\n",
       "        vertical-align: middle;\n",
       "    }\n",
       "\n",
       "    .dataframe tbody tr th {\n",
       "        vertical-align: top;\n",
       "    }\n",
       "\n",
       "    .dataframe thead th {\n",
       "        text-align: right;\n",
       "    }\n",
       "</style>\n",
       "<table border=\"1\" class=\"dataframe\">\n",
       "  <thead>\n",
       "    <tr style=\"text-align: right;\">\n",
       "      <th></th>\n",
       "      <th>rating</th>\n",
       "      <th>title</th>\n",
       "      <th>status</th>\n",
       "      <th>pros</th>\n",
       "      <th>cons</th>\n",
       "      <th>advice</th>\n",
       "      <th>Recommend</th>\n",
       "      <th>CEO Approval</th>\n",
       "      <th>Business Outlook</th>\n",
       "      <th>Career Opportunities</th>\n",
       "      <th>Compensation and Benefits</th>\n",
       "      <th>Senior Management</th>\n",
       "      <th>Work/Life Balance</th>\n",
       "      <th>Culture &amp; Values</th>\n",
       "      <th>Diversity &amp; Inclusion</th>\n",
       "      <th>firm_link</th>\n",
       "      <th>date</th>\n",
       "      <th>job</th>\n",
       "      <th>index</th>\n",
       "    </tr>\n",
       "  </thead>\n",
       "  <tbody>\n",
       "    <tr>\n",
       "      <th>0</th>\n",
       "      <td>5.0</td>\n",
       "      <td>Good</td>\n",
       "      <td>Current Employee, more than 10 years</td>\n",
       "      <td>Knowledge gain of complete  project</td>\n",
       "      <td>Financial growth  and personal growth</td>\n",
       "      <td>NaN</td>\n",
       "      <td>v</td>\n",
       "      <td>o</td>\n",
       "      <td>v</td>\n",
       "      <td>3.0</td>\n",
       "      <td>3.0</td>\n",
       "      <td>3.0</td>\n",
       "      <td>3.0</td>\n",
       "      <td>3.0</td>\n",
       "      <td>3.0</td>\n",
       "      <td>Reviews/Baja-Steel-and-Fence-Reviews-E5462645.htm</td>\n",
       "      <td>Nov 19, 2022</td>\n",
       "      <td>Manager Design</td>\n",
       "      <td>NaN</td>\n",
       "    </tr>\n",
       "    <tr>\n",
       "      <th>1</th>\n",
       "      <td>4.0</td>\n",
       "      <td>Good</td>\n",
       "      <td>Former Employee, less than 1 year</td>\n",
       "      <td>Good work,good work , flexible, support</td>\n",
       "      <td>Good,work, flexible,good support, good team work</td>\n",
       "      <td>NaN</td>\n",
       "      <td>v</td>\n",
       "      <td>o</td>\n",
       "      <td>o</td>\n",
       "      <td>4.0</td>\n",
       "      <td>4.0</td>\n",
       "      <td>4.0</td>\n",
       "      <td>4.0</td>\n",
       "      <td>4.0</td>\n",
       "      <td>4.0</td>\n",
       "      <td>Reviews/Baja-Steel-and-Fence-Reviews-E5462645.htm</td>\n",
       "      <td>Jan 29, 2022</td>\n",
       "      <td>Anonymous Employee</td>\n",
       "      <td>NaN</td>\n",
       "    </tr>\n",
       "    <tr>\n",
       "      <th>2</th>\n",
       "      <td>4.0</td>\n",
       "      <td>Supervising the manufacturing the processes, e...</td>\n",
       "      <td>Current Employee, more than 1 year</td>\n",
       "      <td>This company is a best opportunity for me to l...</td>\n",
       "      <td>Monthly Target work,Maintain production schedu...</td>\n",
       "      <td>NaN</td>\n",
       "      <td>v</td>\n",
       "      <td>o</td>\n",
       "      <td>v</td>\n",
       "      <td>2.0</td>\n",
       "      <td>3.0</td>\n",
       "      <td>2.0</td>\n",
       "      <td>2.0</td>\n",
       "      <td>2.0</td>\n",
       "      <td>2.0</td>\n",
       "      <td>Reviews/Baja-Steel-and-Fence-Reviews-E5462645.htm</td>\n",
       "      <td>Aug 12, 2021</td>\n",
       "      <td>Production Engineer</td>\n",
       "      <td>NaN</td>\n",
       "    </tr>\n",
       "    <tr>\n",
       "      <th>3</th>\n",
       "      <td>1.0</td>\n",
       "      <td>terrible</td>\n",
       "      <td>Current Employee, more than 1 year</td>\n",
       "      <td>I wish there were some to list</td>\n",
       "      <td>too many to list here</td>\n",
       "      <td>NaN</td>\n",
       "      <td>x</td>\n",
       "      <td>x</td>\n",
       "      <td>x</td>\n",
       "      <td>1.0</td>\n",
       "      <td>3.0</td>\n",
       "      <td>1.0</td>\n",
       "      <td>3.0</td>\n",
       "      <td>1.0</td>\n",
       "      <td>NaN</td>\n",
       "      <td>https://www.glassdoor.com/Reviews/Calgary-Flam...</td>\n",
       "      <td>Sep 24, 2020</td>\n",
       "      <td>Senior Account Executive</td>\n",
       "      <td>NaN</td>\n",
       "    </tr>\n",
       "    <tr>\n",
       "      <th>4</th>\n",
       "      <td>4.0</td>\n",
       "      <td>It could be so good, but it isn’t</td>\n",
       "      <td>Current Employee, more than 3 years</td>\n",
       "      <td>Fast Paced. Endless challenges. Inclusive envi...</td>\n",
       "      <td>The biggest perk of the job provides no value ...</td>\n",
       "      <td>NaN</td>\n",
       "      <td>o</td>\n",
       "      <td>o</td>\n",
       "      <td>o</td>\n",
       "      <td>3.0</td>\n",
       "      <td>3.0</td>\n",
       "      <td>3.0</td>\n",
       "      <td>1.0</td>\n",
       "      <td>4.0</td>\n",
       "      <td>5.0</td>\n",
       "      <td>https://www.glassdoor.com/Reviews/Calgary-Flam...</td>\n",
       "      <td>Mar 25, 2023</td>\n",
       "      <td>Assistant Manager</td>\n",
       "      <td>NaN</td>\n",
       "    </tr>\n",
       "    <tr>\n",
       "      <th>...</th>\n",
       "      <td>...</td>\n",
       "      <td>...</td>\n",
       "      <td>...</td>\n",
       "      <td>...</td>\n",
       "      <td>...</td>\n",
       "      <td>...</td>\n",
       "      <td>...</td>\n",
       "      <td>...</td>\n",
       "      <td>...</td>\n",
       "      <td>...</td>\n",
       "      <td>...</td>\n",
       "      <td>...</td>\n",
       "      <td>...</td>\n",
       "      <td>...</td>\n",
       "      <td>...</td>\n",
       "      <td>...</td>\n",
       "      <td>...</td>\n",
       "      <td>...</td>\n",
       "      <td>...</td>\n",
       "    </tr>\n",
       "    <tr>\n",
       "      <th>9901884</th>\n",
       "      <td>4.0</td>\n",
       "      <td>I enjoyed working here.   The only thing I did...</td>\n",
       "      <td>Former Employee, less than 1 year</td>\n",
       "      <td>The pros were that the staff were awesome.   V...</td>\n",
       "      <td>Some challenges were the policies and procedur...</td>\n",
       "      <td>NaN</td>\n",
       "      <td>v</td>\n",
       "      <td>r</td>\n",
       "      <td>r</td>\n",
       "      <td>4.0</td>\n",
       "      <td>4.0</td>\n",
       "      <td>2.0</td>\n",
       "      <td>3.0</td>\n",
       "      <td>3.0</td>\n",
       "      <td>NaN</td>\n",
       "      <td>Reviews/Victoria-Inn-Hotel-&amp;-Convention-Centre...</td>\n",
       "      <td>Apr 9, 2016</td>\n",
       "      <td>Server</td>\n",
       "      <td>NaN</td>\n",
       "    </tr>\n",
       "    <tr>\n",
       "      <th>9901885</th>\n",
       "      <td>2.0</td>\n",
       "      <td>Guest Service Agent</td>\n",
       "      <td>Former Employee</td>\n",
       "      <td>No Pros comment at all . Horrible manager ,Hor...</td>\n",
       "      <td>The working environment is gossip. Girls like ...</td>\n",
       "      <td>NaN</td>\n",
       "      <td>x</td>\n",
       "      <td>o</td>\n",
       "      <td>x</td>\n",
       "      <td>2.0</td>\n",
       "      <td>2.0</td>\n",
       "      <td>2.0</td>\n",
       "      <td>2.0</td>\n",
       "      <td>1.0</td>\n",
       "      <td>NaN</td>\n",
       "      <td>Reviews/Victoria-Inn-Hotel-&amp;-Convention-Centre...</td>\n",
       "      <td>Jul 13, 2016</td>\n",
       "      <td>Anonymous Employee</td>\n",
       "      <td>NaN</td>\n",
       "    </tr>\n",
       "    <tr>\n",
       "      <th>9901886</th>\n",
       "      <td>5.0</td>\n",
       "      <td>Great Company and Staff</td>\n",
       "      <td>Former Employee, more than 3 years</td>\n",
       "      <td>Great managers who really care about their emp...</td>\n",
       "      <td>Pay wasn't that great during slow season</td>\n",
       "      <td>NaN</td>\n",
       "      <td>v</td>\n",
       "      <td>o</td>\n",
       "      <td>v</td>\n",
       "      <td>3.0</td>\n",
       "      <td>2.0</td>\n",
       "      <td>5.0</td>\n",
       "      <td>4.0</td>\n",
       "      <td>4.0</td>\n",
       "      <td>NaN</td>\n",
       "      <td>Reviews/Victoria-Inn-Hotel-&amp;-Convention-Centre...</td>\n",
       "      <td>Dec 17, 2014</td>\n",
       "      <td>Banquet Server</td>\n",
       "      <td>NaN</td>\n",
       "    </tr>\n",
       "    <tr>\n",
       "      <th>9901887</th>\n",
       "      <td>2.0</td>\n",
       "      <td>Working at Victoria inn</td>\n",
       "      <td>Former Employee, more than 1 year</td>\n",
       "      <td>Flexible schedule and free food, you can choos...</td>\n",
       "      <td>Seasonal unstable job/hours and the management...</td>\n",
       "      <td>NaN</td>\n",
       "      <td>x</td>\n",
       "      <td>o</td>\n",
       "      <td>x</td>\n",
       "      <td>1.0</td>\n",
       "      <td>3.0</td>\n",
       "      <td>2.0</td>\n",
       "      <td>3.0</td>\n",
       "      <td>1.0</td>\n",
       "      <td>NaN</td>\n",
       "      <td>Reviews/Victoria-Inn-Hotel-&amp;-Convention-Centre...</td>\n",
       "      <td>Aug 13, 2019</td>\n",
       "      <td>Server/Bartender</td>\n",
       "      <td>NaN</td>\n",
       "    </tr>\n",
       "    <tr>\n",
       "      <th>9901888</th>\n",
       "      <td>2.0</td>\n",
       "      <td>banquet server</td>\n",
       "      <td>Current Employee</td>\n",
       "      <td>flexible hours  and know the setting of banque...</td>\n",
       "      <td>not enough hour, lack of  training</td>\n",
       "      <td>NaN</td>\n",
       "      <td>x</td>\n",
       "      <td>o</td>\n",
       "      <td>o</td>\n",
       "      <td>2.0</td>\n",
       "      <td>3.0</td>\n",
       "      <td>2.0</td>\n",
       "      <td>3.0</td>\n",
       "      <td>2.0</td>\n",
       "      <td>NaN</td>\n",
       "      <td>Reviews/Victoria-Inn-Hotel-&amp;-Convention-Centre...</td>\n",
       "      <td>Dec 10, 2015</td>\n",
       "      <td></td>\n",
       "      <td>NaN</td>\n",
       "    </tr>\n",
       "  </tbody>\n",
       "</table>\n",
       "<p>7630183 rows × 19 columns</p>\n",
       "</div>"
      ],
      "text/plain": [
       "         rating                                              title  \\\n",
       "0           5.0                                               Good   \n",
       "1           4.0                                               Good   \n",
       "2           4.0  Supervising the manufacturing the processes, e...   \n",
       "3           1.0                                           terrible   \n",
       "4           4.0                  It could be so good, but it isn’t   \n",
       "...         ...                                                ...   \n",
       "9901884     4.0  I enjoyed working here.   The only thing I did...   \n",
       "9901885     2.0                                Guest Service Agent   \n",
       "9901886     5.0                            Great Company and Staff   \n",
       "9901887     2.0                            Working at Victoria inn   \n",
       "9901888     2.0                                     banquet server   \n",
       "\n",
       "                                       status  \\\n",
       "0        Current Employee, more than 10 years   \n",
       "1           Former Employee, less than 1 year   \n",
       "2          Current Employee, more than 1 year   \n",
       "3          Current Employee, more than 1 year   \n",
       "4         Current Employee, more than 3 years   \n",
       "...                                       ...   \n",
       "9901884     Former Employee, less than 1 year   \n",
       "9901885                       Former Employee   \n",
       "9901886    Former Employee, more than 3 years   \n",
       "9901887     Former Employee, more than 1 year   \n",
       "9901888                      Current Employee   \n",
       "\n",
       "                                                      pros  \\\n",
       "0                      Knowledge gain of complete  project   \n",
       "1                  Good work,good work , flexible, support   \n",
       "2        This company is a best opportunity for me to l...   \n",
       "3                           I wish there were some to list   \n",
       "4        Fast Paced. Endless challenges. Inclusive envi...   \n",
       "...                                                    ...   \n",
       "9901884  The pros were that the staff were awesome.   V...   \n",
       "9901885  No Pros comment at all . Horrible manager ,Hor...   \n",
       "9901886  Great managers who really care about their emp...   \n",
       "9901887  Flexible schedule and free food, you can choos...   \n",
       "9901888  flexible hours  and know the setting of banque...   \n",
       "\n",
       "                                                      cons advice Recommend  \\\n",
       "0                    Financial growth  and personal growth    NaN         v   \n",
       "1         Good,work, flexible,good support, good team work    NaN         v   \n",
       "2        Monthly Target work,Maintain production schedu...    NaN         v   \n",
       "3                                    too many to list here    NaN         x   \n",
       "4        The biggest perk of the job provides no value ...    NaN         o   \n",
       "...                                                    ...    ...       ...   \n",
       "9901884  Some challenges were the policies and procedur...    NaN         v   \n",
       "9901885  The working environment is gossip. Girls like ...    NaN         x   \n",
       "9901886           Pay wasn't that great during slow season    NaN         v   \n",
       "9901887  Seasonal unstable job/hours and the management...    NaN         x   \n",
       "9901888                 not enough hour, lack of  training    NaN         x   \n",
       "\n",
       "        CEO Approval Business Outlook  Career Opportunities  \\\n",
       "0                  o                v                   3.0   \n",
       "1                  o                o                   4.0   \n",
       "2                  o                v                   2.0   \n",
       "3                  x                x                   1.0   \n",
       "4                  o                o                   3.0   \n",
       "...              ...              ...                   ...   \n",
       "9901884            r                r                   4.0   \n",
       "9901885            o                x                   2.0   \n",
       "9901886            o                v                   3.0   \n",
       "9901887            o                x                   1.0   \n",
       "9901888            o                o                   2.0   \n",
       "\n",
       "         Compensation and Benefits  Senior Management  Work/Life Balance  \\\n",
       "0                              3.0                3.0                3.0   \n",
       "1                              4.0                4.0                4.0   \n",
       "2                              3.0                2.0                2.0   \n",
       "3                              3.0                1.0                3.0   \n",
       "4                              3.0                3.0                1.0   \n",
       "...                            ...                ...                ...   \n",
       "9901884                        4.0                2.0                3.0   \n",
       "9901885                        2.0                2.0                2.0   \n",
       "9901886                        2.0                5.0                4.0   \n",
       "9901887                        3.0                2.0                3.0   \n",
       "9901888                        3.0                2.0                3.0   \n",
       "\n",
       "         Culture & Values  Diversity & Inclusion  \\\n",
       "0                     3.0                    3.0   \n",
       "1                     4.0                    4.0   \n",
       "2                     2.0                    2.0   \n",
       "3                     1.0                    NaN   \n",
       "4                     4.0                    5.0   \n",
       "...                   ...                    ...   \n",
       "9901884               3.0                    NaN   \n",
       "9901885               1.0                    NaN   \n",
       "9901886               4.0                    NaN   \n",
       "9901887               1.0                    NaN   \n",
       "9901888               2.0                    NaN   \n",
       "\n",
       "                                                 firm_link           date  \\\n",
       "0        Reviews/Baja-Steel-and-Fence-Reviews-E5462645.htm  Nov 19, 2022    \n",
       "1        Reviews/Baja-Steel-and-Fence-Reviews-E5462645.htm  Jan 29, 2022    \n",
       "2        Reviews/Baja-Steel-and-Fence-Reviews-E5462645.htm  Aug 12, 2021    \n",
       "3        https://www.glassdoor.com/Reviews/Calgary-Flam...  Sep 24, 2020    \n",
       "4        https://www.glassdoor.com/Reviews/Calgary-Flam...  Mar 25, 2023    \n",
       "...                                                    ...            ...   \n",
       "9901884  Reviews/Victoria-Inn-Hotel-&-Convention-Centre...   Apr 9, 2016    \n",
       "9901885  Reviews/Victoria-Inn-Hotel-&-Convention-Centre...  Jul 13, 2016    \n",
       "9901886  Reviews/Victoria-Inn-Hotel-&-Convention-Centre...  Dec 17, 2014    \n",
       "9901887  Reviews/Victoria-Inn-Hotel-&-Convention-Centre...  Aug 13, 2019    \n",
       "9901888  Reviews/Victoria-Inn-Hotel-&-Convention-Centre...  Dec 10, 2015    \n",
       "\n",
       "                               job  index  \n",
       "0                   Manager Design    NaN  \n",
       "1               Anonymous Employee    NaN  \n",
       "2              Production Engineer    NaN  \n",
       "3         Senior Account Executive    NaN  \n",
       "4                Assistant Manager    NaN  \n",
       "...                            ...    ...  \n",
       "9901884                     Server    NaN  \n",
       "9901885         Anonymous Employee    NaN  \n",
       "9901886             Banquet Server    NaN  \n",
       "9901887           Server/Bartender    NaN  \n",
       "9901888                               NaN  \n",
       "\n",
       "[7630183 rows x 19 columns]"
      ]
     },
     "metadata": {},
     "output_type": "display_data"
    }
   ],
   "source": [
    "\n",
    "# Function to clean columns with ratings\n",
    "def clean_columns(df, columns):\n",
    "    for col in columns:\n",
    "        # Convert all valid ratings to float and remove invalid ones\n",
    "        df[col] = pd.to_numeric(df[col], errors='coerce')\n",
    "\n",
    "        # Drop rows where the column has NaN values after coercion\n",
    "        df = df.dropna(subset=[col])\n",
    "\n",
    "        # Ensure consistency by converting all values to float\n",
    "        df[col] = df[col].astype(float)\n",
    "    \n",
    "    return df\n",
    "\n",
    "# Read the data from CSV (this should be done outside the function)\n",
    "reviews = pd.read_csv(\"../data/raw/all_reviews.csv\", low_memory=False)\n",
    "\n",
    "# List of columns to clean\n",
    "columns_to_clean = ['Work/Life Balance', 'Compensation and Benefits', 'Senior Management', 'Career Opportunities']\n",
    "\n",
    "# Clean the selected columns by passing the dataframe and columns list\n",
    "clean_reviews = clean_columns(reviews, columns_to_clean)\n",
    "\n",
    "# Display the cleaned DataFrame\n",
    "display(clean_reviews)\n"
   ]
  },
  {
   "cell_type": "code",
   "execution_count": 69,
   "id": "b54b18fe-bf10-4619-8255-ea6863a55ad8",
   "metadata": {},
   "outputs": [],
   "source": [
    "clean_reviews[\"year\"] = clean_reviews[\"date\"].str.split().str[2]"
   ]
  },
  {
   "cell_type": "code",
   "execution_count": 73,
   "id": "ca29b600-817f-4a09-9573-4dd25136de28",
   "metadata": {},
   "outputs": [
    {
     "data": {
      "text/plain": [
       "year\n",
       "2021    1399332\n",
       "2022    1315724\n",
       "2020     727445\n",
       "2017     648847\n",
       "2016     633220\n",
       "2019     595745\n",
       "2018     577366\n",
       "2015     571083\n",
       "2014     359857\n",
       "2023     359718\n",
       "2013     222749\n",
       "2012     141240\n",
       "2011      32910\n",
       "2010      24274\n",
       "2009      11716\n",
       "2008       8957\n",
       "Name: count, dtype: int64"
      ]
     },
     "execution_count": 73,
     "metadata": {},
     "output_type": "execute_result"
    }
   ],
   "source": [
    "clean_reviews[\"year\"].value_counts()"
   ]
  },
  {
   "cell_type": "code",
   "execution_count": 77,
   "id": "99d98946-03b4-42d8-a5d5-52c8218c8341",
   "metadata": {},
   "outputs": [],
   "source": [
    "clean_reviews.drop(columns = [\"advice\", \"index\", \"date\", \"Business Outlook\"], inplace = True)"
   ]
  },
  {
   "cell_type": "code",
   "execution_count": 79,
   "id": "c1f87cb1-4ff7-4d16-86ce-988250e07428",
   "metadata": {},
   "outputs": [
    {
     "data": {
      "text/plain": [
       "(7630183, 16)"
      ]
     },
     "execution_count": 79,
     "metadata": {},
     "output_type": "execute_result"
    }
   ],
   "source": [
    "clean_reviews.shape"
   ]
  },
  {
   "cell_type": "code",
   "execution_count": 81,
   "id": "29794ae3-e123-44d0-a129-d17edd59da08",
   "metadata": {},
   "outputs": [
    {
     "data": {
      "text/plain": [
       "rating                             0\n",
       "title                          22334\n",
       "status                             0\n",
       "pros                              16\n",
       "cons                              44\n",
       "Recommend                          0\n",
       "CEO Approval                       0\n",
       "Career Opportunities               0\n",
       "Compensation and Benefits          0\n",
       "Senior Management                  0\n",
       "Work/Life Balance                  0\n",
       "Culture & Values              119633\n",
       "Diversity & Inclusion        4327036\n",
       "firm_link                          0\n",
       "job                                0\n",
       "year                               0\n",
       "dtype: int64"
      ]
     },
     "execution_count": 81,
     "metadata": {},
     "output_type": "execute_result"
    }
   ],
   "source": [
    "clean_reviews.isna().sum()"
   ]
  },
  {
   "cell_type": "code",
   "execution_count": 83,
   "id": "963f7d94-5fca-481b-9916-76226432af20",
   "metadata": {},
   "outputs": [
    {
     "data": {
      "text/plain": [
       "Diversity & Inclusion\n",
       "5.0    1369391\n",
       "4.0     846871\n",
       "3.0     566861\n",
       "1.0     283727\n",
       "2.0     236297\n",
       "Name: count, dtype: int64"
      ]
     },
     "execution_count": 83,
     "metadata": {},
     "output_type": "execute_result"
    }
   ],
   "source": [
    "clean_reviews[\"Diversity & Inclusion\"].value_counts()"
   ]
  },
  {
   "cell_type": "code",
   "execution_count": 85,
   "id": "c01e1d0f-96a0-4d88-91c9-99246c2f9e84",
   "metadata": {},
   "outputs": [
    {
     "data": {
      "text/plain": [
       "3         NaN\n",
       "29        NaN\n",
       "31        NaN\n",
       "32        NaN\n",
       "33        NaN\n",
       "           ..\n",
       "9901884   NaN\n",
       "9901885   NaN\n",
       "9901886   NaN\n",
       "9901887   NaN\n",
       "9901888   NaN\n",
       "Name: Diversity & Inclusion, Length: 4327036, dtype: float64"
      ]
     },
     "execution_count": 85,
     "metadata": {},
     "output_type": "execute_result"
    }
   ],
   "source": [
    "clean_reviews['Diversity & Inclusion'][~clean_reviews['Diversity & Inclusion'].apply(pd.to_numeric, errors='coerce').notnull()]"
   ]
  },
  {
   "cell_type": "code",
   "execution_count": 87,
   "id": "471d27eb-2b4f-4776-99c3-fc3f12b90265",
   "metadata": {},
   "outputs": [],
   "source": [
    "clean_reviews.drop(columns = \"title\", inplace = True)"
   ]
  },
  {
   "cell_type": "code",
   "execution_count": 89,
   "id": "f2c1b2e5-8b76-42cc-bf7c-6a992052b067",
   "metadata": {},
   "outputs": [],
   "source": [
    "clean_reviews = clean_reviews.dropna(subset=['pros', 'cons', \"Culture & Values\"])"
   ]
  },
  {
   "cell_type": "code",
   "execution_count": 91,
   "id": "5253ea00-f555-454e-adb9-b4baf951aaa0",
   "metadata": {},
   "outputs": [
    {
     "data": {
      "text/plain": [
       "rating                             0\n",
       "status                             0\n",
       "pros                               0\n",
       "cons                               0\n",
       "Recommend                          0\n",
       "CEO Approval                       0\n",
       "Career Opportunities               0\n",
       "Compensation and Benefits          0\n",
       "Senior Management                  0\n",
       "Work/Life Balance                  0\n",
       "Culture & Values                   0\n",
       "Diversity & Inclusion        4215811\n",
       "firm_link                          0\n",
       "job                                0\n",
       "year                               0\n",
       "dtype: int64"
      ]
     },
     "execution_count": 91,
     "metadata": {},
     "output_type": "execute_result"
    }
   ],
   "source": [
    "clean_reviews.isna().sum()"
   ]
  },
  {
   "cell_type": "code",
   "execution_count": 93,
   "id": "63633a4b-e1db-4714-8dd8-36ff9106f3f0",
   "metadata": {},
   "outputs": [
    {
     "data": {
      "text/plain": [
       "(7510490, 15)"
      ]
     },
     "execution_count": 93,
     "metadata": {},
     "output_type": "execute_result"
    }
   ],
   "source": [
    "clean_reviews.shape"
   ]
  },
  {
   "cell_type": "code",
   "execution_count": 95,
   "id": "fe97e6fd-daf6-4770-937e-f96caf38a0a8",
   "metadata": {
    "scrolled": true
   },
   "outputs": [
    {
     "name": "stdout",
     "output_type": "stream",
     "text": [
      "Missing Percentage: 42.58%\n"
     ]
    }
   ],
   "source": [
    "missing_percentage = clean_reviews['Diversity & Inclusion'].isna().sum() / len(df) * 100\n",
    "print(f\"Missing Percentage: {missing_percentage:.2f}%\")"
   ]
  },
  {
   "cell_type": "code",
   "execution_count": 101,
   "id": "e3014802-9c08-4311-8a93-523c2fbb2bd9",
   "metadata": {},
   "outputs": [
    {
     "name": "stderr",
     "output_type": "stream",
     "text": [
      "/var/folders/7h/j883bpy50yx9ffn06wrdxzy00000gn/T/ipykernel_7302/1289633316.py:1: SettingWithCopyWarning: \n",
      "A value is trying to be set on a copy of a slice from a DataFrame.\n",
      "Try using .loc[row_indexer,col_indexer] = value instead\n",
      "\n",
      "See the caveats in the documentation: https://pandas.pydata.org/pandas-docs/stable/user_guide/indexing.html#returning-a-view-versus-a-copy\n",
      "  clean_reviews['Diversity & Inclusion'] = clean_reviews['Diversity & Inclusion'].fillna(\"0.0\")\n"
     ]
    }
   ],
   "source": [
    "clean_reviews['Diversity & Inclusion'] = clean_reviews['Diversity & Inclusion'].fillna(\"0.0\")"
   ]
  },
  {
   "cell_type": "code",
   "execution_count": 111,
   "id": "a5357120-a18d-465d-b2ea-d0fb272850ba",
   "metadata": {},
   "outputs": [
    {
     "name": "stderr",
     "output_type": "stream",
     "text": [
      "/var/folders/7h/j883bpy50yx9ffn06wrdxzy00000gn/T/ipykernel_7302/3110252707.py:2: FutureWarning: Downcasting behavior in `replace` is deprecated and will be removed in a future version. To retain the old behavior, explicitly call `result.infer_objects(copy=False)`. To opt-in to the future behavior, set `pd.set_option('future.no_silent_downcasting', True)`\n",
      "  clean_reviews['Diversity & Inclusion'] = clean_reviews['Diversity & Inclusion'].replace(\"No response\", np.nan)\n",
      "/var/folders/7h/j883bpy50yx9ffn06wrdxzy00000gn/T/ipykernel_7302/3110252707.py:2: SettingWithCopyWarning: \n",
      "A value is trying to be set on a copy of a slice from a DataFrame.\n",
      "Try using .loc[row_indexer,col_indexer] = value instead\n",
      "\n",
      "See the caveats in the documentation: https://pandas.pydata.org/pandas-docs/stable/user_guide/indexing.html#returning-a-view-versus-a-copy\n",
      "  clean_reviews['Diversity & Inclusion'] = clean_reviews['Diversity & Inclusion'].replace(\"No response\", np.nan)\n",
      "/var/folders/7h/j883bpy50yx9ffn06wrdxzy00000gn/T/ipykernel_7302/3110252707.py:5: SettingWithCopyWarning: \n",
      "A value is trying to be set on a copy of a slice from a DataFrame.\n",
      "Try using .loc[row_indexer,col_indexer] = value instead\n",
      "\n",
      "See the caveats in the documentation: https://pandas.pydata.org/pandas-docs/stable/user_guide/indexing.html#returning-a-view-versus-a-copy\n",
      "  clean_reviews['Diversity & Inclusion'] = clean_reviews['Diversity & Inclusion'].fillna(0.0)\n",
      "/var/folders/7h/j883bpy50yx9ffn06wrdxzy00000gn/T/ipykernel_7302/3110252707.py:8: SettingWithCopyWarning: \n",
      "A value is trying to be set on a copy of a slice from a DataFrame.\n",
      "Try using .loc[row_indexer,col_indexer] = value instead\n",
      "\n",
      "See the caveats in the documentation: https://pandas.pydata.org/pandas-docs/stable/user_guide/indexing.html#returning-a-view-versus-a-copy\n",
      "  clean_reviews['Diversity & Inclusion'] = clean_reviews['Diversity & Inclusion'].astype(float)\n"
     ]
    }
   ],
   "source": [
    "# Replace \"No response\" with NaN first\n",
    "clean_reviews['Diversity & Inclusion'] = clean_reviews['Diversity & Inclusion'].replace(\"No response\", np.nan)\n",
    "\n",
    "# Replace NaN with 0.0\n",
    "clean_reviews['Diversity & Inclusion'] = clean_reviews['Diversity & Inclusion'].fillna(0.0)\n",
    "\n",
    "# Ensure the column is numeric\n",
    "clean_reviews['Diversity & Inclusion'] = clean_reviews['Diversity & Inclusion'].astype(float)"
   ]
  },
  {
   "cell_type": "code",
   "execution_count": 113,
   "id": "7a0fdee1-b938-4f0d-8e8d-9a1001462001",
   "metadata": {},
   "outputs": [
    {
     "data": {
      "text/plain": [
       "rating                       0\n",
       "status                       0\n",
       "pros                         0\n",
       "cons                         0\n",
       "Recommend                    0\n",
       "CEO Approval                 0\n",
       "Career Opportunities         0\n",
       "Compensation and Benefits    0\n",
       "Senior Management            0\n",
       "Work/Life Balance            0\n",
       "Culture & Values             0\n",
       "Diversity & Inclusion        0\n",
       "firm_link                    0\n",
       "job                          0\n",
       "year                         0\n",
       "dtype: int64"
      ]
     },
     "execution_count": 113,
     "metadata": {},
     "output_type": "execute_result"
    }
   ],
   "source": [
    "clean_reviews.isna().sum()"
   ]
  },
  {
   "cell_type": "code",
   "execution_count": 115,
   "id": "a82af2ce-1cdc-4f23-a1cb-b7dfc49fa331",
   "metadata": {},
   "outputs": [
    {
     "data": {
      "text/plain": [
       "(7510490, 15)"
      ]
     },
     "execution_count": 115,
     "metadata": {},
     "output_type": "execute_result"
    }
   ],
   "source": [
    "clean_reviews.shape"
   ]
  },
  {
   "cell_type": "code",
   "execution_count": 119,
   "id": "fd08e558-c59e-4817-8723-d94a591dbb4f",
   "metadata": {},
   "outputs": [
    {
     "name": "stderr",
     "output_type": "stream",
     "text": [
      "/var/folders/7h/j883bpy50yx9ffn06wrdxzy00000gn/T/ipykernel_7302/4289779218.py:1: SettingWithCopyWarning: \n",
      "A value is trying to be set on a copy of a slice from a DataFrame.\n",
      "Try using .loc[row_indexer,col_indexer] = value instead\n",
      "\n",
      "See the caveats in the documentation: https://pandas.pydata.org/pandas-docs/stable/user_guide/indexing.html#returning-a-view-versus-a-copy\n",
      "  clean_reviews['year'] = clean_reviews['year'].astype(int)\n"
     ]
    }
   ],
   "source": [
    "clean_reviews['year'] = clean_reviews['year'].astype(int)\n",
    "clean_reviews = clean_reviews[clean_reviews['year'] > 2014]"
   ]
  },
  {
   "cell_type": "code",
   "execution_count": 121,
   "id": "2dc53a36-95a6-4970-8c95-b3ef10a5eb3a",
   "metadata": {},
   "outputs": [
    {
     "data": {
      "text/plain": [
       "(6807037, 15)"
      ]
     },
     "execution_count": 121,
     "metadata": {},
     "output_type": "execute_result"
    }
   ],
   "source": [
    "clean_reviews.shape"
   ]
  },
  {
   "cell_type": "code",
   "execution_count": 125,
   "id": "2c4ffc03-e655-4f9c-af7c-67556a4043f6",
   "metadata": {},
   "outputs": [
    {
     "data": {
      "text/plain": [
       "array(['Current Employee, more than 10 years',\n",
       "       'Former Employee, less than 1 year',\n",
       "       'Current Employee, more than 1 year',\n",
       "       'Current Employee, more than 3 years',\n",
       "       'Former Employee, more than 5 years',\n",
       "       'Former Employee, more than 1 year', 'Current Employee',\n",
       "       'Former Employee, more than 8 years',\n",
       "       'Former Employee, more than 3 years',\n",
       "       'Current Employee, more than 5 years', 'Former Employee',\n",
       "       'Current Employee, less than 1 year', 'Former Contractor',\n",
       "       'Former Employee, more than 10 years',\n",
       "       'Current Employee, more than 8 years', 'Former Temporary Employee',\n",
       "       'Current Contractor', 'Former Intern, less than 1 year',\n",
       "       'Current Contractor, more than 1 year',\n",
       "       'Current Contractor, more than 5 years',\n",
       "       'Current Freelancer, less than 1 year', 'Former Intern',\n",
       "       'Current Intern, less than 1 year',\n",
       "       'Former Contractor, more than 10 years',\n",
       "       'Former Freelancer, less than 1 year', 'Current Intern',\n",
       "       'Current Contractor, less than 1 year',\n",
       "       'Former Intern, more than 3 years', 'Currently Self-employed',\n",
       "       'Former Freelancer', 'Former Contractor, less than 1 year',\n",
       "       'Current Intern, more than 1 year',\n",
       "       'Current Contractor, more than 10 years',\n",
       "       'Former Intern, more than 1 year',\n",
       "       'Former Freelancer, more than 3 years',\n",
       "       'Former Contractor, more than 1 year',\n",
       "       'Current Temporary Employee',\n",
       "       'Current Freelancer, more than 8 years',\n",
       "       'Current Contractor, more than 3 years',\n",
       "       'Former Contractor, more than 3 years',\n",
       "       'Current Temporary Employee, more than 3 years',\n",
       "       'Current Freelancer',\n",
       "       'KEY NOT FOUND: jobLine.seasonal-former, less than 1 year',\n",
       "       'KEY NOT FOUND: jobLine.reserve-former, less than 1 year',\n",
       "       'Current Freelancer, more than 3 years',\n",
       "       'Former Temporary Employee, less than 1 year',\n",
       "       'Former Freelancer, more than 1 year',\n",
       "       'Current Freelancer, more than 1 year',\n",
       "       'Current Contractor, more than 8 years',\n",
       "       'Current Intern, more than 3 years',\n",
       "       'Former Contractor, more than 5 years',\n",
       "       'Former Temporary Employee, more than 1 year',\n",
       "       'Former Freelancer, more than 10 years',\n",
       "       'Former Contractor, more than 8 years',\n",
       "       'KEY NOT FOUND: jobLine.reserve-current',\n",
       "       'Current Temporary Employee, more than 1 year',\n",
       "       'Current Freelancer, more than 5 years',\n",
       "       'Current Temporary Employee, less than 1 year',\n",
       "       'Former Temporary Employee, more than 5 years',\n",
       "       'Former Freelancer, more than 8 years',\n",
       "       'KEY NOT FOUND: jobLine.seasonal-current, more than 10 years',\n",
       "       'KEY NOT FOUND: jobLine.per_diem-current',\n",
       "       'Former Freelancer, more than 5 years',\n",
       "       'KEY NOT FOUND: jobLine.seasonal-former', 'Formerly Self-employed',\n",
       "       'KEY NOT FOUND: jobLine.reserve-former, more than 8 years',\n",
       "       'Former Intern, more than 5 years',\n",
       "       'Current Freelancer, more than 10 years',\n",
       "       'Former Intern, more than 10 years',\n",
       "       'Formerly Self-employed, less than 1 year',\n",
       "       'KEY NOT FOUND: jobLine.seasonal-current',\n",
       "       'KEY NOT FOUND: jobLine.seasonal-current, more than 3 years',\n",
       "       'Current Intern, more than 5 years',\n",
       "       'Former Temporary Employee, more than 10 years',\n",
       "       'KEY NOT FOUND: jobLine.per_diem-former',\n",
       "       'Current Intern, more than 8 years',\n",
       "       'KEY NOT FOUND: jobLine.reserve-former', 'Former Apprentice',\n",
       "       'KEY NOT FOUND: jobLine.seasonal-former, more than 1 year',\n",
       "       'Former Temporary Employee, more than 3 years',\n",
       "       'KEY NOT FOUND: jobLine.seasonal-current, less than 1 year',\n",
       "       'Current Apprentice',\n",
       "       'KEY NOT FOUND: jobLine.seasonal-current, more than 1 year',\n",
       "       'Formerly Self-employed, more than 3 years', 'Current PhD',\n",
       "       'Current Temporary Employee, more than 5 years',\n",
       "       'KEY NOT FOUND: jobLine.seasonal-current, more than 5 years'],\n",
       "      dtype=object)"
      ]
     },
     "execution_count": 125,
     "metadata": {},
     "output_type": "execute_result"
    }
   ],
   "source": [
    "clean_reviews['status'].unique()"
   ]
  },
  {
   "cell_type": "code",
   "execution_count": 127,
   "id": "b86e6de9-33af-4b26-be31-360bd2a68bc5",
   "metadata": {},
   "outputs": [],
   "source": [
    "# Filter out rows where 'status' contains \"KEY NOT FOUND:\"\n",
    "clean_reviews = clean_reviews[~clean_reviews['status'].str.contains(\"KEY NOT FOUND:\", na=False)] #~ negates the filter condition, meaning it keeps rows that do not contain \"KEY NOT FOUND:\"."
   ]
  },
  {
   "cell_type": "code",
   "execution_count": 139,
   "id": "8ed5af79-59f2-4838-86d7-3e1c0e96c962",
   "metadata": {},
   "outputs": [
    {
     "data": {
      "text/plain": [
       "status\n",
       "Current Employee                                 1235196\n",
       "Former Employee                                   856555\n",
       "Current Employee, more than 1 year                779499\n",
       "Former Employee, more than 1 year                 652860\n",
       "Current Employee, more than 3 years               588681\n",
       "                                                  ...   \n",
       "Formerly Self-employed, less than 1 year               1\n",
       "Former Temporary Employee, more than 10 years          1\n",
       "Former Temporary Employee, more than 3 years           1\n",
       "Current PhD                                            1\n",
       "Current Temporary Employee, more than 5 years          1\n",
       "Name: count, Length: 72, dtype: int64"
      ]
     },
     "execution_count": 139,
     "metadata": {},
     "output_type": "execute_result"
    }
   ],
   "source": [
    "clean_reviews['status'].value_counts()"
   ]
  },
  {
   "cell_type": "code",
   "execution_count": 131,
   "id": "c0ae7879-011e-4b33-86d8-8d7ff0ade54b",
   "metadata": {},
   "outputs": [
    {
     "name": "stdout",
     "output_type": "stream",
     "text": [
      "Unique statuses after cleaning: 72\n"
     ]
    }
   ],
   "source": [
    "unique_status = clean_reviews['status'].unique()\n",
    "print(f\"Unique statuses after cleaning: {len(unique_status)}\")"
   ]
  },
  {
   "cell_type": "code",
   "execution_count": 133,
   "id": "afcfc92c-6cd7-45d4-bb59-ae3fbde5dad5",
   "metadata": {},
   "outputs": [
    {
     "name": "stdout",
     "output_type": "stream",
     "text": [
      "status\n",
      "Current Employee    3941591\n",
      "Former Employee     2865388\n",
      "Name: count, dtype: int64\n"
     ]
    }
   ],
   "source": [
    "# unify the statuses\n",
    "def unify_status(status):\n",
    "    if \"Current\" in status:\n",
    "        return \"Current Employee\"\n",
    "    elif \"Former\" in status:\n",
    "        return \"Former Employee\"\n",
    "    elif \"Self-employed\" in status:\n",
    "        return \"Self-employed\"\n",
    "    elif \"Apprentice\" in status or \"PhD\" in status:\n",
    "        return \"Other\"\n",
    "    else:\n",
    "        return \"Unknown\"\n",
    "\n",
    "# Apply the function to the column\n",
    "clean_reviews['status'] = clean_reviews['status'].apply(unify_status)\n",
    "\n",
    "# Validate the result\n",
    "print(clean_reviews['status'].value_counts())"
   ]
  },
  {
   "cell_type": "code",
   "execution_count": 135,
   "id": "6e2609f1-6574-4eb5-8fc6-555152d7bef5",
   "metadata": {},
   "outputs": [],
   "source": [
    "clean_reviews['status'] = reviews['status']"
   ]
  },
  {
   "cell_type": "code",
   "execution_count": 137,
   "id": "87b6d5b1-7352-4c1f-bf7a-9b697597f509",
   "metadata": {},
   "outputs": [
    {
     "data": {
      "text/plain": [
       "array(['Current Employee, more than 10 years',\n",
       "       'Former Employee, less than 1 year',\n",
       "       'Current Employee, more than 1 year',\n",
       "       'Current Employee, more than 3 years',\n",
       "       'Former Employee, more than 5 years',\n",
       "       'Former Employee, more than 1 year', 'Current Employee',\n",
       "       'Former Employee, more than 8 years',\n",
       "       'Former Employee, more than 3 years',\n",
       "       'Current Employee, more than 5 years', 'Former Employee',\n",
       "       'Current Employee, less than 1 year', 'Former Contractor',\n",
       "       'Former Employee, more than 10 years',\n",
       "       'Current Employee, more than 8 years', 'Former Temporary Employee',\n",
       "       'Current Contractor', 'Former Intern, less than 1 year',\n",
       "       'Current Contractor, more than 1 year',\n",
       "       'Current Contractor, more than 5 years',\n",
       "       'Current Freelancer, less than 1 year', 'Former Intern',\n",
       "       'Current Intern, less than 1 year',\n",
       "       'Former Contractor, more than 10 years',\n",
       "       'Former Freelancer, less than 1 year', 'Current Intern',\n",
       "       'Current Contractor, less than 1 year',\n",
       "       'Former Intern, more than 3 years', 'Currently Self-employed',\n",
       "       'Former Freelancer', 'Former Contractor, less than 1 year',\n",
       "       'Current Intern, more than 1 year',\n",
       "       'Current Contractor, more than 10 years',\n",
       "       'Former Intern, more than 1 year',\n",
       "       'Former Freelancer, more than 3 years',\n",
       "       'Former Contractor, more than 1 year',\n",
       "       'Current Temporary Employee',\n",
       "       'Current Freelancer, more than 8 years',\n",
       "       'Current Contractor, more than 3 years',\n",
       "       'Former Contractor, more than 3 years',\n",
       "       'Current Temporary Employee, more than 3 years',\n",
       "       'Current Freelancer', 'Current Freelancer, more than 3 years',\n",
       "       'Former Temporary Employee, less than 1 year',\n",
       "       'Former Freelancer, more than 1 year',\n",
       "       'Current Freelancer, more than 1 year',\n",
       "       'Current Contractor, more than 8 years',\n",
       "       'Current Intern, more than 3 years',\n",
       "       'Former Contractor, more than 5 years',\n",
       "       'Former Temporary Employee, more than 1 year',\n",
       "       'Former Freelancer, more than 10 years',\n",
       "       'Former Contractor, more than 8 years',\n",
       "       'Current Temporary Employee, more than 1 year',\n",
       "       'Current Freelancer, more than 5 years',\n",
       "       'Current Temporary Employee, less than 1 year',\n",
       "       'Former Temporary Employee, more than 5 years',\n",
       "       'Former Freelancer, more than 8 years',\n",
       "       'Former Freelancer, more than 5 years', 'Formerly Self-employed',\n",
       "       'Former Intern, more than 5 years',\n",
       "       'Current Freelancer, more than 10 years',\n",
       "       'Former Intern, more than 10 years',\n",
       "       'Formerly Self-employed, less than 1 year',\n",
       "       'Current Intern, more than 5 years',\n",
       "       'Former Temporary Employee, more than 10 years',\n",
       "       'Current Intern, more than 8 years', 'Former Apprentice',\n",
       "       'Former Temporary Employee, more than 3 years',\n",
       "       'Current Apprentice', 'Formerly Self-employed, more than 3 years',\n",
       "       'Current PhD', 'Current Temporary Employee, more than 5 years'],\n",
       "      dtype=object)"
      ]
     },
     "execution_count": 137,
     "metadata": {},
     "output_type": "execute_result"
    }
   ],
   "source": [
    "clean_reviews['status'].unique()"
   ]
  },
  {
   "cell_type": "code",
   "execution_count": 141,
   "id": "5bad8a97-399c-4c1d-9864-82102224b408",
   "metadata": {},
   "outputs": [
    {
     "name": "stdout",
     "output_type": "stream",
     "text": [
      "status\n",
      "Current Employee         3939597\n",
      "Former Employee          2861663\n",
      "Former Intern               1855\n",
      "Former Contractor           1516\n",
      "Current Contractor          1058\n",
      "Current Intern               644\n",
      "Former Freelancer            322\n",
      "Current Freelancer           257\n",
      "Current Self-employed         32\n",
      "Former Self-employed          29\n",
      "Former Apprentice              3\n",
      "Current Apprentice             2\n",
      "Current PhD                    1\n",
      "Name: count, dtype: int64\n"
     ]
    }
   ],
   "source": [
    "def unify_status(status):\n",
    "    if \"Current\" in status:\n",
    "        if \"Contractor\" in status:\n",
    "            return \"Current Contractor\"\n",
    "        elif \"Freelancer\" in status:\n",
    "            return \"Current Freelancer\"\n",
    "        elif \"Intern\" in status:\n",
    "            return \"Current Intern\"\n",
    "        elif \"Apprentice\" in status:\n",
    "            return \"Current Apprentice\"\n",
    "        elif \"PhD\" in status:\n",
    "            return \"Current PhD\"\n",
    "        elif \"Self-employed\" in status:\n",
    "            return \"Current Self-employed\"\n",
    "        else:\n",
    "            return \"Current Employee\"\n",
    "    elif \"Former\" in status:\n",
    "        if \"Contractor\" in status:\n",
    "            return \"Former Contractor\"\n",
    "        elif \"Freelancer\" in status:\n",
    "            return \"Former Freelancer\"\n",
    "        elif \"Intern\" in status:\n",
    "            return \"Former Intern\"\n",
    "        elif \"Apprentice\" in status:\n",
    "            return \"Former Apprentice\"\n",
    "        elif \"PhD\" in status:\n",
    "            return \"Former PhD\"\n",
    "        elif \"Self-employed\" in status:\n",
    "            return \"Former Self-employed\"\n",
    "        else:\n",
    "            return \"Former Employee\"\n",
    "    else:\n",
    "        return \"Other\"\n",
    "\n",
    "# Apply the function to the 'status' column\n",
    "clean_reviews['status'] = clean_reviews['status'].apply(unify_status)\n",
    "\n",
    "# Validate the result\n",
    "print(clean_reviews['status'].value_counts())"
   ]
  },
  {
   "cell_type": "code",
   "execution_count": 143,
   "id": "8643c211-b2a2-447c-b0e9-b372adb14ae3",
   "metadata": {},
   "outputs": [],
   "source": [
    "# Filter out unwanted status categories\n",
    "clean_reviews = clean_reviews[~clean_reviews['status'].isin(['Former Apprentice', 'Current Apprentice', 'Current PhD'])]"
   ]
  },
  {
   "cell_type": "code",
   "execution_count": 147,
   "id": "81f0165e-3526-46db-b56a-5b9242d8809e",
   "metadata": {},
   "outputs": [
    {
     "data": {
      "text/plain": [
       "pros\n",
       "Great company to work for                                                                                                                                4883\n",
       "Work life balance is good                                                                                                                                3953\n",
       "Great people to work with                                                                                                                                3810\n",
       "Good company to work for                                                                                                                                 3460\n",
       "Good work in ASP.NET technology, good team                                                                                                               2426\n",
       "                                                                                                                                                         ... \n",
       "Serving your country\\r\\nBenefits\\r\\nLeadership development \\r\\nTeam environment                                                                             1\n",
       "health care, travel, retirement benefits, and snazzy outfits                                                                                                1\n",
       "It's the best- can't beat the pay and benefits.  You get to work with some of the best people in the world, form good relationships, Networking, etc.       1\n",
       "Good only for stepping stone                                                                                                                                1\n",
       "flexible hours  and know the setting of banquet function                                                                                                    1\n",
       "Name: count, Length: 5850301, dtype: int64"
      ]
     },
     "execution_count": 147,
     "metadata": {},
     "output_type": "execute_result"
    }
   ],
   "source": [
    "clean_reviews[\"pros\"].value_counts()"
   ]
  },
  {
   "cell_type": "code",
   "execution_count": 159,
   "id": "dcf40e7c-f4e5-4360-b79f-039189039f5e",
   "metadata": {},
   "outputs": [
    {
     "ename": "ValueError",
     "evalue": "Value of 'x' is not the name of a column in 'data_frame'. Expected one of [0, 1] but received: status",
     "output_type": "error",
     "traceback": [
      "\u001b[0;31m---------------------------------------------------------------------------\u001b[0m",
      "\u001b[0;31mValueError\u001b[0m                                Traceback (most recent call last)",
      "Cell \u001b[0;32mIn[159], line 4\u001b[0m\n\u001b[1;32m      1\u001b[0m status_rating_counts \u001b[38;5;241m=\u001b[39m clean_reviews\u001b[38;5;241m.\u001b[39mgroupby([\u001b[38;5;124m'\u001b[39m\u001b[38;5;124mstatus\u001b[39m\u001b[38;5;124m'\u001b[39m, \u001b[38;5;124m'\u001b[39m\u001b[38;5;124mrating\u001b[39m\u001b[38;5;124m'\u001b[39m])\u001b[38;5;241m.\u001b[39msize()\u001b[38;5;241m.\u001b[39mreset_index(name\u001b[38;5;241m=\u001b[39m\u001b[38;5;124m'\u001b[39m\u001b[38;5;124mcount\u001b[39m\u001b[38;5;124m'\u001b[39m)\n\u001b[1;32m      3\u001b[0m \u001b[38;5;66;03m# Create a bar chart using Plotly\u001b[39;00m\n\u001b[0;32m----> 4\u001b[0m fig \u001b[38;5;241m=\u001b[39m px\u001b[38;5;241m.\u001b[39mbar(status_rating_avg, x\u001b[38;5;241m=\u001b[39m\u001b[38;5;124m'\u001b[39m\u001b[38;5;124mstatus\u001b[39m\u001b[38;5;124m'\u001b[39m, y\u001b[38;5;241m=\u001b[39m\u001b[38;5;124m'\u001b[39m\u001b[38;5;124mrating\u001b[39m\u001b[38;5;124m'\u001b[39m, title\u001b[38;5;241m=\u001b[39m\u001b[38;5;124m'\u001b[39m\u001b[38;5;124mAverage Rating by Employment Status\u001b[39m\u001b[38;5;124m'\u001b[39m)\n\u001b[1;32m      6\u001b[0m \u001b[38;5;66;03m# Show the plot\u001b[39;00m\n\u001b[1;32m      7\u001b[0m fig\u001b[38;5;241m.\u001b[39mshow()\n",
      "File \u001b[0;32m/opt/anaconda3/lib/python3.12/site-packages/plotly/express/_chart_types.py:373\u001b[0m, in \u001b[0;36mbar\u001b[0;34m(data_frame, x, y, color, pattern_shape, facet_row, facet_col, facet_col_wrap, facet_row_spacing, facet_col_spacing, hover_name, hover_data, custom_data, text, base, error_x, error_x_minus, error_y, error_y_minus, animation_frame, animation_group, category_orders, labels, color_discrete_sequence, color_discrete_map, color_continuous_scale, pattern_shape_sequence, pattern_shape_map, range_color, color_continuous_midpoint, opacity, orientation, barmode, log_x, log_y, range_x, range_y, text_auto, title, template, width, height)\u001b[0m\n\u001b[1;32m    325\u001b[0m \u001b[38;5;28;01mdef\u001b[39;00m \u001b[38;5;21mbar\u001b[39m(\n\u001b[1;32m    326\u001b[0m     data_frame\u001b[38;5;241m=\u001b[39m\u001b[38;5;28;01mNone\u001b[39;00m,\n\u001b[1;32m    327\u001b[0m     x\u001b[38;5;241m=\u001b[39m\u001b[38;5;28;01mNone\u001b[39;00m,\n\u001b[0;32m   (...)\u001b[0m\n\u001b[1;32m    367\u001b[0m     height\u001b[38;5;241m=\u001b[39m\u001b[38;5;28;01mNone\u001b[39;00m,\n\u001b[1;32m    368\u001b[0m ) \u001b[38;5;241m-\u001b[39m\u001b[38;5;241m>\u001b[39m go\u001b[38;5;241m.\u001b[39mFigure:\n\u001b[1;32m    369\u001b[0m \u001b[38;5;250m    \u001b[39m\u001b[38;5;124;03m\"\"\"\u001b[39;00m\n\u001b[1;32m    370\u001b[0m \u001b[38;5;124;03m    In a bar plot, each row of `data_frame` is represented as a rectangular\u001b[39;00m\n\u001b[1;32m    371\u001b[0m \u001b[38;5;124;03m    mark.\u001b[39;00m\n\u001b[1;32m    372\u001b[0m \u001b[38;5;124;03m    \"\"\"\u001b[39;00m\n\u001b[0;32m--> 373\u001b[0m     \u001b[38;5;28;01mreturn\u001b[39;00m make_figure(\n\u001b[1;32m    374\u001b[0m         args\u001b[38;5;241m=\u001b[39m\u001b[38;5;28mlocals\u001b[39m(),\n\u001b[1;32m    375\u001b[0m         constructor\u001b[38;5;241m=\u001b[39mgo\u001b[38;5;241m.\u001b[39mBar,\n\u001b[1;32m    376\u001b[0m         trace_patch\u001b[38;5;241m=\u001b[39m\u001b[38;5;28mdict\u001b[39m(textposition\u001b[38;5;241m=\u001b[39m\u001b[38;5;124m\"\u001b[39m\u001b[38;5;124mauto\u001b[39m\u001b[38;5;124m\"\u001b[39m),\n\u001b[1;32m    377\u001b[0m         layout_patch\u001b[38;5;241m=\u001b[39m\u001b[38;5;28mdict\u001b[39m(barmode\u001b[38;5;241m=\u001b[39mbarmode),\n\u001b[1;32m    378\u001b[0m     )\n",
      "File \u001b[0;32m/opt/anaconda3/lib/python3.12/site-packages/plotly/express/_core.py:2090\u001b[0m, in \u001b[0;36mmake_figure\u001b[0;34m(args, constructor, trace_patch, layout_patch)\u001b[0m\n\u001b[1;32m   2087\u001b[0m layout_patch \u001b[38;5;241m=\u001b[39m layout_patch \u001b[38;5;129;01mor\u001b[39;00m {}\n\u001b[1;32m   2088\u001b[0m apply_default_cascade(args)\n\u001b[0;32m-> 2090\u001b[0m args \u001b[38;5;241m=\u001b[39m build_dataframe(args, constructor)\n\u001b[1;32m   2091\u001b[0m \u001b[38;5;28;01mif\u001b[39;00m constructor \u001b[38;5;129;01min\u001b[39;00m [go\u001b[38;5;241m.\u001b[39mTreemap, go\u001b[38;5;241m.\u001b[39mSunburst, go\u001b[38;5;241m.\u001b[39mIcicle] \u001b[38;5;129;01mand\u001b[39;00m args[\u001b[38;5;124m\"\u001b[39m\u001b[38;5;124mpath\u001b[39m\u001b[38;5;124m\"\u001b[39m] \u001b[38;5;129;01mis\u001b[39;00m \u001b[38;5;129;01mnot\u001b[39;00m \u001b[38;5;28;01mNone\u001b[39;00m:\n\u001b[1;32m   2092\u001b[0m     args \u001b[38;5;241m=\u001b[39m process_dataframe_hierarchy(args)\n",
      "File \u001b[0;32m/opt/anaconda3/lib/python3.12/site-packages/plotly/express/_core.py:1492\u001b[0m, in \u001b[0;36mbuild_dataframe\u001b[0;34m(args, constructor)\u001b[0m\n\u001b[1;32m   1489\u001b[0m     args[\u001b[38;5;124m\"\u001b[39m\u001b[38;5;124mcolor\u001b[39m\u001b[38;5;124m\"\u001b[39m] \u001b[38;5;241m=\u001b[39m \u001b[38;5;28;01mNone\u001b[39;00m\n\u001b[1;32m   1490\u001b[0m \u001b[38;5;66;03m# now that things have been prepped, we do the systematic rewriting of `args`\u001b[39;00m\n\u001b[0;32m-> 1492\u001b[0m df_output, wide_id_vars \u001b[38;5;241m=\u001b[39m process_args_into_dataframe(\n\u001b[1;32m   1493\u001b[0m     args, wide_mode, var_name, value_name\n\u001b[1;32m   1494\u001b[0m )\n\u001b[1;32m   1496\u001b[0m \u001b[38;5;66;03m# now that `df_output` exists and `args` contains only references, we complete\u001b[39;00m\n\u001b[1;32m   1497\u001b[0m \u001b[38;5;66;03m# the special-case and wide-mode handling by further rewriting args and/or mutating\u001b[39;00m\n\u001b[1;32m   1498\u001b[0m \u001b[38;5;66;03m# df_output\u001b[39;00m\n\u001b[1;32m   1500\u001b[0m count_name \u001b[38;5;241m=\u001b[39m _escape_col_name(df_output, \u001b[38;5;124m\"\u001b[39m\u001b[38;5;124mcount\u001b[39m\u001b[38;5;124m\"\u001b[39m, [var_name, value_name])\n",
      "File \u001b[0;32m/opt/anaconda3/lib/python3.12/site-packages/plotly/express/_core.py:1213\u001b[0m, in \u001b[0;36mprocess_args_into_dataframe\u001b[0;34m(args, wide_mode, var_name, value_name)\u001b[0m\n\u001b[1;32m   1211\u001b[0m         \u001b[38;5;28;01mif\u001b[39;00m argument \u001b[38;5;241m==\u001b[39m \u001b[38;5;124m\"\u001b[39m\u001b[38;5;124mindex\u001b[39m\u001b[38;5;124m\"\u001b[39m:\n\u001b[1;32m   1212\u001b[0m             err_msg \u001b[38;5;241m+\u001b[39m\u001b[38;5;241m=\u001b[39m \u001b[38;5;124m\"\u001b[39m\u001b[38;5;130;01m\\n\u001b[39;00m\u001b[38;5;124m To use the index, pass it in directly as `df.index`.\u001b[39m\u001b[38;5;124m\"\u001b[39m\n\u001b[0;32m-> 1213\u001b[0m         \u001b[38;5;28;01mraise\u001b[39;00m \u001b[38;5;167;01mValueError\u001b[39;00m(err_msg)\n\u001b[1;32m   1214\u001b[0m \u001b[38;5;28;01melif\u001b[39;00m length \u001b[38;5;129;01mand\u001b[39;00m \u001b[38;5;28mlen\u001b[39m(df_input[argument]) \u001b[38;5;241m!=\u001b[39m length:\n\u001b[1;32m   1215\u001b[0m     \u001b[38;5;28;01mraise\u001b[39;00m \u001b[38;5;167;01mValueError\u001b[39;00m(\n\u001b[1;32m   1216\u001b[0m         \u001b[38;5;124m\"\u001b[39m\u001b[38;5;124mAll arguments should have the same length. \u001b[39m\u001b[38;5;124m\"\u001b[39m\n\u001b[1;32m   1217\u001b[0m         \u001b[38;5;124m\"\u001b[39m\u001b[38;5;124mThe length of column argument `df[\u001b[39m\u001b[38;5;132;01m%s\u001b[39;00m\u001b[38;5;124m]` is \u001b[39m\u001b[38;5;132;01m%d\u001b[39;00m\u001b[38;5;124m, whereas the \u001b[39m\u001b[38;5;124m\"\u001b[39m\n\u001b[0;32m   (...)\u001b[0m\n\u001b[1;32m   1224\u001b[0m         )\n\u001b[1;32m   1225\u001b[0m     )\n",
      "\u001b[0;31mValueError\u001b[0m: Value of 'x' is not the name of a column in 'data_frame'. Expected one of [0, 1] but received: status"
     ]
    }
   ],
   "source": [
    "status_rating_counts = clean_reviews.groupby(['status', 'rating']).size().reset_index(name='count')\n",
    "\n",
    "# Create a bar chart using Plotly\n",
    "fig = px.bar(status_rating_avg, x='status', y='rating', title='Average Rating by Employment Status')\n",
    "\n",
    "# Show the plot\n",
    "fig.show()"
   ]
  },
  {
   "cell_type": "code",
   "execution_count": 161,
   "id": "ba0edd48-26fd-4a50-ab01-36375ac52644",
   "metadata": {},
   "outputs": [
    {
     "data": {
      "application/vnd.plotly.v1+json": {
       "config": {
        "plotlyServerURL": "https://plot.ly"
       },
       "data": [
        {
         "alignmentgroup": "True",
         "hovertemplate": "status=Current Contractor<br>Rating (0 to 5)=%{x}<br>Number of Reviews=%{y}<extra></extra>",
         "legendgroup": "Current Contractor",
         "marker": {
          "color": "#636efa",
          "pattern": {
           "shape": ""
          }
         },
         "name": "Current Contractor",
         "offsetgroup": "Current Contractor",
         "orientation": "v",
         "showlegend": true,
         "textposition": "auto",
         "type": "bar",
         "x": [
          1,
          2,
          3,
          4,
          5
         ],
         "xaxis": "x",
         "y": [
          90,
          63,
          154,
          247,
          504
         ],
         "yaxis": "y"
        },
        {
         "alignmentgroup": "True",
         "hovertemplate": "status=Current Employee<br>Rating (0 to 5)=%{x}<br>Number of Reviews=%{y}<extra></extra>",
         "legendgroup": "Current Employee",
         "marker": {
          "color": "#EF553B",
          "pattern": {
           "shape": ""
          }
         },
         "name": "Current Employee",
         "offsetgroup": "Current Employee",
         "orientation": "v",
         "showlegend": true,
         "textposition": "auto",
         "type": "bar",
         "x": [
          1,
          2,
          3,
          4,
          5
         ],
         "xaxis": "x",
         "y": [
          251967,
          306476,
          801196,
          1218134,
          1361824
         ],
         "yaxis": "y"
        },
        {
         "alignmentgroup": "True",
         "hovertemplate": "status=Current Freelancer<br>Rating (0 to 5)=%{x}<br>Number of Reviews=%{y}<extra></extra>",
         "legendgroup": "Current Freelancer",
         "marker": {
          "color": "#00cc96",
          "pattern": {
           "shape": ""
          }
         },
         "name": "Current Freelancer",
         "offsetgroup": "Current Freelancer",
         "orientation": "v",
         "showlegend": true,
         "textposition": "auto",
         "type": "bar",
         "x": [
          1,
          2,
          3,
          4,
          5
         ],
         "xaxis": "x",
         "y": [
          24,
          12,
          31,
          56,
          134
         ],
         "yaxis": "y"
        },
        {
         "alignmentgroup": "True",
         "hovertemplate": "status=Current Intern<br>Rating (0 to 5)=%{x}<br>Number of Reviews=%{y}<extra></extra>",
         "legendgroup": "Current Intern",
         "marker": {
          "color": "#ab63fa",
          "pattern": {
           "shape": ""
          }
         },
         "name": "Current Intern",
         "offsetgroup": "Current Intern",
         "orientation": "v",
         "showlegend": true,
         "textposition": "auto",
         "type": "bar",
         "x": [
          1,
          2,
          3,
          4,
          5
         ],
         "xaxis": "x",
         "y": [
          27,
          20,
          61,
          140,
          396
         ],
         "yaxis": "y"
        },
        {
         "alignmentgroup": "True",
         "hovertemplate": "status=Current Self-employed<br>Rating (0 to 5)=%{x}<br>Number of Reviews=%{y}<extra></extra>",
         "legendgroup": "Current Self-employed",
         "marker": {
          "color": "#FFA15A",
          "pattern": {
           "shape": ""
          }
         },
         "name": "Current Self-employed",
         "offsetgroup": "Current Self-employed",
         "orientation": "v",
         "showlegend": true,
         "textposition": "auto",
         "type": "bar",
         "x": [
          1,
          2,
          3,
          4,
          5
         ],
         "xaxis": "x",
         "y": [
          1,
          2,
          4,
          5,
          20
         ],
         "yaxis": "y"
        },
        {
         "alignmentgroup": "True",
         "hovertemplate": "status=Former Contractor<br>Rating (0 to 5)=%{x}<br>Number of Reviews=%{y}<extra></extra>",
         "legendgroup": "Former Contractor",
         "marker": {
          "color": "#19d3f3",
          "pattern": {
           "shape": ""
          }
         },
         "name": "Former Contractor",
         "offsetgroup": "Former Contractor",
         "orientation": "v",
         "showlegend": true,
         "textposition": "auto",
         "type": "bar",
         "x": [
          1,
          2,
          3,
          4,
          5
         ],
         "xaxis": "x",
         "y": [
          278,
          141,
          236,
          373,
          488
         ],
         "yaxis": "y"
        },
        {
         "alignmentgroup": "True",
         "hovertemplate": "status=Former Employee<br>Rating (0 to 5)=%{x}<br>Number of Reviews=%{y}<extra></extra>",
         "legendgroup": "Former Employee",
         "marker": {
          "color": "#FF6692",
          "pattern": {
           "shape": ""
          }
         },
         "name": "Former Employee",
         "offsetgroup": "Former Employee",
         "orientation": "v",
         "showlegend": true,
         "textposition": "auto",
         "type": "bar",
         "x": [
          1,
          2,
          3,
          4,
          5
         ],
         "xaxis": "x",
         "y": [
          421810,
          391907,
          707544,
          768058,
          572344
         ],
         "yaxis": "y"
        },
        {
         "alignmentgroup": "True",
         "hovertemplate": "status=Former Freelancer<br>Rating (0 to 5)=%{x}<br>Number of Reviews=%{y}<extra></extra>",
         "legendgroup": "Former Freelancer",
         "marker": {
          "color": "#B6E880",
          "pattern": {
           "shape": ""
          }
         },
         "name": "Former Freelancer",
         "offsetgroup": "Former Freelancer",
         "orientation": "v",
         "showlegend": true,
         "textposition": "auto",
         "type": "bar",
         "visible": true,
         "x": [
          1,
          2,
          3,
          4,
          5
         ],
         "xaxis": "x",
         "y": [
          66,
          30,
          52,
          59,
          115
         ],
         "yaxis": "y"
        },
        {
         "alignmentgroup": "True",
         "hovertemplate": "status=Former Intern<br>Rating (0 to 5)=%{x}<br>Number of Reviews=%{y}<extra></extra>",
         "legendgroup": "Former Intern",
         "marker": {
          "color": "#FF97FF",
          "pattern": {
           "shape": ""
          }
         },
         "name": "Former Intern",
         "offsetgroup": "Former Intern",
         "orientation": "v",
         "showlegend": true,
         "textposition": "auto",
         "type": "bar",
         "x": [
          1,
          2,
          3,
          4,
          5
         ],
         "xaxis": "x",
         "y": [
          104,
          106,
          209,
          552,
          884
         ],
         "yaxis": "y"
        },
        {
         "alignmentgroup": "True",
         "hovertemplate": "status=Former Self-employed<br>Rating (0 to 5)=%{x}<br>Number of Reviews=%{y}<extra></extra>",
         "legendgroup": "Former Self-employed",
         "marker": {
          "color": "#FECB52",
          "pattern": {
           "shape": ""
          }
         },
         "name": "Former Self-employed",
         "offsetgroup": "Former Self-employed",
         "orientation": "v",
         "showlegend": true,
         "textposition": "auto",
         "type": "bar",
         "x": [
          1,
          3,
          4,
          5
         ],
         "xaxis": "x",
         "y": [
          3,
          6,
          8,
          12
         ],
         "yaxis": "y"
        }
       ],
       "layout": {
        "autosize": true,
        "barmode": "group",
        "legend": {
         "title": {
          "text": "status"
         },
         "tracegroupgap": 0
        },
        "template": {
         "data": {
          "bar": [
           {
            "error_x": {
             "color": "#2a3f5f"
            },
            "error_y": {
             "color": "#2a3f5f"
            },
            "marker": {
             "line": {
              "color": "#E5ECF6",
              "width": 0.5
             },
             "pattern": {
              "fillmode": "overlay",
              "size": 10,
              "solidity": 0.2
             }
            },
            "type": "bar"
           }
          ],
          "barpolar": [
           {
            "marker": {
             "line": {
              "color": "#E5ECF6",
              "width": 0.5
             },
             "pattern": {
              "fillmode": "overlay",
              "size": 10,
              "solidity": 0.2
             }
            },
            "type": "barpolar"
           }
          ],
          "carpet": [
           {
            "aaxis": {
             "endlinecolor": "#2a3f5f",
             "gridcolor": "white",
             "linecolor": "white",
             "minorgridcolor": "white",
             "startlinecolor": "#2a3f5f"
            },
            "baxis": {
             "endlinecolor": "#2a3f5f",
             "gridcolor": "white",
             "linecolor": "white",
             "minorgridcolor": "white",
             "startlinecolor": "#2a3f5f"
            },
            "type": "carpet"
           }
          ],
          "choropleth": [
           {
            "colorbar": {
             "outlinewidth": 0,
             "ticks": ""
            },
            "type": "choropleth"
           }
          ],
          "contour": [
           {
            "colorbar": {
             "outlinewidth": 0,
             "ticks": ""
            },
            "colorscale": [
             [
              0,
              "#0d0887"
             ],
             [
              0.1111111111111111,
              "#46039f"
             ],
             [
              0.2222222222222222,
              "#7201a8"
             ],
             [
              0.3333333333333333,
              "#9c179e"
             ],
             [
              0.4444444444444444,
              "#bd3786"
             ],
             [
              0.5555555555555556,
              "#d8576b"
             ],
             [
              0.6666666666666666,
              "#ed7953"
             ],
             [
              0.7777777777777778,
              "#fb9f3a"
             ],
             [
              0.8888888888888888,
              "#fdca26"
             ],
             [
              1,
              "#f0f921"
             ]
            ],
            "type": "contour"
           }
          ],
          "contourcarpet": [
           {
            "colorbar": {
             "outlinewidth": 0,
             "ticks": ""
            },
            "type": "contourcarpet"
           }
          ],
          "heatmap": [
           {
            "colorbar": {
             "outlinewidth": 0,
             "ticks": ""
            },
            "colorscale": [
             [
              0,
              "#0d0887"
             ],
             [
              0.1111111111111111,
              "#46039f"
             ],
             [
              0.2222222222222222,
              "#7201a8"
             ],
             [
              0.3333333333333333,
              "#9c179e"
             ],
             [
              0.4444444444444444,
              "#bd3786"
             ],
             [
              0.5555555555555556,
              "#d8576b"
             ],
             [
              0.6666666666666666,
              "#ed7953"
             ],
             [
              0.7777777777777778,
              "#fb9f3a"
             ],
             [
              0.8888888888888888,
              "#fdca26"
             ],
             [
              1,
              "#f0f921"
             ]
            ],
            "type": "heatmap"
           }
          ],
          "heatmapgl": [
           {
            "colorbar": {
             "outlinewidth": 0,
             "ticks": ""
            },
            "colorscale": [
             [
              0,
              "#0d0887"
             ],
             [
              0.1111111111111111,
              "#46039f"
             ],
             [
              0.2222222222222222,
              "#7201a8"
             ],
             [
              0.3333333333333333,
              "#9c179e"
             ],
             [
              0.4444444444444444,
              "#bd3786"
             ],
             [
              0.5555555555555556,
              "#d8576b"
             ],
             [
              0.6666666666666666,
              "#ed7953"
             ],
             [
              0.7777777777777778,
              "#fb9f3a"
             ],
             [
              0.8888888888888888,
              "#fdca26"
             ],
             [
              1,
              "#f0f921"
             ]
            ],
            "type": "heatmapgl"
           }
          ],
          "histogram": [
           {
            "marker": {
             "pattern": {
              "fillmode": "overlay",
              "size": 10,
              "solidity": 0.2
             }
            },
            "type": "histogram"
           }
          ],
          "histogram2d": [
           {
            "colorbar": {
             "outlinewidth": 0,
             "ticks": ""
            },
            "colorscale": [
             [
              0,
              "#0d0887"
             ],
             [
              0.1111111111111111,
              "#46039f"
             ],
             [
              0.2222222222222222,
              "#7201a8"
             ],
             [
              0.3333333333333333,
              "#9c179e"
             ],
             [
              0.4444444444444444,
              "#bd3786"
             ],
             [
              0.5555555555555556,
              "#d8576b"
             ],
             [
              0.6666666666666666,
              "#ed7953"
             ],
             [
              0.7777777777777778,
              "#fb9f3a"
             ],
             [
              0.8888888888888888,
              "#fdca26"
             ],
             [
              1,
              "#f0f921"
             ]
            ],
            "type": "histogram2d"
           }
          ],
          "histogram2dcontour": [
           {
            "colorbar": {
             "outlinewidth": 0,
             "ticks": ""
            },
            "colorscale": [
             [
              0,
              "#0d0887"
             ],
             [
              0.1111111111111111,
              "#46039f"
             ],
             [
              0.2222222222222222,
              "#7201a8"
             ],
             [
              0.3333333333333333,
              "#9c179e"
             ],
             [
              0.4444444444444444,
              "#bd3786"
             ],
             [
              0.5555555555555556,
              "#d8576b"
             ],
             [
              0.6666666666666666,
              "#ed7953"
             ],
             [
              0.7777777777777778,
              "#fb9f3a"
             ],
             [
              0.8888888888888888,
              "#fdca26"
             ],
             [
              1,
              "#f0f921"
             ]
            ],
            "type": "histogram2dcontour"
           }
          ],
          "mesh3d": [
           {
            "colorbar": {
             "outlinewidth": 0,
             "ticks": ""
            },
            "type": "mesh3d"
           }
          ],
          "parcoords": [
           {
            "line": {
             "colorbar": {
              "outlinewidth": 0,
              "ticks": ""
             }
            },
            "type": "parcoords"
           }
          ],
          "pie": [
           {
            "automargin": true,
            "type": "pie"
           }
          ],
          "scatter": [
           {
            "fillpattern": {
             "fillmode": "overlay",
             "size": 10,
             "solidity": 0.2
            },
            "type": "scatter"
           }
          ],
          "scatter3d": [
           {
            "line": {
             "colorbar": {
              "outlinewidth": 0,
              "ticks": ""
             }
            },
            "marker": {
             "colorbar": {
              "outlinewidth": 0,
              "ticks": ""
             }
            },
            "type": "scatter3d"
           }
          ],
          "scattercarpet": [
           {
            "marker": {
             "colorbar": {
              "outlinewidth": 0,
              "ticks": ""
             }
            },
            "type": "scattercarpet"
           }
          ],
          "scattergeo": [
           {
            "marker": {
             "colorbar": {
              "outlinewidth": 0,
              "ticks": ""
             }
            },
            "type": "scattergeo"
           }
          ],
          "scattergl": [
           {
            "marker": {
             "colorbar": {
              "outlinewidth": 0,
              "ticks": ""
             }
            },
            "type": "scattergl"
           }
          ],
          "scattermapbox": [
           {
            "marker": {
             "colorbar": {
              "outlinewidth": 0,
              "ticks": ""
             }
            },
            "type": "scattermapbox"
           }
          ],
          "scatterpolar": [
           {
            "marker": {
             "colorbar": {
              "outlinewidth": 0,
              "ticks": ""
             }
            },
            "type": "scatterpolar"
           }
          ],
          "scatterpolargl": [
           {
            "marker": {
             "colorbar": {
              "outlinewidth": 0,
              "ticks": ""
             }
            },
            "type": "scatterpolargl"
           }
          ],
          "scatterternary": [
           {
            "marker": {
             "colorbar": {
              "outlinewidth": 0,
              "ticks": ""
             }
            },
            "type": "scatterternary"
           }
          ],
          "surface": [
           {
            "colorbar": {
             "outlinewidth": 0,
             "ticks": ""
            },
            "colorscale": [
             [
              0,
              "#0d0887"
             ],
             [
              0.1111111111111111,
              "#46039f"
             ],
             [
              0.2222222222222222,
              "#7201a8"
             ],
             [
              0.3333333333333333,
              "#9c179e"
             ],
             [
              0.4444444444444444,
              "#bd3786"
             ],
             [
              0.5555555555555556,
              "#d8576b"
             ],
             [
              0.6666666666666666,
              "#ed7953"
             ],
             [
              0.7777777777777778,
              "#fb9f3a"
             ],
             [
              0.8888888888888888,
              "#fdca26"
             ],
             [
              1,
              "#f0f921"
             ]
            ],
            "type": "surface"
           }
          ],
          "table": [
           {
            "cells": {
             "fill": {
              "color": "#EBF0F8"
             },
             "line": {
              "color": "white"
             }
            },
            "header": {
             "fill": {
              "color": "#C8D4E3"
             },
             "line": {
              "color": "white"
             }
            },
            "type": "table"
           }
          ]
         },
         "layout": {
          "annotationdefaults": {
           "arrowcolor": "#2a3f5f",
           "arrowhead": 0,
           "arrowwidth": 1
          },
          "autotypenumbers": "strict",
          "coloraxis": {
           "colorbar": {
            "outlinewidth": 0,
            "ticks": ""
           }
          },
          "colorscale": {
           "diverging": [
            [
             0,
             "#8e0152"
            ],
            [
             0.1,
             "#c51b7d"
            ],
            [
             0.2,
             "#de77ae"
            ],
            [
             0.3,
             "#f1b6da"
            ],
            [
             0.4,
             "#fde0ef"
            ],
            [
             0.5,
             "#f7f7f7"
            ],
            [
             0.6,
             "#e6f5d0"
            ],
            [
             0.7,
             "#b8e186"
            ],
            [
             0.8,
             "#7fbc41"
            ],
            [
             0.9,
             "#4d9221"
            ],
            [
             1,
             "#276419"
            ]
           ],
           "sequential": [
            [
             0,
             "#0d0887"
            ],
            [
             0.1111111111111111,
             "#46039f"
            ],
            [
             0.2222222222222222,
             "#7201a8"
            ],
            [
             0.3333333333333333,
             "#9c179e"
            ],
            [
             0.4444444444444444,
             "#bd3786"
            ],
            [
             0.5555555555555556,
             "#d8576b"
            ],
            [
             0.6666666666666666,
             "#ed7953"
            ],
            [
             0.7777777777777778,
             "#fb9f3a"
            ],
            [
             0.8888888888888888,
             "#fdca26"
            ],
            [
             1,
             "#f0f921"
            ]
           ],
           "sequentialminus": [
            [
             0,
             "#0d0887"
            ],
            [
             0.1111111111111111,
             "#46039f"
            ],
            [
             0.2222222222222222,
             "#7201a8"
            ],
            [
             0.3333333333333333,
             "#9c179e"
            ],
            [
             0.4444444444444444,
             "#bd3786"
            ],
            [
             0.5555555555555556,
             "#d8576b"
            ],
            [
             0.6666666666666666,
             "#ed7953"
            ],
            [
             0.7777777777777778,
             "#fb9f3a"
            ],
            [
             0.8888888888888888,
             "#fdca26"
            ],
            [
             1,
             "#f0f921"
            ]
           ]
          },
          "colorway": [
           "#636efa",
           "#EF553B",
           "#00cc96",
           "#ab63fa",
           "#FFA15A",
           "#19d3f3",
           "#FF6692",
           "#B6E880",
           "#FF97FF",
           "#FECB52"
          ],
          "font": {
           "color": "#2a3f5f"
          },
          "geo": {
           "bgcolor": "white",
           "lakecolor": "white",
           "landcolor": "#E5ECF6",
           "showlakes": true,
           "showland": true,
           "subunitcolor": "white"
          },
          "hoverlabel": {
           "align": "left"
          },
          "hovermode": "closest",
          "mapbox": {
           "style": "light"
          },
          "paper_bgcolor": "white",
          "plot_bgcolor": "#E5ECF6",
          "polar": {
           "angularaxis": {
            "gridcolor": "white",
            "linecolor": "white",
            "ticks": ""
           },
           "bgcolor": "#E5ECF6",
           "radialaxis": {
            "gridcolor": "white",
            "linecolor": "white",
            "ticks": ""
           }
          },
          "scene": {
           "xaxis": {
            "backgroundcolor": "#E5ECF6",
            "gridcolor": "white",
            "gridwidth": 2,
            "linecolor": "white",
            "showbackground": true,
            "ticks": "",
            "zerolinecolor": "white"
           },
           "yaxis": {
            "backgroundcolor": "#E5ECF6",
            "gridcolor": "white",
            "gridwidth": 2,
            "linecolor": "white",
            "showbackground": true,
            "ticks": "",
            "zerolinecolor": "white"
           },
           "zaxis": {
            "backgroundcolor": "#E5ECF6",
            "gridcolor": "white",
            "gridwidth": 2,
            "linecolor": "white",
            "showbackground": true,
            "ticks": "",
            "zerolinecolor": "white"
           }
          },
          "shapedefaults": {
           "line": {
            "color": "#2a3f5f"
           }
          },
          "ternary": {
           "aaxis": {
            "gridcolor": "white",
            "linecolor": "white",
            "ticks": ""
           },
           "baxis": {
            "gridcolor": "white",
            "linecolor": "white",
            "ticks": ""
           },
           "bgcolor": "#E5ECF6",
           "caxis": {
            "gridcolor": "white",
            "linecolor": "white",
            "ticks": ""
           }
          },
          "title": {
           "x": 0.05
          },
          "xaxis": {
           "automargin": true,
           "gridcolor": "white",
           "linecolor": "white",
           "ticks": "",
           "title": {
            "standoff": 15
           },
           "zerolinecolor": "white",
           "zerolinewidth": 2
          },
          "yaxis": {
           "automargin": true,
           "gridcolor": "white",
           "linecolor": "white",
           "ticks": "",
           "title": {
            "standoff": 15
           },
           "zerolinecolor": "white",
           "zerolinewidth": 2
          }
         }
        },
        "title": {
         "text": "Rating Distribution by Status"
        },
        "xaxis": {
         "anchor": "y",
         "autorange": true,
         "domain": [
          0,
          1
         ],
         "range": [
          0.5,
          5.5
         ],
         "title": {
          "text": "Rating (0 to 5)"
         },
         "type": "linear"
        },
        "yaxis": {
         "anchor": "x",
         "autorange": true,
         "domain": [
          0,
          1
         ],
         "range": [
          0,
          1433498.9473684211
         ],
         "title": {
          "text": "Number of Reviews"
         },
         "type": "linear"
        }
       }
      },
      "image/png": "[encoded data removed]",
      "text/html": [
       "<div>                            <div id=\"22f64899-7ef5-4e97-9aa3-2c24ce7fa4e2\" class=\"plotly-graph-div\" style=\"height:525px; width:100%;\"></div>            <script type=\"text/javascript\">                require([\"plotly\"], function(Plotly) {                    window.PLOTLYENV=window.PLOTLYENV || {};                                    if (document.getElementById(\"22f64899-7ef5-4e97-9aa3-2c24ce7fa4e2\")) {                    Plotly.newPlot(                        \"22f64899-7ef5-4e97-9aa3-2c24ce7fa4e2\",                        [{\"alignmentgroup\":\"True\",\"hovertemplate\":\"status=Current Contractor\\u003cbr\\u003eRating (0 to 5)=%{x}\\u003cbr\\u003eNumber of Reviews=%{y}\\u003cextra\\u003e\\u003c\\u002fextra\\u003e\",\"legendgroup\":\"Current Contractor\",\"marker\":{\"color\":\"#636efa\",\"pattern\":{\"shape\":\"\"}},\"name\":\"Current Contractor\",\"offsetgroup\":\"Current Contractor\",\"orientation\":\"v\",\"showlegend\":true,\"textposition\":\"auto\",\"x\":[1.0,2.0,3.0,4.0,5.0],\"xaxis\":\"x\",\"y\":[90,63,154,247,504],\"yaxis\":\"y\",\"type\":\"bar\"},{\"alignmentgroup\":\"True\",\"hovertemplate\":\"status=Current Employee\\u003cbr\\u003eRating (0 to 5)=%{x}\\u003cbr\\u003eNumber of Reviews=%{y}\\u003cextra\\u003e\\u003c\\u002fextra\\u003e\",\"legendgroup\":\"Current Employee\",\"marker\":{\"color\":\"#EF553B\",\"pattern\":{\"shape\":\"\"}},\"name\":\"Current Employee\",\"offsetgroup\":\"Current Employee\",\"orientation\":\"v\",\"showlegend\":true,\"textposition\":\"auto\",\"x\":[1.0,2.0,3.0,4.0,5.0],\"xaxis\":\"x\",\"y\":[251967,306476,801196,1218134,1361824],\"yaxis\":\"y\",\"type\":\"bar\"},{\"alignmentgroup\":\"True\",\"hovertemplate\":\"status=Current Freelancer\\u003cbr\\u003eRating (0 to 5)=%{x}\\u003cbr\\u003eNumber of Reviews=%{y}\\u003cextra\\u003e\\u003c\\u002fextra\\u003e\",\"legendgroup\":\"Current Freelancer\",\"marker\":{\"color\":\"#00cc96\",\"pattern\":{\"shape\":\"\"}},\"name\":\"Current Freelancer\",\"offsetgroup\":\"Current Freelancer\",\"orientation\":\"v\",\"showlegend\":true,\"textposition\":\"auto\",\"x\":[1.0,2.0,3.0,4.0,5.0],\"xaxis\":\"x\",\"y\":[24,12,31,56,134],\"yaxis\":\"y\",\"type\":\"bar\"},{\"alignmentgroup\":\"True\",\"hovertemplate\":\"status=Current Intern\\u003cbr\\u003eRating (0 to 5)=%{x}\\u003cbr\\u003eNumber of Reviews=%{y}\\u003cextra\\u003e\\u003c\\u002fextra\\u003e\",\"legendgroup\":\"Current Intern\",\"marker\":{\"color\":\"#ab63fa\",\"pattern\":{\"shape\":\"\"}},\"name\":\"Current Intern\",\"offsetgroup\":\"Current Intern\",\"orientation\":\"v\",\"showlegend\":true,\"textposition\":\"auto\",\"x\":[1.0,2.0,3.0,4.0,5.0],\"xaxis\":\"x\",\"y\":[27,20,61,140,396],\"yaxis\":\"y\",\"type\":\"bar\"},{\"alignmentgroup\":\"True\",\"hovertemplate\":\"status=Current Self-employed\\u003cbr\\u003eRating (0 to 5)=%{x}\\u003cbr\\u003eNumber of Reviews=%{y}\\u003cextra\\u003e\\u003c\\u002fextra\\u003e\",\"legendgroup\":\"Current Self-employed\",\"marker\":{\"color\":\"#FFA15A\",\"pattern\":{\"shape\":\"\"}},\"name\":\"Current Self-employed\",\"offsetgroup\":\"Current Self-employed\",\"orientation\":\"v\",\"showlegend\":true,\"textposition\":\"auto\",\"x\":[1.0,2.0,3.0,4.0,5.0],\"xaxis\":\"x\",\"y\":[1,2,4,5,20],\"yaxis\":\"y\",\"type\":\"bar\"},{\"alignmentgroup\":\"True\",\"hovertemplate\":\"status=Former Contractor\\u003cbr\\u003eRating (0 to 5)=%{x}\\u003cbr\\u003eNumber of Reviews=%{y}\\u003cextra\\u003e\\u003c\\u002fextra\\u003e\",\"legendgroup\":\"Former Contractor\",\"marker\":{\"color\":\"#19d3f3\",\"pattern\":{\"shape\":\"\"}},\"name\":\"Former Contractor\",\"offsetgroup\":\"Former Contractor\",\"orientation\":\"v\",\"showlegend\":true,\"textposition\":\"auto\",\"x\":[1.0,2.0,3.0,4.0,5.0],\"xaxis\":\"x\",\"y\":[278,141,236,373,488],\"yaxis\":\"y\",\"type\":\"bar\"},{\"alignmentgroup\":\"True\",\"hovertemplate\":\"status=Former Employee\\u003cbr\\u003eRating (0 to 5)=%{x}\\u003cbr\\u003eNumber of Reviews=%{y}\\u003cextra\\u003e\\u003c\\u002fextra\\u003e\",\"legendgroup\":\"Former Employee\",\"marker\":{\"color\":\"#FF6692\",\"pattern\":{\"shape\":\"\"}},\"name\":\"Former Employee\",\"offsetgroup\":\"Former Employee\",\"orientation\":\"v\",\"showlegend\":true,\"textposition\":\"auto\",\"x\":[1.0,2.0,3.0,4.0,5.0],\"xaxis\":\"x\",\"y\":[421810,391907,707544,768058,572344],\"yaxis\":\"y\",\"type\":\"bar\"},{\"alignmentgroup\":\"True\",\"hovertemplate\":\"status=Former Freelancer\\u003cbr\\u003eRating (0 to 5)=%{x}\\u003cbr\\u003eNumber of Reviews=%{y}\\u003cextra\\u003e\\u003c\\u002fextra\\u003e\",\"legendgroup\":\"Former Freelancer\",\"marker\":{\"color\":\"#B6E880\",\"pattern\":{\"shape\":\"\"}},\"name\":\"Former Freelancer\",\"offsetgroup\":\"Former Freelancer\",\"orientation\":\"v\",\"showlegend\":true,\"textposition\":\"auto\",\"x\":[1.0,2.0,3.0,4.0,5.0],\"xaxis\":\"x\",\"y\":[66,30,52,59,115],\"yaxis\":\"y\",\"type\":\"bar\"},{\"alignmentgroup\":\"True\",\"hovertemplate\":\"status=Former Intern\\u003cbr\\u003eRating (0 to 5)=%{x}\\u003cbr\\u003eNumber of Reviews=%{y}\\u003cextra\\u003e\\u003c\\u002fextra\\u003e\",\"legendgroup\":\"Former Intern\",\"marker\":{\"color\":\"#FF97FF\",\"pattern\":{\"shape\":\"\"}},\"name\":\"Former Intern\",\"offsetgroup\":\"Former Intern\",\"orientation\":\"v\",\"showlegend\":true,\"textposition\":\"auto\",\"x\":[1.0,2.0,3.0,4.0,5.0],\"xaxis\":\"x\",\"y\":[104,106,209,552,884],\"yaxis\":\"y\",\"type\":\"bar\"},{\"alignmentgroup\":\"True\",\"hovertemplate\":\"status=Former Self-employed\\u003cbr\\u003eRating (0 to 5)=%{x}\\u003cbr\\u003eNumber of Reviews=%{y}\\u003cextra\\u003e\\u003c\\u002fextra\\u003e\",\"legendgroup\":\"Former Self-employed\",\"marker\":{\"color\":\"#FECB52\",\"pattern\":{\"shape\":\"\"}},\"name\":\"Former Self-employed\",\"offsetgroup\":\"Former Self-employed\",\"orientation\":\"v\",\"showlegend\":true,\"textposition\":\"auto\",\"x\":[1.0,3.0,4.0,5.0],\"xaxis\":\"x\",\"y\":[3,6,8,12],\"yaxis\":\"y\",\"type\":\"bar\"}],                        {\"template\":{\"data\":{\"histogram2dcontour\":[{\"type\":\"histogram2dcontour\",\"colorbar\":{\"outlinewidth\":0,\"ticks\":\"\"},\"colorscale\":[[0.0,\"#0d0887\"],[0.1111111111111111,\"#46039f\"],[0.2222222222222222,\"#7201a8\"],[0.3333333333333333,\"#9c179e\"],[0.4444444444444444,\"#bd3786\"],[0.5555555555555556,\"#d8576b\"],[0.6666666666666666,\"#ed7953\"],[0.7777777777777778,\"#fb9f3a\"],[0.8888888888888888,\"#fdca26\"],[1.0,\"#f0f921\"]]}],\"choropleth\":[{\"type\":\"choropleth\",\"colorbar\":{\"outlinewidth\":0,\"ticks\":\"\"}}],\"histogram2d\":[{\"type\":\"histogram2d\",\"colorbar\":{\"outlinewidth\":0,\"ticks\":\"\"},\"colorscale\":[[0.0,\"#0d0887\"],[0.1111111111111111,\"#46039f\"],[0.2222222222222222,\"#7201a8\"],[0.3333333333333333,\"#9c179e\"],[0.4444444444444444,\"#bd3786\"],[0.5555555555555556,\"#d8576b\"],[0.6666666666666666,\"#ed7953\"],[0.7777777777777778,\"#fb9f3a\"],[0.8888888888888888,\"#fdca26\"],[1.0,\"#f0f921\"]]}],\"heatmap\":[{\"type\":\"heatmap\",\"colorbar\":{\"outlinewidth\":0,\"ticks\":\"\"},\"colorscale\":[[0.0,\"#0d0887\"],[0.1111111111111111,\"#46039f\"],[0.2222222222222222,\"#7201a8\"],[0.3333333333333333,\"#9c179e\"],[0.4444444444444444,\"#bd3786\"],[0.5555555555555556,\"#d8576b\"],[0.6666666666666666,\"#ed7953\"],[0.7777777777777778,\"#fb9f3a\"],[0.8888888888888888,\"#fdca26\"],[1.0,\"#f0f921\"]]}],\"heatmapgl\":[{\"type\":\"heatmapgl\",\"colorbar\":{\"outlinewidth\":0,\"ticks\":\"\"},\"colorscale\":[[0.0,\"#0d0887\"],[0.1111111111111111,\"#46039f\"],[0.2222222222222222,\"#7201a8\"],[0.3333333333333333,\"#9c179e\"],[0.4444444444444444,\"#bd3786\"],[0.5555555555555556,\"#d8576b\"],[0.6666666666666666,\"#ed7953\"],[0.7777777777777778,\"#fb9f3a\"],[0.8888888888888888,\"#fdca26\"],[1.0,\"#f0f921\"]]}],\"contourcarpet\":[{\"type\":\"contourcarpet\",\"colorbar\":{\"outlinewidth\":0,\"ticks\":\"\"}}],\"contour\":[{\"type\":\"contour\",\"colorbar\":{\"outlinewidth\":0,\"ticks\":\"\"},\"colorscale\":[[0.0,\"#0d0887\"],[0.1111111111111111,\"#46039f\"],[0.2222222222222222,\"#7201a8\"],[0.3333333333333333,\"#9c179e\"],[0.4444444444444444,\"#bd3786\"],[0.5555555555555556,\"#d8576b\"],[0.6666666666666666,\"#ed7953\"],[0.7777777777777778,\"#fb9f3a\"],[0.8888888888888888,\"#fdca26\"],[1.0,\"#f0f921\"]]}],\"surface\":[{\"type\":\"surface\",\"colorbar\":{\"outlinewidth\":0,\"ticks\":\"\"},\"colorscale\":[[0.0,\"#0d0887\"],[0.1111111111111111,\"#46039f\"],[0.2222222222222222,\"#7201a8\"],[0.3333333333333333,\"#9c179e\"],[0.4444444444444444,\"#bd3786\"],[0.5555555555555556,\"#d8576b\"],[0.6666666666666666,\"#ed7953\"],[0.7777777777777778,\"#fb9f3a\"],[0.8888888888888888,\"#fdca26\"],[1.0,\"#f0f921\"]]}],\"mesh3d\":[{\"type\":\"mesh3d\",\"colorbar\":{\"outlinewidth\":0,\"ticks\":\"\"}}],\"scatter\":[{\"fillpattern\":{\"fillmode\":\"overlay\",\"size\":10,\"solidity\":0.2},\"type\":\"scatter\"}],\"parcoords\":[{\"type\":\"parcoords\",\"line\":{\"colorbar\":{\"outlinewidth\":0,\"ticks\":\"\"}}}],\"scatterpolargl\":[{\"type\":\"scatterpolargl\",\"marker\":{\"colorbar\":{\"outlinewidth\":0,\"ticks\":\"\"}}}],\"bar\":[{\"error_x\":{\"color\":\"#2a3f5f\"},\"error_y\":{\"color\":\"#2a3f5f\"},\"marker\":{\"line\":{\"color\":\"#E5ECF6\",\"width\":0.5},\"pattern\":{\"fillmode\":\"overlay\",\"size\":10,\"solidity\":0.2}},\"type\":\"bar\"}],\"scattergeo\":[{\"type\":\"scattergeo\",\"marker\":{\"colorbar\":{\"outlinewidth\":0,\"ticks\":\"\"}}}],\"scatterpolar\":[{\"type\":\"scatterpolar\",\"marker\":{\"colorbar\":{\"outlinewidth\":0,\"ticks\":\"\"}}}],\"histogram\":[{\"marker\":{\"pattern\":{\"fillmode\":\"overlay\",\"size\":10,\"solidity\":0.2}},\"type\":\"histogram\"}],\"scattergl\":[{\"type\":\"scattergl\",\"marker\":{\"colorbar\":{\"outlinewidth\":0,\"ticks\":\"\"}}}],\"scatter3d\":[{\"type\":\"scatter3d\",\"line\":{\"colorbar\":{\"outlinewidth\":0,\"ticks\":\"\"}},\"marker\":{\"colorbar\":{\"outlinewidth\":0,\"ticks\":\"\"}}}],\"scattermapbox\":[{\"type\":\"scattermapbox\",\"marker\":{\"colorbar\":{\"outlinewidth\":0,\"ticks\":\"\"}}}],\"scatterternary\":[{\"type\":\"scatterternary\",\"marker\":{\"colorbar\":{\"outlinewidth\":0,\"ticks\":\"\"}}}],\"scattercarpet\":[{\"type\":\"scattercarpet\",\"marker\":{\"colorbar\":{\"outlinewidth\":0,\"ticks\":\"\"}}}],\"carpet\":[{\"aaxis\":{\"endlinecolor\":\"#2a3f5f\",\"gridcolor\":\"white\",\"linecolor\":\"white\",\"minorgridcolor\":\"white\",\"startlinecolor\":\"#2a3f5f\"},\"baxis\":{\"endlinecolor\":\"#2a3f5f\",\"gridcolor\":\"white\",\"linecolor\":\"white\",\"minorgridcolor\":\"white\",\"startlinecolor\":\"#2a3f5f\"},\"type\":\"carpet\"}],\"table\":[{\"cells\":{\"fill\":{\"color\":\"#EBF0F8\"},\"line\":{\"color\":\"white\"}},\"header\":{\"fill\":{\"color\":\"#C8D4E3\"},\"line\":{\"color\":\"white\"}},\"type\":\"table\"}],\"barpolar\":[{\"marker\":{\"line\":{\"color\":\"#E5ECF6\",\"width\":0.5},\"pattern\":{\"fillmode\":\"overlay\",\"size\":10,\"solidity\":0.2}},\"type\":\"barpolar\"}],\"pie\":[{\"automargin\":true,\"type\":\"pie\"}]},\"layout\":{\"autotypenumbers\":\"strict\",\"colorway\":[\"#636efa\",\"#EF553B\",\"#00cc96\",\"#ab63fa\",\"#FFA15A\",\"#19d3f3\",\"#FF6692\",\"#B6E880\",\"#FF97FF\",\"#FECB52\"],\"font\":{\"color\":\"#2a3f5f\"},\"hovermode\":\"closest\",\"hoverlabel\":{\"align\":\"left\"},\"paper_bgcolor\":\"white\",\"plot_bgcolor\":\"#E5ECF6\",\"polar\":{\"bgcolor\":\"#E5ECF6\",\"angularaxis\":{\"gridcolor\":\"white\",\"linecolor\":\"white\",\"ticks\":\"\"},\"radialaxis\":{\"gridcolor\":\"white\",\"linecolor\":\"white\",\"ticks\":\"\"}},\"ternary\":{\"bgcolor\":\"#E5ECF6\",\"aaxis\":{\"gridcolor\":\"white\",\"linecolor\":\"white\",\"ticks\":\"\"},\"baxis\":{\"gridcolor\":\"white\",\"linecolor\":\"white\",\"ticks\":\"\"},\"caxis\":{\"gridcolor\":\"white\",\"linecolor\":\"white\",\"ticks\":\"\"}},\"coloraxis\":{\"colorbar\":{\"outlinewidth\":0,\"ticks\":\"\"}},\"colorscale\":{\"sequential\":[[0.0,\"#0d0887\"],[0.1111111111111111,\"#46039f\"],[0.2222222222222222,\"#7201a8\"],[0.3333333333333333,\"#9c179e\"],[0.4444444444444444,\"#bd3786\"],[0.5555555555555556,\"#d8576b\"],[0.6666666666666666,\"#ed7953\"],[0.7777777777777778,\"#fb9f3a\"],[0.8888888888888888,\"#fdca26\"],[1.0,\"#f0f921\"]],\"sequentialminus\":[[0.0,\"#0d0887\"],[0.1111111111111111,\"#46039f\"],[0.2222222222222222,\"#7201a8\"],[0.3333333333333333,\"#9c179e\"],[0.4444444444444444,\"#bd3786\"],[0.5555555555555556,\"#d8576b\"],[0.6666666666666666,\"#ed7953\"],[0.7777777777777778,\"#fb9f3a\"],[0.8888888888888888,\"#fdca26\"],[1.0,\"#f0f921\"]],\"diverging\":[[0,\"#8e0152\"],[0.1,\"#c51b7d\"],[0.2,\"#de77ae\"],[0.3,\"#f1b6da\"],[0.4,\"#fde0ef\"],[0.5,\"#f7f7f7\"],[0.6,\"#e6f5d0\"],[0.7,\"#b8e186\"],[0.8,\"#7fbc41\"],[0.9,\"#4d9221\"],[1,\"#276419\"]]},\"xaxis\":{\"gridcolor\":\"white\",\"linecolor\":\"white\",\"ticks\":\"\",\"title\":{\"standoff\":15},\"zerolinecolor\":\"white\",\"automargin\":true,\"zerolinewidth\":2},\"yaxis\":{\"gridcolor\":\"white\",\"linecolor\":\"white\",\"ticks\":\"\",\"title\":{\"standoff\":15},\"zerolinecolor\":\"white\",\"automargin\":true,\"zerolinewidth\":2},\"scene\":{\"xaxis\":{\"backgroundcolor\":\"#E5ECF6\",\"gridcolor\":\"white\",\"linecolor\":\"white\",\"showbackground\":true,\"ticks\":\"\",\"zerolinecolor\":\"white\",\"gridwidth\":2},\"yaxis\":{\"backgroundcolor\":\"#E5ECF6\",\"gridcolor\":\"white\",\"linecolor\":\"white\",\"showbackground\":true,\"ticks\":\"\",\"zerolinecolor\":\"white\",\"gridwidth\":2},\"zaxis\":{\"backgroundcolor\":\"#E5ECF6\",\"gridcolor\":\"white\",\"linecolor\":\"white\",\"showbackground\":true,\"ticks\":\"\",\"zerolinecolor\":\"white\",\"gridwidth\":2}},\"shapedefaults\":{\"line\":{\"color\":\"#2a3f5f\"}},\"annotationdefaults\":{\"arrowcolor\":\"#2a3f5f\",\"arrowhead\":0,\"arrowwidth\":1},\"geo\":{\"bgcolor\":\"white\",\"landcolor\":\"#E5ECF6\",\"subunitcolor\":\"white\",\"showland\":true,\"showlakes\":true,\"lakecolor\":\"white\"},\"title\":{\"x\":0.05},\"mapbox\":{\"style\":\"light\"}}},\"xaxis\":{\"anchor\":\"y\",\"domain\":[0.0,1.0],\"title\":{\"text\":\"Rating (0 to 5)\"}},\"yaxis\":{\"anchor\":\"x\",\"domain\":[0.0,1.0],\"title\":{\"text\":\"Number of Reviews\"}},\"legend\":{\"title\":{\"text\":\"status\"},\"tracegroupgap\":0},\"title\":{\"text\":\"Rating Distribution by Status\"},\"barmode\":\"group\"},                        {\"responsive\": true}                    ).then(function(){\n",
       "                            \n",
       "var gd = document.getElementById('22f64899-7ef5-4e97-9aa3-2c24ce7fa4e2');\n",
       "var x = new MutationObserver(function (mutations, observer) {{\n",
       "        var display = window.getComputedStyle(gd).display;\n",
       "        if (!display || display === 'none') {{\n",
       "            console.log([gd, 'removed!']);\n",
       "            Plotly.purge(gd);\n",
       "            observer.disconnect();\n",
       "        }}\n",
       "}});\n",
       "\n",
       "// Listen for the removal of the full notebook cells\n",
       "var notebookContainer = gd.closest('#notebook-container');\n",
       "if (notebookContainer) {{\n",
       "    x.observe(notebookContainer, {childList: true});\n",
       "}}\n",
       "\n",
       "// Listen for the clearing of the current output cell\n",
       "var outputEl = gd.closest('.output');\n",
       "if (outputEl) {{\n",
       "    x.observe(outputEl, {childList: true});\n",
       "}}\n",
       "\n",
       "                        })                };                });            </script>        </div>"
      ]
     },
     "metadata": {},
     "output_type": "display_data"
    }
   ],
   "source": [
    "status_rating_counts = clean_reviews.groupby(['status', 'rating']).size().reset_index(name='count')\n",
    "\n",
    "# Create a bar plot with Plotly\n",
    "fig = px.bar(status_rating_counts, \n",
    "             x='rating', \n",
    "             y='count', \n",
    "             color='status', \n",
    "             barmode='group', \n",
    "             labels={'rating': 'Rating', 'count': 'Number of Reviews'},\n",
    "             title='Rating Distribution by Status')\n",
    "\n",
    "# Show the plot\n",
    "fig.show()"
   ]
  },
  {
   "cell_type": "code",
   "execution_count": 169,
   "id": "fbe4e01c-3de9-48cd-8bc1-5bf6f4343c91",
   "metadata": {},
   "outputs": [
    {
     "data": {
      "text/plain": [
       "firm_link\n",
       "Reviews/Walmart-Reviews-E395425.htm                                                           42374\n",
       "https://www.glassdoor.com/Reviews/HP-Inc-Reviews-E1093161.htm                                 36802\n",
       "https://www.glassdoor.com/Reviews/Amazon-Reviews-E6036_P8873.htm?filter.iso3Language=eng      32169\n",
       "Reviews/US-Navy-Reviews-E193797.htm                                                           30340\n",
       "https://www.glassdoor.com/Reviews/Starbucks-Reviews-E2202_P304.htm?filter.iso3Language=eng    30198\n",
       "                                                                                              ...  \n",
       "Reviews/MZJC-Advogados-Reviews-E2780051.htm                                                       1\n",
       "Reviews/Dominick-G.-Riley-Detective-Bureau-Reviews-E464068.htm                                    1\n",
       "Reviews/ARG-Publications-Reviews-E467068.htm                                                      1\n",
       "Reviews/Rock-Island-County-State's-Attorney's-Office-Reviews-E1371099.htm                         1\n",
       "Reviews/Bishop-Hill-Community-Fire-Protection-District-Reviews-E188362.htm                        1\n",
       "Name: count, Length: 31491, dtype: int64"
      ]
     },
     "execution_count": 169,
     "metadata": {},
     "output_type": "execute_result"
    }
   ],
   "source": [
    "clean_reviews[\"firm_link\"].value_counts()"
   ]
  },
  {
   "cell_type": "code",
   "execution_count": 173,
   "id": "86a38f6f-6650-41aa-b31b-a4aba976f450",
   "metadata": {},
   "outputs": [
    {
     "name": "stdout",
     "output_type": "stream",
     "text": [
      "                                                 firm_link  \\\n",
      "0        Reviews/Baja-Steel-and-Fence-Reviews-E5462645.htm   \n",
      "1        Reviews/Baja-Steel-and-Fence-Reviews-E5462645.htm   \n",
      "2        Reviews/Baja-Steel-and-Fence-Reviews-E5462645.htm   \n",
      "3        https://www.glassdoor.com/Reviews/Calgary-Flam...   \n",
      "4        https://www.glassdoor.com/Reviews/Calgary-Flam...   \n",
      "...                                                    ...   \n",
      "9901883  Reviews/Victoria-Inn-Hotel-&-Convention-Centre...   \n",
      "9901884  Reviews/Victoria-Inn-Hotel-&-Convention-Centre...   \n",
      "9901885  Reviews/Victoria-Inn-Hotel-&-Convention-Centre...   \n",
      "9901887  Reviews/Victoria-Inn-Hotel-&-Convention-Centre...   \n",
      "9901888  Reviews/Victoria-Inn-Hotel-&-Convention-Centre...   \n",
      "\n",
      "                    firm_name  \n",
      "0        Baja-Steel-and-Fence  \n",
      "1        Baja-Steel-and-Fence  \n",
      "2        Baja-Steel-and-Fence  \n",
      "3              Calgary-Flames  \n",
      "4              Calgary-Flames  \n",
      "...                       ...  \n",
      "9901883                  None  \n",
      "9901884                  None  \n",
      "9901885                  None  \n",
      "9901887                  None  \n",
      "9901888                  None  \n",
      "\n",
      "[6806973 rows x 2 columns]\n"
     ]
    }
   ],
   "source": [
    "# Function to extract firm names from the firm_link\n",
    "def extract_firm_name(firm_link):\n",
    "    match = re.search(r'(?<=/)([A-Za-z0-9\\-]+)(?=-Reviews)', firm_link)  # Match text between \"/\" and \"-Reviews\"\n",
    "    if match:\n",
    "        return match.group(1)\n",
    "    else:\n",
    "        return None  # If no match is found, return None\n",
    "\n",
    "# Apply the function to the 'firm_link' column to extract the firm names\n",
    "clean_reviews['firm_name'] = clean_reviews['firm_link'].apply(extract_firm_name)\n",
    "\n",
    "# Show the results\n",
    "print(clean_reviews[['firm_link', 'firm_name']])\n"
   ]
  },
  {
   "cell_type": "code",
   "execution_count": 185,
   "id": "8f11ba53-cde7-4108-b604-09e7dac535ed",
   "metadata": {},
   "outputs": [],
   "source": [
    "firm_counts = clean_reviews[\"firm_name\"].value_counts()"
   ]
  },
  {
   "cell_type": "code",
   "execution_count": 191,
   "id": "c978ee1c-ceaa-4f9c-878e-55c758b6dd6f",
   "metadata": {},
   "outputs": [
    {
     "name": "stdout",
     "output_type": "stream",
     "text": [
      "firm_name\n",
      "Amazon                            119828\n",
      "Tata-Consultancy-Services          77483\n",
      "Walmart                            67191\n",
      "Cognizant-Technology-Solutions     60013\n",
      "Accenture                          52221\n",
      "                                   ...  \n",
      "Blue-Rose-Technologies               100\n",
      "NIBCO                                100\n",
      "Dermalogica                          100\n",
      "Heidelberg-Materials                 100\n",
      "Arowana-Consulting                   100\n",
      "Name: count, Length: 5399, dtype: int64\n"
     ]
    }
   ],
   "source": [
    "firm_counts = clean_reviews[\"firm_name\"].value_counts()\n",
    "# Filter firms that have 20 or more mentions\n",
    "valid_firms = firm_counts[firm_counts >= 100].index\n",
    "\n",
    "# Filter the DataFrame to keep only rows where the firm_name is in the valid_firms list\n",
    "clean_reviews = clean_reviews[clean_reviews['firm_name'].isin(valid_firms)]\n",
    "\n",
    "# Check the updated DataFrame\n",
    "print(clean_reviews['firm_name'].value_counts())\n"
   ]
  },
  {
   "cell_type": "code",
   "execution_count": 195,
   "id": "ce6e19ac-6eed-4f0d-b671-5695ac6e449e",
   "metadata": {},
   "outputs": [],
   "source": [
    "clean_reviews.drop(columns = \"firm_link\", inplace = True)"
   ]
  },
  {
   "cell_type": "code",
   "execution_count": 199,
   "id": "7001456e-0679-4fe7-921a-05de0e9a2c7a",
   "metadata": {},
   "outputs": [
    {
     "data": {
      "text/plain": [
       "(6016214, 15)"
      ]
     },
     "execution_count": 199,
     "metadata": {},
     "output_type": "execute_result"
    }
   ],
   "source": [
    "clean_reviews.shape"
   ]
  },
  {
   "cell_type": "code",
   "execution_count": 332,
   "id": "6051d367-be2e-4448-81b7-16e630302ecb",
   "metadata": {},
   "outputs": [
    {
     "data": {
      "text/plain": [
       "job\n",
       "Anonymous Employee    995916\n",
       "                      287913\n",
       "Software Engineer      93970\n",
       "Manager                79607\n",
       "Sales Associate        77447\n",
       "                       ...  \n",
       "Supply Chain              10\n",
       "Sales Colleague           10\n",
       "Beauty Advisor            10\n",
       "Statistician              10\n",
       "Product Marketing         10\n",
       "Name: count, Length: 4412, dtype: int64"
      ]
     },
     "execution_count": 332,
     "metadata": {},
     "output_type": "execute_result"
    }
   ],
   "source": [
    "clean_reviews[\"job\"] = reviews[\"job\"]\n",
    "clean_reviews[\"job\"].value_counts()"
   ]
  },
  {
   "cell_type": "code",
   "execution_count": 334,
   "id": "7c180708-3e14-4be2-b449-31dd0e2ed565",
   "metadata": {},
   "outputs": [
    {
     "name": "stderr",
     "output_type": "stream",
     "text": [
      "/var/folders/7h/j883bpy50yx9ffn06wrdxzy00000gn/T/ipykernel_7302/1516026913.py:2: FutureWarning:\n",
      "\n",
      "A value is trying to be set on a copy of a DataFrame or Series through chained assignment using an inplace method.\n",
      "The behavior will change in pandas 3.0. This inplace method will never work because the intermediate object on which we are setting values always behaves as a copy.\n",
      "\n",
      "For example, when doing 'df[col].method(value, inplace=True)', try using 'df.method({col: value}, inplace=True)' or df[col] = df[col].method(value) instead, to perform the operation inplace on the original object.\n",
      "\n",
      "\n",
      "\n",
      "/var/folders/7h/j883bpy50yx9ffn06wrdxzy00000gn/T/ipykernel_7302/1516026913.py:3: FutureWarning:\n",
      "\n",
      "A value is trying to be set on a copy of a DataFrame or Series through chained assignment using an inplace method.\n",
      "The behavior will change in pandas 3.0. This inplace method will never work because the intermediate object on which we are setting values always behaves as a copy.\n",
      "\n",
      "For example, when doing 'df[col].method(value, inplace=True)', try using 'df.method({col: value}, inplace=True)' or df[col] = df[col].method(value) instead, to perform the operation inplace on the original object.\n",
      "\n",
      "\n",
      "\n"
     ]
    }
   ],
   "source": [
    "# Replace empty strings or NaN values in the 'job' column with \"Anonymous Employee\"\n",
    "clean_reviews['job'].replace(' ', 'Anonymous Employee', inplace=True)\n",
    "clean_reviews['job'].fillna('Anonymous Employee', inplace=True)\n",
    "\n",
    "# Strip leading/trailing spaces from job titles\n",
    "clean_reviews['job'] = clean_reviews['job'].str.strip()\n",
    "\n",
    "# Count occurrences of each job title\n",
    "job_counts = clean_reviews['job'].value_counts()\n",
    "\n",
    "# Filter out jobs mentioned less than 10 times\n",
    "valid_jobs = job_counts[job_counts >= 100].index\n",
    "\n",
    "# Filter the DataFrame to keep only valid jobs\n",
    "clean_reviews = clean_reviews[clean_reviews['job'].isin(valid_jobs)]"
   ]
  },
  {
   "cell_type": "code",
   "execution_count": 356,
   "id": "2fd363b3-2dd5-4de5-b983-895903e1472c",
   "metadata": {},
   "outputs": [],
   "source": [
    "# Replace specific job titles\n",
    "clean_reviews['job'] = clean_reviews['job'].replace({\n",
    "    'Salees Associate': 'Sales Associate',\n",
    "    'IT Strategy Consultant': 'IT Consultant',\n",
    "    'Sales Associate/Cashier':'Cashier',\n",
    "    'Senior Software Engineer':'Software Engineer', 'Senior Systems Engineer': 'Software Engineer', 'Senior Software Developer': 'Software Engineer', 'Associate Software Engineer': 'Software Engineer',\n",
    "    'Sales':'Sales Associate', 'Salees Associate ': 'Sales Associate', 'Retail Sales Associate': 'Sales Associate','Sales Assistant': 'Sales Associate', 'Sales Representative': 'Sales Associate',\n",
    "    'Systems Engineer': 'Software Engineer',\n",
    "    'Senior Associate':'Associate',\n",
    "    'Senior Analyst ':'Analyst','Business Analyst': 'Analyst', 'Senior Business Analyst ': 'Analyst','Senior Business Analyst': 'Analyst', 'IT Analyst': 'Analyst','Senior Analyst': 'Analyst','Programmer Analyst': 'Analyst', 'Financial Analyst': 'Analyst',\n",
    "    'Server': 'Waiter/Waitress', 'Waiter': 'Waiter/Waitress', 'Waitress': 'Waiter/Waitress',\n",
    "    'Warehouse Worker': 'Warehouse Associate',\n",
    "    'Human Resources': 'HR', 'Recruiter': 'HR',\n",
    "    'Customer Service Representative': 'Customer Service', 'Customer Service Representative (CSR)': 'Customer Service','Customer Assistant': 'Customer Service', 'Customer Service Associate': 'Customer Service',\n",
    "    'Executive Assistant': 'Administrative Assistant', \n",
    "    'Associate Director': 'Director',\n",
    "    'Shift Supervisor': 'Supervisor',\n",
    "    'Graduate Research Assistant': 'Researcher', 'Research Assistant':'Researcher'\n",
    "})\n",
    "\n",
    "clean_reviews['job'] = clean_reviews['job'].apply(lambda x: 'Teacher' if 'Teacher' in x else x)\n",
    "clean_reviews['job'] = clean_reviews['job'].apply(lambda x: 'Manager' if 'Manager' in x else x)\n",
    "clean_reviews['job'] = clean_reviews['job'].apply(lambda x: 'Consultant' if 'Consultant' in x else x)\n",
    "clean_reviews['job'] = clean_reviews['job'].apply(lambda x: 'Intern' if 'Intern' in x else x)\n",
    "clean_reviews['job'] = clean_reviews['job'].apply(lambda x: 'Team Member' if 'Team Member' in x or 'Crew Member' in x else x)"
   ]
  },
  {
   "cell_type": "code",
   "execution_count": 357,
   "id": "078449df-fcec-4e2d-94e5-fde49246a51a",
   "metadata": {},
   "outputs": [
    {
     "name": "stdout",
     "output_type": "stream",
     "text": [
      "job\n",
      "Anonymous Employee            1283829\n",
      "Manager                        590256\n",
      "Software Engineer              200063\n",
      "Sales Associate                146203\n",
      "Consultant                     129203\n",
      "Analyst                        117105\n",
      "Customer Service                96658\n",
      "Cashier                         68294\n",
      "Associate                       62844\n",
      "Team Member                     59789\n",
      "Director                        38167\n",
      "Software Developer              27601\n",
      "Engineer                        26568\n",
      "Supervisor                      25271\n",
      "Intern                          22594\n",
      "Administrative Assistant        20723\n",
      "Barista                         20311\n",
      "HR                              19230\n",
      "Researcher                      18321\n",
      "Team Leader                     18149\n",
      "Warehouse Associate             17921\n",
      "Account Executive               14598\n",
      "Vice President                  14159\n",
      "Registered Nurse                13637\n",
      "Waiter/Waitress                 13474\n",
      "Teacher                         13444\n",
      "Senior Engineer                 12586\n",
      "Data Analyst                    11398\n",
      "Team Lead                       10237\n",
      "Project Engineer                10225\n",
      "Delivery Driver                 10072\n",
      "Technical Lead                   9419\n",
      "Pharmacy Technician              8747\n",
      "Specialist                       8252\n",
      "Marketing                        7512\n",
      "Technical Support Engineer       7508\n",
      "Technician                       6822\n",
      "Security Officer                 6668\n",
      "Data Scientist                   6647\n",
      "Flight Attendant                 6138\n",
      "Name: count, dtype: int64\n"
     ]
    }
   ],
   "source": [
    "# Get the value counts for the 'job' column and sort them in descending order\n",
    "job_counts = clean_reviews['job'].value_counts()\n",
    "\n",
    "# Display the top 40 most frequent job titles\n",
    "top_40_jobs = job_counts.head(40)\n",
    "print(top_40_jobs)"
   ]
  },
  {
   "cell_type": "code",
   "execution_count": null,
   "id": "f3728297-cd59-43ad-a191-14fdfd72afda",
   "metadata": {},
   "outputs": [],
   "source": []
  }
 ],
 "metadata": {
  "kernelspec": {
   "display_name": "Python 3 (ipykernel)",
   "language": "python",
   "name": "python3"
  },
  "language_info": {
   "codemirror_mode": {
    "name": "ipython",
    "version": 3
   },
   "file_extension": ".py",
   "mimetype": "text/x-python",
   "name": "python",
   "nbconvert_exporter": "python",
   "pygments_lexer": "ipython3",
   "version": "3.12.2"
  }
 },
 "nbformat": 4,
 "nbformat_minor": 5
}

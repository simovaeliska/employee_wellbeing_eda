{
 "cells": [
  {
   "cell_type": "code",
   "execution_count": 1,
   "id": "a4d1d276-aab2-4c32-b586-5edb21bac0b3",
   "metadata": {},
   "outputs": [],
   "source": [
    "import pandas as pd\n",
    "import numpy as np\n",
    "import seaborn as sns\n",
    "import matplotlib.pyplot as plt\n",
    "import plotly.express as px\n",
    "import re"
   ]
  },
  {
   "cell_type": "code",
   "execution_count": 2,
   "id": "f479cca5-592b-4b68-b380-6633fee8a078",
   "metadata": {},
   "outputs": [],
   "source": [
    "reviews = pd.read_csv(\"../data/raw/all_reviews.csv\", low_memory=False)"
   ]
  },
  {
   "cell_type": "code",
   "execution_count": 3,
   "id": "9c5d685d-58c1-49c7-96c3-fbbba62983d8",
   "metadata": {},
   "outputs": [
    {
     "data": {
      "text/plain": [
       "(9901889, 19)"
      ]
     },
     "execution_count": 3,
     "metadata": {},
     "output_type": "execute_result"
    }
   ],
   "source": [
    "reviews.shape"
   ]
  },
  {
   "cell_type": "code",
   "execution_count": 4,
   "id": "847a8442-5881-4ce6-a0df-486a7fd09ec4",
   "metadata": {},
   "outputs": [
    {
     "data": {
      "text/html": [
       "<div>\n",
       "<style scoped>\n",
       "    .dataframe tbody tr th:only-of-type {\n",
       "        vertical-align: middle;\n",
       "    }\n",
       "\n",
       "    .dataframe tbody tr th {\n",
       "        vertical-align: top;\n",
       "    }\n",
       "\n",
       "    .dataframe thead th {\n",
       "        text-align: right;\n",
       "    }\n",
       "</style>\n",
       "<table border=\"1\" class=\"dataframe\">\n",
       "  <thead>\n",
       "    <tr style=\"text-align: right;\">\n",
       "      <th></th>\n",
       "      <th>rating</th>\n",
       "      <th>title</th>\n",
       "      <th>status</th>\n",
       "      <th>pros</th>\n",
       "      <th>cons</th>\n",
       "      <th>advice</th>\n",
       "      <th>Recommend</th>\n",
       "      <th>CEO Approval</th>\n",
       "      <th>Business Outlook</th>\n",
       "      <th>Career Opportunities</th>\n",
       "      <th>Compensation and Benefits</th>\n",
       "      <th>Senior Management</th>\n",
       "      <th>Work/Life Balance</th>\n",
       "      <th>Culture &amp; Values</th>\n",
       "      <th>Diversity &amp; Inclusion</th>\n",
       "      <th>firm_link</th>\n",
       "      <th>date</th>\n",
       "      <th>job</th>\n",
       "      <th>index</th>\n",
       "    </tr>\n",
       "  </thead>\n",
       "  <tbody>\n",
       "    <tr>\n",
       "      <th>0</th>\n",
       "      <td>5.0</td>\n",
       "      <td>Good</td>\n",
       "      <td>Current Employee, more than 10 years</td>\n",
       "      <td>Knowledge gain of complete  project</td>\n",
       "      <td>Financial growth  and personal growth</td>\n",
       "      <td>NaN</td>\n",
       "      <td>v</td>\n",
       "      <td>o</td>\n",
       "      <td>v</td>\n",
       "      <td>3</td>\n",
       "      <td>3</td>\n",
       "      <td>3</td>\n",
       "      <td>3</td>\n",
       "      <td>3.0</td>\n",
       "      <td>3.0</td>\n",
       "      <td>Reviews/Baja-Steel-and-Fence-Reviews-E5462645.htm</td>\n",
       "      <td>Nov 19, 2022</td>\n",
       "      <td>Manager Design</td>\n",
       "      <td>NaN</td>\n",
       "    </tr>\n",
       "    <tr>\n",
       "      <th>1</th>\n",
       "      <td>4.0</td>\n",
       "      <td>Good</td>\n",
       "      <td>Former Employee, less than 1 year</td>\n",
       "      <td>Good work,good work , flexible, support</td>\n",
       "      <td>Good,work, flexible,good support, good team work</td>\n",
       "      <td>NaN</td>\n",
       "      <td>v</td>\n",
       "      <td>o</td>\n",
       "      <td>o</td>\n",
       "      <td>4</td>\n",
       "      <td>4</td>\n",
       "      <td>4</td>\n",
       "      <td>4</td>\n",
       "      <td>4.0</td>\n",
       "      <td>4.0</td>\n",
       "      <td>Reviews/Baja-Steel-and-Fence-Reviews-E5462645.htm</td>\n",
       "      <td>Jan 29, 2022</td>\n",
       "      <td>Anonymous Employee</td>\n",
       "      <td>NaN</td>\n",
       "    </tr>\n",
       "    <tr>\n",
       "      <th>2</th>\n",
       "      <td>4.0</td>\n",
       "      <td>Supervising the manufacturing the processes, e...</td>\n",
       "      <td>Current Employee, more than 1 year</td>\n",
       "      <td>This company is a best opportunity for me to l...</td>\n",
       "      <td>Monthly Target work,Maintain production schedu...</td>\n",
       "      <td>NaN</td>\n",
       "      <td>v</td>\n",
       "      <td>o</td>\n",
       "      <td>v</td>\n",
       "      <td>2</td>\n",
       "      <td>3</td>\n",
       "      <td>2</td>\n",
       "      <td>2</td>\n",
       "      <td>2.0</td>\n",
       "      <td>2.0</td>\n",
       "      <td>Reviews/Baja-Steel-and-Fence-Reviews-E5462645.htm</td>\n",
       "      <td>Aug 12, 2021</td>\n",
       "      <td>Production Engineer</td>\n",
       "      <td>NaN</td>\n",
       "    </tr>\n",
       "    <tr>\n",
       "      <th>3</th>\n",
       "      <td>1.0</td>\n",
       "      <td>terrible</td>\n",
       "      <td>Current Employee, more than 1 year</td>\n",
       "      <td>I wish there were some to list</td>\n",
       "      <td>too many to list here</td>\n",
       "      <td>NaN</td>\n",
       "      <td>x</td>\n",
       "      <td>x</td>\n",
       "      <td>x</td>\n",
       "      <td>1.0</td>\n",
       "      <td>3.0</td>\n",
       "      <td>1.0</td>\n",
       "      <td>3.0</td>\n",
       "      <td>1.0</td>\n",
       "      <td>NaN</td>\n",
       "      <td>https://www.glassdoor.com/Reviews/Calgary-Flam...</td>\n",
       "      <td>Sep 24, 2020</td>\n",
       "      <td>Senior Account Executive</td>\n",
       "      <td>NaN</td>\n",
       "    </tr>\n",
       "    <tr>\n",
       "      <th>4</th>\n",
       "      <td>4.0</td>\n",
       "      <td>It could be so good, but it isn’t</td>\n",
       "      <td>Current Employee, more than 3 years</td>\n",
       "      <td>Fast Paced. Endless challenges. Inclusive envi...</td>\n",
       "      <td>The biggest perk of the job provides no value ...</td>\n",
       "      <td>NaN</td>\n",
       "      <td>o</td>\n",
       "      <td>o</td>\n",
       "      <td>o</td>\n",
       "      <td>3.0</td>\n",
       "      <td>3.0</td>\n",
       "      <td>3.0</td>\n",
       "      <td>1.0</td>\n",
       "      <td>4.0</td>\n",
       "      <td>5.0</td>\n",
       "      <td>https://www.glassdoor.com/Reviews/Calgary-Flam...</td>\n",
       "      <td>Mar 25, 2023</td>\n",
       "      <td>Assistant Manager</td>\n",
       "      <td>NaN</td>\n",
       "    </tr>\n",
       "  </tbody>\n",
       "</table>\n",
       "</div>"
      ],
      "text/plain": [
       "   rating                                              title  \\\n",
       "0     5.0                                               Good   \n",
       "1     4.0                                               Good   \n",
       "2     4.0  Supervising the manufacturing the processes, e...   \n",
       "3     1.0                                           terrible   \n",
       "4     4.0                  It could be so good, but it isn’t   \n",
       "\n",
       "                                 status  \\\n",
       "0  Current Employee, more than 10 years   \n",
       "1     Former Employee, less than 1 year   \n",
       "2    Current Employee, more than 1 year   \n",
       "3    Current Employee, more than 1 year   \n",
       "4   Current Employee, more than 3 years   \n",
       "\n",
       "                                                pros  \\\n",
       "0                Knowledge gain of complete  project   \n",
       "1            Good work,good work , flexible, support   \n",
       "2  This company is a best opportunity for me to l...   \n",
       "3                     I wish there were some to list   \n",
       "4  Fast Paced. Endless challenges. Inclusive envi...   \n",
       "\n",
       "                                                cons advice Recommend  \\\n",
       "0              Financial growth  and personal growth    NaN         v   \n",
       "1   Good,work, flexible,good support, good team work    NaN         v   \n",
       "2  Monthly Target work,Maintain production schedu...    NaN         v   \n",
       "3                              too many to list here    NaN         x   \n",
       "4  The biggest perk of the job provides no value ...    NaN         o   \n",
       "\n",
       "  CEO Approval Business Outlook Career Opportunities  \\\n",
       "0            o                v                    3   \n",
       "1            o                o                    4   \n",
       "2            o                v                    2   \n",
       "3            x                x                  1.0   \n",
       "4            o                o                  3.0   \n",
       "\n",
       "  Compensation and Benefits Senior Management Work/Life Balance  \\\n",
       "0                         3                 3                 3   \n",
       "1                         4                 4                 4   \n",
       "2                         3                 2                 2   \n",
       "3                       3.0               1.0               3.0   \n",
       "4                       3.0               3.0               1.0   \n",
       "\n",
       "   Culture & Values  Diversity & Inclusion  \\\n",
       "0               3.0                    3.0   \n",
       "1               4.0                    4.0   \n",
       "2               2.0                    2.0   \n",
       "3               1.0                    NaN   \n",
       "4               4.0                    5.0   \n",
       "\n",
       "                                           firm_link           date  \\\n",
       "0  Reviews/Baja-Steel-and-Fence-Reviews-E5462645.htm  Nov 19, 2022    \n",
       "1  Reviews/Baja-Steel-and-Fence-Reviews-E5462645.htm  Jan 29, 2022    \n",
       "2  Reviews/Baja-Steel-and-Fence-Reviews-E5462645.htm  Aug 12, 2021    \n",
       "3  https://www.glassdoor.com/Reviews/Calgary-Flam...  Sep 24, 2020    \n",
       "4  https://www.glassdoor.com/Reviews/Calgary-Flam...  Mar 25, 2023    \n",
       "\n",
       "                         job  index  \n",
       "0             Manager Design    NaN  \n",
       "1         Anonymous Employee    NaN  \n",
       "2        Production Engineer    NaN  \n",
       "3   Senior Account Executive    NaN  \n",
       "4          Assistant Manager    NaN  "
      ]
     },
     "execution_count": 4,
     "metadata": {},
     "output_type": "execute_result"
    }
   ],
   "source": [
    "reviews.head()"
   ]
  },
  {
   "cell_type": "code",
   "execution_count": 15,
   "id": "6eaaf17f-63a9-4576-9932-af648ed8694f",
   "metadata": {},
   "outputs": [
    {
     "name": "stderr",
     "output_type": "stream",
     "text": [
      "/var/folders/7h/j883bpy50yx9ffn06wrdxzy00000gn/T/ipykernel_22228/644112078.py:12: SettingWithCopyWarning: \n",
      "A value is trying to be set on a copy of a slice from a DataFrame.\n",
      "Try using .loc[row_indexer,col_indexer] = value instead\n",
      "\n",
      "See the caveats in the documentation: https://pandas.pydata.org/pandas-docs/stable/user_guide/indexing.html#returning-a-view-versus-a-copy\n",
      "  df[col] = df[col].astype(float)\n",
      "/var/folders/7h/j883bpy50yx9ffn06wrdxzy00000gn/T/ipykernel_22228/644112078.py:10: SettingWithCopyWarning: \n",
      "A value is trying to be set on a copy of a slice from a DataFrame.\n",
      "Try using .loc[row_indexer,col_indexer] = value instead\n",
      "\n",
      "See the caveats in the documentation: https://pandas.pydata.org/pandas-docs/stable/user_guide/indexing.html#returning-a-view-versus-a-copy\n",
      "  df[col] = pd.to_numeric(df[col], errors='coerce')\n"
     ]
    },
    {
     "name": "stdout",
     "output_type": "stream",
     "text": [
      "rating                             0\n",
      "status                             0\n",
      "pros                               0\n",
      "cons                               0\n",
      "advice                       6016206\n",
      "Recommend                          0\n",
      "CEO Approval                       0\n",
      "Business Outlook                   0\n",
      "Career Opportunities               0\n",
      "Compensation and Benefits          0\n",
      "Senior Management                  0\n",
      "Work/Life Balance                  0\n",
      "Culture & Values                   0\n",
      "Diversity & Inclusion              0\n",
      "firm_link                          0\n",
      "date                               0\n",
      "job                                0\n",
      "index                        5892160\n",
      "year                               0\n",
      "firm_name                          0\n",
      "dtype: int64\n"
     ]
    }
   ],
   "source": [
    "import pandas as pd\n",
    "import re\n",
    "\n",
    "# Function to clean numerical rating columns\n",
    "def clean_rating_columns(df, columns):\n",
    "    \"\"\"\n",
    "    Clean numerical rating columns by converting them to float and removing invalid entries.\n",
    "    \"\"\"\n",
    "    for col in columns:\n",
    "        df[col] = pd.to_numeric(df[col], errors='coerce')\n",
    "        df = df.dropna(subset=[col])\n",
    "        df[col] = df[col].astype(float)\n",
    "    return df\n",
    "\n",
    "# Function to handle missing values\n",
    "def handle_missing_values(df, columns_to_fill, fill_value=0.0):\n",
    "    \"\"\"\n",
    "    Fill missing values for specified columns with a given value.\n",
    "    \"\"\"\n",
    "    for col in columns_to_fill:\n",
    "        df[col] = df[col].fillna(fill_value).astype(float)\n",
    "    return df\n",
    "\n",
    "# Function to extract year from date\n",
    "def extract_year(df, date_column, year_column):\n",
    "    \"\"\"\n",
    "    Extract the year from a date column and create a new year column.\n",
    "    \"\"\"\n",
    "    df[year_column] = df[date_column].str.split().str[2].astype(int)\n",
    "    return df[df[year_column] > 2014]\n",
    "\n",
    "# Function to extract firm names from the firm_link\n",
    "def extract_firm_names(df, firm_link_column, firm_name_column):\n",
    "    \"\"\"\n",
    "    Extract firm names from firm_link and filter firms with frequent mentions.\n",
    "    \"\"\"\n",
    "    def extract_name(firm_link):\n",
    "        match = re.search(r'(?<=/)([A-Za-z0-9\\-]+)(?=-Reviews)', firm_link)\n",
    "        return match.group(1) if match else None\n",
    "\n",
    "    df[firm_name_column] = df[firm_link_column].apply(extract_name)\n",
    "    firm_counts = df[firm_name_column].value_counts()\n",
    "    valid_firms = firm_counts[firm_counts >= 100].index\n",
    "    return df[df[firm_name_column].isin(valid_firms)]\n",
    "\n",
    "# Function to unify employment statuses\n",
    "def unify_employment_statuses(df, status_column):\n",
    "    \"\"\"\n",
    "    Standardize employment statuses.\n",
    "    \"\"\"\n",
    "    def unify_status(status):\n",
    "        if \"Current\" in status:\n",
    "            if \"Contractor\" in status:\n",
    "                return \"Current Contractor\"\n",
    "            elif \"Freelancer\" in status:\n",
    "                return \"Current Freelancer\"\n",
    "            elif \"Intern\" in status:\n",
    "                return \"Current Intern\"\n",
    "            elif \"Self-employed\" in status:\n",
    "                return \"Current Self-employed\"\n",
    "            else:\n",
    "                return \"Current Employee\"\n",
    "        elif \"Former\" in status:\n",
    "            if \"Contractor\" in status:\n",
    "                return \"Former Contractor\"\n",
    "            elif \"Freelancer\" in status:\n",
    "                return \"Former Freelancer\"\n",
    "            elif \"Intern\" in status:\n",
    "                return \"Former Intern\"\n",
    "            elif \"PhD\" in status:\n",
    "                return \"Former PhD\"\n",
    "            elif \"Self-employed\" in status:\n",
    "                return \"Former Self-employed\"\n",
    "            else:\n",
    "                return \"Former Employee\"\n",
    "        else:\n",
    "            return \"Other\"\n",
    "\n",
    "    df[status_column] = df[status_column].apply(unify_status)\n",
    "    return df\n",
    "\n",
    "# Main cleaning function\n",
    "def clean_dataset(file_path, rating_columns, missing_columns, firm_link_column, status_column, date_column, year_column):\n",
    "    \"\"\"\n",
    "    Clean the dataset by applying all cleaning functions step by step.\n",
    "    \"\"\"\n",
    "    # Read the data\n",
    "    df = pd.read_csv(file_path, low_memory=False)\n",
    "    \n",
    "    # Clean rating columns\n",
    "    df = clean_rating_columns(df, rating_columns)\n",
    "    \n",
    "    # Drop unnecessary columns\n",
    "    df.drop(columns=[\"title\", \"advice\", \"index\", \"Business Outlook\"], inplace=True)\n",
    "    \n",
    "    # Drop rows with significant missing values\n",
    "    df.dropna(subset=['pros', 'cons', 'Culture & Values'], inplace=True)\n",
    "    \n",
    "    # Extract year and filter rows\n",
    "    df = extract_year(df, date_column, year_column)\n",
    "    \n",
    "    # Handle missing values in specific columns\n",
    "    df = handle_missing_values(df, missing_columns, fill_value=0.0)\n",
    "    \n",
    "    # Extract and filter firm names\n",
    "    df = extract_firm_names(df, firm_link_column, 'firm_name')\n",
    "    \n",
    "    # Unify employment statuses\n",
    "    df = unify_employment_statuses(df, status_column)\n",
    "    \n",
    "    return df\n",
    "\n",
    "# Usage\n",
    "file_path = \"../data/raw/all_reviews.csv\"\n",
    "rating_columns = ['Work/Life Balance', 'Compensation and Benefits', 'Senior Management', 'Career Opportunities']\n",
    "missing_columns = ['Diversity & Inclusion']\n",
    "firm_link_column = 'firm_link'\n",
    "status_column = 'status'\n",
    "date_column = 'date'\n",
    "year_column = 'year'\n",
    "job_column = 'job'\n",
    "\n",
    "cleaned_reviews = clean_dataset(\n",
    "    file_path=file_path,\n",
    "    rating_columns=rating_columns,\n",
    "    missing_columns=missing_columns,\n",
    "    firm_link_column=firm_link_column,\n",
    "    status_column=status_column,\n",
    "    date_column=date_column,\n",
    "    year_column=year_column,\n",
    "    job_column=job_column\n",
    ")\n",
    "\n",
    "# Check missing values in the cleaned dataset\n",
    "print(cleaned_reviews.isna().sum())\n"
   ]
  },
  {
   "cell_type": "code",
   "execution_count": 21,
   "id": "53d3d624-a659-4a2d-b393-dcb2c3e94b1c",
   "metadata": {},
   "outputs": [
    {
     "name": "stdout",
     "output_type": "stream",
     "text": [
      "(6016214, 18)\n",
      "rating                       0\n",
      "status                       0\n",
      "pros                         0\n",
      "cons                         0\n",
      "Recommend                    0\n",
      "CEO Approval                 0\n",
      "Business Outlook             0\n",
      "Career Opportunities         0\n",
      "Compensation and Benefits    0\n",
      "Senior Management            0\n",
      "Work/Life Balance            0\n",
      "Culture & Values             0\n",
      "Diversity & Inclusion        0\n",
      "firm_link                    0\n",
      "date                         0\n",
      "job                          0\n",
      "year                         0\n",
      "firm_name                    0\n",
      "dtype: int64\n"
     ]
    }
   ],
   "source": [
    "print(cleaned_reviews.shape)\n",
    "print(cleaned_reviews.isna().sum())"
   ]
  },
  {
   "cell_type": "code",
   "execution_count": 27,
   "id": "3931e90d-7495-4d84-86dd-90a0ff029a95",
   "metadata": {},
   "outputs": [
    {
     "data": {
      "image/png": "[encoded data removed]",
      "text/plain": [
       "<Figure size 1000x800 with 2 Axes>"
      ]
     },
     "metadata": {},
     "output_type": "display_data"
    }
   ],
   "source": [
    "# Select relevant numerical columns\n",
    "numerical_cols = ['rating', 'Work/Life Balance', 'Compensation and Benefits', 'Career Opportunities', 'Culture & Values', 'Senior Management','Diversity & Inclusion']\n",
    "corr_matrix = cleaned_reviews[numerical_cols].corr()\n",
    "# Visualize the correlation matrix\n",
    "plt.figure(figsize=(10, 8))\n",
    "sns.heatmap(corr_matrix, annot=True, cmap='coolwarm')\n",
    "plt.show()"
   ]
  },
  {
   "cell_type": "markdown",
   "id": "e360fd57-6016-4652-b3d8-e4ea1d482335",
   "metadata": {},
   "source": [
    "- Work/Life Balance (0.66): Directly related to employee satisfaction and frequently highlighted as a key workplace factor.\n",
    "- Culture & Values (0.79): Strongest correlation with rating, making it essential for analysis.\n",
    "- Senior Management (0.77): Indicates a significant impact on employee perception.\n",
    "- Career Opportunities (0.74): Highly correlated with rating, crucial for assessing growth potential and satisfaction.\n",
    "- Diversity & Inclusion (0.66): While correlated, it’s slightly less impactful compared to the others. However, we might address how inclusivity initiatives affect workplace well-being and satisfaction"
   ]
  },
  {
   "cell_type": "code",
   "execution_count": 41,
   "id": "7e734570-c987-4ef6-8a6c-e6b1ef325e91",
   "metadata": {},
   "outputs": [
    {
     "name": "stdout",
     "output_type": "stream",
     "text": [
      "Value counts for column rating:\n",
      "rating\n",
      "5.0    1074956\n",
      "4.0     960909\n",
      "3.0     688419\n",
      "2.0     291067\n",
      "1.0     279328\n",
      "Name: count, dtype: int64\n",
      "\n",
      "\n",
      "Value counts for column status:\n",
      "status\n",
      "Current Employee                                               635516\n",
      "Current Employee, more than 1 year                             402304\n",
      "Former Employee                                                325517\n",
      "Former Employee, more than 1 year                              319383\n",
      "Current Employee, more than 3 years                            301719\n",
      "                                                                ...  \n",
      "Former Intern, more than 10 years                                   1\n",
      "Former Intern, more than 5 years                                    1\n",
      "KEY NOT FOUND: jobLine.reserve-former, more than 8 years            1\n",
      "KEY NOT FOUND: jobLine.seasonal-current, more than 10 years         1\n",
      "KEY NOT FOUND: jobLine.seasonal-current, more than 5 years          1\n",
      "Name: count, Length: 85, dtype: int64\n",
      "\n",
      "\n",
      "Value counts for column pros:\n",
      "pros\n",
      "Great company to work for                                                                                                                                                                     2907\n",
      "Work life balance is good                                                                                                                                                                     2843\n",
      "I joined in 2020 during COVID and and was happy with the way I was treated, On time Salary, flexible working hours and work from home opportunity are the best pros.                          2426\n",
      "Good work in ASP.NET technology, good team                                                                                                                                                    2426\n",
      "Good company to work for                                                                                                                                                                      2311\n",
      "                                                                                                                                                                                              ... \n",
      "It is stable job with good benefits. It offers salary transparency as everyone is on a grade system. If you are a certain grade, you have a certain salary regardless of age, gender, etc.       1\n",
      "Great pay and scalling and gained experience                                                                                                                                                     1\n",
      "Solid community and the military offers great benefits.                                                                                                                                          1\n",
      "travel, health care, benefits, time off, comradery.                                                                                                                                              1\n",
      "Good tips and pay is good                                                                                                                                                                        1\n",
      "Name: count, Length: 2801334, dtype: int64\n",
      "\n",
      "\n",
      "Value counts for column cons:\n",
      "cons\n",
      "None that I can think of                                                                                                                                                                5343\n",
      "Only few staff in office as other staff working from home because of COVID                                                                                                              2426\n",
      "Though can't think of cons, would be nice to get more time off.                                                                                                                         2426\n",
      "None that I can think of.                                                                                                                                                               2238\n",
      "No cons as of now                                                                                                                                                                       2066\n",
      "                                                                                                                                                                                        ... \n",
      "No one wants to work and no overtime                                                                                                                                                       1\n",
      "- Time spent away from family\\r\\n- Policy changes almost 4-6 years for annual evaluations and reports                                                                                      1\n",
      "IT is a needs of the business type organization. sometimes nights, weekends, and holidays.                                                                                                 1\n",
      "IT systems are slow\\r\\n\\r\\nA lot of bureaucracy often prevents them from being agile\\r\\n\\r\\nThe officer versus enlisted diversion is outdated and not efficient for office type jobs       1\n",
      "Varying shift hours lack of understanding between employers                                                                                                                                1\n",
      "Name: count, Length: 2795474, dtype: int64\n",
      "\n",
      "\n",
      "Value counts for column CEO Approval:\n",
      "CEO Approval\n",
      "v    1381644\n",
      "o     937827\n",
      "r     605297\n",
      "x     369911\n",
      "Name: count, dtype: int64\n",
      "\n",
      "\n",
      "Value counts for column Career Opportunities:\n",
      "Career Opportunities\n",
      "5.0    994205\n",
      "4.0    849360\n",
      "3.0    735586\n",
      "2.0    361556\n",
      "1.0    353972\n",
      "Name: count, dtype: int64\n",
      "\n",
      "\n",
      "Value counts for column Compensation and Benefits:\n",
      "Compensation and Benefits\n",
      "4.0    890791\n",
      "5.0    862630\n",
      "3.0    821277\n",
      "2.0    393422\n",
      "1.0    326559\n",
      "Name: count, dtype: int64\n",
      "\n",
      "\n",
      "Value counts for column Senior Management:\n",
      "Senior Management\n",
      "5.0    843208\n",
      "4.0    788233\n",
      "3.0    716667\n",
      "1.0    548419\n",
      "2.0    398152\n",
      "Name: count, dtype: int64\n",
      "\n",
      "\n",
      "Value counts for column Work/Life Balance:\n",
      "Work/Life Balance\n",
      "5.0    1009451\n",
      "4.0     777447\n",
      "3.0     703786\n",
      "1.0     443270\n",
      "2.0     360725\n",
      "Name: count, dtype: int64\n",
      "\n",
      "\n",
      "Value counts for column Culture & Values:\n",
      "Culture & Values\n",
      "5.0    1166867\n",
      "4.0     810437\n",
      "3.0     613920\n",
      "1.0     385521\n",
      "2.0     317934\n",
      "Name: count, dtype: int64\n",
      "\n",
      "\n",
      "Value counts for column Diversity & Inclusion:\n",
      "Diversity & Inclusion\n",
      "5.0    1367223\n",
      "4.0     845476\n",
      "3.0     565632\n",
      "1.0     280854\n",
      "2.0     235494\n",
      "Name: count, dtype: int64\n",
      "\n",
      "\n",
      "Value counts for column date:\n",
      "date\n",
      "Jan 11, 2021     7244\n",
      "Jan 12, 2021     7198\n",
      "Jun 8, 2022      7187\n",
      "Jan 13, 2021     7084\n",
      "Jan 19, 2021     7032\n",
      "                 ... \n",
      "Jul 18, 2023        2\n",
      "Jul 14, 2023        1\n",
      "Jul 20, 2023        1\n",
      "Jul 26, 2023        1\n",
      "Jul 15, 2023        1\n",
      "Name: count, Length: 1039, dtype: int64\n",
      "\n",
      "\n",
      "Value counts for column job:\n",
      "job\n",
      "Anonymous Employee                 263899\n",
      "Software Engineer                   60984\n",
      "Sales Associate                     51635\n",
      "Manager                             51622\n",
      "Customer Service Representative     38152\n",
      "                                    ...  \n",
      "Fabrication Projects Specialist         1\n",
      "Digital Technical Designer              1\n",
      "Stock and Cashier                       1\n",
      "Shipping Management Assistant           1\n",
      "Banking Center Manager II               1\n",
      "Name: count, Length: 212566, dtype: int64\n",
      "\n",
      "\n"
     ]
    }
   ],
   "source": [
    "\"\"\"\n",
    "Check how the values look like and what we need to clean\n",
    "\n",
    "\"\"\"\n",
    "\n",
    "#for col in cleaned_reviews:\n",
    "#    print(f\"Value counts for column {col}:\")\n",
    "#    print(cleaned_reviews[col].value_counts())\n",
    "#    print(\"\\n\")"
   ]
  },
  {
   "cell_type": "code",
   "execution_count": 77,
   "id": "99d98946-03b4-42d8-a5d5-52c8218c8341",
   "metadata": {},
   "outputs": [],
   "source": [
    "clean_reviews.drop(columns = [\"advice\", \"index\", \"date\", \"Business Outlook\"], inplace = True)"
   ]
  },
  {
   "cell_type": "code",
   "execution_count": 79,
   "id": "c1f87cb1-4ff7-4d16-86ce-988250e07428",
   "metadata": {},
   "outputs": [
    {
     "data": {
      "text/plain": [
       "(7630183, 16)"
      ]
     },
     "execution_count": 79,
     "metadata": {},
     "output_type": "execute_result"
    }
   ],
   "source": [
    "clean_reviews.shape"
   ]
  },
  {
   "cell_type": "code",
   "execution_count": 81,
   "id": "29794ae3-e123-44d0-a129-d17edd59da08",
   "metadata": {},
   "outputs": [
    {
     "data": {
      "text/plain": [
       "rating                             0\n",
       "title                          22334\n",
       "status                             0\n",
       "pros                              16\n",
       "cons                              44\n",
       "Recommend                          0\n",
       "CEO Approval                       0\n",
       "Career Opportunities               0\n",
       "Compensation and Benefits          0\n",
       "Senior Management                  0\n",
       "Work/Life Balance                  0\n",
       "Culture & Values              119633\n",
       "Diversity & Inclusion        4327036\n",
       "firm_link                          0\n",
       "job                                0\n",
       "year                               0\n",
       "dtype: int64"
      ]
     },
     "execution_count": 81,
     "metadata": {},
     "output_type": "execute_result"
    }
   ],
   "source": [
    "clean_reviews.isna().sum()"
   ]
  },
  {
   "cell_type": "code",
   "execution_count": 83,
   "id": "963f7d94-5fca-481b-9916-76226432af20",
   "metadata": {},
   "outputs": [
    {
     "data": {
      "text/plain": [
       "Diversity & Inclusion\n",
       "5.0    1369391\n",
       "4.0     846871\n",
       "3.0     566861\n",
       "1.0     283727\n",
       "2.0     236297\n",
       "Name: count, dtype: int64"
      ]
     },
     "execution_count": 83,
     "metadata": {},
     "output_type": "execute_result"
    }
   ],
   "source": [
    "clean_reviews[\"Diversity & Inclusion\"].value_counts()"
   ]
  },
  {
   "cell_type": "code",
   "execution_count": 85,
   "id": "c01e1d0f-96a0-4d88-91c9-99246c2f9e84",
   "metadata": {},
   "outputs": [
    {
     "data": {
      "text/plain": [
       "3         NaN\n",
       "29        NaN\n",
       "31        NaN\n",
       "32        NaN\n",
       "33        NaN\n",
       "           ..\n",
       "9901884   NaN\n",
       "9901885   NaN\n",
       "9901886   NaN\n",
       "9901887   NaN\n",
       "9901888   NaN\n",
       "Name: Diversity & Inclusion, Length: 4327036, dtype: float64"
      ]
     },
     "execution_count": 85,
     "metadata": {},
     "output_type": "execute_result"
    }
   ],
   "source": [
    "clean_reviews['Diversity & Inclusion'][~clean_reviews['Diversity & Inclusion'].apply(pd.to_numeric, errors='coerce').notnull()]"
   ]
  },
  {
   "cell_type": "code",
   "execution_count": 89,
   "id": "f2c1b2e5-8b76-42cc-bf7c-6a992052b067",
   "metadata": {},
   "outputs": [],
   "source": [
    "clean_reviews = clean_reviews.dropna(subset=['pros', 'cons', \"Culture & Values\"])"
   ]
  },
  {
   "cell_type": "code",
   "execution_count": 91,
   "id": "5253ea00-f555-454e-adb9-b4baf951aaa0",
   "metadata": {},
   "outputs": [
    {
     "data": {
      "text/plain": [
       "rating                             0\n",
       "status                             0\n",
       "pros                               0\n",
       "cons                               0\n",
       "Recommend                          0\n",
       "CEO Approval                       0\n",
       "Career Opportunities               0\n",
       "Compensation and Benefits          0\n",
       "Senior Management                  0\n",
       "Work/Life Balance                  0\n",
       "Culture & Values                   0\n",
       "Diversity & Inclusion        4215811\n",
       "firm_link                          0\n",
       "job                                0\n",
       "year                               0\n",
       "dtype: int64"
      ]
     },
     "execution_count": 91,
     "metadata": {},
     "output_type": "execute_result"
    }
   ],
   "source": [
    "clean_reviews.isna().sum()"
   ]
  },
  {
   "cell_type": "code",
   "execution_count": 93,
   "id": "63633a4b-e1db-4714-8dd8-36ff9106f3f0",
   "metadata": {},
   "outputs": [
    {
     "data": {
      "text/plain": [
       "(7510490, 15)"
      ]
     },
     "execution_count": 93,
     "metadata": {},
     "output_type": "execute_result"
    }
   ],
   "source": [
    "clean_reviews.shape"
   ]
  },
  {
   "cell_type": "code",
   "execution_count": 95,
   "id": "fe97e6fd-daf6-4770-937e-f96caf38a0a8",
   "metadata": {
    "scrolled": true
   },
   "outputs": [
    {
     "name": "stdout",
     "output_type": "stream",
     "text": [
      "Missing Percentage: 42.58%\n"
     ]
    }
   ],
   "source": [
    "missing_percentage = clean_reviews['Diversity & Inclusion'].isna().sum() / len(df) * 100\n",
    "print(f\"Missing Percentage: {missing_percentage:.2f}%\")"
   ]
  },
  {
   "cell_type": "code",
   "execution_count": 101,
   "id": "e3014802-9c08-4311-8a93-523c2fbb2bd9",
   "metadata": {},
   "outputs": [
    {
     "name": "stderr",
     "output_type": "stream",
     "text": [
      "/var/folders/7h/j883bpy50yx9ffn06wrdxzy00000gn/T/ipykernel_7302/1289633316.py:1: SettingWithCopyWarning: \n",
      "A value is trying to be set on a copy of a slice from a DataFrame.\n",
      "Try using .loc[row_indexer,col_indexer] = value instead\n",
      "\n",
      "See the caveats in the documentation: https://pandas.pydata.org/pandas-docs/stable/user_guide/indexing.html#returning-a-view-versus-a-copy\n",
      "  clean_reviews['Diversity & Inclusion'] = clean_reviews['Diversity & Inclusion'].fillna(\"0.0\")\n"
     ]
    }
   ],
   "source": [
    "clean_reviews['Diversity & Inclusion'] = clean_reviews['Diversity & Inclusion'].fillna(\"0.0\")"
   ]
  },
  {
   "cell_type": "code",
   "execution_count": 111,
   "id": "a5357120-a18d-465d-b2ea-d0fb272850ba",
   "metadata": {},
   "outputs": [
    {
     "name": "stderr",
     "output_type": "stream",
     "text": [
      "/var/folders/7h/j883bpy50yx9ffn06wrdxzy00000gn/T/ipykernel_7302/3110252707.py:2: FutureWarning: Downcasting behavior in `replace` is deprecated and will be removed in a future version. To retain the old behavior, explicitly call `result.infer_objects(copy=False)`. To opt-in to the future behavior, set `pd.set_option('future.no_silent_downcasting', True)`\n",
      "  clean_reviews['Diversity & Inclusion'] = clean_reviews['Diversity & Inclusion'].replace(\"No response\", np.nan)\n",
      "/var/folders/7h/j883bpy50yx9ffn06wrdxzy00000gn/T/ipykernel_7302/3110252707.py:2: SettingWithCopyWarning: \n",
      "A value is trying to be set on a copy of a slice from a DataFrame.\n",
      "Try using .loc[row_indexer,col_indexer] = value instead\n",
      "\n",
      "See the caveats in the documentation: https://pandas.pydata.org/pandas-docs/stable/user_guide/indexing.html#returning-a-view-versus-a-copy\n",
      "  clean_reviews['Diversity & Inclusion'] = clean_reviews['Diversity & Inclusion'].replace(\"No response\", np.nan)\n",
      "/var/folders/7h/j883bpy50yx9ffn06wrdxzy00000gn/T/ipykernel_7302/3110252707.py:5: SettingWithCopyWarning: \n",
      "A value is trying to be set on a copy of a slice from a DataFrame.\n",
      "Try using .loc[row_indexer,col_indexer] = value instead\n",
      "\n",
      "See the caveats in the documentation: https://pandas.pydata.org/pandas-docs/stable/user_guide/indexing.html#returning-a-view-versus-a-copy\n",
      "  clean_reviews['Diversity & Inclusion'] = clean_reviews['Diversity & Inclusion'].fillna(0.0)\n",
      "/var/folders/7h/j883bpy50yx9ffn06wrdxzy00000gn/T/ipykernel_7302/3110252707.py:8: SettingWithCopyWarning: \n",
      "A value is trying to be set on a copy of a slice from a DataFrame.\n",
      "Try using .loc[row_indexer,col_indexer] = value instead\n",
      "\n",
      "See the caveats in the documentation: https://pandas.pydata.org/pandas-docs/stable/user_guide/indexing.html#returning-a-view-versus-a-copy\n",
      "  clean_reviews['Diversity & Inclusion'] = clean_reviews['Diversity & Inclusion'].astype(float)\n"
     ]
    }
   ],
   "source": [
    "# Replace \"No response\" with NaN first\n",
    "clean_reviews['Diversity & Inclusion'] = clean_reviews['Diversity & Inclusion'].replace(\"No response\", np.nan)\n",
    "\n",
    "# Replace NaN with 0.0\n",
    "clean_reviews['Diversity & Inclusion'] = clean_reviews['Diversity & Inclusion'].fillna(0.0)\n",
    "\n",
    "# Ensure the column is numeric\n",
    "clean_reviews['Diversity & Inclusion'] = clean_reviews['Diversity & Inclusion'].astype(float)"
   ]
  },
  {
   "cell_type": "code",
   "execution_count": 113,
   "id": "7a0fdee1-b938-4f0d-8e8d-9a1001462001",
   "metadata": {},
   "outputs": [
    {
     "data": {
      "text/plain": [
       "rating                       0\n",
       "status                       0\n",
       "pros                         0\n",
       "cons                         0\n",
       "Recommend                    0\n",
       "CEO Approval                 0\n",
       "Career Opportunities         0\n",
       "Compensation and Benefits    0\n",
       "Senior Management            0\n",
       "Work/Life Balance            0\n",
       "Culture & Values             0\n",
       "Diversity & Inclusion        0\n",
       "firm_link                    0\n",
       "job                          0\n",
       "year                         0\n",
       "dtype: int64"
      ]
     },
     "execution_count": 113,
     "metadata": {},
     "output_type": "execute_result"
    }
   ],
   "source": [
    "clean_reviews.isna().sum()"
   ]
  },
  {
   "cell_type": "code",
   "execution_count": 115,
   "id": "a82af2ce-1cdc-4f23-a1cb-b7dfc49fa331",
   "metadata": {},
   "outputs": [
    {
     "data": {
      "text/plain": [
       "(7510490, 15)"
      ]
     },
     "execution_count": 115,
     "metadata": {},
     "output_type": "execute_result"
    }
   ],
   "source": [
    "clean_reviews.shape"
   ]
  },
  {
   "cell_type": "code",
   "execution_count": 119,
   "id": "fd08e558-c59e-4817-8723-d94a591dbb4f",
   "metadata": {},
   "outputs": [
    {
     "name": "stderr",
     "output_type": "stream",
     "text": [
      "/var/folders/7h/j883bpy50yx9ffn06wrdxzy00000gn/T/ipykernel_7302/4289779218.py:1: SettingWithCopyWarning: \n",
      "A value is trying to be set on a copy of a slice from a DataFrame.\n",
      "Try using .loc[row_indexer,col_indexer] = value instead\n",
      "\n",
      "See the caveats in the documentation: https://pandas.pydata.org/pandas-docs/stable/user_guide/indexing.html#returning-a-view-versus-a-copy\n",
      "  clean_reviews['year'] = clean_reviews['year'].astype(int)\n"
     ]
    }
   ],
   "source": [
    "clean_reviews['year'] = clean_reviews['year'].astype(int)\n",
    "clean_reviews = clean_reviews[clean_reviews['year'] > 2014]"
   ]
  },
  {
   "cell_type": "code",
   "execution_count": 121,
   "id": "2dc53a36-95a6-4970-8c95-b3ef10a5eb3a",
   "metadata": {},
   "outputs": [
    {
     "data": {
      "text/plain": [
       "(6807037, 15)"
      ]
     },
     "execution_count": 121,
     "metadata": {},
     "output_type": "execute_result"
    }
   ],
   "source": [
    "clean_reviews.shape"
   ]
  },
  {
   "cell_type": "code",
   "execution_count": 125,
   "id": "2c4ffc03-e655-4f9c-af7c-67556a4043f6",
   "metadata": {},
   "outputs": [
    {
     "data": {
      "text/plain": [
       "array(['Current Employee, more than 10 years',\n",
       "       'Former Employee, less than 1 year',\n",
       "       'Current Employee, more than 1 year',\n",
       "       'Current Employee, more than 3 years',\n",
       "       'Former Employee, more than 5 years',\n",
       "       'Former Employee, more than 1 year', 'Current Employee',\n",
       "       'Former Employee, more than 8 years',\n",
       "       'Former Employee, more than 3 years',\n",
       "       'Current Employee, more than 5 years', 'Former Employee',\n",
       "       'Current Employee, less than 1 year', 'Former Contractor',\n",
       "       'Former Employee, more than 10 years',\n",
       "       'Current Employee, more than 8 years', 'Former Temporary Employee',\n",
       "       'Current Contractor', 'Former Intern, less than 1 year',\n",
       "       'Current Contractor, more than 1 year',\n",
       "       'Current Contractor, more than 5 years',\n",
       "       'Current Freelancer, less than 1 year', 'Former Intern',\n",
       "       'Current Intern, less than 1 year',\n",
       "       'Former Contractor, more than 10 years',\n",
       "       'Former Freelancer, less than 1 year', 'Current Intern',\n",
       "       'Current Contractor, less than 1 year',\n",
       "       'Former Intern, more than 3 years', 'Currently Self-employed',\n",
       "       'Former Freelancer', 'Former Contractor, less than 1 year',\n",
       "       'Current Intern, more than 1 year',\n",
       "       'Current Contractor, more than 10 years',\n",
       "       'Former Intern, more than 1 year',\n",
       "       'Former Freelancer, more than 3 years',\n",
       "       'Former Contractor, more than 1 year',\n",
       "       'Current Temporary Employee',\n",
       "       'Current Freelancer, more than 8 years',\n",
       "       'Current Contractor, more than 3 years',\n",
       "       'Former Contractor, more than 3 years',\n",
       "       'Current Temporary Employee, more than 3 years',\n",
       "       'Current Freelancer',\n",
       "       'KEY NOT FOUND: jobLine.seasonal-former, less than 1 year',\n",
       "       'KEY NOT FOUND: jobLine.reserve-former, less than 1 year',\n",
       "       'Current Freelancer, more than 3 years',\n",
       "       'Former Temporary Employee, less than 1 year',\n",
       "       'Former Freelancer, more than 1 year',\n",
       "       'Current Freelancer, more than 1 year',\n",
       "       'Current Contractor, more than 8 years',\n",
       "       'Current Intern, more than 3 years',\n",
       "       'Former Contractor, more than 5 years',\n",
       "       'Former Temporary Employee, more than 1 year',\n",
       "       'Former Freelancer, more than 10 years',\n",
       "       'Former Contractor, more than 8 years',\n",
       "       'KEY NOT FOUND: jobLine.reserve-current',\n",
       "       'Current Temporary Employee, more than 1 year',\n",
       "       'Current Freelancer, more than 5 years',\n",
       "       'Current Temporary Employee, less than 1 year',\n",
       "       'Former Temporary Employee, more than 5 years',\n",
       "       'Former Freelancer, more than 8 years',\n",
       "       'KEY NOT FOUND: jobLine.seasonal-current, more than 10 years',\n",
       "       'KEY NOT FOUND: jobLine.per_diem-current',\n",
       "       'Former Freelancer, more than 5 years',\n",
       "       'KEY NOT FOUND: jobLine.seasonal-former', 'Formerly Self-employed',\n",
       "       'KEY NOT FOUND: jobLine.reserve-former, more than 8 years',\n",
       "       'Former Intern, more than 5 years',\n",
       "       'Current Freelancer, more than 10 years',\n",
       "       'Former Intern, more than 10 years',\n",
       "       'Formerly Self-employed, less than 1 year',\n",
       "       'KEY NOT FOUND: jobLine.seasonal-current',\n",
       "       'KEY NOT FOUND: jobLine.seasonal-current, more than 3 years',\n",
       "       'Current Intern, more than 5 years',\n",
       "       'Former Temporary Employee, more than 10 years',\n",
       "       'KEY NOT FOUND: jobLine.per_diem-former',\n",
       "       'Current Intern, more than 8 years',\n",
       "       'KEY NOT FOUND: jobLine.reserve-former', 'Former Apprentice',\n",
       "       'KEY NOT FOUND: jobLine.seasonal-former, more than 1 year',\n",
       "       'Former Temporary Employee, more than 3 years',\n",
       "       'KEY NOT FOUND: jobLine.seasonal-current, less than 1 year',\n",
       "       'Current Apprentice',\n",
       "       'KEY NOT FOUND: jobLine.seasonal-current, more than 1 year',\n",
       "       'Formerly Self-employed, more than 3 years', 'Current PhD',\n",
       "       'Current Temporary Employee, more than 5 years',\n",
       "       'KEY NOT FOUND: jobLine.seasonal-current, more than 5 years'],\n",
       "      dtype=object)"
      ]
     },
     "execution_count": 125,
     "metadata": {},
     "output_type": "execute_result"
    }
   ],
   "source": [
    "clean_reviews['status'].unique()"
   ]
  },
  {
   "cell_type": "code",
   "execution_count": 127,
   "id": "b86e6de9-33af-4b26-be31-360bd2a68bc5",
   "metadata": {},
   "outputs": [],
   "source": [
    "# Filter out rows where 'status' contains \"KEY NOT FOUND:\"\n",
    "clean_reviews = clean_reviews[~clean_reviews['status'].str.contains(\"KEY NOT FOUND:\", na=False)] #~ negates the filter condition, meaning it keeps rows that do not contain \"KEY NOT FOUND:\"."
   ]
  },
  {
   "cell_type": "code",
   "execution_count": 131,
   "id": "c0ae7879-011e-4b33-86d8-8d7ff0ade54b",
   "metadata": {},
   "outputs": [
    {
     "name": "stdout",
     "output_type": "stream",
     "text": [
      "Unique statuses after cleaning: 72\n"
     ]
    }
   ],
   "source": [
    "unique_status = clean_reviews['status'].unique()\n",
    "print(f\"Unique statuses after cleaning: {len(unique_status)}\")"
   ]
  },
  {
   "cell_type": "code",
   "execution_count": 135,
   "id": "6e2609f1-6574-4eb5-8fc6-555152d7bef5",
   "metadata": {},
   "outputs": [],
   "source": [
    "clean_reviews['status'] = reviews['status']"
   ]
  },
  {
   "cell_type": "code",
   "execution_count": 137,
   "id": "87b6d5b1-7352-4c1f-bf7a-9b697597f509",
   "metadata": {},
   "outputs": [
    {
     "data": {
      "text/plain": [
       "array(['Current Employee, more than 10 years',\n",
       "       'Former Employee, less than 1 year',\n",
       "       'Current Employee, more than 1 year',\n",
       "       'Current Employee, more than 3 years',\n",
       "       'Former Employee, more than 5 years',\n",
       "       'Former Employee, more than 1 year', 'Current Employee',\n",
       "       'Former Employee, more than 8 years',\n",
       "       'Former Employee, more than 3 years',\n",
       "       'Current Employee, more than 5 years', 'Former Employee',\n",
       "       'Current Employee, less than 1 year', 'Former Contractor',\n",
       "       'Former Employee, more than 10 years',\n",
       "       'Current Employee, more than 8 years', 'Former Temporary Employee',\n",
       "       'Current Contractor', 'Former Intern, less than 1 year',\n",
       "       'Current Contractor, more than 1 year',\n",
       "       'Current Contractor, more than 5 years',\n",
       "       'Current Freelancer, less than 1 year', 'Former Intern',\n",
       "       'Current Intern, less than 1 year',\n",
       "       'Former Contractor, more than 10 years',\n",
       "       'Former Freelancer, less than 1 year', 'Current Intern',\n",
       "       'Current Contractor, less than 1 year',\n",
       "       'Former Intern, more than 3 years', 'Currently Self-employed',\n",
       "       'Former Freelancer', 'Former Contractor, less than 1 year',\n",
       "       'Current Intern, more than 1 year',\n",
       "       'Current Contractor, more than 10 years',\n",
       "       'Former Intern, more than 1 year',\n",
       "       'Former Freelancer, more than 3 years',\n",
       "       'Former Contractor, more than 1 year',\n",
       "       'Current Temporary Employee',\n",
       "       'Current Freelancer, more than 8 years',\n",
       "       'Current Contractor, more than 3 years',\n",
       "       'Former Contractor, more than 3 years',\n",
       "       'Current Temporary Employee, more than 3 years',\n",
       "       'Current Freelancer', 'Current Freelancer, more than 3 years',\n",
       "       'Former Temporary Employee, less than 1 year',\n",
       "       'Former Freelancer, more than 1 year',\n",
       "       'Current Freelancer, more than 1 year',\n",
       "       'Current Contractor, more than 8 years',\n",
       "       'Current Intern, more than 3 years',\n",
       "       'Former Contractor, more than 5 years',\n",
       "       'Former Temporary Employee, more than 1 year',\n",
       "       'Former Freelancer, more than 10 years',\n",
       "       'Former Contractor, more than 8 years',\n",
       "       'Current Temporary Employee, more than 1 year',\n",
       "       'Current Freelancer, more than 5 years',\n",
       "       'Current Temporary Employee, less than 1 year',\n",
       "       'Former Temporary Employee, more than 5 years',\n",
       "       'Former Freelancer, more than 8 years',\n",
       "       'Former Freelancer, more than 5 years', 'Formerly Self-employed',\n",
       "       'Former Intern, more than 5 years',\n",
       "       'Current Freelancer, more than 10 years',\n",
       "       'Former Intern, more than 10 years',\n",
       "       'Formerly Self-employed, less than 1 year',\n",
       "       'Current Intern, more than 5 years',\n",
       "       'Former Temporary Employee, more than 10 years',\n",
       "       'Current Intern, more than 8 years', 'Former Apprentice',\n",
       "       'Former Temporary Employee, more than 3 years',\n",
       "       'Current Apprentice', 'Formerly Self-employed, more than 3 years',\n",
       "       'Current PhD', 'Current Temporary Employee, more than 5 years'],\n",
       "      dtype=object)"
      ]
     },
     "execution_count": 137,
     "metadata": {},
     "output_type": "execute_result"
    }
   ],
   "source": [
    "clean_reviews['status'].unique()"
   ]
  },
  {
   "cell_type": "code",
   "execution_count": 332,
   "id": "6051d367-be2e-4448-81b7-16e630302ecb",
   "metadata": {},
   "outputs": [
    {
     "data": {
      "text/plain": [
       "job\n",
       "Anonymous Employee    995916\n",
       "                      287913\n",
       "Software Engineer      93970\n",
       "Manager                79607\n",
       "Sales Associate        77447\n",
       "                       ...  \n",
       "Supply Chain              10\n",
       "Sales Colleague           10\n",
       "Beauty Advisor            10\n",
       "Statistician              10\n",
       "Product Marketing         10\n",
       "Name: count, Length: 4412, dtype: int64"
      ]
     },
     "execution_count": 332,
     "metadata": {},
     "output_type": "execute_result"
    }
   ],
   "source": [
    "clean_reviews[\"job\"] = reviews[\"job\"]\n",
    "clean_reviews[\"job\"].value_counts()"
   ]
  },
  {
   "cell_type": "code",
   "execution_count": 334,
   "id": "7c180708-3e14-4be2-b449-31dd0e2ed565",
   "metadata": {},
   "outputs": [
    {
     "name": "stderr",
     "output_type": "stream",
     "text": [
      "/var/folders/7h/j883bpy50yx9ffn06wrdxzy00000gn/T/ipykernel_7302/1516026913.py:2: FutureWarning:\n",
      "\n",
      "A value is trying to be set on a copy of a DataFrame or Series through chained assignment using an inplace method.\n",
      "The behavior will change in pandas 3.0. This inplace method will never work because the intermediate object on which we are setting values always behaves as a copy.\n",
      "\n",
      "For example, when doing 'df[col].method(value, inplace=True)', try using 'df.method({col: value}, inplace=True)' or df[col] = df[col].method(value) instead, to perform the operation inplace on the original object.\n",
      "\n",
      "\n",
      "\n",
      "/var/folders/7h/j883bpy50yx9ffn06wrdxzy00000gn/T/ipykernel_7302/1516026913.py:3: FutureWarning:\n",
      "\n",
      "A value is trying to be set on a copy of a DataFrame or Series through chained assignment using an inplace method.\n",
      "The behavior will change in pandas 3.0. This inplace method will never work because the intermediate object on which we are setting values always behaves as a copy.\n",
      "\n",
      "For example, when doing 'df[col].method(value, inplace=True)', try using 'df.method({col: value}, inplace=True)' or df[col] = df[col].method(value) instead, to perform the operation inplace on the original object.\n",
      "\n",
      "\n",
      "\n"
     ]
    }
   ],
   "source": [
    "def clean_job_titles(df, job_column):\n",
    "    \"\"\"\n",
    "    Clean and standardize job titles in a DataFrame.\n",
    "    \n",
    "    Args:\n",
    "    - df (pd.DataFrame): DataFrame containing the job titles to clean.\n",
    "    - job_column (str): Name of the column with job titles.\n",
    "    \n",
    "    Returns:\n",
    "    - pd.DataFrame: Cleaned DataFrame with standardized job titles.\n",
    "    \"\"\"\n",
    "    # Replace empty strings or NaN values with \"Anonymous Employee\"\n",
    "    df[job_column].replace(' ', 'Anonymous Employee', inplace=True)\n",
    "    df[job_column].fillna('Anonymous Employee', inplace=True)\n",
    "    \n",
    "    # Strip leading/trailing spaces\n",
    "    df[job_column] = df[job_column].str.strip()\n",
    "    \n",
    "    # Count occurrences of each job title\n",
    "    job_counts = df[job_column].value_counts()\n",
    "    \n",
    "    # Filter out jobs mentioned less than 100 times\n",
    "    valid_jobs = job_counts[job_counts >= 100].index\n",
    "    df = df[df[job_column].isin(valid_jobs)]\n",
    "    \n",
    "    # Replace specific job titles\n",
    "    job_replacements = {\n",
    "        'Salees Associate': 'Sales Associate',\n",
    "        'IT Strategy Consultant': 'IT Consultant',\n",
    "        'Sales Associate/Cashier': 'Cashier',\n",
    "        'Senior Software Engineer': 'Software Engineer', \n",
    "        'Senior Systems Engineer': 'Software Engineer', \n",
    "        'Senior Software Developer': 'Software Engineer', \n",
    "        'Associate Software Engineer': 'Software Engineer',\n",
    "        'Sales': 'Sales Associate', \n",
    "        'Salees Associate ': 'Sales Associate', \n",
    "        'Retail Sales Associate': 'Sales Associate',\n",
    "        'Sales Assistant': 'Sales Associate', \n",
    "        'Sales Representative': 'Sales Associate',\n",
    "        'Systems Engineer': 'Software Engineer',\n",
    "        'Senior Associate': 'Associate',\n",
    "        'Senior Analyst ': 'Analyst',\n",
    "        'Business Analyst': 'Analyst', \n",
    "        'Senior Business Analyst ': 'Analyst',\n",
    "        'Senior Business Analyst': 'Analyst', \n",
    "        'IT Analyst': 'Analyst',\n",
    "        'Senior Analyst': 'Analyst',\n",
    "        'Programmer Analyst': 'Analyst', \n",
    "        'Financial Analyst': 'Analyst',\n",
    "        'Server': 'Waiter/Waitress', \n",
    "        'Waiter': 'Waiter/Waitress', \n",
    "        'Waitress': 'Waiter/Waitress',\n",
    "        'Warehouse Worker': 'Warehouse Associate',\n",
    "        'Human Resources': 'HR', \n",
    "        'Recruiter': 'HR',\n",
    "        'Customer Service Representative': 'Customer Service', \n",
    "        'Customer Service Representative (CSR)': 'Customer Service',\n",
    "        'Customer Assistant': 'Customer Service', \n",
    "        'Customer Service Associate': 'Customer Service',\n",
    "        'Executive Assistant': 'Administrative Assistant', \n",
    "        'Associate Director': 'Director',\n",
    "        'Shift Supervisor': 'Supervisor',\n",
    "        'Graduate Research Assistant': 'Researcher', \n",
    "        'Research Assistant': 'Researcher'\n",
    "    }\n",
    "    df[job_column] = df[job_column].replace(job_replacements)\n",
    "    \n",
    "    # Apply broader job title standardizations\n",
    "    def standardize_jobs(job):\n",
    "        if 'Teacher' in job:\n",
    "            return 'Teacher'\n",
    "        elif 'Manager' in job:\n",
    "            return 'Manager'\n",
    "        elif 'Consultant' in job:\n",
    "            return 'Consultant'\n",
    "        elif 'Intern' in job:\n",
    "            return 'Intern'\n",
    "        elif 'Team Member' in job or 'Crew Member' in job:\n",
    "            return 'Team Member'\n",
    "        return job\n",
    "    \n",
    "    df[job_column] = df[job_column].apply(standardize_jobs)\n",
    "    \n",
    "    return df\n"
   ]
  },
  {
   "cell_type": "code",
   "execution_count": 357,
   "id": "078449df-fcec-4e2d-94e5-fde49246a51a",
   "metadata": {},
   "outputs": [
    {
     "name": "stdout",
     "output_type": "stream",
     "text": [
      "job\n",
      "Anonymous Employee            1283829\n",
      "Manager                        590256\n",
      "Software Engineer              200063\n",
      "Sales Associate                146203\n",
      "Consultant                     129203\n",
      "Analyst                        117105\n",
      "Customer Service                96658\n",
      "Cashier                         68294\n",
      "Associate                       62844\n",
      "Team Member                     59789\n",
      "Director                        38167\n",
      "Software Developer              27601\n",
      "Engineer                        26568\n",
      "Supervisor                      25271\n",
      "Intern                          22594\n",
      "Administrative Assistant        20723\n",
      "Barista                         20311\n",
      "HR                              19230\n",
      "Researcher                      18321\n",
      "Team Leader                     18149\n",
      "Warehouse Associate             17921\n",
      "Account Executive               14598\n",
      "Vice President                  14159\n",
      "Registered Nurse                13637\n",
      "Waiter/Waitress                 13474\n",
      "Teacher                         13444\n",
      "Senior Engineer                 12586\n",
      "Data Analyst                    11398\n",
      "Team Lead                       10237\n",
      "Project Engineer                10225\n",
      "Delivery Driver                 10072\n",
      "Technical Lead                   9419\n",
      "Pharmacy Technician              8747\n",
      "Specialist                       8252\n",
      "Marketing                        7512\n",
      "Technical Support Engineer       7508\n",
      "Technician                       6822\n",
      "Security Officer                 6668\n",
      "Data Scientist                   6647\n",
      "Flight Attendant                 6138\n",
      "Name: count, dtype: int64\n"
     ]
    }
   ],
   "source": [
    "# Get the value counts for the 'job' column and sort them in descending order\n",
    "job_counts = clean_reviews['job'].value_counts()\n",
    "\n",
    "# Display the top 40 most frequent job titles\n",
    "top_40_jobs = job_counts.head(40)\n",
    "print(top_40_jobs)"
   ]
  },
  {
   "cell_type": "code",
   "execution_count": null,
   "id": "f3728297-cd59-43ad-a191-14fdfd72afda",
   "metadata": {},
   "outputs": [],
   "source": []
  }
 ],
 "metadata": {
  "kernelspec": {
   "display_name": "Python 3 (ipykernel)",
   "language": "python",
   "name": "python3"
  },
  "language_info": {
   "codemirror_mode": {
    "name": "ipython",
    "version": 3
   },
   "file_extension": ".py",
   "mimetype": "text/x-python",
   "name": "python",
   "nbconvert_exporter": "python",
   "pygments_lexer": "ipython3",
   "version": "3.12.2"
  }
 },
 "nbformat": 4,
 "nbformat_minor": 5
}

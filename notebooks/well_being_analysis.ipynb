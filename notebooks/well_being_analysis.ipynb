{
 "cells": [
  {
   "cell_type": "markdown",
   "metadata": {},
   "source": []
  },
  {
   "cell_type": "markdown",
   "metadata": {},
   "source": [
    "### Overview\n",
    "\n",
    "In this notebook, we will collect data to explore how well-being metrics relate to overall metrics and analyze the evolution of mental health recognition over the years, focusing on specific companies and job roles.\n",
    "\n",
    "Sample: 100 000 reviews\n",
    "- Current Employee: 53730\n",
    "- Former Employee: 46270"
   ]
  },
  {
   "cell_type": "markdown",
   "metadata": {},
   "source": [
    "### Import libraries with neccessary functions"
   ]
  },
  {
   "cell_type": "code",
   "execution_count": 1,
   "id": "73d86b9e-0d1c-4610-917d-9dcaa2340233",
   "metadata": {},
   "outputs": [],
   "source": [
    "import pandas as pd\n",
    "import seaborn as sns\n",
    "import matplotlib.pyplot as plt\n",
    "import plotly.express as px\n",
    "import re\n",
    "import spacy\n",
    "from collections import Counter\n",
    "from textblob import TextBlob\n",
    "from tqdm.notebook import tqdm"
   ]
  },
  {
   "cell_type": "markdown",
   "metadata": {},
   "source": [
    "### Import initial dataset from Kaggle"
   ]
  },
  {
   "cell_type": "code",
   "execution_count": 2,
   "id": "c68c086a-8356-4a98-98c6-fd27b884e070",
   "metadata": {},
   "outputs": [],
   "source": [
    "reviews = pd.read_csv(\"../data/raw/all_reviews.csv\", low_memory=False)"
   ]
  },
  {
   "cell_type": "markdown",
   "metadata": {},
   "source": [
    "### Cleaning functions"
   ]
  },
  {
   "cell_type": "code",
   "execution_count": 3,
   "id": "1c0566ac-d977-4bd9-b8a9-51c8ef345eb6",
   "metadata": {},
   "outputs": [
    {
     "name": "stderr",
     "output_type": "stream",
     "text": [
      "/var/folders/7h/j883bpy50yx9ffn06wrdxzy00000gn/T/ipykernel_1345/4252623836.py:9: SettingWithCopyWarning: \n",
      "A value is trying to be set on a copy of a slice from a DataFrame.\n",
      "Try using .loc[row_indexer,col_indexer] = value instead\n",
      "\n",
      "See the caveats in the documentation: https://pandas.pydata.org/pandas-docs/stable/user_guide/indexing.html#returning-a-view-versus-a-copy\n",
      "  df[col] = df[col].astype(float)\n",
      "/var/folders/7h/j883bpy50yx9ffn06wrdxzy00000gn/T/ipykernel_1345/4252623836.py:7: SettingWithCopyWarning: \n",
      "A value is trying to be set on a copy of a slice from a DataFrame.\n",
      "Try using .loc[row_indexer,col_indexer] = value instead\n",
      "\n",
      "See the caveats in the documentation: https://pandas.pydata.org/pandas-docs/stable/user_guide/indexing.html#returning-a-view-versus-a-copy\n",
      "  df[col] = pd.to_numeric(df[col], errors='coerce')\n"
     ]
    }
   ],
   "source": [
    "# Function to clean numerical rating columns\n",
    "def clean_rating_columns(df, columns):\n",
    "    \"\"\"\n",
    "    Clean numerical rating columns by converting them to float and removing invalid entries.\n",
    "    \"\"\"\n",
    "    for col in columns:\n",
    "        df[col] = pd.to_numeric(df[col], errors='coerce')\n",
    "        df = df.dropna(subset=[col])\n",
    "        df[col] = df[col].astype(float)\n",
    "    return df\n",
    "\n",
    "# Function to handle missing values\n",
    "def handle_missing_values(df, columns_to_fill, fill_value=0.0):\n",
    "    \"\"\"\n",
    "    Fill missing values for specified columns with a given value.\n",
    "    \"\"\"\n",
    "    for col in columns_to_fill:\n",
    "        df[col] = df[col].fillna(fill_value).astype(float)\n",
    "    return df\n",
    "\n",
    "# Function to extract year from date\n",
    "def extract_year(df, date_column, year_column):\n",
    "    \"\"\"\n",
    "    Extract the year from a date column and create a new year column.\n",
    "    \"\"\"\n",
    "    df[year_column] = df[date_column].str.split().str[2].astype(int)\n",
    "    df.drop(columns = \"date\", inplace = True)\n",
    "    return df[df[year_column] > 2014]\n",
    "\n",
    "# Function to extract firm names from the firm_link\n",
    "def extract_firm_names(df, firm_link_column, firm_name_column):\n",
    "    \"\"\"\n",
    "    Extract firm names from firm_link and filter firms with frequent mentions.\n",
    "    \"\"\"\n",
    "    def extract_name(firm_link):\n",
    "        match = re.search(r'(?<=/)([A-Za-z0-9\\-]+)(?=-Reviews)', firm_link)\n",
    "        return match.group(1) if match else None\n",
    "\n",
    "    df[firm_name_column] = df[firm_link_column].apply(extract_name)\n",
    "    df.drop(columns = \"firm_link\", inplace=True)\n",
    "    firm_counts = df[firm_name_column].value_counts()\n",
    "    valid_firms = firm_counts[firm_counts >= 100].index\n",
    "    \n",
    "    return df[df[firm_name_column].isin(valid_firms)]\n",
    "\n",
    "# Function to unify employment statuses\n",
    "def unify_employment_statuses(df, status_column):\n",
    "    \"\"\"\n",
    "    Standardize employment statuses.\n",
    "    \"\"\"\n",
    "    def unify_status(status):\n",
    "        if \"Current\" in status:\n",
    "            if \"Contractor\" in status:\n",
    "                return \"Current Contractor\"\n",
    "            elif \"Freelancer\" in status:\n",
    "                return \"Current Freelancer\"\n",
    "            elif \"Intern\" in status:\n",
    "                return \"Current Intern\"\n",
    "            elif \"Self-employed\" in status:\n",
    "                return \"Current Self-employed\"\n",
    "            else:\n",
    "                return \"Current Employee\"\n",
    "        elif \"Former\" in status:\n",
    "            if \"Contractor\" in status:\n",
    "                return \"Former Contractor\"\n",
    "            elif \"Freelancer\" in status:\n",
    "                return \"Former Freelancer\"\n",
    "            elif \"Intern\" in status:\n",
    "                return \"Former Intern\"\n",
    "            elif \"PhD\" in status:\n",
    "                return \"Former PhD\"\n",
    "            elif \"Self-employed\" in status:\n",
    "                return \"Former Self-employed\"\n",
    "            else:\n",
    "                return \"Former Employee\"\n",
    "        else:\n",
    "            return \"Other\"\n",
    "\n",
    "    df[status_column] = df[status_column].apply(unify_status)\n",
    "    return df\n",
    "\n",
    "# Main cleaning function\n",
    "def clean_dataset(file_path, rating_columns, missing_columns, firm_link_column, status_column, date_column, year_column, job_column):\n",
    "    \"\"\"\n",
    "    Clean the dataset by applying all cleaning functions step by step.\n",
    "    \"\"\"\n",
    "    # Read the data\n",
    "    df = pd.read_csv(file_path, low_memory=False)\n",
    "    \n",
    "    # Clean rating columns\n",
    "    df = clean_rating_columns(df, rating_columns)\n",
    "    \n",
    "    # Drop unnecessary columns\n",
    "    df.drop(columns=[\"title\", \"advice\", \"index\", \"Business Outlook\"], inplace=True)\n",
    "    \n",
    "    # Drop rows with significant missing values\n",
    "    df.dropna(subset=['pros', 'cons', 'Culture & Values'], inplace=True)\n",
    "\n",
    "    #Unify names of the columns and reset index\n",
    "    df['pros'] = df['pros'].str.lower().str.replace(r'\\n', ' ', regex=True)\n",
    "    df['cons'] = df['cons'].str.lower().str.replace(r'\\n', ' ', regex=True)\n",
    "    \n",
    "    \n",
    "    # Extract year and filter rows\n",
    "    df = extract_year(df, date_column, year_column)\n",
    "    \n",
    "    # Handle missing values in specific columns\n",
    "    df = handle_missing_values(df, missing_columns, fill_value=0.0)\n",
    "    \n",
    "    # Extract and filter firm names\n",
    "    df = extract_firm_names(df, firm_link_column, 'firm_name')\n",
    "\n",
    "    # Unify employment statuses\n",
    "    df = unify_employment_statuses(df, status_column)\n",
    "    \n",
    "    return df\n",
    "\n",
    "# Usage\n",
    "file_path = \"../data/raw/all_reviews.csv\"\n",
    "rating_columns = ['Work/Life Balance', 'Compensation and Benefits', 'Senior Management', 'Career Opportunities']\n",
    "missing_columns = ['Diversity & Inclusion']\n",
    "firm_link_column = 'firm_link'\n",
    "status_column = 'status'\n",
    "date_column = 'date'\n",
    "year_column = 'year'\n",
    "job_column = 'job'\n",
    "\n",
    "cleaned_reviews = clean_dataset(\n",
    "    file_path=file_path,\n",
    "    rating_columns=rating_columns,\n",
    "    missing_columns=missing_columns,\n",
    "    firm_link_column=firm_link_column,\n",
    "    status_column=status_column,\n",
    "    date_column=date_column,\n",
    "    year_column=year_column,\n",
    "    job_column=job_column\n",
    ")\n"
   ]
  },
  {
   "cell_type": "markdown",
   "metadata": {},
   "source": [
    "### Unify column names"
   ]
  },
  {
   "cell_type": "code",
   "execution_count": 4,
   "metadata": {},
   "outputs": [
    {
     "name": "stdout",
     "output_type": "stream",
     "text": [
      "(6016214, 15)\n"
     ]
    },
    {
     "data": {
      "text/html": [
       "<div>\n",
       "<style scoped>\n",
       "    .dataframe tbody tr th:only-of-type {\n",
       "        vertical-align: middle;\n",
       "    }\n",
       "\n",
       "    .dataframe tbody tr th {\n",
       "        vertical-align: top;\n",
       "    }\n",
       "\n",
       "    .dataframe thead th {\n",
       "        text-align: right;\n",
       "    }\n",
       "</style>\n",
       "<table border=\"1\" class=\"dataframe\">\n",
       "  <thead>\n",
       "    <tr style=\"text-align: right;\">\n",
       "      <th></th>\n",
       "      <th>rating</th>\n",
       "      <th>status</th>\n",
       "      <th>pros</th>\n",
       "      <th>cons</th>\n",
       "      <th>recommend</th>\n",
       "      <th>ceo_approval</th>\n",
       "      <th>career_opportunities</th>\n",
       "      <th>compensation_and_benefits</th>\n",
       "      <th>senior_management</th>\n",
       "      <th>work/life_balance</th>\n",
       "      <th>culture_and_values</th>\n",
       "      <th>diversity_and_inclusion</th>\n",
       "      <th>job</th>\n",
       "      <th>year</th>\n",
       "      <th>firm_name</th>\n",
       "    </tr>\n",
       "  </thead>\n",
       "  <tbody>\n",
       "    <tr>\n",
       "      <th>0</th>\n",
       "      <td>5.0</td>\n",
       "      <td>Current Employee</td>\n",
       "      <td>great life canada i liked</td>\n",
       "      <td>my dream canada working and enjoy the life</td>\n",
       "      <td>v</td>\n",
       "      <td>v</td>\n",
       "      <td>4.0</td>\n",
       "      <td>3.0</td>\n",
       "      <td>4.0</td>\n",
       "      <td>5.0</td>\n",
       "      <td>3.0</td>\n",
       "      <td>4.0</td>\n",
       "      <td>Delivery Post Person With Driving</td>\n",
       "      <td>2023</td>\n",
       "      <td>Canada-Life</td>\n",
       "    </tr>\n",
       "    <tr>\n",
       "      <th>1</th>\n",
       "      <td>5.0</td>\n",
       "      <td>Current Employee</td>\n",
       "      <td>best place to work always</td>\n",
       "      <td>system is a bit old</td>\n",
       "      <td>v</td>\n",
       "      <td>v</td>\n",
       "      <td>4.0</td>\n",
       "      <td>4.0</td>\n",
       "      <td>4.0</td>\n",
       "      <td>4.0</td>\n",
       "      <td>4.0</td>\n",
       "      <td>4.0</td>\n",
       "      <td>Manager</td>\n",
       "      <td>2023</td>\n",
       "      <td>Canada-Life</td>\n",
       "    </tr>\n",
       "    <tr>\n",
       "      <th>2</th>\n",
       "      <td>1.0</td>\n",
       "      <td>Former Employee</td>\n",
       "      <td>the pro is you get paid... i guess. i worked o...</td>\n",
       "      <td>just felt like another cog in the machine, wor...</td>\n",
       "      <td>v</td>\n",
       "      <td>v</td>\n",
       "      <td>1.0</td>\n",
       "      <td>1.0</td>\n",
       "      <td>1.0</td>\n",
       "      <td>1.0</td>\n",
       "      <td>1.0</td>\n",
       "      <td>1.0</td>\n",
       "      <td>Customer Service Specialist</td>\n",
       "      <td>2022</td>\n",
       "      <td>Canada-Life</td>\n",
       "    </tr>\n",
       "    <tr>\n",
       "      <th>3</th>\n",
       "      <td>1.0</td>\n",
       "      <td>Former Employee</td>\n",
       "      <td>my peers were good to work with. everyone will...</td>\n",
       "      <td>leadership is not helpful at all, they walk ar...</td>\n",
       "      <td>x</td>\n",
       "      <td>x</td>\n",
       "      <td>1.0</td>\n",
       "      <td>3.0</td>\n",
       "      <td>1.0</td>\n",
       "      <td>2.0</td>\n",
       "      <td>2.0</td>\n",
       "      <td>2.0</td>\n",
       "      <td>Anonymous Employee</td>\n",
       "      <td>2022</td>\n",
       "      <td>Canada-Life</td>\n",
       "    </tr>\n",
       "    <tr>\n",
       "      <th>4</th>\n",
       "      <td>4.0</td>\n",
       "      <td>Current Employee</td>\n",
       "      <td>great team with strong focus on personal devel...</td>\n",
       "      <td>company size often results in slow executive d...</td>\n",
       "      <td>v</td>\n",
       "      <td>v</td>\n",
       "      <td>4.0</td>\n",
       "      <td>3.0</td>\n",
       "      <td>4.0</td>\n",
       "      <td>4.0</td>\n",
       "      <td>5.0</td>\n",
       "      <td>5.0</td>\n",
       "      <td>Senior Workplace Strategist</td>\n",
       "      <td>2022</td>\n",
       "      <td>Canada-Life</td>\n",
       "    </tr>\n",
       "  </tbody>\n",
       "</table>\n",
       "</div>"
      ],
      "text/plain": [
       "   rating            status  \\\n",
       "0     5.0  Current Employee   \n",
       "1     5.0  Current Employee   \n",
       "2     1.0   Former Employee   \n",
       "3     1.0   Former Employee   \n",
       "4     4.0  Current Employee   \n",
       "\n",
       "                                                pros  \\\n",
       "0                          great life canada i liked   \n",
       "1                          best place to work always   \n",
       "2  the pro is you get paid... i guess. i worked o...   \n",
       "3  my peers were good to work with. everyone will...   \n",
       "4  great team with strong focus on personal devel...   \n",
       "\n",
       "                                                cons recommend ceo_approval  \\\n",
       "0         my dream canada working and enjoy the life         v            v   \n",
       "1                                system is a bit old         v            v   \n",
       "2  just felt like another cog in the machine, wor...         v            v   \n",
       "3  leadership is not helpful at all, they walk ar...         x            x   \n",
       "4  company size often results in slow executive d...         v            v   \n",
       "\n",
       "   career_opportunities  compensation_and_benefits  senior_management  \\\n",
       "0                   4.0                        3.0                4.0   \n",
       "1                   4.0                        4.0                4.0   \n",
       "2                   1.0                        1.0                1.0   \n",
       "3                   1.0                        3.0                1.0   \n",
       "4                   4.0                        3.0                4.0   \n",
       "\n",
       "   work/life_balance  culture_and_values  diversity_and_inclusion  \\\n",
       "0                5.0                 3.0                      4.0   \n",
       "1                4.0                 4.0                      4.0   \n",
       "2                1.0                 1.0                      1.0   \n",
       "3                2.0                 2.0                      2.0   \n",
       "4                4.0                 5.0                      5.0   \n",
       "\n",
       "                                  job  year    firm_name  \n",
       "0   Delivery Post Person With Driving  2023  Canada-Life  \n",
       "1                             Manager  2023  Canada-Life  \n",
       "2         Customer Service Specialist  2022  Canada-Life  \n",
       "3                  Anonymous Employee  2022  Canada-Life  \n",
       "4         Senior Workplace Strategist  2022  Canada-Life  "
      ]
     },
     "metadata": {},
     "output_type": "display_data"
    }
   ],
   "source": [
    "#lowercase column names and replace space by \"_\"\n",
    "cleaned_reviews.columns = cleaned_reviews.columns.str.lower().str.replace(\" \", \"_\", regex=True).str.replace(\"&\", \"and\", regex=True)\n",
    "cleaned_reviews.reset_index(drop=True, inplace=True)\n",
    "print(cleaned_reviews.shape)\n",
    "display(cleaned_reviews.head())"
   ]
  },
  {
   "cell_type": "markdown",
   "metadata": {},
   "source": [
    "### Cleaning job titles"
   ]
  },
  {
   "cell_type": "code",
   "execution_count": 5,
   "metadata": {},
   "outputs": [
    {
     "name": "stderr",
     "output_type": "stream",
     "text": [
      "/var/folders/7h/j883bpy50yx9ffn06wrdxzy00000gn/T/ipykernel_1345/2627540091.py:52: SettingWithCopyWarning: \n",
      "A value is trying to be set on a copy of a slice from a DataFrame.\n",
      "Try using .loc[row_indexer,col_indexer] = value instead\n",
      "\n",
      "See the caveats in the documentation: https://pandas.pydata.org/pandas-docs/stable/user_guide/indexing.html#returning-a-view-versus-a-copy\n",
      "  df[job_column] = df[job_column].replace(job_replacements)\n",
      "/var/folders/7h/j883bpy50yx9ffn06wrdxzy00000gn/T/ipykernel_1345/2627540091.py:72: SettingWithCopyWarning: \n",
      "A value is trying to be set on a copy of a slice from a DataFrame.\n",
      "Try using .loc[row_indexer,col_indexer] = value instead\n",
      "\n",
      "See the caveats in the documentation: https://pandas.pydata.org/pandas-docs/stable/user_guide/indexing.html#returning-a-view-versus-a-copy\n",
      "  df[job_column] = df[job_column].apply(standardize_jobs)\n"
     ]
    }
   ],
   "source": [
    "def clean_job_titles(df, job_column):\n",
    "    \"\"\"\n",
    "    Clean and standardize job titles in a DataFrame.\n",
    "\n",
    "    \"\"\"\n",
    "    # Replace empty strings or NaN values with \"Anonymous Employee\"\n",
    "    df[job_column].replace(' ', 'Anonymous Employee', inplace=True)\n",
    "    df[job_column].fillna('Anonymous Employee', inplace=True)\n",
    "    \n",
    "    # Strip leading/trailing spaces\n",
    "    df[job_column] = df[job_column].str.strip()\n",
    "    \n",
    "    # Count occurrences of each job title\n",
    "    job_counts = df[job_column].value_counts()\n",
    "    \n",
    "    # Filter out jobs mentioned less than 100 times\n",
    "    valid_jobs = job_counts[job_counts >= 100].index\n",
    "    df = df[df[job_column].isin(valid_jobs)]\n",
    "    \n",
    "    # Replace specific job titles\n",
    "    job_replacements = {\n",
    "        'Salees Associate': 'Sales Associate', 'Sales Executive': 'Sales Associate',\n",
    "        'IT Strategy Consultant': 'IT Consultant',\n",
    "        'Sales Associate/Cashier': 'Cashier', 'Front End Cashier': 'Cashier',\n",
    "        'Senior Software Engineer': 'Software Engineer', \n",
    "        'Senior Systems Engineer': 'Software Engineer', \n",
    "        'Senior Software Developer': 'Software Engineer', \n",
    "        'Associate Software Engineer': 'Software Engineer',\n",
    "        'Sales': 'Sales Associate', \n",
    "        'Salees Associate ': 'Sales Associate', \n",
    "        'Retail Sales Associate': 'Sales Associate',\n",
    "        'Sales Assistant': 'Sales Associate', \n",
    "        'Sales Representative': 'Sales Associate', 'Inside Sales Representative': 'Sales Associate',\n",
    "        'Systems Engineer': 'Software Engineer', 'Senior Engineer':'Software Engineer',\n",
    "        'Senior Associate': 'Associate', \n",
    "        'Senior Analyst ': 'Analyst',\n",
    "        'Business Analyst': 'Analyst', 'Senior Business Analyst ': 'Analyst','Senior Business Analyst': 'Analyst', 'Financial Analyst': 'Analyst',\n",
    "        'IT Analyst': 'Analyst', 'Senior Analyst': 'Analyst', 'Programmer Analyst': 'Analyst',\n",
    "        'Server': 'Waiter/Waitress', 'Waiter': 'Waiter/Waitress', 'Waitress': 'Waiter/Waitress',\n",
    "        'Warehouse Worker': 'Warehouse Associate',\n",
    "        'Human Resources': 'HR', \n",
    "        'Recruiter': 'HR',\n",
    "        'Customer Service Representative': 'Customer Service', \n",
    "        'Customer Service Representative (CSR)': 'Customer Service', 'Customer Service Specialist': 'Customer Service',\n",
    "        'Customer Assistant': 'Customer Service', \n",
    "        'Customer Service Associate': 'Customer Service',\n",
    "        'Executive Assistant': 'Administrative Assistant', \n",
    "        'Associate Director': 'Director',\n",
    "        'Shift Supervisor': 'Supervisor',\n",
    "        'Graduate Research Assistant': 'Researcher','Research Assistant': 'Researcher',\n",
    "    }\n",
    "    df[job_column] = df[job_column].replace(job_replacements)\n",
    "    \n",
    "    # Apply broader job title standardizations\n",
    "    def standardize_jobs(job):\n",
    "        if 'Teacher' in job:\n",
    "            return 'Teacher'\n",
    "        elif 'Manager' in job:\n",
    "            return 'Manager'\n",
    "        elif 'Consultant' in job:\n",
    "            return 'Consultant'\n",
    "        elif 'Teller' in job:  \n",
    "            return 'Bank Teller'\n",
    "        elif 'Intern' in job:\n",
    "            return 'Intern'\n",
    "        elif 'Pharmacy' in job:\n",
    "            return 'Pharmacy'\n",
    "        elif 'Team Member' in job or 'Crew Member' in job:\n",
    "            return 'Team Member'\n",
    "        return job\n",
    "    \n",
    "    df[job_column] = df[job_column].apply(standardize_jobs)\n",
    "    \n",
    "    return df\n",
    "\n",
    "cleaned_reviews = clean_job_titles(cleaned_reviews, 'job') #apply the job cleaning function"
   ]
  },
  {
   "cell_type": "markdown",
   "metadata": {},
   "source": [
    "### Getting a sample of the dataset for further analysis"
   ]
  },
  {
   "cell_type": "code",
   "execution_count": 6,
   "metadata": {},
   "outputs": [
    {
     "name": "stdout",
     "output_type": "stream",
     "text": [
      "rating\n",
      "4.0    28697\n",
      "5.0    25063\n",
      "3.0    23832\n",
      "2.0    11522\n",
      "1.0    10886\n",
      "Name: count, dtype: int64\n",
      "rating\n",
      "4.0    1432242\n",
      "5.0    1345360\n",
      "3.0    1094993\n",
      "2.0     500317\n",
      "1.0     475828\n",
      "Name: count, dtype: int64\n",
      "work/life_balance\n",
      "5.0    24176\n",
      "3.0    23504\n",
      "4.0    23310\n",
      "1.0    15776\n",
      "2.0    13234\n",
      "Name: count, dtype: int64\n",
      "work/life_balance\n",
      "5.0    1299540\n",
      "4.0    1180749\n",
      "3.0    1103259\n",
      "1.0     675711\n",
      "2.0     589481\n",
      "Name: count, dtype: int64\n",
      "work/life_balance\n",
      "5.0    24176\n",
      "3.0    23504\n",
      "4.0    23310\n",
      "1.0    15776\n",
      "2.0    13234\n",
      "Name: count, dtype: int64\n",
      "work/life_balance\n",
      "5.0    1299540\n",
      "4.0    1180749\n",
      "3.0    1103259\n",
      "1.0     675711\n",
      "2.0     589481\n",
      "Name: count, dtype: int64\n"
     ]
    }
   ],
   "source": [
    "sampled_reviews = cleaned_reviews.head(100000)\n",
    "print(sampled_reviews[\"rating\"].value_counts())\n",
    "print(cleaned_reviews[\"rating\"].value_counts())\n",
    "\n",
    "\n",
    "print(sampled_reviews[\"work/life_balance\"].value_counts())\n",
    "print(cleaned_reviews[\"work/life_balance\"].value_counts())\n",
    "\n",
    "print(sampled_reviews[\"work/life_balance\"].value_counts())\n",
    "print(cleaned_reviews[\"work/life_balance\"].value_counts())\n"
   ]
  },
  {
   "cell_type": "markdown",
   "metadata": {},
   "source": [
    "### Getting emotional status"
   ]
  },
  {
   "cell_type": "code",
   "execution_count": 7,
   "metadata": {},
   "outputs": [],
   "source": [
    "# Function to flag stress, burnout, and anxiety\n",
    "def emotional_status(text):\n",
    "    if not isinstance(text, str):  # Check if text is not None or NaN\n",
    "        return False, False, False, False, False, False  # Return False for all flags if the text is invalid\n",
    "\n",
    "    text = text.lower()\n",
    "\n",
    "    # Keywords for flags\n",
    "    stress_keywords = ['stress', 'overwhelmed', 'nervous', 'pressure', 'stressful', 'deadlines', 'high demand', 'high workload']\n",
    "    toxic_keywords = ['toxic','negative', 'micromanagement', 'lack of support', 'hostile', 'bullying', 'discrimination']\n",
    "    burnout_keywords = ['burnout', 'overtasked', 'overworked', 'burned out', 'burning out', 'exhaustion', 'fatigue']\n",
    "    anxiety_keywords = ['anxious', 'anxiety', 'panic', 'workload stress', 'job insecurity', 'sleepless']\n",
    "    depression_keywords= ['depressed','sad','no motivation','unmotivated', 'headaches', 'feeling worthless']\n",
    "    supportive_keywords = ['supportive', 'understanding', 'encouraging', 'teamwork']    \n",
    "    \n",
    "\n",
    "    # Remove unwanted phrases\n",
    "    unwanted_phrases = ['not too stressful', 'no negatives']\n",
    "    if any(phrase in text for phrase in unwanted_phrases):\n",
    "        return False, False, False, False, False\n",
    "\n",
    "    # Check for each set of keywords\n",
    "    stress_flag = any(keyword in text for keyword in stress_keywords)\n",
    "    burnout_flag = any(keyword in text for keyword in burnout_keywords)\n",
    "    anxiety_flag = any(keyword in text for keyword in anxiety_keywords)\n",
    "    toxic_flag = any(keyword in text for keyword in toxic_keywords)\n",
    "    supportive_env_flag = any(keyword in text for keyword in supportive_keywords)\n",
    "    depression_flag = any(keyword in text for keyword in depression_keywords)\n",
    "    \n",
    "    return stress_flag, burnout_flag, anxiety_flag, toxic_flag, supportive_env_flag, depression_flag\n",
    "\n",
    "\n"
   ]
  },
  {
   "cell_type": "code",
   "execution_count": 8,
   "metadata": {},
   "outputs": [
    {
     "name": "stderr",
     "output_type": "stream",
     "text": [
      "/var/folders/7h/j883bpy50yx9ffn06wrdxzy00000gn/T/ipykernel_1345/1400904462.py:2: SettingWithCopyWarning: \n",
      "A value is trying to be set on a copy of a slice from a DataFrame.\n",
      "Try using .loc[row_indexer,col_indexer] = value instead\n",
      "\n",
      "See the caveats in the documentation: https://pandas.pydata.org/pandas-docs/stable/user_guide/indexing.html#returning-a-view-versus-a-copy\n",
      "  sampled_reviews[['stress_flag', 'burnout_flag', 'anxiety_flag', 'toxic_flag', 'supportive_env_flag', 'depression_flag']] = pd.DataFrame(\n",
      "/var/folders/7h/j883bpy50yx9ffn06wrdxzy00000gn/T/ipykernel_1345/1400904462.py:2: SettingWithCopyWarning: \n",
      "A value is trying to be set on a copy of a slice from a DataFrame.\n",
      "Try using .loc[row_indexer,col_indexer] = value instead\n",
      "\n",
      "See the caveats in the documentation: https://pandas.pydata.org/pandas-docs/stable/user_guide/indexing.html#returning-a-view-versus-a-copy\n",
      "  sampled_reviews[['stress_flag', 'burnout_flag', 'anxiety_flag', 'toxic_flag', 'supportive_env_flag', 'depression_flag']] = pd.DataFrame(\n",
      "/var/folders/7h/j883bpy50yx9ffn06wrdxzy00000gn/T/ipykernel_1345/1400904462.py:2: SettingWithCopyWarning: \n",
      "A value is trying to be set on a copy of a slice from a DataFrame.\n",
      "Try using .loc[row_indexer,col_indexer] = value instead\n",
      "\n",
      "See the caveats in the documentation: https://pandas.pydata.org/pandas-docs/stable/user_guide/indexing.html#returning-a-view-versus-a-copy\n",
      "  sampled_reviews[['stress_flag', 'burnout_flag', 'anxiety_flag', 'toxic_flag', 'supportive_env_flag', 'depression_flag']] = pd.DataFrame(\n",
      "/var/folders/7h/j883bpy50yx9ffn06wrdxzy00000gn/T/ipykernel_1345/1400904462.py:2: SettingWithCopyWarning: \n",
      "A value is trying to be set on a copy of a slice from a DataFrame.\n",
      "Try using .loc[row_indexer,col_indexer] = value instead\n",
      "\n",
      "See the caveats in the documentation: https://pandas.pydata.org/pandas-docs/stable/user_guide/indexing.html#returning-a-view-versus-a-copy\n",
      "  sampled_reviews[['stress_flag', 'burnout_flag', 'anxiety_flag', 'toxic_flag', 'supportive_env_flag', 'depression_flag']] = pd.DataFrame(\n",
      "/var/folders/7h/j883bpy50yx9ffn06wrdxzy00000gn/T/ipykernel_1345/1400904462.py:2: SettingWithCopyWarning: \n",
      "A value is trying to be set on a copy of a slice from a DataFrame.\n",
      "Try using .loc[row_indexer,col_indexer] = value instead\n",
      "\n",
      "See the caveats in the documentation: https://pandas.pydata.org/pandas-docs/stable/user_guide/indexing.html#returning-a-view-versus-a-copy\n",
      "  sampled_reviews[['stress_flag', 'burnout_flag', 'anxiety_flag', 'toxic_flag', 'supportive_env_flag', 'depression_flag']] = pd.DataFrame(\n",
      "/var/folders/7h/j883bpy50yx9ffn06wrdxzy00000gn/T/ipykernel_1345/1400904462.py:2: SettingWithCopyWarning: \n",
      "A value is trying to be set on a copy of a slice from a DataFrame.\n",
      "Try using .loc[row_indexer,col_indexer] = value instead\n",
      "\n",
      "See the caveats in the documentation: https://pandas.pydata.org/pandas-docs/stable/user_guide/indexing.html#returning-a-view-versus-a-copy\n",
      "  sampled_reviews[['stress_flag', 'burnout_flag', 'anxiety_flag', 'toxic_flag', 'supportive_env_flag', 'depression_flag']] = pd.DataFrame(\n",
      "/var/folders/7h/j883bpy50yx9ffn06wrdxzy00000gn/T/ipykernel_1345/1400904462.py:5: SettingWithCopyWarning: \n",
      "A value is trying to be set on a copy of a slice from a DataFrame.\n",
      "Try using .loc[row_indexer,col_indexer] = value instead\n",
      "\n",
      "See the caveats in the documentation: https://pandas.pydata.org/pandas-docs/stable/user_guide/indexing.html#returning-a-view-versus-a-copy\n",
      "  sampled_reviews[['stress_flag_cons', 'burnout_flag_cons', 'anxiety_flag_cons', 'toxic_flag_cons', 'supportive_env_flag_cons', 'depression_flag_cons']] = pd.DataFrame(\n",
      "/var/folders/7h/j883bpy50yx9ffn06wrdxzy00000gn/T/ipykernel_1345/1400904462.py:5: SettingWithCopyWarning: \n",
      "A value is trying to be set on a copy of a slice from a DataFrame.\n",
      "Try using .loc[row_indexer,col_indexer] = value instead\n",
      "\n",
      "See the caveats in the documentation: https://pandas.pydata.org/pandas-docs/stable/user_guide/indexing.html#returning-a-view-versus-a-copy\n",
      "  sampled_reviews[['stress_flag_cons', 'burnout_flag_cons', 'anxiety_flag_cons', 'toxic_flag_cons', 'supportive_env_flag_cons', 'depression_flag_cons']] = pd.DataFrame(\n",
      "/var/folders/7h/j883bpy50yx9ffn06wrdxzy00000gn/T/ipykernel_1345/1400904462.py:5: SettingWithCopyWarning: \n",
      "A value is trying to be set on a copy of a slice from a DataFrame.\n",
      "Try using .loc[row_indexer,col_indexer] = value instead\n",
      "\n",
      "See the caveats in the documentation: https://pandas.pydata.org/pandas-docs/stable/user_guide/indexing.html#returning-a-view-versus-a-copy\n",
      "  sampled_reviews[['stress_flag_cons', 'burnout_flag_cons', 'anxiety_flag_cons', 'toxic_flag_cons', 'supportive_env_flag_cons', 'depression_flag_cons']] = pd.DataFrame(\n",
      "/var/folders/7h/j883bpy50yx9ffn06wrdxzy00000gn/T/ipykernel_1345/1400904462.py:5: SettingWithCopyWarning: \n",
      "A value is trying to be set on a copy of a slice from a DataFrame.\n",
      "Try using .loc[row_indexer,col_indexer] = value instead\n",
      "\n",
      "See the caveats in the documentation: https://pandas.pydata.org/pandas-docs/stable/user_guide/indexing.html#returning-a-view-versus-a-copy\n",
      "  sampled_reviews[['stress_flag_cons', 'burnout_flag_cons', 'anxiety_flag_cons', 'toxic_flag_cons', 'supportive_env_flag_cons', 'depression_flag_cons']] = pd.DataFrame(\n",
      "/var/folders/7h/j883bpy50yx9ffn06wrdxzy00000gn/T/ipykernel_1345/1400904462.py:5: SettingWithCopyWarning: \n",
      "A value is trying to be set on a copy of a slice from a DataFrame.\n",
      "Try using .loc[row_indexer,col_indexer] = value instead\n",
      "\n",
      "See the caveats in the documentation: https://pandas.pydata.org/pandas-docs/stable/user_guide/indexing.html#returning-a-view-versus-a-copy\n",
      "  sampled_reviews[['stress_flag_cons', 'burnout_flag_cons', 'anxiety_flag_cons', 'toxic_flag_cons', 'supportive_env_flag_cons', 'depression_flag_cons']] = pd.DataFrame(\n",
      "/var/folders/7h/j883bpy50yx9ffn06wrdxzy00000gn/T/ipykernel_1345/1400904462.py:5: SettingWithCopyWarning: \n",
      "A value is trying to be set on a copy of a slice from a DataFrame.\n",
      "Try using .loc[row_indexer,col_indexer] = value instead\n",
      "\n",
      "See the caveats in the documentation: https://pandas.pydata.org/pandas-docs/stable/user_guide/indexing.html#returning-a-view-versus-a-copy\n",
      "  sampled_reviews[['stress_flag_cons', 'burnout_flag_cons', 'anxiety_flag_cons', 'toxic_flag_cons', 'supportive_env_flag_cons', 'depression_flag_cons']] = pd.DataFrame(\n"
     ]
    }
   ],
   "source": [
    "# Apply the emotional_status function to \"pros\" and \"cons\"\n",
    "sampled_reviews[['stress_flag', 'burnout_flag', 'anxiety_flag', 'toxic_flag', 'supportive_env_flag', 'depression_flag']] = pd.DataFrame(\n",
    "    sampled_reviews['pros'].apply(emotional_status).tolist(), index=sampled_reviews.index)\n",
    "\n",
    "sampled_reviews[['stress_flag_cons', 'burnout_flag_cons', 'anxiety_flag_cons', 'toxic_flag_cons', 'supportive_env_flag_cons', 'depression_flag_cons']] = pd.DataFrame(\n",
    "    sampled_reviews['cons'].apply(emotional_status).tolist(), index=sampled_reviews.index)"
   ]
  },
  {
   "cell_type": "markdown",
   "metadata": {},
   "source": [
    "### Check the median values for emotional flags & rating correlation"
   ]
  },
  {
   "cell_type": "code",
   "execution_count": 9,
   "metadata": {},
   "outputs": [
    {
     "name": "stdout",
     "output_type": "stream",
     "text": [
      "Results for burnout_flag:\n",
      "Shape: (947, 27)\n",
      "Median Rating: 3.0\n",
      "Median Work/Life Balance: 2.0\n",
      "----------------------------------------\n",
      "Results for stress_flag:\n",
      "Shape: (5798, 27)\n",
      "Median Rating: 3.0\n",
      "Median Work/Life Balance: 3.0\n",
      "----------------------------------------\n",
      "Results for anxiety_flag:\n",
      "Shape: (167, 27)\n",
      "Median Rating: 2.0\n",
      "Median Work/Life Balance: 2.0\n",
      "----------------------------------------\n",
      "Results for toxic_flag:\n",
      "Shape: (2772, 27)\n",
      "Median Rating: 2.0\n",
      "Median Work/Life Balance: 2.0\n",
      "----------------------------------------\n",
      "Results for supportive_env_flag:\n",
      "Shape: (3114, 27)\n",
      "Median Rating: 4.0\n",
      "Median Work/Life Balance: 4.0\n",
      "----------------------------------------\n",
      "Results for depression_flag:\n",
      "Shape: (396, 27)\n",
      "Median Rating: 2.0\n",
      "Median Work/Life Balance: 3.0\n",
      "----------------------------------------\n"
     ]
    }
   ],
   "source": [
    "# List of emotional flags and their corresponding column names\n",
    "emotional_flags = [\n",
    "    ('burnout_flag', 'burnout_flag_cons'),\n",
    "    ('stress_flag', 'stress_flag_cons'),\n",
    "    ('anxiety_flag', 'anxiety_flag_cons'),\n",
    "    ('toxic_flag', 'toxic_flag_cons'),\n",
    "    ('supportive_env_flag', 'supportive_env_flag_cons'),\n",
    "    ('depression_flag', 'depression_flag_cons')\n",
    "]\n",
    "\n",
    "# Loop through each flag and compute statistics\n",
    "for flag, cons_flag in emotional_flags:\n",
    "    filtered_df = sampled_reviews[(sampled_reviews[flag] == True) | (sampled_reviews[cons_flag] == True)]\n",
    "    print(f\"Results for {flag}:\")\n",
    "    print(f\"Shape: {filtered_df.shape}\")\n",
    "    print(f\"Median Rating: {filtered_df['rating'].median()}\")\n",
    "    print(f\"Median Work/Life Balance: {filtered_df['work/life_balance'].median()}\")\n",
    "    print(\"-\" * 40)"
   ]
  },
  {
   "cell_type": "code",
   "execution_count": 10,
   "metadata": {},
   "outputs": [
    {
     "data": {
      "text/html": [
       "<div>\n",
       "<style scoped>\n",
       "    .dataframe tbody tr th:only-of-type {\n",
       "        vertical-align: middle;\n",
       "    }\n",
       "\n",
       "    .dataframe tbody tr th {\n",
       "        vertical-align: top;\n",
       "    }\n",
       "\n",
       "    .dataframe thead th {\n",
       "        text-align: right;\n",
       "    }\n",
       "</style>\n",
       "<table border=\"1\" class=\"dataframe\">\n",
       "  <thead>\n",
       "    <tr style=\"text-align: right;\">\n",
       "      <th></th>\n",
       "      <th>rating</th>\n",
       "      <th>status</th>\n",
       "      <th>pros</th>\n",
       "      <th>cons</th>\n",
       "      <th>recommend</th>\n",
       "      <th>ceo_approval</th>\n",
       "      <th>career_opportunities</th>\n",
       "      <th>compensation_and_benefits</th>\n",
       "      <th>senior_management</th>\n",
       "      <th>work/life_balance</th>\n",
       "      <th>...</th>\n",
       "      <th>anxiety_flag</th>\n",
       "      <th>toxic_flag</th>\n",
       "      <th>supportive_env_flag</th>\n",
       "      <th>depression_flag</th>\n",
       "      <th>stress_flag_cons</th>\n",
       "      <th>burnout_flag_cons</th>\n",
       "      <th>anxiety_flag_cons</th>\n",
       "      <th>toxic_flag_cons</th>\n",
       "      <th>supportive_env_flag_cons</th>\n",
       "      <th>depression_flag_cons</th>\n",
       "    </tr>\n",
       "  </thead>\n",
       "  <tbody>\n",
       "    <tr>\n",
       "      <th>1</th>\n",
       "      <td>5.0</td>\n",
       "      <td>Current Employee</td>\n",
       "      <td>best place to work always</td>\n",
       "      <td>system is a bit old</td>\n",
       "      <td>v</td>\n",
       "      <td>v</td>\n",
       "      <td>4.0</td>\n",
       "      <td>4.0</td>\n",
       "      <td>4.0</td>\n",
       "      <td>4.0</td>\n",
       "      <td>...</td>\n",
       "      <td>False</td>\n",
       "      <td>False</td>\n",
       "      <td>False</td>\n",
       "      <td>False</td>\n",
       "      <td>False</td>\n",
       "      <td>False</td>\n",
       "      <td>False</td>\n",
       "      <td>False</td>\n",
       "      <td>False</td>\n",
       "      <td>False</td>\n",
       "    </tr>\n",
       "    <tr>\n",
       "      <th>2</th>\n",
       "      <td>1.0</td>\n",
       "      <td>Former Employee</td>\n",
       "      <td>the pro is you get paid... i guess. i worked o...</td>\n",
       "      <td>just felt like another cog in the machine, wor...</td>\n",
       "      <td>v</td>\n",
       "      <td>v</td>\n",
       "      <td>1.0</td>\n",
       "      <td>1.0</td>\n",
       "      <td>1.0</td>\n",
       "      <td>1.0</td>\n",
       "      <td>...</td>\n",
       "      <td>False</td>\n",
       "      <td>False</td>\n",
       "      <td>False</td>\n",
       "      <td>False</td>\n",
       "      <td>False</td>\n",
       "      <td>False</td>\n",
       "      <td>False</td>\n",
       "      <td>False</td>\n",
       "      <td>False</td>\n",
       "      <td>False</td>\n",
       "    </tr>\n",
       "    <tr>\n",
       "      <th>3</th>\n",
       "      <td>1.0</td>\n",
       "      <td>Former Employee</td>\n",
       "      <td>my peers were good to work with. everyone will...</td>\n",
       "      <td>leadership is not helpful at all, they walk ar...</td>\n",
       "      <td>x</td>\n",
       "      <td>x</td>\n",
       "      <td>1.0</td>\n",
       "      <td>3.0</td>\n",
       "      <td>1.0</td>\n",
       "      <td>2.0</td>\n",
       "      <td>...</td>\n",
       "      <td>False</td>\n",
       "      <td>False</td>\n",
       "      <td>False</td>\n",
       "      <td>False</td>\n",
       "      <td>False</td>\n",
       "      <td>False</td>\n",
       "      <td>False</td>\n",
       "      <td>False</td>\n",
       "      <td>False</td>\n",
       "      <td>False</td>\n",
       "    </tr>\n",
       "    <tr>\n",
       "      <th>5</th>\n",
       "      <td>4.0</td>\n",
       "      <td>Current Employee</td>\n",
       "      <td>good salary\\r inclusive environment\\r caring f...</td>\n",
       "      <td>i don't have any cons.</td>\n",
       "      <td>v</td>\n",
       "      <td>v</td>\n",
       "      <td>4.0</td>\n",
       "      <td>4.0</td>\n",
       "      <td>4.0</td>\n",
       "      <td>4.0</td>\n",
       "      <td>...</td>\n",
       "      <td>False</td>\n",
       "      <td>False</td>\n",
       "      <td>False</td>\n",
       "      <td>False</td>\n",
       "      <td>False</td>\n",
       "      <td>False</td>\n",
       "      <td>False</td>\n",
       "      <td>False</td>\n",
       "      <td>False</td>\n",
       "      <td>False</td>\n",
       "    </tr>\n",
       "    <tr>\n",
       "      <th>6</th>\n",
       "      <td>1.0</td>\n",
       "      <td>Former Employee</td>\n",
       "      <td>co-workers and close to public tramsit</td>\n",
       "      <td>high caseload\\r incompetent management \\r unre...</td>\n",
       "      <td>x</td>\n",
       "      <td>x</td>\n",
       "      <td>1.0</td>\n",
       "      <td>1.0</td>\n",
       "      <td>1.0</td>\n",
       "      <td>1.0</td>\n",
       "      <td>...</td>\n",
       "      <td>False</td>\n",
       "      <td>False</td>\n",
       "      <td>False</td>\n",
       "      <td>False</td>\n",
       "      <td>False</td>\n",
       "      <td>False</td>\n",
       "      <td>False</td>\n",
       "      <td>False</td>\n",
       "      <td>False</td>\n",
       "      <td>False</td>\n",
       "    </tr>\n",
       "    <tr>\n",
       "      <th>...</th>\n",
       "      <td>...</td>\n",
       "      <td>...</td>\n",
       "      <td>...</td>\n",
       "      <td>...</td>\n",
       "      <td>...</td>\n",
       "      <td>...</td>\n",
       "      <td>...</td>\n",
       "      <td>...</td>\n",
       "      <td>...</td>\n",
       "      <td>...</td>\n",
       "      <td>...</td>\n",
       "      <td>...</td>\n",
       "      <td>...</td>\n",
       "      <td>...</td>\n",
       "      <td>...</td>\n",
       "      <td>...</td>\n",
       "      <td>...</td>\n",
       "      <td>...</td>\n",
       "      <td>...</td>\n",
       "      <td>...</td>\n",
       "      <td>...</td>\n",
       "    </tr>\n",
       "    <tr>\n",
       "      <th>121448</th>\n",
       "      <td>3.0</td>\n",
       "      <td>Former Employee</td>\n",
       "      <td>global company, lots of opportunities, continu...</td>\n",
       "      <td>large company means it's easy to fall through ...</td>\n",
       "      <td>v</td>\n",
       "      <td>v</td>\n",
       "      <td>5.0</td>\n",
       "      <td>2.0</td>\n",
       "      <td>5.0</td>\n",
       "      <td>5.0</td>\n",
       "      <td>...</td>\n",
       "      <td>False</td>\n",
       "      <td>False</td>\n",
       "      <td>True</td>\n",
       "      <td>False</td>\n",
       "      <td>False</td>\n",
       "      <td>False</td>\n",
       "      <td>False</td>\n",
       "      <td>False</td>\n",
       "      <td>False</td>\n",
       "      <td>False</td>\n",
       "    </tr>\n",
       "    <tr>\n",
       "      <th>121449</th>\n",
       "      <td>4.0</td>\n",
       "      <td>Current Employee</td>\n",
       "      <td>good work culture and provides hands on with n...</td>\n",
       "      <td>not good growth in compensation and promotions</td>\n",
       "      <td>v</td>\n",
       "      <td>v</td>\n",
       "      <td>4.0</td>\n",
       "      <td>3.0</td>\n",
       "      <td>4.0</td>\n",
       "      <td>4.0</td>\n",
       "      <td>...</td>\n",
       "      <td>False</td>\n",
       "      <td>False</td>\n",
       "      <td>False</td>\n",
       "      <td>False</td>\n",
       "      <td>False</td>\n",
       "      <td>False</td>\n",
       "      <td>False</td>\n",
       "      <td>False</td>\n",
       "      <td>False</td>\n",
       "      <td>False</td>\n",
       "    </tr>\n",
       "    <tr>\n",
       "      <th>121450</th>\n",
       "      <td>5.0</td>\n",
       "      <td>Current Employee</td>\n",
       "      <td>great work culture, care about their people</td>\n",
       "      <td>so far, just the pandemic and the distance</td>\n",
       "      <td>o</td>\n",
       "      <td>v</td>\n",
       "      <td>5.0</td>\n",
       "      <td>3.0</td>\n",
       "      <td>5.0</td>\n",
       "      <td>5.0</td>\n",
       "      <td>...</td>\n",
       "      <td>False</td>\n",
       "      <td>False</td>\n",
       "      <td>False</td>\n",
       "      <td>False</td>\n",
       "      <td>False</td>\n",
       "      <td>False</td>\n",
       "      <td>False</td>\n",
       "      <td>False</td>\n",
       "      <td>False</td>\n",
       "      <td>False</td>\n",
       "    </tr>\n",
       "    <tr>\n",
       "      <th>121451</th>\n",
       "      <td>3.0</td>\n",
       "      <td>Former Employee</td>\n",
       "      <td>- good work life balance\\r - stronger control ...</td>\n",
       "      <td>- everything is project dependent. good client...</td>\n",
       "      <td>o</td>\n",
       "      <td>o</td>\n",
       "      <td>3.0</td>\n",
       "      <td>3.0</td>\n",
       "      <td>4.0</td>\n",
       "      <td>4.0</td>\n",
       "      <td>...</td>\n",
       "      <td>False</td>\n",
       "      <td>False</td>\n",
       "      <td>False</td>\n",
       "      <td>False</td>\n",
       "      <td>False</td>\n",
       "      <td>False</td>\n",
       "      <td>False</td>\n",
       "      <td>False</td>\n",
       "      <td>False</td>\n",
       "      <td>False</td>\n",
       "    </tr>\n",
       "    <tr>\n",
       "      <th>121452</th>\n",
       "      <td>4.0</td>\n",
       "      <td>Current Employee</td>\n",
       "      <td>1. great knowledgeable people 2. flexible work...</td>\n",
       "      <td>1. it can be hard on those who can't work hard...</td>\n",
       "      <td>v</td>\n",
       "      <td>v</td>\n",
       "      <td>5.0</td>\n",
       "      <td>5.0</td>\n",
       "      <td>4.0</td>\n",
       "      <td>3.0</td>\n",
       "      <td>...</td>\n",
       "      <td>False</td>\n",
       "      <td>False</td>\n",
       "      <td>False</td>\n",
       "      <td>False</td>\n",
       "      <td>False</td>\n",
       "      <td>False</td>\n",
       "      <td>False</td>\n",
       "      <td>False</td>\n",
       "      <td>False</td>\n",
       "      <td>False</td>\n",
       "    </tr>\n",
       "  </tbody>\n",
       "</table>\n",
       "<p>100000 rows × 27 columns</p>\n",
       "</div>"
      ],
      "text/plain": [
       "        rating            status  \\\n",
       "1          5.0  Current Employee   \n",
       "2          1.0   Former Employee   \n",
       "3          1.0   Former Employee   \n",
       "5          4.0  Current Employee   \n",
       "6          1.0   Former Employee   \n",
       "...        ...               ...   \n",
       "121448     3.0   Former Employee   \n",
       "121449     4.0  Current Employee   \n",
       "121450     5.0  Current Employee   \n",
       "121451     3.0   Former Employee   \n",
       "121452     4.0  Current Employee   \n",
       "\n",
       "                                                     pros  \\\n",
       "1                               best place to work always   \n",
       "2       the pro is you get paid... i guess. i worked o...   \n",
       "3       my peers were good to work with. everyone will...   \n",
       "5       good salary\\r inclusive environment\\r caring f...   \n",
       "6                  co-workers and close to public tramsit   \n",
       "...                                                   ...   \n",
       "121448  global company, lots of opportunities, continu...   \n",
       "121449  good work culture and provides hands on with n...   \n",
       "121450        great work culture, care about their people   \n",
       "121451  - good work life balance\\r - stronger control ...   \n",
       "121452  1. great knowledgeable people 2. flexible work...   \n",
       "\n",
       "                                                     cons recommend  \\\n",
       "1                                     system is a bit old         v   \n",
       "2       just felt like another cog in the machine, wor...         v   \n",
       "3       leadership is not helpful at all, they walk ar...         x   \n",
       "5                                  i don't have any cons.         v   \n",
       "6       high caseload\\r incompetent management \\r unre...         x   \n",
       "...                                                   ...       ...   \n",
       "121448  large company means it's easy to fall through ...         v   \n",
       "121449     not good growth in compensation and promotions         v   \n",
       "121450         so far, just the pandemic and the distance         o   \n",
       "121451  - everything is project dependent. good client...         o   \n",
       "121452  1. it can be hard on those who can't work hard...         v   \n",
       "\n",
       "       ceo_approval  career_opportunities  compensation_and_benefits  \\\n",
       "1                 v                   4.0                        4.0   \n",
       "2                 v                   1.0                        1.0   \n",
       "3                 x                   1.0                        3.0   \n",
       "5                 v                   4.0                        4.0   \n",
       "6                 x                   1.0                        1.0   \n",
       "...             ...                   ...                        ...   \n",
       "121448            v                   5.0                        2.0   \n",
       "121449            v                   4.0                        3.0   \n",
       "121450            v                   5.0                        3.0   \n",
       "121451            o                   3.0                        3.0   \n",
       "121452            v                   5.0                        5.0   \n",
       "\n",
       "        senior_management  work/life_balance  ...  anxiety_flag  toxic_flag  \\\n",
       "1                     4.0                4.0  ...         False       False   \n",
       "2                     1.0                1.0  ...         False       False   \n",
       "3                     1.0                2.0  ...         False       False   \n",
       "5                     4.0                4.0  ...         False       False   \n",
       "6                     1.0                1.0  ...         False       False   \n",
       "...                   ...                ...  ...           ...         ...   \n",
       "121448                5.0                5.0  ...         False       False   \n",
       "121449                4.0                4.0  ...         False       False   \n",
       "121450                5.0                5.0  ...         False       False   \n",
       "121451                4.0                4.0  ...         False       False   \n",
       "121452                4.0                3.0  ...         False       False   \n",
       "\n",
       "       supportive_env_flag  depression_flag stress_flag_cons  \\\n",
       "1                    False            False            False   \n",
       "2                    False            False            False   \n",
       "3                    False            False            False   \n",
       "5                    False            False            False   \n",
       "6                    False            False            False   \n",
       "...                    ...              ...              ...   \n",
       "121448                True            False            False   \n",
       "121449               False            False            False   \n",
       "121450               False            False            False   \n",
       "121451               False            False            False   \n",
       "121452               False            False            False   \n",
       "\n",
       "        burnout_flag_cons  anxiety_flag_cons  toxic_flag_cons  \\\n",
       "1                   False              False            False   \n",
       "2                   False              False            False   \n",
       "3                   False              False            False   \n",
       "5                   False              False            False   \n",
       "6                   False              False            False   \n",
       "...                   ...                ...              ...   \n",
       "121448              False              False            False   \n",
       "121449              False              False            False   \n",
       "121450              False              False            False   \n",
       "121451              False              False            False   \n",
       "121452              False              False            False   \n",
       "\n",
       "        supportive_env_flag_cons  depression_flag_cons  \n",
       "1                          False                 False  \n",
       "2                          False                 False  \n",
       "3                          False                 False  \n",
       "5                          False                 False  \n",
       "6                          False                 False  \n",
       "...                          ...                   ...  \n",
       "121448                     False                 False  \n",
       "121449                     False                 False  \n",
       "121450                     False                 False  \n",
       "121451                     False                 False  \n",
       "121452                     False                 False  \n",
       "\n",
       "[100000 rows x 27 columns]"
      ]
     },
     "execution_count": 10,
     "metadata": {},
     "output_type": "execute_result"
    }
   ],
   "source": [
    "sampled_reviews\n",
    "sampled_reviews.to_csv(\"../data/clean/sampled_reviews.csv\", encoding=\"utf-8-sig\", header=True)"
   ]
  },
  {
   "cell_type": "markdown",
   "metadata": {},
   "source": [
    "### Sentiment analysis"
   ]
  },
  {
   "cell_type": "code",
   "execution_count": 11,
   "metadata": {},
   "outputs": [
    {
     "name": "stderr",
     "output_type": "stream",
     "text": [
      "/var/folders/7h/j883bpy50yx9ffn06wrdxzy00000gn/T/ipykernel_1345/1633712011.py:6: SettingWithCopyWarning: \n",
      "A value is trying to be set on a copy of a slice from a DataFrame.\n",
      "Try using .loc[row_indexer,col_indexer] = value instead\n",
      "\n",
      "See the caveats in the documentation: https://pandas.pydata.org/pandas-docs/stable/user_guide/indexing.html#returning-a-view-versus-a-copy\n",
      "  sampled_reviews[['pros_sentiment', 'pros_subjectivity']] = sampled_reviews['pros'].apply(lambda x: pd.Series(get_sentiment(x)))\n",
      "/var/folders/7h/j883bpy50yx9ffn06wrdxzy00000gn/T/ipykernel_1345/1633712011.py:6: SettingWithCopyWarning: \n",
      "A value is trying to be set on a copy of a slice from a DataFrame.\n",
      "Try using .loc[row_indexer,col_indexer] = value instead\n",
      "\n",
      "See the caveats in the documentation: https://pandas.pydata.org/pandas-docs/stable/user_guide/indexing.html#returning-a-view-versus-a-copy\n",
      "  sampled_reviews[['pros_sentiment', 'pros_subjectivity']] = sampled_reviews['pros'].apply(lambda x: pd.Series(get_sentiment(x)))\n",
      "/var/folders/7h/j883bpy50yx9ffn06wrdxzy00000gn/T/ipykernel_1345/1633712011.py:7: SettingWithCopyWarning: \n",
      "A value is trying to be set on a copy of a slice from a DataFrame.\n",
      "Try using .loc[row_indexer,col_indexer] = value instead\n",
      "\n",
      "See the caveats in the documentation: https://pandas.pydata.org/pandas-docs/stable/user_guide/indexing.html#returning-a-view-versus-a-copy\n",
      "  sampled_reviews[['cons_sentiment', 'cons_subjectivity']] = sampled_reviews['cons'].apply(lambda x: pd.Series(get_sentiment(x)))\n",
      "/var/folders/7h/j883bpy50yx9ffn06wrdxzy00000gn/T/ipykernel_1345/1633712011.py:7: SettingWithCopyWarning: \n",
      "A value is trying to be set on a copy of a slice from a DataFrame.\n",
      "Try using .loc[row_indexer,col_indexer] = value instead\n",
      "\n",
      "See the caveats in the documentation: https://pandas.pydata.org/pandas-docs/stable/user_guide/indexing.html#returning-a-view-versus-a-copy\n",
      "  sampled_reviews[['cons_sentiment', 'cons_subjectivity']] = sampled_reviews['cons'].apply(lambda x: pd.Series(get_sentiment(x)))\n"
     ]
    }
   ],
   "source": [
    "def get_sentiment(text):\n",
    "    blob = TextBlob(text)\n",
    "    return blob.sentiment.polarity, blob.sentiment.subjectivity\n",
    "\n",
    "# Apply the sentiment analysis function to 'pros' and 'cons'\n",
    "sampled_reviews[['pros_sentiment', 'pros_subjectivity']] = sampled_reviews['pros'].apply(lambda x: pd.Series(get_sentiment(x)))\n",
    "sampled_reviews[['cons_sentiment', 'cons_subjectivity']] = sampled_reviews['cons'].apply(lambda x: pd.Series(get_sentiment(x)))"
   ]
  },
  {
   "cell_type": "code",
   "execution_count": 12,
   "metadata": {},
   "outputs": [
    {
     "data": {
      "text/plain": [
       "Index(['rating', 'status', 'pros', 'cons', 'recommend', 'ceo_approval',\n",
       "       'career_opportunities', 'compensation_and_benefits',\n",
       "       'senior_management', 'work/life_balance', 'culture_and_values',\n",
       "       'diversity_and_inclusion', 'job', 'year', 'firm_name', 'stress_flag',\n",
       "       'burnout_flag', 'anxiety_flag', 'toxic_flag', 'supportive_env_flag',\n",
       "       'depression_flag', 'stress_flag_cons', 'burnout_flag_cons',\n",
       "       'anxiety_flag_cons', 'toxic_flag_cons', 'supportive_env_flag_cons',\n",
       "       'depression_flag_cons', 'pros_sentiment', 'pros_subjectivity',\n",
       "       'cons_sentiment', 'cons_subjectivity'],\n",
       "      dtype='object')"
      ]
     },
     "execution_count": 12,
     "metadata": {},
     "output_type": "execute_result"
    }
   ],
   "source": [
    "pd.set_option('display.max_columns', None)\n",
    "nlp = spacy.load('en_core_web_sm')\n",
    "sampled_reviews.columns"
   ]
  },
  {
   "cell_type": "markdown",
   "metadata": {},
   "source": [
    "### Load spacy library for natural language procesing & get the frequency counts per rating"
   ]
  },
  {
   "cell_type": "code",
   "execution_count": 13,
   "metadata": {},
   "outputs": [],
   "source": [
    "nlp = spacy.load('en_core_web_sm')\n",
    "\n",
    "\n",
    "# Use your preprocessing function\n",
    "def preprocess_text_spacy(text):\n",
    "    # Parse the text using SpaCy\n",
    "    doc = nlp(text.lower())\n",
    "    \n",
    "    # Filter tokens: keep only alphabetic words, exclude stopwords and punctuation\n",
    "    \"\"\"\n",
    "    #token.is_alpha: This condition filters out any tokens that are not alphabetic (e.g., numbers, punctuation)\n",
    "    not token.is_stop: This excludes common stopwords (e.g., \"the\", \"a\", \"and\") \n",
    "    token.lemma_: converts each word to its base form (lemma). For example, \"running\" becomes \"run\", and \"better\" becomes \"good\".\n",
    "    \"\"\"\n",
    "    tokens = [token.lemma_ for token in doc if token.is_alpha and not token.is_stop]\n",
    "    \n",
    "    #  after filtering and lemmatizing, the individual tokens (words) are joined back into a single string with spaces separating them.\n",
    "    processed_text = ' '.join(tokens)\n",
    "    \n",
    "    return processed_text\n",
    "\n",
    "# Function to get word frequencies from text data\n",
    "def get_word_frequencies(text_data):\n",
    "    # Preprocess the text and then tokenize\n",
    "    \"\"\"\n",
    "    ' '.join(text_data): joins the list of processed text (from multiple reviews) into a single string\n",
    "    .split(): splits the string into a list of individual words\n",
    "\n",
    "    Counter(all_words) counts how many times each word appears in the list of words, it returns a dictionary-like object where keys are words, and values are their respective frequencies\n",
    "\n",
    "    \"\"\"\n",
    "    all_words = ' '.join(text_data).split()\n",
    "    word_freq = Counter(all_words)\n",
    "    return word_freq\n",
    "\n",
    "\n",
    "# Function to get word frequencies by rating\n",
    "def get_word_frequencies_by_rating(df, text_column, rating_column):\n",
    "    rating_word_freq = {} #this will store word frequencies for each rating\n",
    "    \n",
    "    for rating in df[rating_column].unique():\n",
    "        # Filter reviews for each rating\n",
    "        filtered_reviews = df[df[rating_column] == rating][text_column]\n",
    "        \n",
    "        # Preprocess and get word frequencies for these filtered reviews\n",
    "        processed_reviews = filtered_reviews.apply(preprocess_text_spacy)\n",
    "        word_freq = get_word_frequencies(processed_reviews)\n",
    "        \n",
    "        rating_word_freq[rating] = word_freq\n",
    "    \n",
    "    return rating_word_freq\n",
    "    "
   ]
  },
  {
   "cell_type": "code",
   "execution_count": 14,
   "metadata": {},
   "outputs": [
    {
     "data": {
      "text/html": [
       "<div>\n",
       "<style scoped>\n",
       "    .dataframe tbody tr th:only-of-type {\n",
       "        vertical-align: middle;\n",
       "    }\n",
       "\n",
       "    .dataframe tbody tr th {\n",
       "        vertical-align: top;\n",
       "    }\n",
       "\n",
       "    .dataframe thead th {\n",
       "        text-align: right;\n",
       "    }\n",
       "</style>\n",
       "<table border=\"1\" class=\"dataframe\">\n",
       "  <thead>\n",
       "    <tr style=\"text-align: right;\">\n",
       "      <th></th>\n",
       "      <th>Word</th>\n",
       "      <th>Rating_5.0_Freq_pros</th>\n",
       "      <th>Rating_1.0_Freq_pros</th>\n",
       "      <th>Rating_4.0_Freq_pros</th>\n",
       "      <th>Rating_2.0_Freq_pros</th>\n",
       "      <th>Rating_3.0_Freq_pros</th>\n",
       "      <th>Rating_5.0_Freq_cons</th>\n",
       "      <th>Rating_1.0_Freq_cons</th>\n",
       "      <th>Rating_4.0_Freq_cons</th>\n",
       "      <th>Rating_2.0_Freq_cons</th>\n",
       "      <th>Rating_3.0_Freq_cons</th>\n",
       "    </tr>\n",
       "  </thead>\n",
       "  <tbody>\n",
       "    <tr>\n",
       "      <th>0</th>\n",
       "      <td>good</td>\n",
       "      <td>10051.0</td>\n",
       "      <td>3038.0</td>\n",
       "      <td>13610.0</td>\n",
       "      <td>4146.0</td>\n",
       "      <td>10093.0</td>\n",
       "      <td>1584.0</td>\n",
       "      <td>1285.0</td>\n",
       "      <td>1780.0</td>\n",
       "      <td>1166.0</td>\n",
       "      <td>1864.0</td>\n",
       "    </tr>\n",
       "    <tr>\n",
       "      <th>1</th>\n",
       "      <td>place</td>\n",
       "      <td>2138.0</td>\n",
       "      <td>381.0</td>\n",
       "      <td>1769.0</td>\n",
       "      <td>422.0</td>\n",
       "      <td>1080.0</td>\n",
       "      <td>547.0</td>\n",
       "      <td>961.0</td>\n",
       "      <td>454.0</td>\n",
       "      <td>487.0</td>\n",
       "      <td>522.0</td>\n",
       "    </tr>\n",
       "    <tr>\n",
       "      <th>2</th>\n",
       "      <td>work</td>\n",
       "      <td>12681.0</td>\n",
       "      <td>2721.0</td>\n",
       "      <td>13807.0</td>\n",
       "      <td>3699.0</td>\n",
       "      <td>9362.0</td>\n",
       "      <td>5503.0</td>\n",
       "      <td>6944.0</td>\n",
       "      <td>7551.0</td>\n",
       "      <td>5633.0</td>\n",
       "      <td>7642.0</td>\n",
       "    </tr>\n",
       "    <tr>\n",
       "      <th>3</th>\n",
       "      <td>culture</td>\n",
       "      <td>3178.0</td>\n",
       "      <td>153.0</td>\n",
       "      <td>2698.0</td>\n",
       "      <td>222.0</td>\n",
       "      <td>1072.0</td>\n",
       "      <td>306.0</td>\n",
       "      <td>873.0</td>\n",
       "      <td>581.0</td>\n",
       "      <td>820.0</td>\n",
       "      <td>820.0</td>\n",
       "    </tr>\n",
       "    <tr>\n",
       "      <th>4</th>\n",
       "      <td>great</td>\n",
       "      <td>10394.0</td>\n",
       "      <td>1299.0</td>\n",
       "      <td>8880.0</td>\n",
       "      <td>2152.0</td>\n",
       "      <td>5372.0</td>\n",
       "      <td>930.0</td>\n",
       "      <td>360.0</td>\n",
       "      <td>726.0</td>\n",
       "      <td>361.0</td>\n",
       "      <td>675.0</td>\n",
       "    </tr>\n",
       "  </tbody>\n",
       "</table>\n",
       "</div>"
      ],
      "text/plain": [
       "      Word  Rating_5.0_Freq_pros  Rating_1.0_Freq_pros  Rating_4.0_Freq_pros  \\\n",
       "0     good               10051.0                3038.0               13610.0   \n",
       "1    place                2138.0                 381.0                1769.0   \n",
       "2     work               12681.0                2721.0               13807.0   \n",
       "3  culture                3178.0                 153.0                2698.0   \n",
       "4    great               10394.0                1299.0                8880.0   \n",
       "\n",
       "   Rating_2.0_Freq_pros  Rating_3.0_Freq_pros  Rating_5.0_Freq_cons  \\\n",
       "0                4146.0               10093.0                1584.0   \n",
       "1                 422.0                1080.0                 547.0   \n",
       "2                3699.0                9362.0                5503.0   \n",
       "3                 222.0                1072.0                 306.0   \n",
       "4                2152.0                5372.0                 930.0   \n",
       "\n",
       "   Rating_1.0_Freq_cons  Rating_4.0_Freq_cons  Rating_2.0_Freq_cons  \\\n",
       "0                1285.0                1780.0                1166.0   \n",
       "1                 961.0                 454.0                 487.0   \n",
       "2                6944.0                7551.0                5633.0   \n",
       "3                 873.0                 581.0                 820.0   \n",
       "4                 360.0                 726.0                 361.0   \n",
       "\n",
       "   Rating_3.0_Freq_cons  \n",
       "0                1864.0  \n",
       "1                 522.0  \n",
       "2                7642.0  \n",
       "3                 820.0  \n",
       "4                 675.0  "
      ]
     },
     "metadata": {},
     "output_type": "display_data"
    }
   ],
   "source": [
    "# Get word frequencies for 'pros' and 'cons' grouped by rating\n",
    "pros_word_freq_by_rating = get_word_frequencies_by_rating(sampled_reviews, 'pros', 'rating')\n",
    "cons_word_freq_by_rating = get_word_frequencies_by_rating(sampled_reviews, 'cons', 'rating')\n",
    "\n",
    "# convert the word frequencies into DataFrames for easier visualization\n",
    "def word_freq_to_dataframe(word_freq_by_rating):\n",
    "    df = pd.DataFrame()\n",
    "    \n",
    "    for rating, freq in word_freq_by_rating.items():\n",
    "        # Convert the word frequencies into a DataFrame for each rating\n",
    "        rating_df = pd.DataFrame(freq.items(), columns=[\"Word\", f\"Rating_{rating}_Freq\"])\n",
    "        df = pd.merge(df, rating_df, on=\"Word\", how=\"outer\") if not df.empty else rating_df\n",
    "    \n",
    "    return df.fillna(0)\n",
    "\n",
    "# Create DataFrames for pros and cons word frequencies\n",
    "pros_freq_df = word_freq_to_dataframe(pros_word_freq_by_rating)\n",
    "cons_freq_df = word_freq_to_dataframe(cons_word_freq_by_rating)\n",
    "\n",
    "# Combine pros and cons frequencies into a single DataFrame\n",
    "combined_freq_df = pd.merge(pros_freq_df, cons_freq_df, on=\"Word\", suffixes=('_pros', '_cons'))\n",
    "\n",
    "# Display the DataFrame with word frequencies\n",
    "display(combined_freq_df.head())"
   ]
  },
  {
   "cell_type": "code",
   "execution_count": 15,
   "metadata": {},
   "outputs": [
    {
     "data": {
      "text/html": [
       "<div>\n",
       "<style scoped>\n",
       "    .dataframe tbody tr th:only-of-type {\n",
       "        vertical-align: middle;\n",
       "    }\n",
       "\n",
       "    .dataframe tbody tr th {\n",
       "        vertical-align: top;\n",
       "    }\n",
       "\n",
       "    .dataframe thead th {\n",
       "        text-align: right;\n",
       "    }\n",
       "</style>\n",
       "<table border=\"1\" class=\"dataframe\">\n",
       "  <thead>\n",
       "    <tr style=\"text-align: right;\">\n",
       "      <th></th>\n",
       "      <th>Word</th>\n",
       "      <th>Rating_5.0_Freq</th>\n",
       "      <th>Rating_1.0_Freq</th>\n",
       "      <th>Rating_4.0_Freq</th>\n",
       "      <th>Rating_2.0_Freq</th>\n",
       "      <th>Rating_3.0_Freq</th>\n",
       "    </tr>\n",
       "  </thead>\n",
       "  <tbody>\n",
       "    <tr>\n",
       "      <th>0</th>\n",
       "      <td>good</td>\n",
       "      <td>10051.0</td>\n",
       "      <td>3038.0</td>\n",
       "      <td>13610.0</td>\n",
       "      <td>4146.0</td>\n",
       "      <td>10093.0</td>\n",
       "    </tr>\n",
       "    <tr>\n",
       "      <th>1</th>\n",
       "      <td>place</td>\n",
       "      <td>2138.0</td>\n",
       "      <td>381.0</td>\n",
       "      <td>1769.0</td>\n",
       "      <td>422.0</td>\n",
       "      <td>1080.0</td>\n",
       "    </tr>\n",
       "    <tr>\n",
       "      <th>2</th>\n",
       "      <td>work</td>\n",
       "      <td>12681.0</td>\n",
       "      <td>2721.0</td>\n",
       "      <td>13807.0</td>\n",
       "      <td>3699.0</td>\n",
       "      <td>9362.0</td>\n",
       "    </tr>\n",
       "    <tr>\n",
       "      <th>3</th>\n",
       "      <td>culture</td>\n",
       "      <td>3178.0</td>\n",
       "      <td>153.0</td>\n",
       "      <td>2698.0</td>\n",
       "      <td>222.0</td>\n",
       "      <td>1072.0</td>\n",
       "    </tr>\n",
       "    <tr>\n",
       "      <th>4</th>\n",
       "      <td>great</td>\n",
       "      <td>10394.0</td>\n",
       "      <td>1299.0</td>\n",
       "      <td>8880.0</td>\n",
       "      <td>2152.0</td>\n",
       "      <td>5372.0</td>\n",
       "    </tr>\n",
       "    <tr>\n",
       "      <th>...</th>\n",
       "      <td>...</td>\n",
       "      <td>...</td>\n",
       "      <td>...</td>\n",
       "      <td>...</td>\n",
       "      <td>...</td>\n",
       "      <td>...</td>\n",
       "    </tr>\n",
       "    <tr>\n",
       "      <th>14073</th>\n",
       "      <td>hotspot</td>\n",
       "      <td>0.0</td>\n",
       "      <td>0.0</td>\n",
       "      <td>0.0</td>\n",
       "      <td>0.0</td>\n",
       "      <td>1.0</td>\n",
       "    </tr>\n",
       "    <tr>\n",
       "      <th>14074</th>\n",
       "      <td>rembersment</td>\n",
       "      <td>0.0</td>\n",
       "      <td>0.0</td>\n",
       "      <td>0.0</td>\n",
       "      <td>0.0</td>\n",
       "      <td>1.0</td>\n",
       "    </tr>\n",
       "    <tr>\n",
       "      <th>14075</th>\n",
       "      <td>spitalfied</td>\n",
       "      <td>0.0</td>\n",
       "      <td>0.0</td>\n",
       "      <td>0.0</td>\n",
       "      <td>0.0</td>\n",
       "      <td>1.0</td>\n",
       "    </tr>\n",
       "    <tr>\n",
       "      <th>14076</th>\n",
       "      <td>medibuddy</td>\n",
       "      <td>0.0</td>\n",
       "      <td>0.0</td>\n",
       "      <td>0.0</td>\n",
       "      <td>0.0</td>\n",
       "      <td>1.0</td>\n",
       "    </tr>\n",
       "    <tr>\n",
       "      <th>14077</th>\n",
       "      <td>benchmarking</td>\n",
       "      <td>0.0</td>\n",
       "      <td>0.0</td>\n",
       "      <td>0.0</td>\n",
       "      <td>0.0</td>\n",
       "      <td>1.0</td>\n",
       "    </tr>\n",
       "  </tbody>\n",
       "</table>\n",
       "<p>14078 rows × 6 columns</p>\n",
       "</div>"
      ],
      "text/plain": [
       "               Word  Rating_5.0_Freq  Rating_1.0_Freq  Rating_4.0_Freq  \\\n",
       "0              good          10051.0           3038.0          13610.0   \n",
       "1             place           2138.0            381.0           1769.0   \n",
       "2              work          12681.0           2721.0          13807.0   \n",
       "3           culture           3178.0            153.0           2698.0   \n",
       "4             great          10394.0           1299.0           8880.0   \n",
       "...             ...              ...              ...              ...   \n",
       "14073       hotspot              0.0              0.0              0.0   \n",
       "14074   rembersment              0.0              0.0              0.0   \n",
       "14075    spitalfied              0.0              0.0              0.0   \n",
       "14076     medibuddy              0.0              0.0              0.0   \n",
       "14077  benchmarking              0.0              0.0              0.0   \n",
       "\n",
       "       Rating_2.0_Freq  Rating_3.0_Freq  \n",
       "0               4146.0          10093.0  \n",
       "1                422.0           1080.0  \n",
       "2               3699.0           9362.0  \n",
       "3                222.0           1072.0  \n",
       "4               2152.0           5372.0  \n",
       "...                ...              ...  \n",
       "14073              0.0              1.0  \n",
       "14074              0.0              1.0  \n",
       "14075              0.0              1.0  \n",
       "14076              0.0              1.0  \n",
       "14077              0.0              1.0  \n",
       "\n",
       "[14078 rows x 6 columns]"
      ]
     },
     "execution_count": 15,
     "metadata": {},
     "output_type": "execute_result"
    }
   ],
   "source": [
    "pros_freq_df"
   ]
  },
  {
   "cell_type": "code",
   "execution_count": 16,
   "metadata": {},
   "outputs": [
    {
     "data": {
      "text/html": [
       "<div>\n",
       "<style scoped>\n",
       "    .dataframe tbody tr th:only-of-type {\n",
       "        vertical-align: middle;\n",
       "    }\n",
       "\n",
       "    .dataframe tbody tr th {\n",
       "        vertical-align: top;\n",
       "    }\n",
       "\n",
       "    .dataframe thead th {\n",
       "        text-align: right;\n",
       "    }\n",
       "</style>\n",
       "<table border=\"1\" class=\"dataframe\">\n",
       "  <thead>\n",
       "    <tr style=\"text-align: right;\">\n",
       "      <th></th>\n",
       "      <th>Word</th>\n",
       "      <th>5_pros</th>\n",
       "      <th>1_pros</th>\n",
       "      <th>4_pros</th>\n",
       "      <th>2_pros</th>\n",
       "      <th>3_pros</th>\n",
       "      <th>5_cons</th>\n",
       "      <th>1_cons</th>\n",
       "      <th>4_cons</th>\n",
       "      <th>2_cons</th>\n",
       "      <th>3_cons</th>\n",
       "    </tr>\n",
       "  </thead>\n",
       "  <tbody>\n",
       "    <tr>\n",
       "      <th>0</th>\n",
       "      <td>work</td>\n",
       "      <td>12681.0</td>\n",
       "      <td>2721.0</td>\n",
       "      <td>13807.0</td>\n",
       "      <td>3699.0</td>\n",
       "      <td>9362.0</td>\n",
       "      <td>5503.0</td>\n",
       "      <td>6944.0</td>\n",
       "      <td>7551.0</td>\n",
       "      <td>5633.0</td>\n",
       "      <td>7642.0</td>\n",
       "    </tr>\n",
       "    <tr>\n",
       "      <th>1</th>\n",
       "      <td>great</td>\n",
       "      <td>10394.0</td>\n",
       "      <td>1299.0</td>\n",
       "      <td>8880.0</td>\n",
       "      <td>2152.0</td>\n",
       "      <td>5372.0</td>\n",
       "      <td>930.0</td>\n",
       "      <td>360.0</td>\n",
       "      <td>726.0</td>\n",
       "      <td>361.0</td>\n",
       "      <td>675.0</td>\n",
       "    </tr>\n",
       "    <tr>\n",
       "      <th>2</th>\n",
       "      <td>good</td>\n",
       "      <td>10051.0</td>\n",
       "      <td>3038.0</td>\n",
       "      <td>13610.0</td>\n",
       "      <td>4146.0</td>\n",
       "      <td>10093.0</td>\n",
       "      <td>1584.0</td>\n",
       "      <td>1285.0</td>\n",
       "      <td>1780.0</td>\n",
       "      <td>1166.0</td>\n",
       "      <td>1864.0</td>\n",
       "    </tr>\n",
       "    <tr>\n",
       "      <th>3</th>\n",
       "      <td>company</td>\n",
       "      <td>4864.0</td>\n",
       "      <td>1069.0</td>\n",
       "      <td>4079.0</td>\n",
       "      <td>1051.0</td>\n",
       "      <td>2531.0</td>\n",
       "      <td>2065.0</td>\n",
       "      <td>3266.0</td>\n",
       "      <td>2283.0</td>\n",
       "      <td>2273.0</td>\n",
       "      <td>2586.0</td>\n",
       "    </tr>\n",
       "    <tr>\n",
       "      <th>4</th>\n",
       "      <td>people</td>\n",
       "      <td>4262.0</td>\n",
       "      <td>1239.0</td>\n",
       "      <td>4875.0</td>\n",
       "      <td>1684.0</td>\n",
       "      <td>3674.0</td>\n",
       "      <td>920.0</td>\n",
       "      <td>2721.0</td>\n",
       "      <td>1561.0</td>\n",
       "      <td>2002.0</td>\n",
       "      <td>2098.0</td>\n",
       "    </tr>\n",
       "  </tbody>\n",
       "</table>\n",
       "</div>"
      ],
      "text/plain": [
       "      Word   5_pros  1_pros   4_pros  2_pros   3_pros  5_cons  1_cons  4_cons  \\\n",
       "0     work  12681.0  2721.0  13807.0  3699.0   9362.0  5503.0  6944.0  7551.0   \n",
       "1    great  10394.0  1299.0   8880.0  2152.0   5372.0   930.0   360.0   726.0   \n",
       "2     good  10051.0  3038.0  13610.0  4146.0  10093.0  1584.0  1285.0  1780.0   \n",
       "3  company   4864.0  1069.0   4079.0  1051.0   2531.0  2065.0  3266.0  2283.0   \n",
       "4   people   4262.0  1239.0   4875.0  1684.0   3674.0   920.0  2721.0  1561.0   \n",
       "\n",
       "   2_cons  3_cons  \n",
       "0  5633.0  7642.0  \n",
       "1   361.0   675.0  \n",
       "2  1166.0  1864.0  \n",
       "3  2273.0  2586.0  \n",
       "4  2002.0  2098.0  "
      ]
     },
     "metadata": {},
     "output_type": "display_data"
    }
   ],
   "source": [
    "\"\"\"\n",
    "This code combines the 'pros' and 'cons' flags for each emotional state by applying a logical OR operation. \n",
    "It then drops the 'cons' flags and displays the updated dataframe with the combined emotional flags.\n",
    "\"\"\"\n",
    "\n",
    "# sort the df in descending order based on any of the rating columns\n",
    "combined_freq_df.sort_values(by='Rating_5.0_Freq_pros', ascending=False, inplace=True)\n",
    "\n",
    "# clean column names\n",
    "combined_freq_df.columns = combined_freq_df.columns.str.replace(r'\\.0', '', regex=True)  # remove '.0' from the column names\n",
    "combined_freq_df.columns = combined_freq_df.columns.str.replace(r'Rating_', '', regex=True)  # remove 'Rating_' from column names\n",
    "\n",
    "# renames columns from the format 5_Freq_pros to 5_pros (and similarly for cons)\n",
    "combined_freq_df.columns = combined_freq_df.columns.str.replace(r'(\\d+)_Freq_(pros|cons)', r'\\1_\\2', regex=True)\n",
    "\n",
    "combined_freq_df.reset_index(drop=True, inplace=True) #reset the index\n",
    "display(combined_freq_df.head()) #display the df\n",
    "\n",
    "\n"
   ]
  },
  {
   "cell_type": "code",
   "execution_count": 19,
   "metadata": {},
   "outputs": [
    {
     "data": {
      "text/html": [
       "<div>\n",
       "<style scoped>\n",
       "    .dataframe tbody tr th:only-of-type {\n",
       "        vertical-align: middle;\n",
       "    }\n",
       "\n",
       "    .dataframe tbody tr th {\n",
       "        vertical-align: top;\n",
       "    }\n",
       "\n",
       "    .dataframe thead th {\n",
       "        text-align: right;\n",
       "    }\n",
       "</style>\n",
       "<table border=\"1\" class=\"dataframe\">\n",
       "  <thead>\n",
       "    <tr style=\"text-align: right;\">\n",
       "      <th></th>\n",
       "      <th>Word</th>\n",
       "      <th>5_pros</th>\n",
       "      <th>1_pros</th>\n",
       "      <th>4_pros</th>\n",
       "      <th>2_pros</th>\n",
       "      <th>3_pros</th>\n",
       "    </tr>\n",
       "  </thead>\n",
       "  <tbody>\n",
       "    <tr>\n",
       "      <th>0</th>\n",
       "      <td>work</td>\n",
       "      <td>12681.0</td>\n",
       "      <td>2721.0</td>\n",
       "      <td>13807.0</td>\n",
       "      <td>3699.0</td>\n",
       "      <td>9362.0</td>\n",
       "    </tr>\n",
       "    <tr>\n",
       "      <th>1</th>\n",
       "      <td>great</td>\n",
       "      <td>10394.0</td>\n",
       "      <td>1299.0</td>\n",
       "      <td>8880.0</td>\n",
       "      <td>2152.0</td>\n",
       "      <td>5372.0</td>\n",
       "    </tr>\n",
       "    <tr>\n",
       "      <th>2</th>\n",
       "      <td>good</td>\n",
       "      <td>10051.0</td>\n",
       "      <td>3038.0</td>\n",
       "      <td>13610.0</td>\n",
       "      <td>4146.0</td>\n",
       "      <td>10093.0</td>\n",
       "    </tr>\n",
       "    <tr>\n",
       "      <th>3</th>\n",
       "      <td>company</td>\n",
       "      <td>4864.0</td>\n",
       "      <td>1069.0</td>\n",
       "      <td>4079.0</td>\n",
       "      <td>1051.0</td>\n",
       "      <td>2531.0</td>\n",
       "    </tr>\n",
       "    <tr>\n",
       "      <th>4</th>\n",
       "      <td>people</td>\n",
       "      <td>4262.0</td>\n",
       "      <td>1239.0</td>\n",
       "      <td>4875.0</td>\n",
       "      <td>1684.0</td>\n",
       "      <td>3674.0</td>\n",
       "    </tr>\n",
       "  </tbody>\n",
       "</table>\n",
       "</div>"
      ],
      "text/plain": [
       "      Word   5_pros  1_pros   4_pros  2_pros   3_pros\n",
       "0     work  12681.0  2721.0  13807.0  3699.0   9362.0\n",
       "1    great  10394.0  1299.0   8880.0  2152.0   5372.0\n",
       "2     good  10051.0  3038.0  13610.0  4146.0  10093.0\n",
       "3  company   4864.0  1069.0   4079.0  1051.0   2531.0\n",
       "4   people   4262.0  1239.0   4875.0  1684.0   3674.0"
      ]
     },
     "metadata": {},
     "output_type": "display_data"
    }
   ],
   "source": [
    "# sort the df in descending order based on any of the rating columns\n",
    "pros_freq_df.sort_values(by='Rating_5.0_Freq', ascending=False, inplace=True)\n",
    "pros_freq_df.columns = pros_freq_df.columns.str.replace(r'Rating_(\\d+)\\.0_Freq', r'\\1_pros', regex=True)\n",
    "\n",
    "pros_freq_df.reset_index(drop=True, inplace=True) #reset the index\n",
    "display(pros_freq_df.head()) #display the df"
   ]
  },
  {
   "cell_type": "code",
   "execution_count": 20,
   "metadata": {},
   "outputs": [
    {
     "data": {
      "text/html": [
       "<div>\n",
       "<style scoped>\n",
       "    .dataframe tbody tr th:only-of-type {\n",
       "        vertical-align: middle;\n",
       "    }\n",
       "\n",
       "    .dataframe tbody tr th {\n",
       "        vertical-align: top;\n",
       "    }\n",
       "\n",
       "    .dataframe thead th {\n",
       "        text-align: right;\n",
       "    }\n",
       "</style>\n",
       "<table border=\"1\" class=\"dataframe\">\n",
       "  <thead>\n",
       "    <tr style=\"text-align: right;\">\n",
       "      <th></th>\n",
       "      <th>Word</th>\n",
       "      <th>5_cons</th>\n",
       "      <th>1_cons</th>\n",
       "      <th>4_cons</th>\n",
       "      <th>2_cons</th>\n",
       "      <th>3_cons</th>\n",
       "    </tr>\n",
       "  </thead>\n",
       "  <tbody>\n",
       "    <tr>\n",
       "      <th>0</th>\n",
       "      <td>work</td>\n",
       "      <td>5503.0</td>\n",
       "      <td>6944.0</td>\n",
       "      <td>7551.0</td>\n",
       "      <td>5633.0</td>\n",
       "      <td>7642.0</td>\n",
       "    </tr>\n",
       "    <tr>\n",
       "      <th>1</th>\n",
       "      <td>hour</td>\n",
       "      <td>2713.0</td>\n",
       "      <td>2226.0</td>\n",
       "      <td>3525.0</td>\n",
       "      <td>2179.0</td>\n",
       "      <td>3438.0</td>\n",
       "    </tr>\n",
       "    <tr>\n",
       "      <th>2</th>\n",
       "      <td>con</td>\n",
       "      <td>2712.0</td>\n",
       "      <td>166.0</td>\n",
       "      <td>1057.0</td>\n",
       "      <td>106.0</td>\n",
       "      <td>271.0</td>\n",
       "    </tr>\n",
       "    <tr>\n",
       "      <th>3</th>\n",
       "      <td>time</td>\n",
       "      <td>2380.0</td>\n",
       "      <td>2225.0</td>\n",
       "      <td>3198.0</td>\n",
       "      <td>2056.0</td>\n",
       "      <td>2951.0</td>\n",
       "    </tr>\n",
       "    <tr>\n",
       "      <th>4</th>\n",
       "      <td>company</td>\n",
       "      <td>2065.0</td>\n",
       "      <td>3266.0</td>\n",
       "      <td>2283.0</td>\n",
       "      <td>2273.0</td>\n",
       "      <td>2586.0</td>\n",
       "    </tr>\n",
       "  </tbody>\n",
       "</table>\n",
       "</div>"
      ],
      "text/plain": [
       "      Word  5_cons  1_cons  4_cons  2_cons  3_cons\n",
       "0     work  5503.0  6944.0  7551.0  5633.0  7642.0\n",
       "1     hour  2713.0  2226.0  3525.0  2179.0  3438.0\n",
       "2      con  2712.0   166.0  1057.0   106.0   271.0\n",
       "3     time  2380.0  2225.0  3198.0  2056.0  2951.0\n",
       "4  company  2065.0  3266.0  2283.0  2273.0  2586.0"
      ]
     },
     "metadata": {},
     "output_type": "display_data"
    }
   ],
   "source": [
    "# sort the df in descending order based on any of the rating columns\n",
    "cons_freq_df.sort_values(by='Rating_5.0_Freq', ascending=False, inplace=True)\n",
    "cons_freq_df.columns = cons_freq_df.columns.str.replace(r'Rating_(\\d+)\\.0_Freq', r'\\1_cons', regex=True)\n",
    "\n",
    "cons_freq_df.reset_index(drop=True, inplace=True) #reset the index\n",
    "display(cons_freq_df.head()) #display the df"
   ]
  },
  {
   "cell_type": "code",
   "execution_count": 21,
   "metadata": {},
   "outputs": [
    {
     "data": {
      "text/html": [
       "<div>\n",
       "<style scoped>\n",
       "    .dataframe tbody tr th:only-of-type {\n",
       "        vertical-align: middle;\n",
       "    }\n",
       "\n",
       "    .dataframe tbody tr th {\n",
       "        vertical-align: top;\n",
       "    }\n",
       "\n",
       "    .dataframe thead th {\n",
       "        text-align: right;\n",
       "    }\n",
       "</style>\n",
       "<table border=\"1\" class=\"dataframe\">\n",
       "  <thead>\n",
       "    <tr style=\"text-align: right;\">\n",
       "      <th></th>\n",
       "      <th>Word</th>\n",
       "      <th>5_pros</th>\n",
       "      <th>1_pros</th>\n",
       "      <th>4_pros</th>\n",
       "      <th>2_pros</th>\n",
       "      <th>3_pros</th>\n",
       "    </tr>\n",
       "  </thead>\n",
       "  <tbody>\n",
       "    <tr>\n",
       "      <th>0</th>\n",
       "      <td>work</td>\n",
       "      <td>12681.0</td>\n",
       "      <td>2721.0</td>\n",
       "      <td>13807.0</td>\n",
       "      <td>3699.0</td>\n",
       "      <td>9362.0</td>\n",
       "    </tr>\n",
       "    <tr>\n",
       "      <th>1</th>\n",
       "      <td>great</td>\n",
       "      <td>10394.0</td>\n",
       "      <td>1299.0</td>\n",
       "      <td>8880.0</td>\n",
       "      <td>2152.0</td>\n",
       "      <td>5372.0</td>\n",
       "    </tr>\n",
       "    <tr>\n",
       "      <th>2</th>\n",
       "      <td>good</td>\n",
       "      <td>10051.0</td>\n",
       "      <td>3038.0</td>\n",
       "      <td>13610.0</td>\n",
       "      <td>4146.0</td>\n",
       "      <td>10093.0</td>\n",
       "    </tr>\n",
       "    <tr>\n",
       "      <th>3</th>\n",
       "      <td>company</td>\n",
       "      <td>4864.0</td>\n",
       "      <td>1069.0</td>\n",
       "      <td>4079.0</td>\n",
       "      <td>1051.0</td>\n",
       "      <td>2531.0</td>\n",
       "    </tr>\n",
       "    <tr>\n",
       "      <th>4</th>\n",
       "      <td>people</td>\n",
       "      <td>4262.0</td>\n",
       "      <td>1239.0</td>\n",
       "      <td>4875.0</td>\n",
       "      <td>1684.0</td>\n",
       "      <td>3674.0</td>\n",
       "    </tr>\n",
       "    <tr>\n",
       "      <th>5</th>\n",
       "      <td>environment</td>\n",
       "      <td>3637.0</td>\n",
       "      <td>280.0</td>\n",
       "      <td>3946.0</td>\n",
       "      <td>617.0</td>\n",
       "      <td>2262.0</td>\n",
       "    </tr>\n",
       "    <tr>\n",
       "      <th>6</th>\n",
       "      <td>benefit</td>\n",
       "      <td>3410.0</td>\n",
       "      <td>1012.0</td>\n",
       "      <td>4069.0</td>\n",
       "      <td>1570.0</td>\n",
       "      <td>3309.0</td>\n",
       "    </tr>\n",
       "    <tr>\n",
       "      <th>7</th>\n",
       "      <td>culture</td>\n",
       "      <td>3178.0</td>\n",
       "      <td>153.0</td>\n",
       "      <td>2698.0</td>\n",
       "      <td>222.0</td>\n",
       "      <td>1072.0</td>\n",
       "    </tr>\n",
       "    <tr>\n",
       "      <th>8</th>\n",
       "      <td>pay</td>\n",
       "      <td>3060.0</td>\n",
       "      <td>1326.0</td>\n",
       "      <td>3552.0</td>\n",
       "      <td>1520.0</td>\n",
       "      <td>3072.0</td>\n",
       "    </tr>\n",
       "    <tr>\n",
       "      <th>9</th>\n",
       "      <td>employee</td>\n",
       "      <td>2709.0</td>\n",
       "      <td>665.0</td>\n",
       "      <td>2253.0</td>\n",
       "      <td>794.0</td>\n",
       "      <td>1589.0</td>\n",
       "    </tr>\n",
       "    <tr>\n",
       "      <th>10</th>\n",
       "      <td>opportunity</td>\n",
       "      <td>2688.0</td>\n",
       "      <td>250.0</td>\n",
       "      <td>3012.0</td>\n",
       "      <td>575.0</td>\n",
       "      <td>1728.0</td>\n",
       "    </tr>\n",
       "    <tr>\n",
       "      <th>11</th>\n",
       "      <td>team</td>\n",
       "      <td>2422.0</td>\n",
       "      <td>340.0</td>\n",
       "      <td>2470.0</td>\n",
       "      <td>592.0</td>\n",
       "      <td>1504.0</td>\n",
       "    </tr>\n",
       "    <tr>\n",
       "      <th>12</th>\n",
       "      <td>management</td>\n",
       "      <td>2138.0</td>\n",
       "      <td>348.0</td>\n",
       "      <td>2084.0</td>\n",
       "      <td>397.0</td>\n",
       "      <td>1119.0</td>\n",
       "    </tr>\n",
       "    <tr>\n",
       "      <th>13</th>\n",
       "      <td>place</td>\n",
       "      <td>2138.0</td>\n",
       "      <td>381.0</td>\n",
       "      <td>1769.0</td>\n",
       "      <td>422.0</td>\n",
       "      <td>1080.0</td>\n",
       "    </tr>\n",
       "    <tr>\n",
       "      <th>14</th>\n",
       "      <td>life</td>\n",
       "      <td>2067.0</td>\n",
       "      <td>298.0</td>\n",
       "      <td>2561.0</td>\n",
       "      <td>501.0</td>\n",
       "      <td>1540.0</td>\n",
       "    </tr>\n",
       "    <tr>\n",
       "      <th>15</th>\n",
       "      <td>flexible</td>\n",
       "      <td>1948.0</td>\n",
       "      <td>382.0</td>\n",
       "      <td>2577.0</td>\n",
       "      <td>745.0</td>\n",
       "      <td>1978.0</td>\n",
       "    </tr>\n",
       "    <tr>\n",
       "      <th>16</th>\n",
       "      <td>balance</td>\n",
       "      <td>1873.0</td>\n",
       "      <td>211.0</td>\n",
       "      <td>2400.0</td>\n",
       "      <td>430.0</td>\n",
       "      <td>1416.0</td>\n",
       "    </tr>\n",
       "    <tr>\n",
       "      <th>17</th>\n",
       "      <td>lot</td>\n",
       "      <td>1774.0</td>\n",
       "      <td>429.0</td>\n",
       "      <td>2394.0</td>\n",
       "      <td>770.0</td>\n",
       "      <td>1815.0</td>\n",
       "    </tr>\n",
       "    <tr>\n",
       "      <th>18</th>\n",
       "      <td>friendly</td>\n",
       "      <td>1708.0</td>\n",
       "      <td>220.0</td>\n",
       "      <td>1859.0</td>\n",
       "      <td>379.0</td>\n",
       "      <td>1203.0</td>\n",
       "    </tr>\n",
       "    <tr>\n",
       "      <th>19</th>\n",
       "      <td>learn</td>\n",
       "      <td>1477.0</td>\n",
       "      <td>284.0</td>\n",
       "      <td>2172.0</td>\n",
       "      <td>586.0</td>\n",
       "      <td>1554.0</td>\n",
       "    </tr>\n",
       "  </tbody>\n",
       "</table>\n",
       "</div>"
      ],
      "text/plain": [
       "           Word   5_pros  1_pros   4_pros  2_pros   3_pros\n",
       "0          work  12681.0  2721.0  13807.0  3699.0   9362.0\n",
       "1         great  10394.0  1299.0   8880.0  2152.0   5372.0\n",
       "2          good  10051.0  3038.0  13610.0  4146.0  10093.0\n",
       "3       company   4864.0  1069.0   4079.0  1051.0   2531.0\n",
       "4        people   4262.0  1239.0   4875.0  1684.0   3674.0\n",
       "5   environment   3637.0   280.0   3946.0   617.0   2262.0\n",
       "6       benefit   3410.0  1012.0   4069.0  1570.0   3309.0\n",
       "7       culture   3178.0   153.0   2698.0   222.0   1072.0\n",
       "8           pay   3060.0  1326.0   3552.0  1520.0   3072.0\n",
       "9      employee   2709.0   665.0   2253.0   794.0   1589.0\n",
       "10  opportunity   2688.0   250.0   3012.0   575.0   1728.0\n",
       "11         team   2422.0   340.0   2470.0   592.0   1504.0\n",
       "12   management   2138.0   348.0   2084.0   397.0   1119.0\n",
       "13        place   2138.0   381.0   1769.0   422.0   1080.0\n",
       "14         life   2067.0   298.0   2561.0   501.0   1540.0\n",
       "15     flexible   1948.0   382.0   2577.0   745.0   1978.0\n",
       "16      balance   1873.0   211.0   2400.0   430.0   1416.0\n",
       "17          lot   1774.0   429.0   2394.0   770.0   1815.0\n",
       "18     friendly   1708.0   220.0   1859.0   379.0   1203.0\n",
       "19        learn   1477.0   284.0   2172.0   586.0   1554.0"
      ]
     },
     "metadata": {},
     "output_type": "display_data"
    },
    {
     "data": {
      "text/html": [
       "<div>\n",
       "<style scoped>\n",
       "    .dataframe tbody tr th:only-of-type {\n",
       "        vertical-align: middle;\n",
       "    }\n",
       "\n",
       "    .dataframe tbody tr th {\n",
       "        vertical-align: top;\n",
       "    }\n",
       "\n",
       "    .dataframe thead th {\n",
       "        text-align: right;\n",
       "    }\n",
       "</style>\n",
       "<table border=\"1\" class=\"dataframe\">\n",
       "  <thead>\n",
       "    <tr style=\"text-align: right;\">\n",
       "      <th></th>\n",
       "      <th>Word</th>\n",
       "      <th>5_cons</th>\n",
       "      <th>1_cons</th>\n",
       "      <th>4_cons</th>\n",
       "      <th>2_cons</th>\n",
       "      <th>3_cons</th>\n",
       "    </tr>\n",
       "  </thead>\n",
       "  <tbody>\n",
       "    <tr>\n",
       "      <th>0</th>\n",
       "      <td>work</td>\n",
       "      <td>5503.0</td>\n",
       "      <td>6944.0</td>\n",
       "      <td>7551.0</td>\n",
       "      <td>5633.0</td>\n",
       "      <td>7642.0</td>\n",
       "    </tr>\n",
       "    <tr>\n",
       "      <th>1</th>\n",
       "      <td>hour</td>\n",
       "      <td>2713.0</td>\n",
       "      <td>2226.0</td>\n",
       "      <td>3525.0</td>\n",
       "      <td>2179.0</td>\n",
       "      <td>3438.0</td>\n",
       "    </tr>\n",
       "    <tr>\n",
       "      <th>2</th>\n",
       "      <td>con</td>\n",
       "      <td>2712.0</td>\n",
       "      <td>166.0</td>\n",
       "      <td>1057.0</td>\n",
       "      <td>106.0</td>\n",
       "      <td>271.0</td>\n",
       "    </tr>\n",
       "    <tr>\n",
       "      <th>3</th>\n",
       "      <td>time</td>\n",
       "      <td>2380.0</td>\n",
       "      <td>2225.0</td>\n",
       "      <td>3198.0</td>\n",
       "      <td>2056.0</td>\n",
       "      <td>2951.0</td>\n",
       "    </tr>\n",
       "    <tr>\n",
       "      <th>4</th>\n",
       "      <td>company</td>\n",
       "      <td>2065.0</td>\n",
       "      <td>3266.0</td>\n",
       "      <td>2283.0</td>\n",
       "      <td>2273.0</td>\n",
       "      <td>2586.0</td>\n",
       "    </tr>\n",
       "    <tr>\n",
       "      <th>5</th>\n",
       "      <td>long</td>\n",
       "      <td>1694.0</td>\n",
       "      <td>928.0</td>\n",
       "      <td>2204.0</td>\n",
       "      <td>946.0</td>\n",
       "      <td>1622.0</td>\n",
       "    </tr>\n",
       "    <tr>\n",
       "      <th>6</th>\n",
       "      <td>good</td>\n",
       "      <td>1584.0</td>\n",
       "      <td>1285.0</td>\n",
       "      <td>1780.0</td>\n",
       "      <td>1166.0</td>\n",
       "      <td>1864.0</td>\n",
       "    </tr>\n",
       "    <tr>\n",
       "      <th>7</th>\n",
       "      <td>pay</td>\n",
       "      <td>1378.0</td>\n",
       "      <td>2967.0</td>\n",
       "      <td>2880.0</td>\n",
       "      <td>2741.0</td>\n",
       "      <td>4018.0</td>\n",
       "    </tr>\n",
       "    <tr>\n",
       "      <th>8</th>\n",
       "      <td>lot</td>\n",
       "      <td>1324.0</td>\n",
       "      <td>856.0</td>\n",
       "      <td>2043.0</td>\n",
       "      <td>1034.0</td>\n",
       "      <td>2043.0</td>\n",
       "    </tr>\n",
       "    <tr>\n",
       "      <th>9</th>\n",
       "      <td>think</td>\n",
       "      <td>1219.0</td>\n",
       "      <td>443.0</td>\n",
       "      <td>437.0</td>\n",
       "      <td>279.0</td>\n",
       "      <td>315.0</td>\n",
       "    </tr>\n",
       "    <tr>\n",
       "      <th>10</th>\n",
       "      <td>job</td>\n",
       "      <td>1042.0</td>\n",
       "      <td>1865.0</td>\n",
       "      <td>1371.0</td>\n",
       "      <td>1374.0</td>\n",
       "      <td>1626.0</td>\n",
       "    </tr>\n",
       "    <tr>\n",
       "      <th>11</th>\n",
       "      <td>management</td>\n",
       "      <td>1041.0</td>\n",
       "      <td>4988.0</td>\n",
       "      <td>3090.0</td>\n",
       "      <td>4234.0</td>\n",
       "      <td>5142.0</td>\n",
       "    </tr>\n",
       "    <tr>\n",
       "      <th>12</th>\n",
       "      <td>need</td>\n",
       "      <td>1040.0</td>\n",
       "      <td>751.0</td>\n",
       "      <td>1273.0</td>\n",
       "      <td>712.0</td>\n",
       "      <td>1140.0</td>\n",
       "    </tr>\n",
       "    <tr>\n",
       "      <th>13</th>\n",
       "      <td>hard</td>\n",
       "      <td>1035.0</td>\n",
       "      <td>532.0</td>\n",
       "      <td>1401.0</td>\n",
       "      <td>655.0</td>\n",
       "      <td>1189.0</td>\n",
       "    </tr>\n",
       "    <tr>\n",
       "      <th>14</th>\n",
       "      <td>customer</td>\n",
       "      <td>1022.0</td>\n",
       "      <td>1177.0</td>\n",
       "      <td>1445.0</td>\n",
       "      <td>1058.0</td>\n",
       "      <td>1593.0</td>\n",
       "    </tr>\n",
       "    <tr>\n",
       "      <th>15</th>\n",
       "      <td>great</td>\n",
       "      <td>930.0</td>\n",
       "      <td>360.0</td>\n",
       "      <td>726.0</td>\n",
       "      <td>361.0</td>\n",
       "      <td>675.0</td>\n",
       "    </tr>\n",
       "    <tr>\n",
       "      <th>16</th>\n",
       "      <td>people</td>\n",
       "      <td>920.0</td>\n",
       "      <td>2721.0</td>\n",
       "      <td>1561.0</td>\n",
       "      <td>2002.0</td>\n",
       "      <td>2098.0</td>\n",
       "    </tr>\n",
       "    <tr>\n",
       "      <th>17</th>\n",
       "      <td>employee</td>\n",
       "      <td>837.0</td>\n",
       "      <td>3515.0</td>\n",
       "      <td>1701.0</td>\n",
       "      <td>2569.0</td>\n",
       "      <td>2543.0</td>\n",
       "    </tr>\n",
       "    <tr>\n",
       "      <th>18</th>\n",
       "      <td>salary</td>\n",
       "      <td>812.0</td>\n",
       "      <td>667.0</td>\n",
       "      <td>1744.0</td>\n",
       "      <td>716.0</td>\n",
       "      <td>1559.0</td>\n",
       "    </tr>\n",
       "    <tr>\n",
       "      <th>19</th>\n",
       "      <td>life</td>\n",
       "      <td>806.0</td>\n",
       "      <td>1005.0</td>\n",
       "      <td>1423.0</td>\n",
       "      <td>811.0</td>\n",
       "      <td>1362.0</td>\n",
       "    </tr>\n",
       "  </tbody>\n",
       "</table>\n",
       "</div>"
      ],
      "text/plain": [
       "          Word  5_cons  1_cons  4_cons  2_cons  3_cons\n",
       "0         work  5503.0  6944.0  7551.0  5633.0  7642.0\n",
       "1         hour  2713.0  2226.0  3525.0  2179.0  3438.0\n",
       "2          con  2712.0   166.0  1057.0   106.0   271.0\n",
       "3         time  2380.0  2225.0  3198.0  2056.0  2951.0\n",
       "4      company  2065.0  3266.0  2283.0  2273.0  2586.0\n",
       "5         long  1694.0   928.0  2204.0   946.0  1622.0\n",
       "6         good  1584.0  1285.0  1780.0  1166.0  1864.0\n",
       "7          pay  1378.0  2967.0  2880.0  2741.0  4018.0\n",
       "8          lot  1324.0   856.0  2043.0  1034.0  2043.0\n",
       "9        think  1219.0   443.0   437.0   279.0   315.0\n",
       "10         job  1042.0  1865.0  1371.0  1374.0  1626.0\n",
       "11  management  1041.0  4988.0  3090.0  4234.0  5142.0\n",
       "12        need  1040.0   751.0  1273.0   712.0  1140.0\n",
       "13        hard  1035.0   532.0  1401.0   655.0  1189.0\n",
       "14    customer  1022.0  1177.0  1445.0  1058.0  1593.0\n",
       "15       great   930.0   360.0   726.0   361.0   675.0\n",
       "16      people   920.0  2721.0  1561.0  2002.0  2098.0\n",
       "17    employee   837.0  3515.0  1701.0  2569.0  2543.0\n",
       "18      salary   812.0   667.0  1744.0   716.0  1559.0\n",
       "19        life   806.0  1005.0  1423.0   811.0  1362.0"
      ]
     },
     "metadata": {},
     "output_type": "display_data"
    }
   ],
   "source": [
    "pros_freq_df = pros_freq_df.head(20)\n",
    "display(pros_freq_df)\n",
    "\n",
    "cons_freq_df = cons_freq_df.head(20)\n",
    "cons_freq_df = cons_freq_df.rename(columns={'5_pros': '5_cons'})\n",
    "display(cons_freq_df)\n"
   ]
  },
  {
   "cell_type": "code",
   "execution_count": null,
   "metadata": {},
   "outputs": [],
   "source": [
    "# Function to flag stress, burnout, and anxiety\n",
    "def emotional_status(text):\n",
    "    if not isinstance(text, str):  # Check if text is not None or NaN\n",
    "        return False, False, False, False, False, False  # Return False for all flags if the text is invalid\n",
    "\n",
    "    text = text.lower()\n",
    "\n",
    "    # Keywords for flags\n",
    "    stress_keywords = ['stress', 'overwhelmed', 'nervous', 'pressure', 'stressful', 'deadlines', 'high demand', 'high workload']\n",
    "    toxic_keywords = ['toxic','negative', 'micromanagement', 'lack of support', 'hostile', 'bullying', 'discrimination']\n",
    "    burnout_keywords = ['burnout', 'overtasked', 'overworked', 'burned out', 'burning out', 'exhaustion', 'fatigue']\n",
    "    anxiety_keywords = ['anxious', 'anxiety', 'panic', 'workload stress', 'job insecurity', 'sleepless']\n",
    "    depression_keywords= ['depressed','sad','no motivation','unmotivated', 'headaches', 'feeling worthless']\n",
    "    supportive_keywords = ['supportive', 'understanding', 'encouraging', 'teamwork']    \n",
    "    \n",
    "\n",
    "    # Remove unwanted phrases\n",
    "    unwanted_phrases = ['not too stressful', 'no negatives']\n",
    "    if any(phrase in text for phrase in unwanted_phrases):\n",
    "        return False, False, False, False, False\n",
    "\n",
    "    # Check for each set of keywords\n",
    "    stress_flag = any(keyword in text for keyword in stress_keywords)\n",
    "    burnout_flag = any(keyword in text for keyword in burnout_keywords)\n",
    "    anxiety_flag = any(keyword in text for keyword in anxiety_keywords)\n",
    "    toxic_flag = any(keyword in text for keyword in toxic_keywords)\n",
    "    supportive_env_flag = any(keyword in text for keyword in supportive_keywords)\n",
    "    depression_flag = any(keyword in text for keyword in depression_keywords)\n",
    "    \n",
    "    return stress_flag, burnout_flag, anxiety_flag, toxic_flag, supportive_env_flag, depression_flag\n",
    "\n",
    "\n"
   ]
  },
  {
   "cell_type": "markdown",
   "metadata": {},
   "source": [
    "Save the dataframes for further analysis"
   ]
  },
  {
   "cell_type": "code",
   "execution_count": 22,
   "metadata": {},
   "outputs": [],
   "source": [
    "#pros_freq_df.to_csv(\"../data/clean/pros_freq_df.csv\")\n",
    "#cons_freq_df.to_csv(\"../data/clean/cons_freq_df.csv\")"
   ]
  },
  {
   "cell_type": "code",
   "execution_count": 23,
   "metadata": {},
   "outputs": [
    {
     "data": {
      "text/html": [
       "<div>\n",
       "<style scoped>\n",
       "    .dataframe tbody tr th:only-of-type {\n",
       "        vertical-align: middle;\n",
       "    }\n",
       "\n",
       "    .dataframe tbody tr th {\n",
       "        vertical-align: top;\n",
       "    }\n",
       "\n",
       "    .dataframe thead th {\n",
       "        text-align: right;\n",
       "    }\n",
       "</style>\n",
       "<table border=\"1\" class=\"dataframe\">\n",
       "  <thead>\n",
       "    <tr style=\"text-align: right;\">\n",
       "      <th></th>\n",
       "      <th>stress_flag_pros</th>\n",
       "      <th>stress_flag_cons</th>\n",
       "    </tr>\n",
       "    <tr>\n",
       "      <th>job</th>\n",
       "      <th></th>\n",
       "      <th></th>\n",
       "    </tr>\n",
       "  </thead>\n",
       "  <tbody>\n",
       "    <tr>\n",
       "      <th>Anonymous Employee</th>\n",
       "      <td>230.0</td>\n",
       "      <td>1121.0</td>\n",
       "    </tr>\n",
       "    <tr>\n",
       "      <th>Software Engineer</th>\n",
       "      <td>129.0</td>\n",
       "      <td>144.0</td>\n",
       "    </tr>\n",
       "    <tr>\n",
       "      <th>Manager</th>\n",
       "      <td>83.0</td>\n",
       "      <td>633.0</td>\n",
       "    </tr>\n",
       "    <tr>\n",
       "      <th>Analyst</th>\n",
       "      <td>33.0</td>\n",
       "      <td>198.0</td>\n",
       "    </tr>\n",
       "    <tr>\n",
       "      <th>Sales Associate</th>\n",
       "      <td>32.0</td>\n",
       "      <td>152.0</td>\n",
       "    </tr>\n",
       "    <tr>\n",
       "      <th>...</th>\n",
       "      <td>...</td>\n",
       "      <td>...</td>\n",
       "    </tr>\n",
       "    <tr>\n",
       "      <th>Warehouse Picker</th>\n",
       "      <td>0.0</td>\n",
       "      <td>1.0</td>\n",
       "    </tr>\n",
       "    <tr>\n",
       "      <th>Warehouse Supervisor</th>\n",
       "      <td>0.0</td>\n",
       "      <td>1.0</td>\n",
       "    </tr>\n",
       "    <tr>\n",
       "      <th>Wealth Management</th>\n",
       "      <td>0.0</td>\n",
       "      <td>1.0</td>\n",
       "    </tr>\n",
       "    <tr>\n",
       "      <th>Welder</th>\n",
       "      <td>0.0</td>\n",
       "      <td>1.0</td>\n",
       "    </tr>\n",
       "    <tr>\n",
       "      <th>Writer</th>\n",
       "      <td>0.0</td>\n",
       "      <td>1.0</td>\n",
       "    </tr>\n",
       "  </tbody>\n",
       "</table>\n",
       "<p>733 rows × 2 columns</p>\n",
       "</div>"
      ],
      "text/plain": [
       "                      stress_flag_pros  stress_flag_cons\n",
       "job                                                     \n",
       "Anonymous Employee               230.0            1121.0\n",
       "Software Engineer                129.0             144.0\n",
       "Manager                           83.0             633.0\n",
       "Analyst                           33.0             198.0\n",
       "Sales Associate                   32.0             152.0\n",
       "...                                ...               ...\n",
       "Warehouse Picker                   0.0               1.0\n",
       "Warehouse Supervisor               0.0               1.0\n",
       "Wealth Management                  0.0               1.0\n",
       "Welder                             0.0               1.0\n",
       "Writer                             0.0               1.0\n",
       "\n",
       "[733 rows x 2 columns]"
      ]
     },
     "metadata": {},
     "output_type": "display_data"
    }
   ],
   "source": [
    "# Count the number of stressed reviews in the 'pros' section (based on stress_flag)\n",
    "stressed_jobs_pros = sampled_reviews[sampled_reviews['stress_flag'] == True].groupby('job').size()\n",
    "\n",
    "# Count the number of stressed reviews in the 'cons' section (based on stress_flag_cons)\n",
    "stressed_jobs_cons = sampled_reviews[sampled_reviews['stress_flag_cons'] == True].groupby('job').size()\n",
    "\n",
    "# Merge both results into a single DataFrame\n",
    "stressed_jobs = pd.DataFrame({\n",
    "    'stress_flag_pros': stressed_jobs_pros,\n",
    "    'stress_flag_cons': stressed_jobs_cons\n",
    "}).fillna(0)  # Fill NaN values with 0 for jobs that have no flags\n",
    "\n",
    "# Sort the results by the combined count\n",
    "stressed_jobs = stressed_jobs.sort_values(by=['stress_flag_pros', 'stress_flag_cons'], ascending=False)\n",
    "\n",
    "# Display the results\n",
    "display(stressed_jobs)\n"
   ]
  },
  {
   "cell_type": "code",
   "execution_count": 24,
   "metadata": {},
   "outputs": [],
   "source": [
    "# Convert stressed_jobs to DataFrame\n",
    "stressed_jobs_df = stressed_jobs.reset_index()\n",
    "\n",
    "# Limit to first 20 jobs\n",
    "stressed_jobs_df = stressed_jobs_df.head(20)"
   ]
  },
  {
   "cell_type": "code",
   "execution_count": 25,
   "metadata": {},
   "outputs": [
    {
     "data": {
      "text/html": [
       "<div>\n",
       "<style scoped>\n",
       "    .dataframe tbody tr th:only-of-type {\n",
       "        vertical-align: middle;\n",
       "    }\n",
       "\n",
       "    .dataframe tbody tr th {\n",
       "        vertical-align: top;\n",
       "    }\n",
       "\n",
       "    .dataframe thead th {\n",
       "        text-align: right;\n",
       "    }\n",
       "</style>\n",
       "<table border=\"1\" class=\"dataframe\">\n",
       "  <thead>\n",
       "    <tr style=\"text-align: right;\">\n",
       "      <th></th>\n",
       "      <th>job</th>\n",
       "      <th>stress_flag_pros</th>\n",
       "      <th>stress_flag_cons</th>\n",
       "    </tr>\n",
       "  </thead>\n",
       "  <tbody>\n",
       "    <tr>\n",
       "      <th>0</th>\n",
       "      <td>Anonymous Employee</td>\n",
       "      <td>230.0</td>\n",
       "      <td>1121.0</td>\n",
       "    </tr>\n",
       "    <tr>\n",
       "      <th>1</th>\n",
       "      <td>Software Engineer</td>\n",
       "      <td>129.0</td>\n",
       "      <td>144.0</td>\n",
       "    </tr>\n",
       "    <tr>\n",
       "      <th>2</th>\n",
       "      <td>Manager</td>\n",
       "      <td>83.0</td>\n",
       "      <td>633.0</td>\n",
       "    </tr>\n",
       "    <tr>\n",
       "      <th>3</th>\n",
       "      <td>Analyst</td>\n",
       "      <td>33.0</td>\n",
       "      <td>198.0</td>\n",
       "    </tr>\n",
       "    <tr>\n",
       "      <th>4</th>\n",
       "      <td>Sales Associate</td>\n",
       "      <td>32.0</td>\n",
       "      <td>152.0</td>\n",
       "    </tr>\n",
       "    <tr>\n",
       "      <th>5</th>\n",
       "      <td>Consultant</td>\n",
       "      <td>27.0</td>\n",
       "      <td>83.0</td>\n",
       "    </tr>\n",
       "    <tr>\n",
       "      <th>6</th>\n",
       "      <td>Team Member</td>\n",
       "      <td>24.0</td>\n",
       "      <td>510.0</td>\n",
       "    </tr>\n",
       "    <tr>\n",
       "      <th>7</th>\n",
       "      <td>Associate Analyst</td>\n",
       "      <td>17.0</td>\n",
       "      <td>4.0</td>\n",
       "    </tr>\n",
       "    <tr>\n",
       "      <th>8</th>\n",
       "      <td>Cashier</td>\n",
       "      <td>13.0</td>\n",
       "      <td>129.0</td>\n",
       "    </tr>\n",
       "    <tr>\n",
       "      <th>9</th>\n",
       "      <td>Associate</td>\n",
       "      <td>13.0</td>\n",
       "      <td>92.0</td>\n",
       "    </tr>\n",
       "    <tr>\n",
       "      <th>10</th>\n",
       "      <td>Director</td>\n",
       "      <td>10.0</td>\n",
       "      <td>27.0</td>\n",
       "    </tr>\n",
       "    <tr>\n",
       "      <th>11</th>\n",
       "      <td>Engineer</td>\n",
       "      <td>9.0</td>\n",
       "      <td>11.0</td>\n",
       "    </tr>\n",
       "    <tr>\n",
       "      <th>12</th>\n",
       "      <td>Customer Service</td>\n",
       "      <td>8.0</td>\n",
       "      <td>73.0</td>\n",
       "    </tr>\n",
       "    <tr>\n",
       "      <th>13</th>\n",
       "      <td>Delivery Driver</td>\n",
       "      <td>7.0</td>\n",
       "      <td>18.0</td>\n",
       "    </tr>\n",
       "    <tr>\n",
       "      <th>14</th>\n",
       "      <td>Administrative Assistant</td>\n",
       "      <td>7.0</td>\n",
       "      <td>12.0</td>\n",
       "    </tr>\n",
       "    <tr>\n",
       "      <th>15</th>\n",
       "      <td>Software Developer</td>\n",
       "      <td>6.0</td>\n",
       "      <td>11.0</td>\n",
       "    </tr>\n",
       "    <tr>\n",
       "      <th>16</th>\n",
       "      <td>Game Advisor</td>\n",
       "      <td>5.0</td>\n",
       "      <td>18.0</td>\n",
       "    </tr>\n",
       "    <tr>\n",
       "      <th>17</th>\n",
       "      <td>Intern</td>\n",
       "      <td>5.0</td>\n",
       "      <td>14.0</td>\n",
       "    </tr>\n",
       "    <tr>\n",
       "      <th>18</th>\n",
       "      <td>Test Engineer</td>\n",
       "      <td>5.0</td>\n",
       "      <td>12.0</td>\n",
       "    </tr>\n",
       "    <tr>\n",
       "      <th>19</th>\n",
       "      <td>Design Engineer</td>\n",
       "      <td>5.0</td>\n",
       "      <td>6.0</td>\n",
       "    </tr>\n",
       "  </tbody>\n",
       "</table>\n",
       "</div>"
      ],
      "text/plain": [
       "                         job  stress_flag_pros  stress_flag_cons\n",
       "0         Anonymous Employee             230.0            1121.0\n",
       "1          Software Engineer             129.0             144.0\n",
       "2                    Manager              83.0             633.0\n",
       "3                    Analyst              33.0             198.0\n",
       "4            Sales Associate              32.0             152.0\n",
       "5                 Consultant              27.0              83.0\n",
       "6                Team Member              24.0             510.0\n",
       "7          Associate Analyst              17.0               4.0\n",
       "8                    Cashier              13.0             129.0\n",
       "9                  Associate              13.0              92.0\n",
       "10                  Director              10.0              27.0\n",
       "11                  Engineer               9.0              11.0\n",
       "12          Customer Service               8.0              73.0\n",
       "13           Delivery Driver               7.0              18.0\n",
       "14  Administrative Assistant               7.0              12.0\n",
       "15        Software Developer               6.0              11.0\n",
       "16              Game Advisor               5.0              18.0\n",
       "17                    Intern               5.0              14.0\n",
       "18             Test Engineer               5.0              12.0\n",
       "19           Design Engineer               5.0               6.0"
      ]
     },
     "execution_count": 25,
     "metadata": {},
     "output_type": "execute_result"
    }
   ],
   "source": [
    "stressed_jobs_df"
   ]
  },
  {
   "cell_type": "code",
   "execution_count": 26,
   "metadata": {},
   "outputs": [
    {
     "data": {
      "text/html": [
       "<div>\n",
       "<style scoped>\n",
       "    .dataframe tbody tr th:only-of-type {\n",
       "        vertical-align: middle;\n",
       "    }\n",
       "\n",
       "    .dataframe tbody tr th {\n",
       "        vertical-align: top;\n",
       "    }\n",
       "\n",
       "    .dataframe thead th {\n",
       "        text-align: right;\n",
       "    }\n",
       "</style>\n",
       "<table border=\"1\" class=\"dataframe\">\n",
       "  <thead>\n",
       "    <tr style=\"text-align: right;\">\n",
       "      <th></th>\n",
       "      <th>stress_flag_pros</th>\n",
       "      <th>stress_flag_cons</th>\n",
       "    </tr>\n",
       "    <tr>\n",
       "      <th>job</th>\n",
       "      <th></th>\n",
       "      <th></th>\n",
       "    </tr>\n",
       "  </thead>\n",
       "  <tbody>\n",
       "    <tr>\n",
       "      <th>Anonymous Employee</th>\n",
       "      <td>230.0</td>\n",
       "      <td>1121.0</td>\n",
       "    </tr>\n",
       "    <tr>\n",
       "      <th>Software Engineer</th>\n",
       "      <td>129.0</td>\n",
       "      <td>144.0</td>\n",
       "    </tr>\n",
       "    <tr>\n",
       "      <th>Manager</th>\n",
       "      <td>83.0</td>\n",
       "      <td>633.0</td>\n",
       "    </tr>\n",
       "    <tr>\n",
       "      <th>Analyst</th>\n",
       "      <td>33.0</td>\n",
       "      <td>198.0</td>\n",
       "    </tr>\n",
       "    <tr>\n",
       "      <th>Sales Associate</th>\n",
       "      <td>32.0</td>\n",
       "      <td>152.0</td>\n",
       "    </tr>\n",
       "    <tr>\n",
       "      <th>...</th>\n",
       "      <td>...</td>\n",
       "      <td>...</td>\n",
       "    </tr>\n",
       "    <tr>\n",
       "      <th>Warehouse Picker</th>\n",
       "      <td>0.0</td>\n",
       "      <td>1.0</td>\n",
       "    </tr>\n",
       "    <tr>\n",
       "      <th>Warehouse Supervisor</th>\n",
       "      <td>0.0</td>\n",
       "      <td>1.0</td>\n",
       "    </tr>\n",
       "    <tr>\n",
       "      <th>Wealth Management</th>\n",
       "      <td>0.0</td>\n",
       "      <td>1.0</td>\n",
       "    </tr>\n",
       "    <tr>\n",
       "      <th>Welder</th>\n",
       "      <td>0.0</td>\n",
       "      <td>1.0</td>\n",
       "    </tr>\n",
       "    <tr>\n",
       "      <th>Writer</th>\n",
       "      <td>0.0</td>\n",
       "      <td>1.0</td>\n",
       "    </tr>\n",
       "  </tbody>\n",
       "</table>\n",
       "<p>733 rows × 2 columns</p>\n",
       "</div>"
      ],
      "text/plain": [
       "                      stress_flag_pros  stress_flag_cons\n",
       "job                                                     \n",
       "Anonymous Employee               230.0            1121.0\n",
       "Software Engineer                129.0             144.0\n",
       "Manager                           83.0             633.0\n",
       "Analyst                           33.0             198.0\n",
       "Sales Associate                   32.0             152.0\n",
       "...                                ...               ...\n",
       "Warehouse Picker                   0.0               1.0\n",
       "Warehouse Supervisor               0.0               1.0\n",
       "Wealth Management                  0.0               1.0\n",
       "Welder                             0.0               1.0\n",
       "Writer                             0.0               1.0\n",
       "\n",
       "[733 rows x 2 columns]"
      ]
     },
     "metadata": {},
     "output_type": "display_data"
    }
   ],
   "source": [
    "# Count the number of stressed reviews in the 'pros' section (based on stress_flag)\n",
    "burned_out_jobs_pros = sampled_reviews[sampled_reviews['stress_flag'] == True].groupby('job').size()\n",
    "\n",
    "# Count the number of stressed reviews in the 'cons' section (based on stress_flag_cons)\n",
    "burned_out_jobs_cons = sampled_reviews[sampled_reviews['stress_flag_cons'] == True].groupby('job').size()\n",
    "\n",
    "# Merge both results into a single DataFrame\n",
    "stressed_jobs = pd.DataFrame({\n",
    "    'stress_flag_pros': stressed_jobs_pros,\n",
    "    'stress_flag_cons': stressed_jobs_cons\n",
    "}).fillna(0)  # Fill NaN values with 0 for jobs that have no flags\n",
    "\n",
    "# Sort the results by the combined count\n",
    "stressed_jobs = stressed_jobs.sort_values(by=['stress_flag_pros', 'stress_flag_cons'], ascending=False)\n",
    "\n",
    "# Display the results\n",
    "display(stressed_jobs)"
   ]
  },
  {
   "cell_type": "markdown",
   "metadata": {},
   "source": [
    "### Combining flags together in order to see the time trends analysis"
   ]
  },
  {
   "cell_type": "code",
   "execution_count": 27,
   "metadata": {},
   "outputs": [
    {
     "data": {
      "text/html": [
       "<div>\n",
       "<style scoped>\n",
       "    .dataframe tbody tr th:only-of-type {\n",
       "        vertical-align: middle;\n",
       "    }\n",
       "\n",
       "    .dataframe tbody tr th {\n",
       "        vertical-align: top;\n",
       "    }\n",
       "\n",
       "    .dataframe thead th {\n",
       "        text-align: right;\n",
       "    }\n",
       "</style>\n",
       "<table border=\"1\" class=\"dataframe\">\n",
       "  <thead>\n",
       "    <tr style=\"text-align: right;\">\n",
       "      <th></th>\n",
       "      <th>stress_flag</th>\n",
       "      <th>burnout_flag</th>\n",
       "      <th>anxiety_flag</th>\n",
       "      <th>toxic_flag</th>\n",
       "      <th>supportive_env_flag</th>\n",
       "      <th>depression_flag</th>\n",
       "    </tr>\n",
       "  </thead>\n",
       "  <tbody>\n",
       "    <tr>\n",
       "      <th>1</th>\n",
       "      <td>False</td>\n",
       "      <td>False</td>\n",
       "      <td>False</td>\n",
       "      <td>False</td>\n",
       "      <td>False</td>\n",
       "      <td>False</td>\n",
       "    </tr>\n",
       "    <tr>\n",
       "      <th>2</th>\n",
       "      <td>False</td>\n",
       "      <td>False</td>\n",
       "      <td>False</td>\n",
       "      <td>False</td>\n",
       "      <td>False</td>\n",
       "      <td>False</td>\n",
       "    </tr>\n",
       "    <tr>\n",
       "      <th>3</th>\n",
       "      <td>False</td>\n",
       "      <td>False</td>\n",
       "      <td>False</td>\n",
       "      <td>False</td>\n",
       "      <td>False</td>\n",
       "      <td>False</td>\n",
       "    </tr>\n",
       "    <tr>\n",
       "      <th>5</th>\n",
       "      <td>False</td>\n",
       "      <td>False</td>\n",
       "      <td>False</td>\n",
       "      <td>False</td>\n",
       "      <td>False</td>\n",
       "      <td>False</td>\n",
       "    </tr>\n",
       "    <tr>\n",
       "      <th>6</th>\n",
       "      <td>False</td>\n",
       "      <td>False</td>\n",
       "      <td>False</td>\n",
       "      <td>False</td>\n",
       "      <td>False</td>\n",
       "      <td>False</td>\n",
       "    </tr>\n",
       "  </tbody>\n",
       "</table>\n",
       "</div>"
      ],
      "text/plain": [
       "   stress_flag  burnout_flag  anxiety_flag  toxic_flag  supportive_env_flag  \\\n",
       "1        False         False         False       False                False   \n",
       "2        False         False         False       False                False   \n",
       "3        False         False         False       False                False   \n",
       "5        False         False         False       False                False   \n",
       "6        False         False         False       False                False   \n",
       "\n",
       "   depression_flag  \n",
       "1            False  \n",
       "2            False  \n",
       "3            False  \n",
       "5            False  \n",
       "6            False  "
      ]
     },
     "metadata": {},
     "output_type": "display_data"
    }
   ],
   "source": [
    "# List of emotional flags (just the pros flags)\n",
    "combined_flags = [\n",
    "    'stress_flag', 'burnout_flag', 'anxiety_flag', 'toxic_flag', 'supportive_env_flag', 'depression_flag'\n",
    "]\n",
    "\n",
    "combined_flags_df = sampled_reviews.copy()\n",
    "\n",
    "# Combine the pros and cons flags for each emotional state\n",
    "for flag in combined_flags:\n",
    "    # Combine the 'pros' and 'cons' flags using the logical OR (|)\n",
    "    combined_flags_df[flag] = combined_flags_df[flag] | combined_flags_df[flag + '_cons']\n",
    "\n",
    "# Check the dataframe to see if the flags have been combined correctly\n",
    "display(combined_flags_df[['stress_flag', 'burnout_flag', 'anxiety_flag', 'toxic_flag', 'supportive_env_flag', 'depression_flag']].head())\n",
    "\n"
   ]
  },
  {
   "cell_type": "code",
   "execution_count": 28,
   "metadata": {},
   "outputs": [
    {
     "data": {
      "text/plain": [
       "job\n",
       "Anonymous Employee            26069\n",
       "Manager                       11040\n",
       "Team Member                    5214\n",
       "Software Engineer              4218\n",
       "Sales Associate                3365\n",
       "Cashier                        3233\n",
       "Analyst                        3143\n",
       "Consultant                     2614\n",
       "Associate                      1524\n",
       "Customer Service               1397\n",
       "Director                       1341\n",
       "Delivery Driver                 920\n",
       "Vice President                  898\n",
       "Shift Leader                    435\n",
       "Administrative Assistant        421\n",
       "Software Developer              420\n",
       "Intern                          387\n",
       "Game Advisor                    358\n",
       "Senior Game Advisor             353\n",
       "Engineer                        340\n",
       "Barista                         288\n",
       "Supervisor                      287\n",
       "HR                              282\n",
       "Area Supervisor                 273\n",
       "Warehouse Associate             271\n",
       "Embedded Software Engineer      270\n",
       "Account Executive               256\n",
       "Marketing Associate             249\n",
       "Driver                          246\n",
       "Crew                            241\n",
       "Name: count, dtype: int64"
      ]
     },
     "execution_count": 28,
     "metadata": {},
     "output_type": "execute_result"
    }
   ],
   "source": [
    "combined_flags_df[\"job\"].value_counts().head(30)"
   ]
  },
  {
   "cell_type": "markdown",
   "metadata": {},
   "source": [
    "### Aggregation of the years"
   ]
  },
  {
   "cell_type": "code",
   "execution_count": 29,
   "metadata": {},
   "outputs": [
    {
     "data": {
      "text/html": [
       "<div>\n",
       "<style scoped>\n",
       "    .dataframe tbody tr th:only-of-type {\n",
       "        vertical-align: middle;\n",
       "    }\n",
       "\n",
       "    .dataframe tbody tr th {\n",
       "        vertical-align: top;\n",
       "    }\n",
       "\n",
       "    .dataframe thead th {\n",
       "        text-align: right;\n",
       "    }\n",
       "</style>\n",
       "<table border=\"1\" class=\"dataframe\">\n",
       "  <thead>\n",
       "    <tr style=\"text-align: right;\">\n",
       "      <th></th>\n",
       "      <th>stress_flag</th>\n",
       "      <th>burnout_flag</th>\n",
       "      <th>anxiety_flag</th>\n",
       "      <th>toxic_flag</th>\n",
       "      <th>supportive_env_flag</th>\n",
       "      <th>depression_flag</th>\n",
       "    </tr>\n",
       "    <tr>\n",
       "      <th>year</th>\n",
       "      <th></th>\n",
       "      <th></th>\n",
       "      <th></th>\n",
       "      <th></th>\n",
       "      <th></th>\n",
       "      <th></th>\n",
       "    </tr>\n",
       "  </thead>\n",
       "  <tbody>\n",
       "    <tr>\n",
       "      <th>2015</th>\n",
       "      <td>522</td>\n",
       "      <td>64</td>\n",
       "      <td>25</td>\n",
       "      <td>212</td>\n",
       "      <td>244</td>\n",
       "      <td>31</td>\n",
       "    </tr>\n",
       "    <tr>\n",
       "      <th>2016</th>\n",
       "      <td>594</td>\n",
       "      <td>60</td>\n",
       "      <td>19</td>\n",
       "      <td>221</td>\n",
       "      <td>247</td>\n",
       "      <td>49</td>\n",
       "    </tr>\n",
       "    <tr>\n",
       "      <th>2017</th>\n",
       "      <td>628</td>\n",
       "      <td>75</td>\n",
       "      <td>18</td>\n",
       "      <td>272</td>\n",
       "      <td>294</td>\n",
       "      <td>56</td>\n",
       "    </tr>\n",
       "    <tr>\n",
       "      <th>2018</th>\n",
       "      <td>548</td>\n",
       "      <td>82</td>\n",
       "      <td>15</td>\n",
       "      <td>265</td>\n",
       "      <td>297</td>\n",
       "      <td>51</td>\n",
       "    </tr>\n",
       "    <tr>\n",
       "      <th>2019</th>\n",
       "      <td>473</td>\n",
       "      <td>62</td>\n",
       "      <td>12</td>\n",
       "      <td>278</td>\n",
       "      <td>260</td>\n",
       "      <td>43</td>\n",
       "    </tr>\n",
       "    <tr>\n",
       "      <th>2020</th>\n",
       "      <td>589</td>\n",
       "      <td>79</td>\n",
       "      <td>25</td>\n",
       "      <td>260</td>\n",
       "      <td>314</td>\n",
       "      <td>40</td>\n",
       "    </tr>\n",
       "    <tr>\n",
       "      <th>2021</th>\n",
       "      <td>1118</td>\n",
       "      <td>241</td>\n",
       "      <td>26</td>\n",
       "      <td>534</td>\n",
       "      <td>605</td>\n",
       "      <td>62</td>\n",
       "    </tr>\n",
       "    <tr>\n",
       "      <th>2022</th>\n",
       "      <td>1042</td>\n",
       "      <td>223</td>\n",
       "      <td>20</td>\n",
       "      <td>536</td>\n",
       "      <td>668</td>\n",
       "      <td>52</td>\n",
       "    </tr>\n",
       "  </tbody>\n",
       "</table>\n",
       "</div>"
      ],
      "text/plain": [
       "      stress_flag  burnout_flag  anxiety_flag  toxic_flag  \\\n",
       "year                                                        \n",
       "2015          522            64            25         212   \n",
       "2016          594            60            19         221   \n",
       "2017          628            75            18         272   \n",
       "2018          548            82            15         265   \n",
       "2019          473            62            12         278   \n",
       "2020          589            79            25         260   \n",
       "2021         1118           241            26         534   \n",
       "2022         1042           223            20         536   \n",
       "\n",
       "      supportive_env_flag  depression_flag  \n",
       "year                                        \n",
       "2015                  244               31  \n",
       "2016                  247               49  \n",
       "2017                  294               56  \n",
       "2018                  297               51  \n",
       "2019                  260               43  \n",
       "2020                  314               40  \n",
       "2021                  605               62  \n",
       "2022                  668               52  "
      ]
     },
     "metadata": {},
     "output_type": "display_data"
    }
   ],
   "source": [
    "# Add the 'year' column from the original sampled_reviews dataframe to the combined_flags_df\n",
    "combined_flags_df['year'] = sampled_reviews['year']\n",
    "\n",
    "# Group by 'year' and aggregate by summing up the True values (counting True occurrences)\n",
    "aggregated_flags_by_year = combined_flags_df.groupby('year')[combined_flags].sum()\n",
    "aggregated_flags_by_year = aggregated_flags_by_year.iloc[:-1] #remove 2023 because it doesnt have enough inputs\n",
    "\n",
    "# Display the aggregated flags by year\n",
    "display(aggregated_flags_by_year)\n"
   ]
  },
  {
   "cell_type": "code",
   "execution_count": 30,
   "metadata": {},
   "outputs": [
    {
     "data": {
      "application/vnd.plotly.v1+json": {
       "config": {
        "plotlyServerURL": "https://plot.ly"
       },
       "data": [
        {
         "hovertemplate": "variable=stress_flag<br>Year=%{x}<br>Count=%{y}<extra></extra>",
         "legendgroup": "stress_flag",
         "line": {
          "color": "#636efa",
          "dash": "solid"
         },
         "marker": {
          "symbol": "circle"
         },
         "mode": "lines+markers",
         "name": "stress_flag",
         "orientation": "v",
         "showlegend": true,
         "type": "scatter",
         "x": [
          2015,
          2016,
          2017,
          2018,
          2019,
          2020,
          2021,
          2022
         ],
         "xaxis": "x",
         "y": [
          522,
          594,
          628,
          548,
          473,
          589,
          1118,
          1042
         ],
         "yaxis": "y"
        },
        {
         "hovertemplate": "variable=burnout_flag<br>Year=%{x}<br>Count=%{y}<extra></extra>",
         "legendgroup": "burnout_flag",
         "line": {
          "color": "#EF553B",
          "dash": "solid"
         },
         "marker": {
          "symbol": "circle"
         },
         "mode": "lines+markers",
         "name": "burnout_flag",
         "orientation": "v",
         "showlegend": true,
         "type": "scatter",
         "x": [
          2015,
          2016,
          2017,
          2018,
          2019,
          2020,
          2021,
          2022
         ],
         "xaxis": "x",
         "y": [
          64,
          60,
          75,
          82,
          62,
          79,
          241,
          223
         ],
         "yaxis": "y"
        },
        {
         "hovertemplate": "variable=anxiety_flag<br>Year=%{x}<br>Count=%{y}<extra></extra>",
         "legendgroup": "anxiety_flag",
         "line": {
          "color": "#00cc96",
          "dash": "solid"
         },
         "marker": {
          "symbol": "circle"
         },
         "mode": "lines+markers",
         "name": "anxiety_flag",
         "orientation": "v",
         "showlegend": true,
         "type": "scatter",
         "x": [
          2015,
          2016,
          2017,
          2018,
          2019,
          2020,
          2021,
          2022
         ],
         "xaxis": "x",
         "y": [
          25,
          19,
          18,
          15,
          12,
          25,
          26,
          20
         ],
         "yaxis": "y"
        },
        {
         "hovertemplate": "variable=toxic_flag<br>Year=%{x}<br>Count=%{y}<extra></extra>",
         "legendgroup": "toxic_flag",
         "line": {
          "color": "#ab63fa",
          "dash": "solid"
         },
         "marker": {
          "symbol": "circle"
         },
         "mode": "lines+markers",
         "name": "toxic_flag",
         "orientation": "v",
         "showlegend": true,
         "type": "scatter",
         "x": [
          2015,
          2016,
          2017,
          2018,
          2019,
          2020,
          2021,
          2022
         ],
         "xaxis": "x",
         "y": [
          212,
          221,
          272,
          265,
          278,
          260,
          534,
          536
         ],
         "yaxis": "y"
        },
        {
         "hovertemplate": "variable=supportive_env_flag<br>Year=%{x}<br>Count=%{y}<extra></extra>",
         "legendgroup": "supportive_env_flag",
         "line": {
          "color": "#FFA15A",
          "dash": "solid"
         },
         "marker": {
          "symbol": "circle"
         },
         "mode": "lines+markers",
         "name": "supportive_env_flag",
         "orientation": "v",
         "showlegend": true,
         "type": "scatter",
         "x": [
          2015,
          2016,
          2017,
          2018,
          2019,
          2020,
          2021,
          2022
         ],
         "xaxis": "x",
         "y": [
          244,
          247,
          294,
          297,
          260,
          314,
          605,
          668
         ],
         "yaxis": "y"
        },
        {
         "hovertemplate": "variable=depression_flag<br>Year=%{x}<br>Count=%{y}<extra></extra>",
         "legendgroup": "depression_flag",
         "line": {
          "color": "#19d3f3",
          "dash": "solid"
         },
         "marker": {
          "symbol": "circle"
         },
         "mode": "lines+markers",
         "name": "depression_flag",
         "orientation": "v",
         "showlegend": true,
         "type": "scatter",
         "x": [
          2015,
          2016,
          2017,
          2018,
          2019,
          2020,
          2021,
          2022
         ],
         "xaxis": "x",
         "y": [
          31,
          49,
          56,
          51,
          43,
          40,
          62,
          52
         ],
         "yaxis": "y"
        }
       ],
       "layout": {
        "legend": {
         "title": {
          "text": "variable"
         },
         "tracegroupgap": 0
        },
        "template": {
         "data": {
          "bar": [
           {
            "error_x": {
             "color": "#2a3f5f"
            },
            "error_y": {
             "color": "#2a3f5f"
            },
            "marker": {
             "line": {
              "color": "#E5ECF6",
              "width": 0.5
             },
             "pattern": {
              "fillmode": "overlay",
              "size": 10,
              "solidity": 0.2
             }
            },
            "type": "bar"
           }
          ],
          "barpolar": [
           {
            "marker": {
             "line": {
              "color": "#E5ECF6",
              "width": 0.5
             },
             "pattern": {
              "fillmode": "overlay",
              "size": 10,
              "solidity": 0.2
             }
            },
            "type": "barpolar"
           }
          ],
          "carpet": [
           {
            "aaxis": {
             "endlinecolor": "#2a3f5f",
             "gridcolor": "white",
             "linecolor": "white",
             "minorgridcolor": "white",
             "startlinecolor": "#2a3f5f"
            },
            "baxis": {
             "endlinecolor": "#2a3f5f",
             "gridcolor": "white",
             "linecolor": "white",
             "minorgridcolor": "white",
             "startlinecolor": "#2a3f5f"
            },
            "type": "carpet"
           }
          ],
          "choropleth": [
           {
            "colorbar": {
             "outlinewidth": 0,
             "ticks": ""
            },
            "type": "choropleth"
           }
          ],
          "contour": [
           {
            "colorbar": {
             "outlinewidth": 0,
             "ticks": ""
            },
            "colorscale": [
             [
              0,
              "#0d0887"
             ],
             [
              0.1111111111111111,
              "#46039f"
             ],
             [
              0.2222222222222222,
              "#7201a8"
             ],
             [
              0.3333333333333333,
              "#9c179e"
             ],
             [
              0.4444444444444444,
              "#bd3786"
             ],
             [
              0.5555555555555556,
              "#d8576b"
             ],
             [
              0.6666666666666666,
              "#ed7953"
             ],
             [
              0.7777777777777778,
              "#fb9f3a"
             ],
             [
              0.8888888888888888,
              "#fdca26"
             ],
             [
              1,
              "#f0f921"
             ]
            ],
            "type": "contour"
           }
          ],
          "contourcarpet": [
           {
            "colorbar": {
             "outlinewidth": 0,
             "ticks": ""
            },
            "type": "contourcarpet"
           }
          ],
          "heatmap": [
           {
            "colorbar": {
             "outlinewidth": 0,
             "ticks": ""
            },
            "colorscale": [
             [
              0,
              "#0d0887"
             ],
             [
              0.1111111111111111,
              "#46039f"
             ],
             [
              0.2222222222222222,
              "#7201a8"
             ],
             [
              0.3333333333333333,
              "#9c179e"
             ],
             [
              0.4444444444444444,
              "#bd3786"
             ],
             [
              0.5555555555555556,
              "#d8576b"
             ],
             [
              0.6666666666666666,
              "#ed7953"
             ],
             [
              0.7777777777777778,
              "#fb9f3a"
             ],
             [
              0.8888888888888888,
              "#fdca26"
             ],
             [
              1,
              "#f0f921"
             ]
            ],
            "type": "heatmap"
           }
          ],
          "heatmapgl": [
           {
            "colorbar": {
             "outlinewidth": 0,
             "ticks": ""
            },
            "colorscale": [
             [
              0,
              "#0d0887"
             ],
             [
              0.1111111111111111,
              "#46039f"
             ],
             [
              0.2222222222222222,
              "#7201a8"
             ],
             [
              0.3333333333333333,
              "#9c179e"
             ],
             [
              0.4444444444444444,
              "#bd3786"
             ],
             [
              0.5555555555555556,
              "#d8576b"
             ],
             [
              0.6666666666666666,
              "#ed7953"
             ],
             [
              0.7777777777777778,
              "#fb9f3a"
             ],
             [
              0.8888888888888888,
              "#fdca26"
             ],
             [
              1,
              "#f0f921"
             ]
            ],
            "type": "heatmapgl"
           }
          ],
          "histogram": [
           {
            "marker": {
             "pattern": {
              "fillmode": "overlay",
              "size": 10,
              "solidity": 0.2
             }
            },
            "type": "histogram"
           }
          ],
          "histogram2d": [
           {
            "colorbar": {
             "outlinewidth": 0,
             "ticks": ""
            },
            "colorscale": [
             [
              0,
              "#0d0887"
             ],
             [
              0.1111111111111111,
              "#46039f"
             ],
             [
              0.2222222222222222,
              "#7201a8"
             ],
             [
              0.3333333333333333,
              "#9c179e"
             ],
             [
              0.4444444444444444,
              "#bd3786"
             ],
             [
              0.5555555555555556,
              "#d8576b"
             ],
             [
              0.6666666666666666,
              "#ed7953"
             ],
             [
              0.7777777777777778,
              "#fb9f3a"
             ],
             [
              0.8888888888888888,
              "#fdca26"
             ],
             [
              1,
              "#f0f921"
             ]
            ],
            "type": "histogram2d"
           }
          ],
          "histogram2dcontour": [
           {
            "colorbar": {
             "outlinewidth": 0,
             "ticks": ""
            },
            "colorscale": [
             [
              0,
              "#0d0887"
             ],
             [
              0.1111111111111111,
              "#46039f"
             ],
             [
              0.2222222222222222,
              "#7201a8"
             ],
             [
              0.3333333333333333,
              "#9c179e"
             ],
             [
              0.4444444444444444,
              "#bd3786"
             ],
             [
              0.5555555555555556,
              "#d8576b"
             ],
             [
              0.6666666666666666,
              "#ed7953"
             ],
             [
              0.7777777777777778,
              "#fb9f3a"
             ],
             [
              0.8888888888888888,
              "#fdca26"
             ],
             [
              1,
              "#f0f921"
             ]
            ],
            "type": "histogram2dcontour"
           }
          ],
          "mesh3d": [
           {
            "colorbar": {
             "outlinewidth": 0,
             "ticks": ""
            },
            "type": "mesh3d"
           }
          ],
          "parcoords": [
           {
            "line": {
             "colorbar": {
              "outlinewidth": 0,
              "ticks": ""
             }
            },
            "type": "parcoords"
           }
          ],
          "pie": [
           {
            "automargin": true,
            "type": "pie"
           }
          ],
          "scatter": [
           {
            "fillpattern": {
             "fillmode": "overlay",
             "size": 10,
             "solidity": 0.2
            },
            "type": "scatter"
           }
          ],
          "scatter3d": [
           {
            "line": {
             "colorbar": {
              "outlinewidth": 0,
              "ticks": ""
             }
            },
            "marker": {
             "colorbar": {
              "outlinewidth": 0,
              "ticks": ""
             }
            },
            "type": "scatter3d"
           }
          ],
          "scattercarpet": [
           {
            "marker": {
             "colorbar": {
              "outlinewidth": 0,
              "ticks": ""
             }
            },
            "type": "scattercarpet"
           }
          ],
          "scattergeo": [
           {
            "marker": {
             "colorbar": {
              "outlinewidth": 0,
              "ticks": ""
             }
            },
            "type": "scattergeo"
           }
          ],
          "scattergl": [
           {
            "marker": {
             "colorbar": {
              "outlinewidth": 0,
              "ticks": ""
             }
            },
            "type": "scattergl"
           }
          ],
          "scattermapbox": [
           {
            "marker": {
             "colorbar": {
              "outlinewidth": 0,
              "ticks": ""
             }
            },
            "type": "scattermapbox"
           }
          ],
          "scatterpolar": [
           {
            "marker": {
             "colorbar": {
              "outlinewidth": 0,
              "ticks": ""
             }
            },
            "type": "scatterpolar"
           }
          ],
          "scatterpolargl": [
           {
            "marker": {
             "colorbar": {
              "outlinewidth": 0,
              "ticks": ""
             }
            },
            "type": "scatterpolargl"
           }
          ],
          "scatterternary": [
           {
            "marker": {
             "colorbar": {
              "outlinewidth": 0,
              "ticks": ""
             }
            },
            "type": "scatterternary"
           }
          ],
          "surface": [
           {
            "colorbar": {
             "outlinewidth": 0,
             "ticks": ""
            },
            "colorscale": [
             [
              0,
              "#0d0887"
             ],
             [
              0.1111111111111111,
              "#46039f"
             ],
             [
              0.2222222222222222,
              "#7201a8"
             ],
             [
              0.3333333333333333,
              "#9c179e"
             ],
             [
              0.4444444444444444,
              "#bd3786"
             ],
             [
              0.5555555555555556,
              "#d8576b"
             ],
             [
              0.6666666666666666,
              "#ed7953"
             ],
             [
              0.7777777777777778,
              "#fb9f3a"
             ],
             [
              0.8888888888888888,
              "#fdca26"
             ],
             [
              1,
              "#f0f921"
             ]
            ],
            "type": "surface"
           }
          ],
          "table": [
           {
            "cells": {
             "fill": {
              "color": "#EBF0F8"
             },
             "line": {
              "color": "white"
             }
            },
            "header": {
             "fill": {
              "color": "#C8D4E3"
             },
             "line": {
              "color": "white"
             }
            },
            "type": "table"
           }
          ]
         },
         "layout": {
          "annotationdefaults": {
           "arrowcolor": "#2a3f5f",
           "arrowhead": 0,
           "arrowwidth": 1
          },
          "autotypenumbers": "strict",
          "coloraxis": {
           "colorbar": {
            "outlinewidth": 0,
            "ticks": ""
           }
          },
          "colorscale": {
           "diverging": [
            [
             0,
             "#8e0152"
            ],
            [
             0.1,
             "#c51b7d"
            ],
            [
             0.2,
             "#de77ae"
            ],
            [
             0.3,
             "#f1b6da"
            ],
            [
             0.4,
             "#fde0ef"
            ],
            [
             0.5,
             "#f7f7f7"
            ],
            [
             0.6,
             "#e6f5d0"
            ],
            [
             0.7,
             "#b8e186"
            ],
            [
             0.8,
             "#7fbc41"
            ],
            [
             0.9,
             "#4d9221"
            ],
            [
             1,
             "#276419"
            ]
           ],
           "sequential": [
            [
             0,
             "#0d0887"
            ],
            [
             0.1111111111111111,
             "#46039f"
            ],
            [
             0.2222222222222222,
             "#7201a8"
            ],
            [
             0.3333333333333333,
             "#9c179e"
            ],
            [
             0.4444444444444444,
             "#bd3786"
            ],
            [
             0.5555555555555556,
             "#d8576b"
            ],
            [
             0.6666666666666666,
             "#ed7953"
            ],
            [
             0.7777777777777778,
             "#fb9f3a"
            ],
            [
             0.8888888888888888,
             "#fdca26"
            ],
            [
             1,
             "#f0f921"
            ]
           ],
           "sequentialminus": [
            [
             0,
             "#0d0887"
            ],
            [
             0.1111111111111111,
             "#46039f"
            ],
            [
             0.2222222222222222,
             "#7201a8"
            ],
            [
             0.3333333333333333,
             "#9c179e"
            ],
            [
             0.4444444444444444,
             "#bd3786"
            ],
            [
             0.5555555555555556,
             "#d8576b"
            ],
            [
             0.6666666666666666,
             "#ed7953"
            ],
            [
             0.7777777777777778,
             "#fb9f3a"
            ],
            [
             0.8888888888888888,
             "#fdca26"
            ],
            [
             1,
             "#f0f921"
            ]
           ]
          },
          "colorway": [
           "#636efa",
           "#EF553B",
           "#00cc96",
           "#ab63fa",
           "#FFA15A",
           "#19d3f3",
           "#FF6692",
           "#B6E880",
           "#FF97FF",
           "#FECB52"
          ],
          "font": {
           "color": "#2a3f5f"
          },
          "geo": {
           "bgcolor": "white",
           "lakecolor": "white",
           "landcolor": "#E5ECF6",
           "showlakes": true,
           "showland": true,
           "subunitcolor": "white"
          },
          "hoverlabel": {
           "align": "left"
          },
          "hovermode": "closest",
          "mapbox": {
           "style": "light"
          },
          "paper_bgcolor": "white",
          "plot_bgcolor": "#E5ECF6",
          "polar": {
           "angularaxis": {
            "gridcolor": "white",
            "linecolor": "white",
            "ticks": ""
           },
           "bgcolor": "#E5ECF6",
           "radialaxis": {
            "gridcolor": "white",
            "linecolor": "white",
            "ticks": ""
           }
          },
          "scene": {
           "xaxis": {
            "backgroundcolor": "#E5ECF6",
            "gridcolor": "white",
            "gridwidth": 2,
            "linecolor": "white",
            "showbackground": true,
            "ticks": "",
            "zerolinecolor": "white"
           },
           "yaxis": {
            "backgroundcolor": "#E5ECF6",
            "gridcolor": "white",
            "gridwidth": 2,
            "linecolor": "white",
            "showbackground": true,
            "ticks": "",
            "zerolinecolor": "white"
           },
           "zaxis": {
            "backgroundcolor": "#E5ECF6",
            "gridcolor": "white",
            "gridwidth": 2,
            "linecolor": "white",
            "showbackground": true,
            "ticks": "",
            "zerolinecolor": "white"
           }
          },
          "shapedefaults": {
           "line": {
            "color": "#2a3f5f"
           }
          },
          "ternary": {
           "aaxis": {
            "gridcolor": "white",
            "linecolor": "white",
            "ticks": ""
           },
           "baxis": {
            "gridcolor": "white",
            "linecolor": "white",
            "ticks": ""
           },
           "bgcolor": "#E5ECF6",
           "caxis": {
            "gridcolor": "white",
            "linecolor": "white",
            "ticks": ""
           }
          },
          "title": {
           "x": 0.05
          },
          "xaxis": {
           "automargin": true,
           "gridcolor": "white",
           "linecolor": "white",
           "ticks": "",
           "title": {
            "standoff": 15
           },
           "zerolinecolor": "white",
           "zerolinewidth": 2
          },
          "yaxis": {
           "automargin": true,
           "gridcolor": "white",
           "linecolor": "white",
           "ticks": "",
           "title": {
            "standoff": 15
           },
           "zerolinecolor": "white",
           "zerolinewidth": 2
          }
         }
        },
        "title": {
         "text": "Emotional flags evolution over the years"
        },
        "xaxis": {
         "anchor": "y",
         "domain": [
          0,
          1
         ],
         "title": {
          "text": "Year"
         }
        },
        "yaxis": {
         "anchor": "x",
         "domain": [
          0,
          1
         ],
         "title": {
          "text": "Count"
         }
        }
       }
      }
     },
     "metadata": {},
     "output_type": "display_data"
    }
   ],
   "source": [
    "# reset index\n",
    "aggregated_flags_by_year_reset = aggregated_flags_by_year.reset_index()\n",
    "\n",
    "# create a plotly line plot\n",
    "fig = px.line(aggregated_flags_by_year_reset, \n",
    "              x='year', \n",
    "              y=combined_flags, \n",
    "              title='Emotional flags evolution over the years',\n",
    "              labels={'value': 'Count', 'year': 'Year'},\n",
    "              markers=True)\n",
    "\n",
    "# Show the plot\n",
    "fig.show()\n"
   ]
  },
  {
   "cell_type": "markdown",
   "metadata": {},
   "source": [
    "### Save it as csv for further analysis"
   ]
  },
  {
   "cell_type": "code",
   "execution_count": 31,
   "metadata": {},
   "outputs": [],
   "source": [
    "#aggregated_flags_by_year.to_csv(\"../data/clean/aggregated_flags_by_year.csv\")"
   ]
  },
  {
   "cell_type": "markdown",
   "metadata": {},
   "source": [
    "### Agregate by job"
   ]
  },
  {
   "cell_type": "code",
   "execution_count": 32,
   "metadata": {},
   "outputs": [
    {
     "data": {
      "text/html": [
       "<div>\n",
       "<style scoped>\n",
       "    .dataframe tbody tr th:only-of-type {\n",
       "        vertical-align: middle;\n",
       "    }\n",
       "\n",
       "    .dataframe tbody tr th {\n",
       "        vertical-align: top;\n",
       "    }\n",
       "\n",
       "    .dataframe thead th {\n",
       "        text-align: right;\n",
       "    }\n",
       "</style>\n",
       "<table border=\"1\" class=\"dataframe\">\n",
       "  <thead>\n",
       "    <tr style=\"text-align: right;\">\n",
       "      <th></th>\n",
       "      <th>stress_flag</th>\n",
       "      <th>burnout_flag</th>\n",
       "      <th>anxiety_flag</th>\n",
       "      <th>toxic_flag</th>\n",
       "      <th>supportive_env_flag</th>\n",
       "      <th>depression_flag</th>\n",
       "      <th>total_flags</th>\n",
       "    </tr>\n",
       "    <tr>\n",
       "      <th>job</th>\n",
       "      <th></th>\n",
       "      <th></th>\n",
       "      <th></th>\n",
       "      <th></th>\n",
       "      <th></th>\n",
       "      <th></th>\n",
       "      <th></th>\n",
       "    </tr>\n",
       "  </thead>\n",
       "  <tbody>\n",
       "    <tr>\n",
       "      <th>2021</th>\n",
       "      <td>1118</td>\n",
       "      <td>241</td>\n",
       "      <td>26</td>\n",
       "      <td>534</td>\n",
       "      <td>605</td>\n",
       "      <td>62</td>\n",
       "      <td>2586</td>\n",
       "    </tr>\n",
       "    <tr>\n",
       "      <th>2022</th>\n",
       "      <td>1042</td>\n",
       "      <td>223</td>\n",
       "      <td>20</td>\n",
       "      <td>536</td>\n",
       "      <td>668</td>\n",
       "      <td>52</td>\n",
       "      <td>2541</td>\n",
       "    </tr>\n",
       "    <tr>\n",
       "      <th>2017</th>\n",
       "      <td>628</td>\n",
       "      <td>75</td>\n",
       "      <td>18</td>\n",
       "      <td>272</td>\n",
       "      <td>294</td>\n",
       "      <td>56</td>\n",
       "      <td>1343</td>\n",
       "    </tr>\n",
       "    <tr>\n",
       "      <th>2020</th>\n",
       "      <td>589</td>\n",
       "      <td>79</td>\n",
       "      <td>25</td>\n",
       "      <td>260</td>\n",
       "      <td>314</td>\n",
       "      <td>40</td>\n",
       "      <td>1307</td>\n",
       "    </tr>\n",
       "    <tr>\n",
       "      <th>2018</th>\n",
       "      <td>548</td>\n",
       "      <td>82</td>\n",
       "      <td>15</td>\n",
       "      <td>265</td>\n",
       "      <td>297</td>\n",
       "      <td>51</td>\n",
       "      <td>1258</td>\n",
       "    </tr>\n",
       "    <tr>\n",
       "      <th>2016</th>\n",
       "      <td>594</td>\n",
       "      <td>60</td>\n",
       "      <td>19</td>\n",
       "      <td>221</td>\n",
       "      <td>247</td>\n",
       "      <td>49</td>\n",
       "      <td>1190</td>\n",
       "    </tr>\n",
       "    <tr>\n",
       "      <th>2019</th>\n",
       "      <td>473</td>\n",
       "      <td>62</td>\n",
       "      <td>12</td>\n",
       "      <td>278</td>\n",
       "      <td>260</td>\n",
       "      <td>43</td>\n",
       "      <td>1128</td>\n",
       "    </tr>\n",
       "    <tr>\n",
       "      <th>2015</th>\n",
       "      <td>522</td>\n",
       "      <td>64</td>\n",
       "      <td>25</td>\n",
       "      <td>212</td>\n",
       "      <td>244</td>\n",
       "      <td>31</td>\n",
       "      <td>1098</td>\n",
       "    </tr>\n",
       "    <tr>\n",
       "      <th>2023</th>\n",
       "      <td>284</td>\n",
       "      <td>61</td>\n",
       "      <td>7</td>\n",
       "      <td>194</td>\n",
       "      <td>185</td>\n",
       "      <td>12</td>\n",
       "      <td>743</td>\n",
       "    </tr>\n",
       "  </tbody>\n",
       "</table>\n",
       "</div>"
      ],
      "text/plain": [
       "      stress_flag  burnout_flag  anxiety_flag  toxic_flag  \\\n",
       "job                                                         \n",
       "2021         1118           241            26         534   \n",
       "2022         1042           223            20         536   \n",
       "2017          628            75            18         272   \n",
       "2020          589            79            25         260   \n",
       "2018          548            82            15         265   \n",
       "2016          594            60            19         221   \n",
       "2019          473            62            12         278   \n",
       "2015          522            64            25         212   \n",
       "2023          284            61             7         194   \n",
       "\n",
       "      supportive_env_flag  depression_flag  total_flags  \n",
       "job                                                      \n",
       "2021                  605               62         2586  \n",
       "2022                  668               52         2541  \n",
       "2017                  294               56         1343  \n",
       "2020                  314               40         1307  \n",
       "2018                  297               51         1258  \n",
       "2016                  247               49         1190  \n",
       "2019                  260               43         1128  \n",
       "2015                  244               31         1098  \n",
       "2023                  185               12          743  "
      ]
     },
     "execution_count": 32,
     "metadata": {},
     "output_type": "execute_result"
    }
   ],
   "source": [
    "# Add the 'job' column from the original sampled_reviews dataframe to the combined_flags_df\n",
    "combined_flags_df['job'] = sampled_reviews['year']\n",
    "\n",
    "# Group by 'job' and aggregate by summing up the True values (counting True occurrences)\n",
    "aggregated_flags_by_job = combined_flags_df.groupby('job')[combined_flags].sum()\n",
    "\n",
    "\n",
    "# calculate the total flags (sum of True values) for each job and sort in descending order\n",
    "aggregated_flags_by_job['total_flags'] = aggregated_flags_by_job.sum(axis=1)\n",
    "aggregated_flags_by_job_sorted = aggregated_flags_by_job.sort_values(by='total_flags', ascending=False)\n",
    "\n",
    "# display the sorted aggregated flags by job\n",
    "top_20_jobs = aggregated_flags_by_job_sorted.head(20)\n",
    "top_20_jobs"
   ]
  },
  {
   "cell_type": "markdown",
   "metadata": {},
   "source": [
    "### Saving for further analysis"
   ]
  },
  {
   "cell_type": "code",
   "execution_count": 33,
   "metadata": {},
   "outputs": [],
   "source": [
    "#top_20_jobs.to_csv(\"../data/clean/top_20_jobs.csv\")"
   ]
  },
  {
   "cell_type": "markdown",
   "metadata": {},
   "source": [
    "### Agregate flags by companies"
   ]
  },
  {
   "cell_type": "code",
   "execution_count": 34,
   "metadata": {},
   "outputs": [
    {
     "data": {
      "text/html": [
       "<div>\n",
       "<style scoped>\n",
       "    .dataframe tbody tr th:only-of-type {\n",
       "        vertical-align: middle;\n",
       "    }\n",
       "\n",
       "    .dataframe tbody tr th {\n",
       "        vertical-align: top;\n",
       "    }\n",
       "\n",
       "    .dataframe thead th {\n",
       "        text-align: right;\n",
       "    }\n",
       "</style>\n",
       "<table border=\"1\" class=\"dataframe\">\n",
       "  <thead>\n",
       "    <tr style=\"text-align: right;\">\n",
       "      <th></th>\n",
       "      <th>stress_flag</th>\n",
       "      <th>burnout_flag</th>\n",
       "      <th>anxiety_flag</th>\n",
       "      <th>toxic_flag</th>\n",
       "      <th>supportive_env_flag</th>\n",
       "      <th>depression_flag</th>\n",
       "    </tr>\n",
       "    <tr>\n",
       "      <th>year</th>\n",
       "      <th></th>\n",
       "      <th></th>\n",
       "      <th></th>\n",
       "      <th></th>\n",
       "      <th></th>\n",
       "      <th></th>\n",
       "    </tr>\n",
       "  </thead>\n",
       "  <tbody>\n",
       "    <tr>\n",
       "      <th>2015</th>\n",
       "      <td>522</td>\n",
       "      <td>64</td>\n",
       "      <td>25</td>\n",
       "      <td>212</td>\n",
       "      <td>244</td>\n",
       "      <td>31</td>\n",
       "    </tr>\n",
       "    <tr>\n",
       "      <th>2016</th>\n",
       "      <td>594</td>\n",
       "      <td>60</td>\n",
       "      <td>19</td>\n",
       "      <td>221</td>\n",
       "      <td>247</td>\n",
       "      <td>49</td>\n",
       "    </tr>\n",
       "    <tr>\n",
       "      <th>2017</th>\n",
       "      <td>628</td>\n",
       "      <td>75</td>\n",
       "      <td>18</td>\n",
       "      <td>272</td>\n",
       "      <td>294</td>\n",
       "      <td>56</td>\n",
       "    </tr>\n",
       "    <tr>\n",
       "      <th>2018</th>\n",
       "      <td>548</td>\n",
       "      <td>82</td>\n",
       "      <td>15</td>\n",
       "      <td>265</td>\n",
       "      <td>297</td>\n",
       "      <td>51</td>\n",
       "    </tr>\n",
       "    <tr>\n",
       "      <th>2019</th>\n",
       "      <td>473</td>\n",
       "      <td>62</td>\n",
       "      <td>12</td>\n",
       "      <td>278</td>\n",
       "      <td>260</td>\n",
       "      <td>43</td>\n",
       "    </tr>\n",
       "    <tr>\n",
       "      <th>2020</th>\n",
       "      <td>589</td>\n",
       "      <td>79</td>\n",
       "      <td>25</td>\n",
       "      <td>260</td>\n",
       "      <td>314</td>\n",
       "      <td>40</td>\n",
       "    </tr>\n",
       "    <tr>\n",
       "      <th>2021</th>\n",
       "      <td>1118</td>\n",
       "      <td>241</td>\n",
       "      <td>26</td>\n",
       "      <td>534</td>\n",
       "      <td>605</td>\n",
       "      <td>62</td>\n",
       "    </tr>\n",
       "    <tr>\n",
       "      <th>2022</th>\n",
       "      <td>1042</td>\n",
       "      <td>223</td>\n",
       "      <td>20</td>\n",
       "      <td>536</td>\n",
       "      <td>668</td>\n",
       "      <td>52</td>\n",
       "    </tr>\n",
       "  </tbody>\n",
       "</table>\n",
       "</div>"
      ],
      "text/plain": [
       "      stress_flag  burnout_flag  anxiety_flag  toxic_flag  \\\n",
       "year                                                        \n",
       "2015          522            64            25         212   \n",
       "2016          594            60            19         221   \n",
       "2017          628            75            18         272   \n",
       "2018          548            82            15         265   \n",
       "2019          473            62            12         278   \n",
       "2020          589            79            25         260   \n",
       "2021         1118           241            26         534   \n",
       "2022         1042           223            20         536   \n",
       "\n",
       "      supportive_env_flag  depression_flag  \n",
       "year                                        \n",
       "2015                  244               31  \n",
       "2016                  247               49  \n",
       "2017                  294               56  \n",
       "2018                  297               51  \n",
       "2019                  260               43  \n",
       "2020                  314               40  \n",
       "2021                  605               62  \n",
       "2022                  668               52  "
      ]
     },
     "execution_count": 34,
     "metadata": {},
     "output_type": "execute_result"
    }
   ],
   "source": [
    "aggregated_flags_by_year"
   ]
  },
  {
   "cell_type": "code",
   "execution_count": 35,
   "metadata": {},
   "outputs": [
    {
     "data": {
      "text/html": [
       "<div>\n",
       "<style scoped>\n",
       "    .dataframe tbody tr th:only-of-type {\n",
       "        vertical-align: middle;\n",
       "    }\n",
       "\n",
       "    .dataframe tbody tr th {\n",
       "        vertical-align: top;\n",
       "    }\n",
       "\n",
       "    .dataframe thead th {\n",
       "        text-align: right;\n",
       "    }\n",
       "</style>\n",
       "<table border=\"1\" class=\"dataframe\">\n",
       "  <thead>\n",
       "    <tr style=\"text-align: right;\">\n",
       "      <th></th>\n",
       "      <th>stress_flag</th>\n",
       "      <th>burnout_flag</th>\n",
       "      <th>anxiety_flag</th>\n",
       "      <th>toxic_flag</th>\n",
       "      <th>supportive_env_flag</th>\n",
       "      <th>depression_flag</th>\n",
       "      <th>total_flags</th>\n",
       "    </tr>\n",
       "    <tr>\n",
       "      <th>firm_name</th>\n",
       "      <th></th>\n",
       "      <th></th>\n",
       "      <th></th>\n",
       "      <th></th>\n",
       "      <th></th>\n",
       "      <th></th>\n",
       "      <th></th>\n",
       "    </tr>\n",
       "  </thead>\n",
       "  <tbody>\n",
       "    <tr>\n",
       "      <th>Chipotle</th>\n",
       "      <td>932</td>\n",
       "      <td>255</td>\n",
       "      <td>25</td>\n",
       "      <td>172</td>\n",
       "      <td>242</td>\n",
       "      <td>23</td>\n",
       "      <td>1649</td>\n",
       "    </tr>\n",
       "    <tr>\n",
       "      <th>Goldman-Sachs</th>\n",
       "      <td>615</td>\n",
       "      <td>65</td>\n",
       "      <td>8</td>\n",
       "      <td>155</td>\n",
       "      <td>233</td>\n",
       "      <td>16</td>\n",
       "      <td>1092</td>\n",
       "    </tr>\n",
       "    <tr>\n",
       "      <th>CGI</th>\n",
       "      <td>312</td>\n",
       "      <td>15</td>\n",
       "      <td>3</td>\n",
       "      <td>144</td>\n",
       "      <td>221</td>\n",
       "      <td>12</td>\n",
       "      <td>707</td>\n",
       "    </tr>\n",
       "    <tr>\n",
       "      <th>Dunkin</th>\n",
       "      <td>353</td>\n",
       "      <td>98</td>\n",
       "      <td>8</td>\n",
       "      <td>95</td>\n",
       "      <td>128</td>\n",
       "      <td>15</td>\n",
       "      <td>697</td>\n",
       "    </tr>\n",
       "    <tr>\n",
       "      <th>GameStop</th>\n",
       "      <td>343</td>\n",
       "      <td>40</td>\n",
       "      <td>12</td>\n",
       "      <td>136</td>\n",
       "      <td>55</td>\n",
       "      <td>22</td>\n",
       "      <td>608</td>\n",
       "    </tr>\n",
       "    <tr>\n",
       "      <th>Ross-Stores</th>\n",
       "      <td>220</td>\n",
       "      <td>66</td>\n",
       "      <td>9</td>\n",
       "      <td>85</td>\n",
       "      <td>136</td>\n",
       "      <td>17</td>\n",
       "      <td>533</td>\n",
       "    </tr>\n",
       "    <tr>\n",
       "      <th>Valeo</th>\n",
       "      <td>344</td>\n",
       "      <td>6</td>\n",
       "      <td>2</td>\n",
       "      <td>76</td>\n",
       "      <td>86</td>\n",
       "      <td>12</td>\n",
       "      <td>526</td>\n",
       "    </tr>\n",
       "    <tr>\n",
       "      <th>H-E-B</th>\n",
       "      <td>173</td>\n",
       "      <td>29</td>\n",
       "      <td>8</td>\n",
       "      <td>89</td>\n",
       "      <td>173</td>\n",
       "      <td>12</td>\n",
       "      <td>484</td>\n",
       "    </tr>\n",
       "    <tr>\n",
       "      <th>UBS</th>\n",
       "      <td>181</td>\n",
       "      <td>15</td>\n",
       "      <td>0</td>\n",
       "      <td>104</td>\n",
       "      <td>159</td>\n",
       "      <td>10</td>\n",
       "      <td>469</td>\n",
       "    </tr>\n",
       "    <tr>\n",
       "      <th>CA-Technologies</th>\n",
       "      <td>91</td>\n",
       "      <td>8</td>\n",
       "      <td>10</td>\n",
       "      <td>86</td>\n",
       "      <td>57</td>\n",
       "      <td>12</td>\n",
       "      <td>264</td>\n",
       "    </tr>\n",
       "    <tr>\n",
       "      <th>GlobalData</th>\n",
       "      <td>109</td>\n",
       "      <td>6</td>\n",
       "      <td>2</td>\n",
       "      <td>62</td>\n",
       "      <td>68</td>\n",
       "      <td>11</td>\n",
       "      <td>258</td>\n",
       "    </tr>\n",
       "    <tr>\n",
       "      <th>Sysco</th>\n",
       "      <td>105</td>\n",
       "      <td>22</td>\n",
       "      <td>1</td>\n",
       "      <td>53</td>\n",
       "      <td>45</td>\n",
       "      <td>9</td>\n",
       "      <td>235</td>\n",
       "    </tr>\n",
       "    <tr>\n",
       "      <th>Coty</th>\n",
       "      <td>73</td>\n",
       "      <td>8</td>\n",
       "      <td>5</td>\n",
       "      <td>67</td>\n",
       "      <td>28</td>\n",
       "      <td>11</td>\n",
       "      <td>192</td>\n",
       "    </tr>\n",
       "    <tr>\n",
       "      <th>Publicis-Sapient</th>\n",
       "      <td>77</td>\n",
       "      <td>6</td>\n",
       "      <td>2</td>\n",
       "      <td>32</td>\n",
       "      <td>55</td>\n",
       "      <td>8</td>\n",
       "      <td>180</td>\n",
       "    </tr>\n",
       "    <tr>\n",
       "      <th>ALSTOM</th>\n",
       "      <td>86</td>\n",
       "      <td>5</td>\n",
       "      <td>1</td>\n",
       "      <td>42</td>\n",
       "      <td>29</td>\n",
       "      <td>2</td>\n",
       "      <td>165</td>\n",
       "    </tr>\n",
       "    <tr>\n",
       "      <th>The-UPS-Store</th>\n",
       "      <td>79</td>\n",
       "      <td>6</td>\n",
       "      <td>1</td>\n",
       "      <td>29</td>\n",
       "      <td>27</td>\n",
       "      <td>1</td>\n",
       "      <td>143</td>\n",
       "    </tr>\n",
       "    <tr>\n",
       "      <th>Pegasystems</th>\n",
       "      <td>52</td>\n",
       "      <td>0</td>\n",
       "      <td>2</td>\n",
       "      <td>45</td>\n",
       "      <td>40</td>\n",
       "      <td>2</td>\n",
       "      <td>141</td>\n",
       "    </tr>\n",
       "    <tr>\n",
       "      <th>RH</th>\n",
       "      <td>39</td>\n",
       "      <td>13</td>\n",
       "      <td>0</td>\n",
       "      <td>59</td>\n",
       "      <td>24</td>\n",
       "      <td>3</td>\n",
       "      <td>138</td>\n",
       "    </tr>\n",
       "    <tr>\n",
       "      <th>Swarovski</th>\n",
       "      <td>51</td>\n",
       "      <td>9</td>\n",
       "      <td>1</td>\n",
       "      <td>28</td>\n",
       "      <td>43</td>\n",
       "      <td>3</td>\n",
       "      <td>135</td>\n",
       "    </tr>\n",
       "    <tr>\n",
       "      <th>Canada-Life</th>\n",
       "      <td>59</td>\n",
       "      <td>7</td>\n",
       "      <td>2</td>\n",
       "      <td>24</td>\n",
       "      <td>40</td>\n",
       "      <td>2</td>\n",
       "      <td>134</td>\n",
       "    </tr>\n",
       "  </tbody>\n",
       "</table>\n",
       "</div>"
      ],
      "text/plain": [
       "                  stress_flag  burnout_flag  anxiety_flag  toxic_flag  \\\n",
       "firm_name                                                               \n",
       "Chipotle                  932           255            25         172   \n",
       "Goldman-Sachs             615            65             8         155   \n",
       "CGI                       312            15             3         144   \n",
       "Dunkin                    353            98             8          95   \n",
       "GameStop                  343            40            12         136   \n",
       "Ross-Stores               220            66             9          85   \n",
       "Valeo                     344             6             2          76   \n",
       "H-E-B                     173            29             8          89   \n",
       "UBS                       181            15             0         104   \n",
       "CA-Technologies            91             8            10          86   \n",
       "GlobalData                109             6             2          62   \n",
       "Sysco                     105            22             1          53   \n",
       "Coty                       73             8             5          67   \n",
       "Publicis-Sapient           77             6             2          32   \n",
       "ALSTOM                     86             5             1          42   \n",
       "The-UPS-Store              79             6             1          29   \n",
       "Pegasystems                52             0             2          45   \n",
       "RH                         39            13             0          59   \n",
       "Swarovski                  51             9             1          28   \n",
       "Canada-Life                59             7             2          24   \n",
       "\n",
       "                  supportive_env_flag  depression_flag  total_flags  \n",
       "firm_name                                                            \n",
       "Chipotle                          242               23         1649  \n",
       "Goldman-Sachs                     233               16         1092  \n",
       "CGI                               221               12          707  \n",
       "Dunkin                            128               15          697  \n",
       "GameStop                           55               22          608  \n",
       "Ross-Stores                       136               17          533  \n",
       "Valeo                              86               12          526  \n",
       "H-E-B                             173               12          484  \n",
       "UBS                               159               10          469  \n",
       "CA-Technologies                    57               12          264  \n",
       "GlobalData                         68               11          258  \n",
       "Sysco                              45                9          235  \n",
       "Coty                               28               11          192  \n",
       "Publicis-Sapient                   55                8          180  \n",
       "ALSTOM                             29                2          165  \n",
       "The-UPS-Store                      27                1          143  \n",
       "Pegasystems                        40                2          141  \n",
       "RH                                 24                3          138  \n",
       "Swarovski                          43                3          135  \n",
       "Canada-Life                        40                2          134  "
      ]
     },
     "metadata": {},
     "output_type": "display_data"
    }
   ],
   "source": [
    "# add the 'firm_name' column from the original sampled_reviews dataframe to the combined_flags_df\n",
    "combined_flags_df['firm_name'] = sampled_reviews['firm_name']\n",
    "\n",
    "# group by 'firm_name' and aggregate by summing up the True values (counting True occurrences)\n",
    "aggregated_flags_by_year_company = combined_flags_df.groupby('firm_name')[combined_flags].sum()\n",
    "\n",
    "# add a column for the total flags\n",
    "aggregated_flags_by_year_company['total_flags'] = aggregated_flags_by_year_company.sum(axis=1)\n",
    "\n",
    "# sort by 'total_flags' in descending order\n",
    "sorted_flags_by_company = aggregated_flags_by_year_company.sort_values(by='total_flags', ascending=False)\n",
    "\n",
    "#display the top 30 companies\n",
    "top_20_companies_by_flags = sorted_flags_by_company.head(20)\n",
    "display(top_20_companies_by_flags)"
   ]
  },
  {
   "cell_type": "code",
   "execution_count": 36,
   "metadata": {},
   "outputs": [
    {
     "data": {
      "application/vnd.plotly.v1+json": {
       "config": {
        "plotlyServerURL": "https://plot.ly"
       },
       "data": [
        {
         "alignmentgroup": "True",
         "hovertemplate": "variable=stress_flag<br>Company=%{x}<br>Count=%{y}<extra></extra>",
         "legendgroup": "stress_flag",
         "marker": {
          "color": "#636efa",
          "pattern": {
           "shape": ""
          }
         },
         "name": "stress_flag",
         "offsetgroup": "stress_flag",
         "orientation": "v",
         "showlegend": true,
         "textposition": "auto",
         "type": "bar",
         "x": [
          "Chipotle",
          "Goldman-Sachs",
          "CGI",
          "Dunkin",
          "GameStop",
          "Ross-Stores",
          "Valeo",
          "H-E-B",
          "UBS",
          "CA-Technologies",
          "GlobalData",
          "Sysco",
          "Coty",
          "Publicis-Sapient",
          "ALSTOM",
          "The-UPS-Store",
          "Pegasystems",
          "RH",
          "Swarovski",
          "Canada-Life"
         ],
         "xaxis": "x",
         "y": [
          932,
          615,
          312,
          353,
          343,
          220,
          344,
          173,
          181,
          91,
          109,
          105,
          73,
          77,
          86,
          79,
          52,
          39,
          51,
          59
         ],
         "yaxis": "y"
        },
        {
         "alignmentgroup": "True",
         "hovertemplate": "variable=burnout_flag<br>Company=%{x}<br>Count=%{y}<extra></extra>",
         "legendgroup": "burnout_flag",
         "marker": {
          "color": "#EF553B",
          "pattern": {
           "shape": ""
          }
         },
         "name": "burnout_flag",
         "offsetgroup": "burnout_flag",
         "orientation": "v",
         "showlegend": true,
         "textposition": "auto",
         "type": "bar",
         "x": [
          "Chipotle",
          "Goldman-Sachs",
          "CGI",
          "Dunkin",
          "GameStop",
          "Ross-Stores",
          "Valeo",
          "H-E-B",
          "UBS",
          "CA-Technologies",
          "GlobalData",
          "Sysco",
          "Coty",
          "Publicis-Sapient",
          "ALSTOM",
          "The-UPS-Store",
          "Pegasystems",
          "RH",
          "Swarovski",
          "Canada-Life"
         ],
         "xaxis": "x",
         "y": [
          255,
          65,
          15,
          98,
          40,
          66,
          6,
          29,
          15,
          8,
          6,
          22,
          8,
          6,
          5,
          6,
          0,
          13,
          9,
          7
         ],
         "yaxis": "y"
        },
        {
         "alignmentgroup": "True",
         "hovertemplate": "variable=anxiety_flag<br>Company=%{x}<br>Count=%{y}<extra></extra>",
         "legendgroup": "anxiety_flag",
         "marker": {
          "color": "#00cc96",
          "pattern": {
           "shape": ""
          }
         },
         "name": "anxiety_flag",
         "offsetgroup": "anxiety_flag",
         "orientation": "v",
         "showlegend": true,
         "textposition": "auto",
         "type": "bar",
         "x": [
          "Chipotle",
          "Goldman-Sachs",
          "CGI",
          "Dunkin",
          "GameStop",
          "Ross-Stores",
          "Valeo",
          "H-E-B",
          "UBS",
          "CA-Technologies",
          "GlobalData",
          "Sysco",
          "Coty",
          "Publicis-Sapient",
          "ALSTOM",
          "The-UPS-Store",
          "Pegasystems",
          "RH",
          "Swarovski",
          "Canada-Life"
         ],
         "xaxis": "x",
         "y": [
          25,
          8,
          3,
          8,
          12,
          9,
          2,
          8,
          0,
          10,
          2,
          1,
          5,
          2,
          1,
          1,
          2,
          0,
          1,
          2
         ],
         "yaxis": "y"
        },
        {
         "alignmentgroup": "True",
         "hovertemplate": "variable=toxic_flag<br>Company=%{x}<br>Count=%{y}<extra></extra>",
         "legendgroup": "toxic_flag",
         "marker": {
          "color": "#ab63fa",
          "pattern": {
           "shape": ""
          }
         },
         "name": "toxic_flag",
         "offsetgroup": "toxic_flag",
         "orientation": "v",
         "showlegend": true,
         "textposition": "auto",
         "type": "bar",
         "x": [
          "Chipotle",
          "Goldman-Sachs",
          "CGI",
          "Dunkin",
          "GameStop",
          "Ross-Stores",
          "Valeo",
          "H-E-B",
          "UBS",
          "CA-Technologies",
          "GlobalData",
          "Sysco",
          "Coty",
          "Publicis-Sapient",
          "ALSTOM",
          "The-UPS-Store",
          "Pegasystems",
          "RH",
          "Swarovski",
          "Canada-Life"
         ],
         "xaxis": "x",
         "y": [
          172,
          155,
          144,
          95,
          136,
          85,
          76,
          89,
          104,
          86,
          62,
          53,
          67,
          32,
          42,
          29,
          45,
          59,
          28,
          24
         ],
         "yaxis": "y"
        },
        {
         "alignmentgroup": "True",
         "hovertemplate": "variable=supportive_env_flag<br>Company=%{x}<br>Count=%{y}<extra></extra>",
         "legendgroup": "supportive_env_flag",
         "marker": {
          "color": "#FFA15A",
          "pattern": {
           "shape": ""
          }
         },
         "name": "supportive_env_flag",
         "offsetgroup": "supportive_env_flag",
         "orientation": "v",
         "showlegend": true,
         "textposition": "auto",
         "type": "bar",
         "x": [
          "Chipotle",
          "Goldman-Sachs",
          "CGI",
          "Dunkin",
          "GameStop",
          "Ross-Stores",
          "Valeo",
          "H-E-B",
          "UBS",
          "CA-Technologies",
          "GlobalData",
          "Sysco",
          "Coty",
          "Publicis-Sapient",
          "ALSTOM",
          "The-UPS-Store",
          "Pegasystems",
          "RH",
          "Swarovski",
          "Canada-Life"
         ],
         "xaxis": "x",
         "y": [
          242,
          233,
          221,
          128,
          55,
          136,
          86,
          173,
          159,
          57,
          68,
          45,
          28,
          55,
          29,
          27,
          40,
          24,
          43,
          40
         ],
         "yaxis": "y"
        },
        {
         "alignmentgroup": "True",
         "hovertemplate": "variable=depression_flag<br>Company=%{x}<br>Count=%{y}<extra></extra>",
         "legendgroup": "depression_flag",
         "marker": {
          "color": "#19d3f3",
          "pattern": {
           "shape": ""
          }
         },
         "name": "depression_flag",
         "offsetgroup": "depression_flag",
         "orientation": "v",
         "showlegend": true,
         "textposition": "auto",
         "type": "bar",
         "x": [
          "Chipotle",
          "Goldman-Sachs",
          "CGI",
          "Dunkin",
          "GameStop",
          "Ross-Stores",
          "Valeo",
          "H-E-B",
          "UBS",
          "CA-Technologies",
          "GlobalData",
          "Sysco",
          "Coty",
          "Publicis-Sapient",
          "ALSTOM",
          "The-UPS-Store",
          "Pegasystems",
          "RH",
          "Swarovski",
          "Canada-Life"
         ],
         "xaxis": "x",
         "y": [
          23,
          16,
          12,
          15,
          22,
          17,
          12,
          12,
          10,
          12,
          11,
          9,
          11,
          8,
          2,
          1,
          2,
          3,
          3,
          2
         ],
         "yaxis": "y"
        }
       ],
       "layout": {
        "barmode": "relative",
        "legend": {
         "title": {
          "text": "variable"
         },
         "tracegroupgap": 0
        },
        "template": {
         "data": {
          "bar": [
           {
            "error_x": {
             "color": "#2a3f5f"
            },
            "error_y": {
             "color": "#2a3f5f"
            },
            "marker": {
             "line": {
              "color": "#E5ECF6",
              "width": 0.5
             },
             "pattern": {
              "fillmode": "overlay",
              "size": 10,
              "solidity": 0.2
             }
            },
            "type": "bar"
           }
          ],
          "barpolar": [
           {
            "marker": {
             "line": {
              "color": "#E5ECF6",
              "width": 0.5
             },
             "pattern": {
              "fillmode": "overlay",
              "size": 10,
              "solidity": 0.2
             }
            },
            "type": "barpolar"
           }
          ],
          "carpet": [
           {
            "aaxis": {
             "endlinecolor": "#2a3f5f",
             "gridcolor": "white",
             "linecolor": "white",
             "minorgridcolor": "white",
             "startlinecolor": "#2a3f5f"
            },
            "baxis": {
             "endlinecolor": "#2a3f5f",
             "gridcolor": "white",
             "linecolor": "white",
             "minorgridcolor": "white",
             "startlinecolor": "#2a3f5f"
            },
            "type": "carpet"
           }
          ],
          "choropleth": [
           {
            "colorbar": {
             "outlinewidth": 0,
             "ticks": ""
            },
            "type": "choropleth"
           }
          ],
          "contour": [
           {
            "colorbar": {
             "outlinewidth": 0,
             "ticks": ""
            },
            "colorscale": [
             [
              0,
              "#0d0887"
             ],
             [
              0.1111111111111111,
              "#46039f"
             ],
             [
              0.2222222222222222,
              "#7201a8"
             ],
             [
              0.3333333333333333,
              "#9c179e"
             ],
             [
              0.4444444444444444,
              "#bd3786"
             ],
             [
              0.5555555555555556,
              "#d8576b"
             ],
             [
              0.6666666666666666,
              "#ed7953"
             ],
             [
              0.7777777777777778,
              "#fb9f3a"
             ],
             [
              0.8888888888888888,
              "#fdca26"
             ],
             [
              1,
              "#f0f921"
             ]
            ],
            "type": "contour"
           }
          ],
          "contourcarpet": [
           {
            "colorbar": {
             "outlinewidth": 0,
             "ticks": ""
            },
            "type": "contourcarpet"
           }
          ],
          "heatmap": [
           {
            "colorbar": {
             "outlinewidth": 0,
             "ticks": ""
            },
            "colorscale": [
             [
              0,
              "#0d0887"
             ],
             [
              0.1111111111111111,
              "#46039f"
             ],
             [
              0.2222222222222222,
              "#7201a8"
             ],
             [
              0.3333333333333333,
              "#9c179e"
             ],
             [
              0.4444444444444444,
              "#bd3786"
             ],
             [
              0.5555555555555556,
              "#d8576b"
             ],
             [
              0.6666666666666666,
              "#ed7953"
             ],
             [
              0.7777777777777778,
              "#fb9f3a"
             ],
             [
              0.8888888888888888,
              "#fdca26"
             ],
             [
              1,
              "#f0f921"
             ]
            ],
            "type": "heatmap"
           }
          ],
          "heatmapgl": [
           {
            "colorbar": {
             "outlinewidth": 0,
             "ticks": ""
            },
            "colorscale": [
             [
              0,
              "#0d0887"
             ],
             [
              0.1111111111111111,
              "#46039f"
             ],
             [
              0.2222222222222222,
              "#7201a8"
             ],
             [
              0.3333333333333333,
              "#9c179e"
             ],
             [
              0.4444444444444444,
              "#bd3786"
             ],
             [
              0.5555555555555556,
              "#d8576b"
             ],
             [
              0.6666666666666666,
              "#ed7953"
             ],
             [
              0.7777777777777778,
              "#fb9f3a"
             ],
             [
              0.8888888888888888,
              "#fdca26"
             ],
             [
              1,
              "#f0f921"
             ]
            ],
            "type": "heatmapgl"
           }
          ],
          "histogram": [
           {
            "marker": {
             "pattern": {
              "fillmode": "overlay",
              "size": 10,
              "solidity": 0.2
             }
            },
            "type": "histogram"
           }
          ],
          "histogram2d": [
           {
            "colorbar": {
             "outlinewidth": 0,
             "ticks": ""
            },
            "colorscale": [
             [
              0,
              "#0d0887"
             ],
             [
              0.1111111111111111,
              "#46039f"
             ],
             [
              0.2222222222222222,
              "#7201a8"
             ],
             [
              0.3333333333333333,
              "#9c179e"
             ],
             [
              0.4444444444444444,
              "#bd3786"
             ],
             [
              0.5555555555555556,
              "#d8576b"
             ],
             [
              0.6666666666666666,
              "#ed7953"
             ],
             [
              0.7777777777777778,
              "#fb9f3a"
             ],
             [
              0.8888888888888888,
              "#fdca26"
             ],
             [
              1,
              "#f0f921"
             ]
            ],
            "type": "histogram2d"
           }
          ],
          "histogram2dcontour": [
           {
            "colorbar": {
             "outlinewidth": 0,
             "ticks": ""
            },
            "colorscale": [
             [
              0,
              "#0d0887"
             ],
             [
              0.1111111111111111,
              "#46039f"
             ],
             [
              0.2222222222222222,
              "#7201a8"
             ],
             [
              0.3333333333333333,
              "#9c179e"
             ],
             [
              0.4444444444444444,
              "#bd3786"
             ],
             [
              0.5555555555555556,
              "#d8576b"
             ],
             [
              0.6666666666666666,
              "#ed7953"
             ],
             [
              0.7777777777777778,
              "#fb9f3a"
             ],
             [
              0.8888888888888888,
              "#fdca26"
             ],
             [
              1,
              "#f0f921"
             ]
            ],
            "type": "histogram2dcontour"
           }
          ],
          "mesh3d": [
           {
            "colorbar": {
             "outlinewidth": 0,
             "ticks": ""
            },
            "type": "mesh3d"
           }
          ],
          "parcoords": [
           {
            "line": {
             "colorbar": {
              "outlinewidth": 0,
              "ticks": ""
             }
            },
            "type": "parcoords"
           }
          ],
          "pie": [
           {
            "automargin": true,
            "type": "pie"
           }
          ],
          "scatter": [
           {
            "fillpattern": {
             "fillmode": "overlay",
             "size": 10,
             "solidity": 0.2
            },
            "type": "scatter"
           }
          ],
          "scatter3d": [
           {
            "line": {
             "colorbar": {
              "outlinewidth": 0,
              "ticks": ""
             }
            },
            "marker": {
             "colorbar": {
              "outlinewidth": 0,
              "ticks": ""
             }
            },
            "type": "scatter3d"
           }
          ],
          "scattercarpet": [
           {
            "marker": {
             "colorbar": {
              "outlinewidth": 0,
              "ticks": ""
             }
            },
            "type": "scattercarpet"
           }
          ],
          "scattergeo": [
           {
            "marker": {
             "colorbar": {
              "outlinewidth": 0,
              "ticks": ""
             }
            },
            "type": "scattergeo"
           }
          ],
          "scattergl": [
           {
            "marker": {
             "colorbar": {
              "outlinewidth": 0,
              "ticks": ""
             }
            },
            "type": "scattergl"
           }
          ],
          "scattermapbox": [
           {
            "marker": {
             "colorbar": {
              "outlinewidth": 0,
              "ticks": ""
             }
            },
            "type": "scattermapbox"
           }
          ],
          "scatterpolar": [
           {
            "marker": {
             "colorbar": {
              "outlinewidth": 0,
              "ticks": ""
             }
            },
            "type": "scatterpolar"
           }
          ],
          "scatterpolargl": [
           {
            "marker": {
             "colorbar": {
              "outlinewidth": 0,
              "ticks": ""
             }
            },
            "type": "scatterpolargl"
           }
          ],
          "scatterternary": [
           {
            "marker": {
             "colorbar": {
              "outlinewidth": 0,
              "ticks": ""
             }
            },
            "type": "scatterternary"
           }
          ],
          "surface": [
           {
            "colorbar": {
             "outlinewidth": 0,
             "ticks": ""
            },
            "colorscale": [
             [
              0,
              "#0d0887"
             ],
             [
              0.1111111111111111,
              "#46039f"
             ],
             [
              0.2222222222222222,
              "#7201a8"
             ],
             [
              0.3333333333333333,
              "#9c179e"
             ],
             [
              0.4444444444444444,
              "#bd3786"
             ],
             [
              0.5555555555555556,
              "#d8576b"
             ],
             [
              0.6666666666666666,
              "#ed7953"
             ],
             [
              0.7777777777777778,
              "#fb9f3a"
             ],
             [
              0.8888888888888888,
              "#fdca26"
             ],
             [
              1,
              "#f0f921"
             ]
            ],
            "type": "surface"
           }
          ],
          "table": [
           {
            "cells": {
             "fill": {
              "color": "#EBF0F8"
             },
             "line": {
              "color": "white"
             }
            },
            "header": {
             "fill": {
              "color": "#C8D4E3"
             },
             "line": {
              "color": "white"
             }
            },
            "type": "table"
           }
          ]
         },
         "layout": {
          "annotationdefaults": {
           "arrowcolor": "#2a3f5f",
           "arrowhead": 0,
           "arrowwidth": 1
          },
          "autotypenumbers": "strict",
          "coloraxis": {
           "colorbar": {
            "outlinewidth": 0,
            "ticks": ""
           }
          },
          "colorscale": {
           "diverging": [
            [
             0,
             "#8e0152"
            ],
            [
             0.1,
             "#c51b7d"
            ],
            [
             0.2,
             "#de77ae"
            ],
            [
             0.3,
             "#f1b6da"
            ],
            [
             0.4,
             "#fde0ef"
            ],
            [
             0.5,
             "#f7f7f7"
            ],
            [
             0.6,
             "#e6f5d0"
            ],
            [
             0.7,
             "#b8e186"
            ],
            [
             0.8,
             "#7fbc41"
            ],
            [
             0.9,
             "#4d9221"
            ],
            [
             1,
             "#276419"
            ]
           ],
           "sequential": [
            [
             0,
             "#0d0887"
            ],
            [
             0.1111111111111111,
             "#46039f"
            ],
            [
             0.2222222222222222,
             "#7201a8"
            ],
            [
             0.3333333333333333,
             "#9c179e"
            ],
            [
             0.4444444444444444,
             "#bd3786"
            ],
            [
             0.5555555555555556,
             "#d8576b"
            ],
            [
             0.6666666666666666,
             "#ed7953"
            ],
            [
             0.7777777777777778,
             "#fb9f3a"
            ],
            [
             0.8888888888888888,
             "#fdca26"
            ],
            [
             1,
             "#f0f921"
            ]
           ],
           "sequentialminus": [
            [
             0,
             "#0d0887"
            ],
            [
             0.1111111111111111,
             "#46039f"
            ],
            [
             0.2222222222222222,
             "#7201a8"
            ],
            [
             0.3333333333333333,
             "#9c179e"
            ],
            [
             0.4444444444444444,
             "#bd3786"
            ],
            [
             0.5555555555555556,
             "#d8576b"
            ],
            [
             0.6666666666666666,
             "#ed7953"
            ],
            [
             0.7777777777777778,
             "#fb9f3a"
            ],
            [
             0.8888888888888888,
             "#fdca26"
            ],
            [
             1,
             "#f0f921"
            ]
           ]
          },
          "colorway": [
           "#636efa",
           "#EF553B",
           "#00cc96",
           "#ab63fa",
           "#FFA15A",
           "#19d3f3",
           "#FF6692",
           "#B6E880",
           "#FF97FF",
           "#FECB52"
          ],
          "font": {
           "color": "#2a3f5f"
          },
          "geo": {
           "bgcolor": "white",
           "lakecolor": "white",
           "landcolor": "#E5ECF6",
           "showlakes": true,
           "showland": true,
           "subunitcolor": "white"
          },
          "hoverlabel": {
           "align": "left"
          },
          "hovermode": "closest",
          "mapbox": {
           "style": "light"
          },
          "paper_bgcolor": "white",
          "plot_bgcolor": "#E5ECF6",
          "polar": {
           "angularaxis": {
            "gridcolor": "white",
            "linecolor": "white",
            "ticks": ""
           },
           "bgcolor": "#E5ECF6",
           "radialaxis": {
            "gridcolor": "white",
            "linecolor": "white",
            "ticks": ""
           }
          },
          "scene": {
           "xaxis": {
            "backgroundcolor": "#E5ECF6",
            "gridcolor": "white",
            "gridwidth": 2,
            "linecolor": "white",
            "showbackground": true,
            "ticks": "",
            "zerolinecolor": "white"
           },
           "yaxis": {
            "backgroundcolor": "#E5ECF6",
            "gridcolor": "white",
            "gridwidth": 2,
            "linecolor": "white",
            "showbackground": true,
            "ticks": "",
            "zerolinecolor": "white"
           },
           "zaxis": {
            "backgroundcolor": "#E5ECF6",
            "gridcolor": "white",
            "gridwidth": 2,
            "linecolor": "white",
            "showbackground": true,
            "ticks": "",
            "zerolinecolor": "white"
           }
          },
          "shapedefaults": {
           "line": {
            "color": "#2a3f5f"
           }
          },
          "ternary": {
           "aaxis": {
            "gridcolor": "white",
            "linecolor": "white",
            "ticks": ""
           },
           "baxis": {
            "gridcolor": "white",
            "linecolor": "white",
            "ticks": ""
           },
           "bgcolor": "#E5ECF6",
           "caxis": {
            "gridcolor": "white",
            "linecolor": "white",
            "ticks": ""
           }
          },
          "title": {
           "x": 0.05
          },
          "xaxis": {
           "automargin": true,
           "gridcolor": "white",
           "linecolor": "white",
           "ticks": "",
           "title": {
            "standoff": 15
           },
           "zerolinecolor": "white",
           "zerolinewidth": 2
          },
          "yaxis": {
           "automargin": true,
           "gridcolor": "white",
           "linecolor": "white",
           "ticks": "",
           "title": {
            "standoff": 15
           },
           "zerolinecolor": "white",
           "zerolinewidth": 2
          }
         }
        },
        "title": {
         "text": "Emotional status by companies"
        },
        "xaxis": {
         "anchor": "y",
         "domain": [
          0,
          1
         ],
         "title": {
          "text": "Company"
         }
        },
        "yaxis": {
         "anchor": "x",
         "domain": [
          0,
          1
         ],
         "title": {
          "text": "Count"
         }
        }
       }
      }
     },
     "metadata": {},
     "output_type": "display_data"
    }
   ],
   "source": [
    "# reset index\n",
    "top_20_companies_by_flags = top_20_companies_by_flags.reset_index()\n",
    "\n",
    "# Create a Plotly line plot\n",
    "fig = px.bar(top_20_companies_by_flags, \n",
    "              x='firm_name', \n",
    "              y=combined_flags, \n",
    "              title='Emotional status by companies',\n",
    "              labels={'value': 'Count', 'firm_name': 'Company'})\n",
    "\n",
    "# Show the plot\n",
    "fig.show()"
   ]
  },
  {
   "cell_type": "markdown",
   "metadata": {},
   "source": [
    "### Save the table for further analysis"
   ]
  },
  {
   "cell_type": "code",
   "execution_count": 37,
   "metadata": {},
   "outputs": [],
   "source": [
    "#top_30_companies_by_flags.to_csv(\"../data/clean/top_30_companies_by_flags.csv\")"
   ]
  },
  {
   "cell_type": "markdown",
   "metadata": {},
   "source": []
  }
 ],
 "metadata": {
  "kernelspec": {
   "display_name": "Python (employee_wellbeing_eda)",
   "language": "python",
   "name": "employee_wellbeing_eda"
  },
  "language_info": {
   "codemirror_mode": {
    "name": "ipython",
    "version": 3
   },
   "file_extension": ".py",
   "mimetype": "text/x-python",
   "name": "python",
   "nbconvert_exporter": "python",
   "pygments_lexer": "ipython3",
   "version": "3.12.2"
  }
 },
 "nbformat": 4,
 "nbformat_minor": 5
}
